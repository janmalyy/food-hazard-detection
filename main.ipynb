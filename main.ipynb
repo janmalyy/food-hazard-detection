{
 "cells": [
  {
   "metadata": {},
   "cell_type": "markdown",
   "source": "# PV056 project",
   "id": "cdddcd5bddce9cb3"
  },
  {
   "metadata": {},
   "cell_type": "markdown",
   "source": "### Follow the instructions and run the cells in this notebook to reproduce all the results.",
   "id": "7b9cd5d9"
  },
  {
   "metadata": {
    "ExecuteTime": {
     "end_time": "2025-04-12T09:19:59.708674Z",
     "start_time": "2025-04-12T09:19:53.725340Z"
    }
   },
   "cell_type": "code",
   "source": [
    "!pip3 install requests\n",
    "!pip3 install matplotlib\n",
    "!pip3 install pandas"
   ],
   "id": "a0de6991",
   "outputs": [
    {
     "name": "stdout",
     "output_type": "stream",
     "text": [
      "Requirement already satisfied: requests in c:\\users\\haemk\\semeval2025\\.venv\\lib\\site-packages (2.32.3)\n",
      "Requirement already satisfied: charset-normalizer<4,>=2 in c:\\users\\haemk\\semeval2025\\.venv\\lib\\site-packages (from requests) (3.4.1)\n",
      "Requirement already satisfied: idna<4,>=2.5 in c:\\users\\haemk\\semeval2025\\.venv\\lib\\site-packages (from requests) (3.10)\n",
      "Requirement already satisfied: urllib3<3,>=1.21.1 in c:\\users\\haemk\\semeval2025\\.venv\\lib\\site-packages (from requests) (2.3.0)\n",
      "Requirement already satisfied: certifi>=2017.4.17 in c:\\users\\haemk\\semeval2025\\.venv\\lib\\site-packages (from requests) (2025.1.31)\n",
      "Requirement already satisfied: matplotlib in c:\\users\\haemk\\semeval2025\\.venv\\lib\\site-packages (3.10.1)\n",
      "Requirement already satisfied: contourpy>=1.0.1 in c:\\users\\haemk\\semeval2025\\.venv\\lib\\site-packages (from matplotlib) (1.3.1)\n",
      "Requirement already satisfied: cycler>=0.10 in c:\\users\\haemk\\semeval2025\\.venv\\lib\\site-packages (from matplotlib) (0.12.1)\n",
      "Requirement already satisfied: fonttools>=4.22.0 in c:\\users\\haemk\\semeval2025\\.venv\\lib\\site-packages (from matplotlib) (4.57.0)\n",
      "Requirement already satisfied: kiwisolver>=1.3.1 in c:\\users\\haemk\\semeval2025\\.venv\\lib\\site-packages (from matplotlib) (1.4.8)\n",
      "Requirement already satisfied: numpy>=1.23 in c:\\users\\haemk\\semeval2025\\.venv\\lib\\site-packages (from matplotlib) (2.2.4)\n",
      "Requirement already satisfied: packaging>=20.0 in c:\\users\\haemk\\semeval2025\\.venv\\lib\\site-packages (from matplotlib) (24.2)\n",
      "Requirement already satisfied: pillow>=8 in c:\\users\\haemk\\semeval2025\\.venv\\lib\\site-packages (from matplotlib) (11.1.0)\n",
      "Requirement already satisfied: pyparsing>=2.3.1 in c:\\users\\haemk\\semeval2025\\.venv\\lib\\site-packages (from matplotlib) (3.2.3)\n",
      "Requirement already satisfied: python-dateutil>=2.7 in c:\\users\\haemk\\semeval2025\\.venv\\lib\\site-packages (from matplotlib) (2.9.0.post0)\n",
      "Requirement already satisfied: six>=1.5 in c:\\users\\haemk\\semeval2025\\.venv\\lib\\site-packages (from python-dateutil>=2.7->matplotlib) (1.17.0)\n",
      "Requirement already satisfied: pandas in c:\\users\\haemk\\semeval2025\\.venv\\lib\\site-packages (2.2.3)\n",
      "Requirement already satisfied: numpy>=1.26.0 in c:\\users\\haemk\\semeval2025\\.venv\\lib\\site-packages (from pandas) (2.2.4)\n",
      "Requirement already satisfied: python-dateutil>=2.8.2 in c:\\users\\haemk\\semeval2025\\.venv\\lib\\site-packages (from pandas) (2.9.0.post0)\n",
      "Requirement already satisfied: pytz>=2020.1 in c:\\users\\haemk\\semeval2025\\.venv\\lib\\site-packages (from pandas) (2025.2)\n",
      "Requirement already satisfied: tzdata>=2022.7 in c:\\users\\haemk\\semeval2025\\.venv\\lib\\site-packages (from pandas) (2025.2)\n",
      "Requirement already satisfied: six>=1.5 in c:\\users\\haemk\\semeval2025\\.venv\\lib\\site-packages (from python-dateutil>=2.8.2->pandas) (1.17.0)\n"
     ]
    }
   ],
   "execution_count": 40
  },
  {
   "cell_type": "code",
   "id": "77a23061",
   "metadata": {
    "ExecuteTime": {
     "end_time": "2025-04-12T09:22:36.501575Z",
     "start_time": "2025-04-12T09:22:36.495421Z"
    }
   },
   "source": [
    "import os\n",
    "import random\n",
    "\n",
    "import requests\n",
    "import pandas as pd\n",
    "import matplotlib.pyplot as plt\n",
    "\n",
    "\n",
    "os.environ[\"WANDB_DISABLED\"] = \"true\""
   ],
   "outputs": [],
   "execution_count": 60
  },
  {
   "metadata": {},
   "cell_type": "markdown",
   "source": "## Load the datasets",
   "id": "27e0b4a6"
  },
  {
   "metadata": {
    "ExecuteTime": {
     "end_time": "2025-04-12T09:22:39.752521Z",
     "start_time": "2025-04-12T09:22:38.819859Z"
    }
   },
   "cell_type": "code",
   "source": [
    "dataset_parts = [\"train\", \"test\", \"valid\"]\n",
    "for dataset_part in dataset_parts:\n",
    "    url = f\"https://raw.githubusercontent.com/food-hazard-detection-semeval-2025/food-hazard-detection-semeval-2025.github.io/refs/heads/main/data/incidents_{dataset_part}.csv\"\n",
    "    response = requests.get(url)\n",
    "\n",
    "    with open(f\"incidents_{dataset_part}.csv\", \"wb\") as f:\n",
    "        f.write(response.content)\n",
    "\n",
    "trainset = pd.read_csv('incidents_train.csv', index_col=0)\n",
    "validset = pd.read_csv('incidents_valid.csv', index_col=0)\n",
    "testset = pd.read_csv('incidents_valid.csv', index_col=0)\n",
    "\n",
    "for dataset in [trainset, validset, testset]:\n",
    "    dataset.rename(columns={\"hazard-category\": \"hazard_category\", \"product-category\": \"product_category\"}, inplace=True)"
   ],
   "id": "bec7da4917fb71f1",
   "outputs": [],
   "execution_count": 61
  },
  {
   "cell_type": "markdown",
   "id": "bb71e6b5",
   "metadata": {},
   "source": [
    "## Explore the data"
   ]
  },
  {
   "metadata": {
    "ExecuteTime": {
     "end_time": "2025-04-12T09:22:17.621870Z",
     "start_time": "2025-04-12T09:22:17.579627Z"
    }
   },
   "cell_type": "code",
   "source": "trainset.sample()",
   "id": "49708b466e042edd",
   "outputs": [
    {
     "ename": "NameError",
     "evalue": "name 'trainset' is not defined",
     "output_type": "error",
     "traceback": [
      "\u001B[31m---------------------------------------------------------------------------\u001B[39m",
      "\u001B[31mNameError\u001B[39m                                 Traceback (most recent call last)",
      "\u001B[36mCell\u001B[39m\u001B[36m \u001B[39m\u001B[32mIn[56]\u001B[39m\u001B[32m, line 1\u001B[39m\n\u001B[32m----> \u001B[39m\u001B[32m1\u001B[39m \u001B[43mtrainset\u001B[49m.sample()\n",
      "\u001B[31mNameError\u001B[39m: name 'trainset' is not defined"
     ]
    }
   ],
   "execution_count": 56
  },
  {
   "metadata": {
    "ExecuteTime": {
     "end_time": "2025-04-12T09:20:01.267063Z",
     "start_time": "2025-04-12T09:20:01.254081Z"
    }
   },
   "cell_type": "code",
   "source": "trainset.info()",
   "id": "b15ad975",
   "outputs": [
    {
     "name": "stdout",
     "output_type": "stream",
     "text": [
      "<class 'pandas.core.frame.DataFrame'>\n",
      "Index: 5082 entries, 0 to 5983\n",
      "Data columns (total 10 columns):\n",
      " #   Column            Non-Null Count  Dtype \n",
      "---  ------            --------------  ----- \n",
      " 0   year              5082 non-null   int64 \n",
      " 1   month             5082 non-null   int64 \n",
      " 2   day               5082 non-null   int64 \n",
      " 3   country           5082 non-null   object\n",
      " 4   title             5082 non-null   object\n",
      " 5   text              5082 non-null   object\n",
      " 6   hazard_category   5082 non-null   object\n",
      " 7   product_category  5082 non-null   object\n",
      " 8   hazard            5082 non-null   object\n",
      " 9   product           5082 non-null   object\n",
      "dtypes: int64(3), object(7)\n",
      "memory usage: 436.7+ KB\n"
     ]
    }
   ],
   "execution_count": 44
  },
  {
   "cell_type": "code",
   "id": "13db890f",
   "metadata": {
    "ExecuteTime": {
     "end_time": "2025-04-12T09:22:43.707259Z",
     "start_time": "2025-04-12T09:22:43.691164Z"
    }
   },
   "source": [
    "trainset.head()"
   ],
   "outputs": [
    {
     "data": {
      "text/plain": [
       "   year  month  day country                             title  \\\n",
       "0  1994      1    7      us  Recall Notification: FSIS-024-94   \n",
       "1  1994      3   10      us  Recall Notification: FSIS-033-94   \n",
       "2  1994      3   28      us  Recall Notification: FSIS-014-94   \n",
       "3  1994      4    3      us  Recall Notification: FSIS-009-94   \n",
       "4  1994      7    1      us  Recall Notification: FSIS-001-94   \n",
       "\n",
       "                                                text hazard_category  \\\n",
       "0  Case Number: 024-94   \\n            Date Opene...      biological   \n",
       "1  Case Number: 033-94   \\n            Date Opene...      biological   \n",
       "2  Case Number: 014-94   \\n            Date Opene...      biological   \n",
       "3  Case Number: 009-94   \\n            Date Opene...  foreign bodies   \n",
       "4  Case Number: 001-94   \\n            Date Opene...  foreign bodies   \n",
       "\n",
       "               product_category                  hazard  \\\n",
       "0  meat, egg and dairy products  listeria monocytogenes   \n",
       "1  meat, egg and dairy products            listeria spp   \n",
       "2  meat, egg and dairy products  listeria monocytogenes   \n",
       "3  meat, egg and dairy products        plastic fragment   \n",
       "4  meat, egg and dairy products        plastic fragment   \n",
       "\n",
       "                       product  \n",
       "0               smoked sausage  \n",
       "1                      sausage  \n",
       "2                   ham slices  \n",
       "3  thermal processed pork meat  \n",
       "4               chicken breast  "
      ],
      "text/html": [
       "<div>\n",
       "<style scoped>\n",
       "    .dataframe tbody tr th:only-of-type {\n",
       "        vertical-align: middle;\n",
       "    }\n",
       "\n",
       "    .dataframe tbody tr th {\n",
       "        vertical-align: top;\n",
       "    }\n",
       "\n",
       "    .dataframe thead th {\n",
       "        text-align: right;\n",
       "    }\n",
       "</style>\n",
       "<table border=\"1\" class=\"dataframe\">\n",
       "  <thead>\n",
       "    <tr style=\"text-align: right;\">\n",
       "      <th></th>\n",
       "      <th>year</th>\n",
       "      <th>month</th>\n",
       "      <th>day</th>\n",
       "      <th>country</th>\n",
       "      <th>title</th>\n",
       "      <th>text</th>\n",
       "      <th>hazard_category</th>\n",
       "      <th>product_category</th>\n",
       "      <th>hazard</th>\n",
       "      <th>product</th>\n",
       "    </tr>\n",
       "  </thead>\n",
       "  <tbody>\n",
       "    <tr>\n",
       "      <th>0</th>\n",
       "      <td>1994</td>\n",
       "      <td>1</td>\n",
       "      <td>7</td>\n",
       "      <td>us</td>\n",
       "      <td>Recall Notification: FSIS-024-94</td>\n",
       "      <td>Case Number: 024-94   \\n            Date Opene...</td>\n",
       "      <td>biological</td>\n",
       "      <td>meat, egg and dairy products</td>\n",
       "      <td>listeria monocytogenes</td>\n",
       "      <td>smoked sausage</td>\n",
       "    </tr>\n",
       "    <tr>\n",
       "      <th>1</th>\n",
       "      <td>1994</td>\n",
       "      <td>3</td>\n",
       "      <td>10</td>\n",
       "      <td>us</td>\n",
       "      <td>Recall Notification: FSIS-033-94</td>\n",
       "      <td>Case Number: 033-94   \\n            Date Opene...</td>\n",
       "      <td>biological</td>\n",
       "      <td>meat, egg and dairy products</td>\n",
       "      <td>listeria spp</td>\n",
       "      <td>sausage</td>\n",
       "    </tr>\n",
       "    <tr>\n",
       "      <th>2</th>\n",
       "      <td>1994</td>\n",
       "      <td>3</td>\n",
       "      <td>28</td>\n",
       "      <td>us</td>\n",
       "      <td>Recall Notification: FSIS-014-94</td>\n",
       "      <td>Case Number: 014-94   \\n            Date Opene...</td>\n",
       "      <td>biological</td>\n",
       "      <td>meat, egg and dairy products</td>\n",
       "      <td>listeria monocytogenes</td>\n",
       "      <td>ham slices</td>\n",
       "    </tr>\n",
       "    <tr>\n",
       "      <th>3</th>\n",
       "      <td>1994</td>\n",
       "      <td>4</td>\n",
       "      <td>3</td>\n",
       "      <td>us</td>\n",
       "      <td>Recall Notification: FSIS-009-94</td>\n",
       "      <td>Case Number: 009-94   \\n            Date Opene...</td>\n",
       "      <td>foreign bodies</td>\n",
       "      <td>meat, egg and dairy products</td>\n",
       "      <td>plastic fragment</td>\n",
       "      <td>thermal processed pork meat</td>\n",
       "    </tr>\n",
       "    <tr>\n",
       "      <th>4</th>\n",
       "      <td>1994</td>\n",
       "      <td>7</td>\n",
       "      <td>1</td>\n",
       "      <td>us</td>\n",
       "      <td>Recall Notification: FSIS-001-94</td>\n",
       "      <td>Case Number: 001-94   \\n            Date Opene...</td>\n",
       "      <td>foreign bodies</td>\n",
       "      <td>meat, egg and dairy products</td>\n",
       "      <td>plastic fragment</td>\n",
       "      <td>chicken breast</td>\n",
       "    </tr>\n",
       "  </tbody>\n",
       "</table>\n",
       "</div>"
      ]
     },
     "execution_count": 62,
     "metadata": {},
     "output_type": "execute_result"
    }
   ],
   "execution_count": 62
  },
  {
   "cell_type": "code",
   "id": "5f2800b8",
   "metadata": {
    "ExecuteTime": {
     "end_time": "2025-04-12T09:20:01.687709Z",
     "start_time": "2025-04-12T09:20:01.478723Z"
    }
   },
   "source": [
    "for i in range(10):\n",
    "    x = random.randint(0, len(trainset))\n",
    "    print(trainset[\"text\"][x])       # change the column name to view another column data\n",
    "    print()\n",
    "    print(\"XXX\")\n",
    "    print()"
   ],
   "outputs": [
    {
     "name": "stdout",
     "output_type": "stream",
     "text": [
      "Simplot Australia has recalled John West Tuna Tempters Sweet Seeded Mustard flavour (with a batch code 4ER12) from Coles, Woolworths, IGA and other independent supermarkets nationally due to foreign matter (glass fragments). Food products containing glass fragments may cause injury if consumed. Consumers should not eat this product and should return the product to the place of purchase for a full refund.\n",
      "\n",
      "\n",
      "XXX\n",
      "\n",
      "Precautionary Withdrawal of The Happy Pear Hero Sprouts Due to Possible Presence of Harmful Bacteria Tweet Friday, 29 April 2016 Summary Category 2: For Information Alert Notification: 2016.15 Product: The Happy Pear Hero Sprouts; pack size: 80 g Batch Code: Use by date: 10.05.2016 Country Of Origin: Ireland Message: As a precaution, The Happy Pear is voluntarily withdrawing the above batch of Hero Sprouts due to the possible presence of pathogenic bacteria. The Hero Sprouts product contains a mix of sprouted alfafa, broccoli, clover and radish seeds. Further testing is underway and if harmful bacteria are detected, consumers will be informed.\n",
      "Precautionary Withdrawal of The Happy Pear Hero Sprouts Due to Possible Presence of Harmful Bacteria Tweet Friday, 29 April 2016 Summary Category 2: For Information Alert Notification: 2016.15 Product: The Happy Pear Hero Sprouts; pack size: 80 g Batch Code: Use by date: 10.05.2016 Country Of Origin: Ireland Message: As a precaution, The Happy Pear is voluntarily withdrawing the above batch of Hero Sprouts due to the possible presence of pathogenic bacteria. The Hero Sprouts product contains a mix of sprouted alfafa, broccoli, clover and radish seeds. Further testing is underway and if harmful bacteria are detected, consumers will be informed.\n",
      "\n",
      "XXX\n",
      "\n"
     ]
    },
    {
     "ename": "KeyError",
     "evalue": "3041",
     "output_type": "error",
     "traceback": [
      "\u001B[31m---------------------------------------------------------------------------\u001B[39m",
      "\u001B[31mKeyError\u001B[39m                                  Traceback (most recent call last)",
      "\u001B[36mFile \u001B[39m\u001B[32m~\\SemEval2025\\.venv\\Lib\\site-packages\\pandas\\core\\indexes\\base.py:3805\u001B[39m, in \u001B[36mIndex.get_loc\u001B[39m\u001B[34m(self, key)\u001B[39m\n\u001B[32m   3804\u001B[39m \u001B[38;5;28;01mtry\u001B[39;00m:\n\u001B[32m-> \u001B[39m\u001B[32m3805\u001B[39m     \u001B[38;5;28;01mreturn\u001B[39;00m \u001B[38;5;28;43mself\u001B[39;49m\u001B[43m.\u001B[49m\u001B[43m_engine\u001B[49m\u001B[43m.\u001B[49m\u001B[43mget_loc\u001B[49m\u001B[43m(\u001B[49m\u001B[43mcasted_key\u001B[49m\u001B[43m)\u001B[49m\n\u001B[32m   3806\u001B[39m \u001B[38;5;28;01mexcept\u001B[39;00m \u001B[38;5;167;01mKeyError\u001B[39;00m \u001B[38;5;28;01mas\u001B[39;00m err:\n",
      "\u001B[36mFile \u001B[39m\u001B[32mindex.pyx:167\u001B[39m, in \u001B[36mpandas._libs.index.IndexEngine.get_loc\u001B[39m\u001B[34m()\u001B[39m\n",
      "\u001B[36mFile \u001B[39m\u001B[32mindex.pyx:196\u001B[39m, in \u001B[36mpandas._libs.index.IndexEngine.get_loc\u001B[39m\u001B[34m()\u001B[39m\n",
      "\u001B[36mFile \u001B[39m\u001B[32mpandas\\\\_libs\\\\hashtable_class_helper.pxi:2606\u001B[39m, in \u001B[36mpandas._libs.hashtable.Int64HashTable.get_item\u001B[39m\u001B[34m()\u001B[39m\n",
      "\u001B[36mFile \u001B[39m\u001B[32mpandas\\\\_libs\\\\hashtable_class_helper.pxi:2630\u001B[39m, in \u001B[36mpandas._libs.hashtable.Int64HashTable.get_item\u001B[39m\u001B[34m()\u001B[39m\n",
      "\u001B[31mKeyError\u001B[39m: 3041",
      "\nThe above exception was the direct cause of the following exception:\n",
      "\u001B[31mKeyError\u001B[39m                                  Traceback (most recent call last)",
      "\u001B[36mCell\u001B[39m\u001B[36m \u001B[39m\u001B[32mIn[46]\u001B[39m\u001B[32m, line 3\u001B[39m\n\u001B[32m      1\u001B[39m \u001B[38;5;28;01mfor\u001B[39;00m i \u001B[38;5;129;01min\u001B[39;00m \u001B[38;5;28mrange\u001B[39m(\u001B[32m10\u001B[39m):\n\u001B[32m      2\u001B[39m     x = random.randint(\u001B[32m0\u001B[39m, \u001B[38;5;28mlen\u001B[39m(trainset))\n\u001B[32m----> \u001B[39m\u001B[32m3\u001B[39m     \u001B[38;5;28mprint\u001B[39m(\u001B[43mtrainset\u001B[49m\u001B[43m[\u001B[49m\u001B[33;43m\"\u001B[39;49m\u001B[33;43mtext\u001B[39;49m\u001B[33;43m\"\u001B[39;49m\u001B[43m]\u001B[49m\u001B[43m[\u001B[49m\u001B[43mx\u001B[49m\u001B[43m]\u001B[49m)       \u001B[38;5;66;03m# change the column name to view another column data\u001B[39;00m\n\u001B[32m      4\u001B[39m     \u001B[38;5;28mprint\u001B[39m()\n\u001B[32m      5\u001B[39m     \u001B[38;5;28mprint\u001B[39m(\u001B[33m\"\u001B[39m\u001B[33mXXX\u001B[39m\u001B[33m\"\u001B[39m)\n",
      "\u001B[36mFile \u001B[39m\u001B[32m~\\SemEval2025\\.venv\\Lib\\site-packages\\pandas\\core\\series.py:1121\u001B[39m, in \u001B[36mSeries.__getitem__\u001B[39m\u001B[34m(self, key)\u001B[39m\n\u001B[32m   1118\u001B[39m     \u001B[38;5;28;01mreturn\u001B[39;00m \u001B[38;5;28mself\u001B[39m._values[key]\n\u001B[32m   1120\u001B[39m \u001B[38;5;28;01melif\u001B[39;00m key_is_scalar:\n\u001B[32m-> \u001B[39m\u001B[32m1121\u001B[39m     \u001B[38;5;28;01mreturn\u001B[39;00m \u001B[38;5;28;43mself\u001B[39;49m\u001B[43m.\u001B[49m\u001B[43m_get_value\u001B[49m\u001B[43m(\u001B[49m\u001B[43mkey\u001B[49m\u001B[43m)\u001B[49m\n\u001B[32m   1123\u001B[39m \u001B[38;5;66;03m# Convert generator to list before going through hashable part\u001B[39;00m\n\u001B[32m   1124\u001B[39m \u001B[38;5;66;03m# (We will iterate through the generator there to check for slices)\u001B[39;00m\n\u001B[32m   1125\u001B[39m \u001B[38;5;28;01mif\u001B[39;00m is_iterator(key):\n",
      "\u001B[36mFile \u001B[39m\u001B[32m~\\SemEval2025\\.venv\\Lib\\site-packages\\pandas\\core\\series.py:1237\u001B[39m, in \u001B[36mSeries._get_value\u001B[39m\u001B[34m(self, label, takeable)\u001B[39m\n\u001B[32m   1234\u001B[39m     \u001B[38;5;28;01mreturn\u001B[39;00m \u001B[38;5;28mself\u001B[39m._values[label]\n\u001B[32m   1236\u001B[39m \u001B[38;5;66;03m# Similar to Index.get_value, but we do not fall back to positional\u001B[39;00m\n\u001B[32m-> \u001B[39m\u001B[32m1237\u001B[39m loc = \u001B[38;5;28;43mself\u001B[39;49m\u001B[43m.\u001B[49m\u001B[43mindex\u001B[49m\u001B[43m.\u001B[49m\u001B[43mget_loc\u001B[49m\u001B[43m(\u001B[49m\u001B[43mlabel\u001B[49m\u001B[43m)\u001B[49m\n\u001B[32m   1239\u001B[39m \u001B[38;5;28;01mif\u001B[39;00m is_integer(loc):\n\u001B[32m   1240\u001B[39m     \u001B[38;5;28;01mreturn\u001B[39;00m \u001B[38;5;28mself\u001B[39m._values[loc]\n",
      "\u001B[36mFile \u001B[39m\u001B[32m~\\SemEval2025\\.venv\\Lib\\site-packages\\pandas\\core\\indexes\\base.py:3812\u001B[39m, in \u001B[36mIndex.get_loc\u001B[39m\u001B[34m(self, key)\u001B[39m\n\u001B[32m   3807\u001B[39m     \u001B[38;5;28;01mif\u001B[39;00m \u001B[38;5;28misinstance\u001B[39m(casted_key, \u001B[38;5;28mslice\u001B[39m) \u001B[38;5;129;01mor\u001B[39;00m (\n\u001B[32m   3808\u001B[39m         \u001B[38;5;28misinstance\u001B[39m(casted_key, abc.Iterable)\n\u001B[32m   3809\u001B[39m         \u001B[38;5;129;01mand\u001B[39;00m \u001B[38;5;28many\u001B[39m(\u001B[38;5;28misinstance\u001B[39m(x, \u001B[38;5;28mslice\u001B[39m) \u001B[38;5;28;01mfor\u001B[39;00m x \u001B[38;5;129;01min\u001B[39;00m casted_key)\n\u001B[32m   3810\u001B[39m     ):\n\u001B[32m   3811\u001B[39m         \u001B[38;5;28;01mraise\u001B[39;00m InvalidIndexError(key)\n\u001B[32m-> \u001B[39m\u001B[32m3812\u001B[39m     \u001B[38;5;28;01mraise\u001B[39;00m \u001B[38;5;167;01mKeyError\u001B[39;00m(key) \u001B[38;5;28;01mfrom\u001B[39;00m\u001B[38;5;250m \u001B[39m\u001B[34;01merr\u001B[39;00m\n\u001B[32m   3813\u001B[39m \u001B[38;5;28;01mexcept\u001B[39;00m \u001B[38;5;167;01mTypeError\u001B[39;00m:\n\u001B[32m   3814\u001B[39m     \u001B[38;5;66;03m# If we have a listlike key, _check_indexing_error will raise\u001B[39;00m\n\u001B[32m   3815\u001B[39m     \u001B[38;5;66;03m#  InvalidIndexError. Otherwise we fall through and re-raise\u001B[39;00m\n\u001B[32m   3816\u001B[39m     \u001B[38;5;66;03m#  the TypeError.\u001B[39;00m\n\u001B[32m   3817\u001B[39m     \u001B[38;5;28mself\u001B[39m._check_indexing_error(key)\n",
      "\u001B[31mKeyError\u001B[39m: 3041"
     ]
    }
   ],
   "execution_count": 46
  },
  {
   "cell_type": "code",
   "id": "25de8f37",
   "metadata": {},
   "source": [
    "#DISTRIBUTION OF HAZARDS IN DATASET\n",
    "fig, ax = plt.subplots()\n",
    "\n",
    "ax.barh(trainset['hazard_category'].value_counts().index.to_list(), trainset['hazard_category'].value_counts().values, orientation='horizontal')\n",
    "\n",
    "plt.xlabel('Frequency')\n",
    "plt.ylabel('Type of hazard')\n",
    "plt.title('Distribution of hazard category')\n",
    "plt.show()"
   ],
   "outputs": [],
   "execution_count": null
  },
  {
   "cell_type": "code",
   "id": "73b6d2bb",
   "metadata": {},
   "source": [
    "#DISTRIBUTION OF PRODUCT TYPES IN DATASET\n",
    "fig, ax = plt.subplots()\n",
    "\n",
    "ax.barh(trainset['product_category'].value_counts().index.to_list(), trainset['product_category'].value_counts().values, orientation='horizontal')\n",
    "\n",
    "plt.xlabel('Type of product')\n",
    "plt.ylabel('Frequency')\n",
    "plt.title('Distribution of product category')\n",
    "plt.show()\n"
   ],
   "outputs": [],
   "execution_count": null
  },
  {
   "cell_type": "markdown",
   "id": "29cf6e5a",
   "metadata": {},
   "source": [
    "## Generate synthetic data for rare product and hazard categories"
   ]
  },
  {
   "cell_type": "code",
   "id": "a0f8aabd",
   "metadata": {
    "ExecuteTime": {
     "end_time": "2025-04-12T09:22:47.373974Z",
     "start_time": "2025-04-12T09:22:47.367833Z"
    }
   },
   "source": [
    "from food_hazard_detection.balance_dataset import (generate_prompt_triplets_by_hazard, generate_prompt_triplets_by_product,\n",
    "                             generate_synthetic_data)\n",
    "\n",
    "from food_hazard_detection import settings\n",
    "from food_hazard_detection.settings import FILES_DIR, SYNTHETIC_DATA_DIR\n",
    "\n",
    "rare_hazard_categories = [\"migration\", \"food additives and flavourings\",\n",
    "                              \"organoleptic aspects\", \"packaging defect\"]\n",
    "rare_product_categories = [\"sugars and syrups\", \"feed materials\", \"food contact materials\",\n",
    "                           \"honey and royal jelly\", \"food additives and flavourings\", \"fats and oils\",\n",
    "                           \"pet feed\", \"other food product / mixed\", \"alcoholic beverages\"]"
   ],
   "outputs": [],
   "execution_count": 63
  },
  {
   "cell_type": "code",
   "id": "dd8c124c",
   "metadata": {
    "ExecuteTime": {
     "end_time": "2025-04-12T14:58:57.004009Z",
     "start_time": "2025-04-12T14:58:56.181142Z"
    }
   },
   "source": [
    "combinations_hazard = generate_prompt_triplets_by_hazard(rare_hazard_categories, trainset)\n",
    "generate_synthetic_data(SYNTHETIC_DATA_DIR / \"synthetic_data_hazard.csv\",\n",
    "                        FILES_DIR / \"prompts/generate_synthetic_data.md\", combinations_hazard)\n",
    "\n",
    "combinations_product = generate_prompt_triplets_by_product(rare_product_categories, trainset)\n",
    "generate_synthetic_data(SYNTHETIC_DATA_DIR / \"synthetic_data_product.csv\",\n",
    "                        FILES_DIR / \"prompts/generate_synthetic_data.md\", combinations_product)\n",
    "\n",
    "print(\"Number of generated synthetic data points:\", len(combinations_hazard)+len(combinations_product))"
   ],
   "outputs": [],
   "execution_count": 70
  },
  {
   "cell_type": "markdown",
   "id": "5f2d7e6a",
   "metadata": {},
   "source": "The data produced by Mistral are not perfect. So at this point some manual curration is needed (e.g. quote the text column to parse the csv properly or drop some rows with missing values). Because of that, we use later in the code already preprocessed synthetic data."
  },
  {
   "cell_type": "markdown",
   "id": "ca90c09e",
   "metadata": {},
   "source": [
    "Load and check the generated data.\n",
    "We generated smaller and bigger amount of synthetic data and we want to test whether it has some impact on performance."
   ]
  },
  {
   "cell_type": "code",
   "id": "300fd279",
   "metadata": {
    "ExecuteTime": {
     "end_time": "2025-04-12T15:53:11.369827Z",
     "start_time": "2025-04-12T15:53:11.347639Z"
    }
   },
   "source": [
    "synthetic_data_small = pd.read_csv(SYNTHETIC_DATA_DIR / \"synthetic_data_small.csv\")\n",
    "print(synthetic_data_small.info())"
   ],
   "outputs": [
    {
     "name": "stdout",
     "output_type": "stream",
     "text": [
      "<class 'pandas.core.frame.DataFrame'>\n",
      "RangeIndex: 83 entries, 0 to 82\n",
      "Data columns (total 10 columns):\n",
      " #   Column            Non-Null Count  Dtype \n",
      "---  ------            --------------  ----- \n",
      " 0   year              83 non-null     int64 \n",
      " 1   month             83 non-null     int64 \n",
      " 2   day               83 non-null     int64 \n",
      " 3   country           83 non-null     object\n",
      " 4   title             83 non-null     object\n",
      " 5   text              83 non-null     object\n",
      " 6   hazard_category   83 non-null     object\n",
      " 7   product_category  83 non-null     object\n",
      " 8   hazard            83 non-null     object\n",
      " 9   product           83 non-null     object\n",
      "dtypes: int64(3), object(7)\n",
      "memory usage: 6.6+ KB\n",
      "None\n",
      "   year  month  day country  \\\n",
      "0  2021      9   15      de   \n",
      "1  2021      3   12      us   \n",
      "2  2022     10   15      uk   \n",
      "3  2023      1   25      uk   \n",
      "4  2023     10    5      us   \n",
      "\n",
      "                                               title  \\\n",
      "0  Glass Fragments Found in Sugar Syrup Prompts R...   \n",
      "1  Recall of Silicone Baking Mats Due to Migratio...   \n",
      "2  Urgent Recall of BeeSweet Pure Honey Due to Pr...   \n",
      "3  Food Recall: Sunnyvale Foods Issues Allergy Al...   \n",
      "4  Recall of Golden Sunrise Food Dye Due to Conta...   \n",
      "\n",
      "                                                text hazard_category  \\\n",
      "0  SweetTreats Inc. has issued a recall for their...  foreign bodies   \n",
      "1  Recall of Silicone Baking Mats Due to Migratio...       migration   \n",
      "2  Urgent Recall of BeeSweet Pure Honey Due to Pr...        chemical   \n",
      "3  Sunnyvale Foods of Birmingham, UK, is recallin...       allergens   \n",
      "4  Golden Sunrise is recalling its line of food d...        chemical   \n",
      "\n",
      "                 product_category                               hazard  \\\n",
      "0               sugars and syrups                       glass fragment   \n",
      "1          food contact materials                                other   \n",
      "2           honey and royal jelly            streptomycin unauthorised   \n",
      "3  food additives and flavourings             soy and products thereof   \n",
      "4  food additives and flavourings  contamination with propylene glycol   \n",
      "\n",
      "      product  \n",
      "0       syrup  \n",
      "1    silicone  \n",
      "2  pure honey  \n",
      "3    flavours  \n",
      "4        dyes  \n"
     ]
    }
   ],
   "execution_count": 73
  },
  {
   "metadata": {},
   "cell_type": "code",
   "outputs": [],
   "execution_count": null,
   "source": [
    "synthetic_data_big = pd.read_csv(SYNTHETIC_DATA_DIR / \"synthetic_data_big.csv\")\n",
    "print(synthetic_data_big.info())"
   ],
   "id": "a74b177d0b0242ae"
  },
  {
   "metadata": {},
   "cell_type": "code",
   "outputs": [],
   "execution_count": null,
   "source": [
    "train_small = pd.concat([trainset, synthetic_data_small], ignore_index=True)\n",
    "train_big = pd.concat([trainset, synthetic_data_big], ignore_index=True)"
   ],
   "id": "39d79cc399dcd86"
  }
 ],
 "metadata": {
  "kernelspec": {
   "display_name": "Python 3 (ipykernel)",
   "language": "python",
   "name": "python3"
  },
  "language_info": {
   "codemirror_mode": {
    "name": "ipython",
    "version": 3
   },
   "file_extension": ".py",
   "mimetype": "text/x-python",
   "name": "python",
   "nbconvert_exporter": "python",
   "pygments_lexer": "ipython3",
   "version": "3.9.7"
  }
 },
 "nbformat": 4,
 "nbformat_minor": 5
}
