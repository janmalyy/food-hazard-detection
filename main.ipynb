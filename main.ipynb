{
 "cells": [
  {
   "cell_type": "markdown",
   "id": "cdddcd5bddce9cb3",
   "metadata": {
    "id": "cdddcd5bddce9cb3"
   },
   "source": [
    "# PV056 project"
   ]
  },
  {
   "cell_type": "markdown",
   "id": "7b9cd5d9",
   "metadata": {
    "id": "7b9cd5d9"
   },
   "source": [
    "### Follow the instructions and run the cells in this notebook to reproduce all the results."
   ]
  },
  {
   "cell_type": "code",
   "execution_count": 1,
   "id": "a0de6991",
   "metadata": {
    "ExecuteTime": {
     "end_time": "2025-04-12T09:19:59.708674Z",
     "start_time": "2025-04-12T09:19:53.725340Z"
    },
    "colab": {
     "base_uri": "https://localhost:8080/"
    },
    "id": "a0de6991",
    "outputId": "0befaf15-061f-408c-ecf5-3f3a3b035492"
   },
   "outputs": [
    {
     "name": "stdout",
     "output_type": "stream",
     "text": [
      "Defaulting to user installation because normal site-packages is not writeable\n",
      "Requirement already satisfied: requests in /usr/lib/python3.13/site-packages (2.32.3)\n",
      "Requirement already satisfied: charset-normalizer<4,>=2 in /usr/lib/python3.13/site-packages (from requests) (3.4.1)\n",
      "Requirement already satisfied: idna<4,>=2.5 in /usr/lib/python3.13/site-packages (from requests) (3.10)\n",
      "Requirement already satisfied: urllib3<3,>=1.21.1 in /usr/lib/python3.13/site-packages (from requests) (2.3.0)\n",
      "Defaulting to user installation because normal site-packages is not writeable\n",
      "Requirement already satisfied: matplotlib in /home/mpavelka/.local/lib/python3.13/site-packages (3.10.1)\n",
      "Requirement already satisfied: contourpy>=1.0.1 in /home/mpavelka/.local/lib/python3.13/site-packages (from matplotlib) (1.3.1)\n",
      "Requirement already satisfied: cycler>=0.10 in /home/mpavelka/.local/lib/python3.13/site-packages (from matplotlib) (0.12.1)\n",
      "Requirement already satisfied: fonttools>=4.22.0 in /home/mpavelka/.local/lib/python3.13/site-packages (from matplotlib) (4.57.0)\n",
      "Requirement already satisfied: kiwisolver>=1.3.1 in /home/mpavelka/.local/lib/python3.13/site-packages (from matplotlib) (1.4.8)\n",
      "Requirement already satisfied: numpy>=1.23 in /home/mpavelka/.local/lib/python3.13/site-packages (from matplotlib) (2.2.4)\n",
      "Requirement already satisfied: packaging>=20.0 in /usr/lib/python3.13/site-packages (from matplotlib) (24.2)\n",
      "Requirement already satisfied: pillow>=8 in /usr/lib64/python3.13/site-packages (from matplotlib) (11.1.0)\n",
      "Requirement already satisfied: pyparsing>=2.3.1 in /home/mpavelka/.local/lib/python3.13/site-packages (from matplotlib) (3.2.3)\n",
      "Requirement already satisfied: python-dateutil>=2.7 in /usr/lib/python3.13/site-packages (from matplotlib) (2.8.2)\n",
      "Requirement already satisfied: six>=1.5 in /usr/lib/python3.13/site-packages (from python-dateutil>=2.7->matplotlib) (1.17.0)\n",
      "Defaulting to user installation because normal site-packages is not writeable\n",
      "Requirement already satisfied: pandas in /home/mpavelka/.local/lib/python3.13/site-packages (2.2.3)\n",
      "Requirement already satisfied: numpy>=1.26.0 in /home/mpavelka/.local/lib/python3.13/site-packages (from pandas) (2.2.4)\n",
      "Requirement already satisfied: python-dateutil>=2.8.2 in /usr/lib/python3.13/site-packages (from pandas) (2.8.2)\n",
      "Requirement already satisfied: pytz>=2020.1 in /home/mpavelka/.local/lib/python3.13/site-packages (from pandas) (2025.2)\n",
      "Requirement already satisfied: tzdata>=2022.7 in /home/mpavelka/.local/lib/python3.13/site-packages (from pandas) (2025.2)\n",
      "Requirement already satisfied: six>=1.5 in /usr/lib/python3.13/site-packages (from python-dateutil>=2.8.2->pandas) (1.17.0)\n",
      "fatal: destination path 'food-hazard-detection' already exists and is not an empty directory.\n",
      "Defaulting to user installation because normal site-packages is not writeable\n",
      "Requirement already satisfied: pandas in /home/mpavelka/.local/lib/python3.13/site-packages (from -r food-hazard-detection/requirements.txt (line 1)) (2.2.3)\n",
      "Requirement already satisfied: datasets in /home/mpavelka/.local/lib/python3.13/site-packages (from -r food-hazard-detection/requirements.txt (line 2)) (3.5.0)\n",
      "Requirement already satisfied: dotenv in /home/mpavelka/.local/lib/python3.13/site-packages (from -r food-hazard-detection/requirements.txt (line 3)) (0.9.9)\n",
      "Requirement already satisfied: requests in /usr/lib/python3.13/site-packages (from -r food-hazard-detection/requirements.txt (line 4)) (2.32.3)\n",
      "Requirement already satisfied: matplotlib in /home/mpavelka/.local/lib/python3.13/site-packages (from -r food-hazard-detection/requirements.txt (line 5)) (3.10.1)\n",
      "Requirement already satisfied: numpy>=1.26.0 in /home/mpavelka/.local/lib/python3.13/site-packages (from pandas->-r food-hazard-detection/requirements.txt (line 1)) (2.2.4)\n",
      "Requirement already satisfied: python-dateutil>=2.8.2 in /usr/lib/python3.13/site-packages (from pandas->-r food-hazard-detection/requirements.txt (line 1)) (2.8.2)\n",
      "Requirement already satisfied: pytz>=2020.1 in /home/mpavelka/.local/lib/python3.13/site-packages (from pandas->-r food-hazard-detection/requirements.txt (line 1)) (2025.2)\n",
      "Requirement already satisfied: tzdata>=2022.7 in /home/mpavelka/.local/lib/python3.13/site-packages (from pandas->-r food-hazard-detection/requirements.txt (line 1)) (2025.2)\n",
      "Requirement already satisfied: filelock in /home/mpavelka/.local/lib/python3.13/site-packages (from datasets->-r food-hazard-detection/requirements.txt (line 2)) (3.18.0)\n",
      "Requirement already satisfied: pyarrow>=15.0.0 in /home/mpavelka/.local/lib/python3.13/site-packages (from datasets->-r food-hazard-detection/requirements.txt (line 2)) (19.0.1)\n",
      "Requirement already satisfied: dill<0.3.9,>=0.3.0 in /home/mpavelka/.local/lib/python3.13/site-packages (from datasets->-r food-hazard-detection/requirements.txt (line 2)) (0.3.8)\n",
      "Requirement already satisfied: tqdm>=4.66.3 in /home/mpavelka/.local/lib/python3.13/site-packages (from datasets->-r food-hazard-detection/requirements.txt (line 2)) (4.67.1)\n",
      "Requirement already satisfied: xxhash in /home/mpavelka/.local/lib/python3.13/site-packages (from datasets->-r food-hazard-detection/requirements.txt (line 2)) (3.5.0)\n",
      "Requirement already satisfied: multiprocess<0.70.17 in /home/mpavelka/.local/lib/python3.13/site-packages (from datasets->-r food-hazard-detection/requirements.txt (line 2)) (0.70.16)\n",
      "Requirement already satisfied: fsspec<=2024.12.0,>=2023.1.0 in /home/mpavelka/.local/lib/python3.13/site-packages (from fsspec[http]<=2024.12.0,>=2023.1.0->datasets->-r food-hazard-detection/requirements.txt (line 2)) (2024.12.0)\n",
      "Requirement already satisfied: aiohttp in /home/mpavelka/.local/lib/python3.13/site-packages (from datasets->-r food-hazard-detection/requirements.txt (line 2)) (3.11.16)\n",
      "Requirement already satisfied: huggingface-hub>=0.24.0 in /home/mpavelka/.local/lib/python3.13/site-packages (from datasets->-r food-hazard-detection/requirements.txt (line 2)) (0.30.2)\n",
      "Requirement already satisfied: packaging in /usr/lib/python3.13/site-packages (from datasets->-r food-hazard-detection/requirements.txt (line 2)) (24.2)\n",
      "Requirement already satisfied: pyyaml>=5.1 in /usr/lib64/python3.13/site-packages (from datasets->-r food-hazard-detection/requirements.txt (line 2)) (6.0.2)\n",
      "Requirement already satisfied: python-dotenv in /home/mpavelka/.local/lib/python3.13/site-packages (from dotenv->-r food-hazard-detection/requirements.txt (line 3)) (1.1.0)\n",
      "Requirement already satisfied: charset-normalizer<4,>=2 in /usr/lib/python3.13/site-packages (from requests->-r food-hazard-detection/requirements.txt (line 4)) (3.4.1)\n",
      "Requirement already satisfied: idna<4,>=2.5 in /usr/lib/python3.13/site-packages (from requests->-r food-hazard-detection/requirements.txt (line 4)) (3.10)\n",
      "Requirement already satisfied: urllib3<3,>=1.21.1 in /usr/lib/python3.13/site-packages (from requests->-r food-hazard-detection/requirements.txt (line 4)) (2.3.0)\n",
      "Requirement already satisfied: contourpy>=1.0.1 in /home/mpavelka/.local/lib/python3.13/site-packages (from matplotlib->-r food-hazard-detection/requirements.txt (line 5)) (1.3.1)\n",
      "Requirement already satisfied: cycler>=0.10 in /home/mpavelka/.local/lib/python3.13/site-packages (from matplotlib->-r food-hazard-detection/requirements.txt (line 5)) (0.12.1)\n",
      "Requirement already satisfied: fonttools>=4.22.0 in /home/mpavelka/.local/lib/python3.13/site-packages (from matplotlib->-r food-hazard-detection/requirements.txt (line 5)) (4.57.0)\n",
      "Requirement already satisfied: kiwisolver>=1.3.1 in /home/mpavelka/.local/lib/python3.13/site-packages (from matplotlib->-r food-hazard-detection/requirements.txt (line 5)) (1.4.8)\n",
      "Requirement already satisfied: pillow>=8 in /usr/lib64/python3.13/site-packages (from matplotlib->-r food-hazard-detection/requirements.txt (line 5)) (11.1.0)\n",
      "Requirement already satisfied: pyparsing>=2.3.1 in /home/mpavelka/.local/lib/python3.13/site-packages (from matplotlib->-r food-hazard-detection/requirements.txt (line 5)) (3.2.3)\n",
      "Requirement already satisfied: aiohappyeyeballs>=2.3.0 in /home/mpavelka/.local/lib/python3.13/site-packages (from aiohttp->datasets->-r food-hazard-detection/requirements.txt (line 2)) (2.6.1)\n",
      "Requirement already satisfied: aiosignal>=1.1.2 in /home/mpavelka/.local/lib/python3.13/site-packages (from aiohttp->datasets->-r food-hazard-detection/requirements.txt (line 2)) (1.3.2)\n",
      "Requirement already satisfied: attrs>=17.3.0 in /usr/lib/python3.13/site-packages (from aiohttp->datasets->-r food-hazard-detection/requirements.txt (line 2)) (25.1.0)\n",
      "Requirement already satisfied: frozenlist>=1.1.1 in /home/mpavelka/.local/lib/python3.13/site-packages (from aiohttp->datasets->-r food-hazard-detection/requirements.txt (line 2)) (1.5.0)\n",
      "Requirement already satisfied: multidict<7.0,>=4.5 in /home/mpavelka/.local/lib/python3.13/site-packages (from aiohttp->datasets->-r food-hazard-detection/requirements.txt (line 2)) (6.2.0)\n",
      "Requirement already satisfied: propcache>=0.2.0 in /home/mpavelka/.local/lib/python3.13/site-packages (from aiohttp->datasets->-r food-hazard-detection/requirements.txt (line 2)) (0.3.1)\n",
      "Requirement already satisfied: yarl<2.0,>=1.17.0 in /home/mpavelka/.local/lib/python3.13/site-packages (from aiohttp->datasets->-r food-hazard-detection/requirements.txt (line 2)) (1.19.0)\n",
      "Requirement already satisfied: typing-extensions>=3.7.4.3 in /usr/lib/python3.13/site-packages (from huggingface-hub>=0.24.0->datasets->-r food-hazard-detection/requirements.txt (line 2)) (4.12.2)\n",
      "Requirement already satisfied: six>=1.5 in /usr/lib/python3.13/site-packages (from python-dateutil>=2.8.2->pandas->-r food-hazard-detection/requirements.txt (line 1)) (1.17.0)\n"
     ]
    }
   ],
   "source": [
    "!pip3 install requests\n",
    "!pip3 install matplotlib\n",
    "!pip3 install pandas\n",
    "!git clone https://github.com/janmalyy/food-hazard-detection.git\n",
    "!pip3 install -r food-hazard-detection/requirements.txt"
   ]
  },
  {
   "cell_type": "code",
   "execution_count": 2,
   "id": "77a23061",
   "metadata": {
    "ExecuteTime": {
     "end_time": "2025-04-12T09:22:36.501575Z",
     "start_time": "2025-04-12T09:22:36.495421Z"
    },
    "id": "77a23061"
   },
   "outputs": [],
   "source": [
    "import os\n",
    "import random\n",
    "import sys\n",
    "\n",
    "import requests\n",
    "import pandas as pd\n",
    "import matplotlib.pyplot as plt\n",
    "\n",
    "os.environ[\"WANDB_DISABLED\"] = \"true\"\n",
    "sys.path.append('/content/food-hazard-detection')"
   ]
  },
  {
   "cell_type": "markdown",
   "id": "27e0b4a6",
   "metadata": {
    "id": "27e0b4a6"
   },
   "source": [
    "## Load the datasets"
   ]
  },
  {
   "cell_type": "code",
   "execution_count": 3,
   "id": "bec7da4917fb71f1",
   "metadata": {
    "ExecuteTime": {
     "end_time": "2025-04-12T09:22:39.752521Z",
     "start_time": "2025-04-12T09:22:38.819859Z"
    },
    "id": "bec7da4917fb71f1"
   },
   "outputs": [],
   "source": [
    "dataset_parts = [\"train\", \"test\", \"valid\"]\n",
    "for dataset_part in dataset_parts:\n",
    "    url = f\"https://raw.githubusercontent.com/food-hazard-detection-semeval-2025/food-hazard-detection-semeval-2025.github.io/refs/heads/main/data/incidents_{dataset_part}.csv\"\n",
    "    response = requests.get(url)\n",
    "\n",
    "    with open(f\"incidents_{dataset_part}.csv\", \"wb\") as f:\n",
    "        f.write(response.content)\n",
    "\n",
    "trainset = pd.read_csv('incidents_train.csv', index_col=0)\n",
    "validset = pd.read_csv('incidents_valid.csv', index_col=0)\n",
    "testset = pd.read_csv('incidents_valid.csv', index_col=0)\n",
    "\n",
    "for dataset in [trainset, validset, testset]:\n",
    "    dataset.rename(columns={\"hazard-category\": \"hazard_category\", \"product-category\": \"product_category\"}, inplace=True)"
   ]
  },
  {
   "cell_type": "markdown",
   "id": "bb71e6b5",
   "metadata": {
    "id": "bb71e6b5"
   },
   "source": [
    "## Explore the data"
   ]
  },
  {
   "cell_type": "code",
   "execution_count": 4,
   "id": "49708b466e042edd",
   "metadata": {
    "ExecuteTime": {
     "end_time": "2025-04-12T09:22:17.621870Z",
     "start_time": "2025-04-12T09:22:17.579627Z"
    },
    "colab": {
     "base_uri": "https://localhost:8080/",
     "height": 98
    },
    "id": "49708b466e042edd",
    "outputId": "57dba8f8-5443-440f-ec80-2c4cfe5f0c12"
   },
   "outputs": [
    {
     "data": {
      "text/html": [
       "<div>\n",
       "<style scoped>\n",
       "    .dataframe tbody tr th:only-of-type {\n",
       "        vertical-align: middle;\n",
       "    }\n",
       "\n",
       "    .dataframe tbody tr th {\n",
       "        vertical-align: top;\n",
       "    }\n",
       "\n",
       "    .dataframe thead th {\n",
       "        text-align: right;\n",
       "    }\n",
       "</style>\n",
       "<table border=\"1\" class=\"dataframe\">\n",
       "  <thead>\n",
       "    <tr style=\"text-align: right;\">\n",
       "      <th></th>\n",
       "      <th>year</th>\n",
       "      <th>month</th>\n",
       "      <th>day</th>\n",
       "      <th>country</th>\n",
       "      <th>title</th>\n",
       "      <th>text</th>\n",
       "      <th>hazard_category</th>\n",
       "      <th>product_category</th>\n",
       "      <th>hazard</th>\n",
       "      <th>product</th>\n",
       "    </tr>\n",
       "  </thead>\n",
       "  <tbody>\n",
       "    <tr>\n",
       "      <th>3178</th>\n",
       "      <td>2018</td>\n",
       "      <td>11</td>\n",
       "      <td>17</td>\n",
       "      <td>us</td>\n",
       "      <td>Swift Beef Company Recalls Ground Beef Product...</td>\n",
       "      <td>WASHINGTON, Nov. 17, 2018 – Swift Beef Co., a ...</td>\n",
       "      <td>biological</td>\n",
       "      <td>meat, egg and dairy products</td>\n",
       "      <td>escherichia coli</td>\n",
       "      <td>ground beef</td>\n",
       "    </tr>\n",
       "  </tbody>\n",
       "</table>\n",
       "</div>"
      ],
      "text/plain": [
       "      year  month  day country  \\\n",
       "3178  2018     11   17      us   \n",
       "\n",
       "                                                  title  \\\n",
       "3178  Swift Beef Company Recalls Ground Beef Product...   \n",
       "\n",
       "                                                   text hazard_category  \\\n",
       "3178  WASHINGTON, Nov. 17, 2018 – Swift Beef Co., a ...      biological   \n",
       "\n",
       "                  product_category            hazard      product  \n",
       "3178  meat, egg and dairy products  escherichia coli  ground beef  "
      ]
     },
     "execution_count": 4,
     "metadata": {},
     "output_type": "execute_result"
    }
   ],
   "source": [
    "trainset.sample()"
   ]
  },
  {
   "cell_type": "code",
   "execution_count": 5,
   "id": "b15ad975",
   "metadata": {
    "ExecuteTime": {
     "end_time": "2025-04-12T09:20:01.267063Z",
     "start_time": "2025-04-12T09:20:01.254081Z"
    },
    "colab": {
     "base_uri": "https://localhost:8080/"
    },
    "id": "b15ad975",
    "outputId": "35c57659-c3ff-479f-f071-78e106d831c7"
   },
   "outputs": [
    {
     "name": "stdout",
     "output_type": "stream",
     "text": [
      "<class 'pandas.core.frame.DataFrame'>\n",
      "Index: 5082 entries, 0 to 5983\n",
      "Data columns (total 10 columns):\n",
      " #   Column            Non-Null Count  Dtype \n",
      "---  ------            --------------  ----- \n",
      " 0   year              5082 non-null   int64 \n",
      " 1   month             5082 non-null   int64 \n",
      " 2   day               5082 non-null   int64 \n",
      " 3   country           5082 non-null   object\n",
      " 4   title             5082 non-null   object\n",
      " 5   text              5082 non-null   object\n",
      " 6   hazard_category   5082 non-null   object\n",
      " 7   product_category  5082 non-null   object\n",
      " 8   hazard            5082 non-null   object\n",
      " 9   product           5082 non-null   object\n",
      "dtypes: int64(3), object(7)\n",
      "memory usage: 436.7+ KB\n"
     ]
    }
   ],
   "source": [
    "trainset.info()"
   ]
  },
  {
   "cell_type": "code",
   "execution_count": 6,
   "id": "13db890f",
   "metadata": {
    "ExecuteTime": {
     "end_time": "2025-04-12T09:22:43.707259Z",
     "start_time": "2025-04-12T09:22:43.691164Z"
    },
    "colab": {
     "base_uri": "https://localhost:8080/",
     "height": 293
    },
    "id": "13db890f",
    "outputId": "e5b251cd-214d-4de2-e3af-54183ee6d5ce"
   },
   "outputs": [
    {
     "data": {
      "text/html": [
       "<div>\n",
       "<style scoped>\n",
       "    .dataframe tbody tr th:only-of-type {\n",
       "        vertical-align: middle;\n",
       "    }\n",
       "\n",
       "    .dataframe tbody tr th {\n",
       "        vertical-align: top;\n",
       "    }\n",
       "\n",
       "    .dataframe thead th {\n",
       "        text-align: right;\n",
       "    }\n",
       "</style>\n",
       "<table border=\"1\" class=\"dataframe\">\n",
       "  <thead>\n",
       "    <tr style=\"text-align: right;\">\n",
       "      <th></th>\n",
       "      <th>year</th>\n",
       "      <th>month</th>\n",
       "      <th>day</th>\n",
       "      <th>country</th>\n",
       "      <th>title</th>\n",
       "      <th>text</th>\n",
       "      <th>hazard_category</th>\n",
       "      <th>product_category</th>\n",
       "      <th>hazard</th>\n",
       "      <th>product</th>\n",
       "    </tr>\n",
       "  </thead>\n",
       "  <tbody>\n",
       "    <tr>\n",
       "      <th>0</th>\n",
       "      <td>1994</td>\n",
       "      <td>1</td>\n",
       "      <td>7</td>\n",
       "      <td>us</td>\n",
       "      <td>Recall Notification: FSIS-024-94</td>\n",
       "      <td>Case Number: 024-94   \\n            Date Opene...</td>\n",
       "      <td>biological</td>\n",
       "      <td>meat, egg and dairy products</td>\n",
       "      <td>listeria monocytogenes</td>\n",
       "      <td>smoked sausage</td>\n",
       "    </tr>\n",
       "    <tr>\n",
       "      <th>1</th>\n",
       "      <td>1994</td>\n",
       "      <td>3</td>\n",
       "      <td>10</td>\n",
       "      <td>us</td>\n",
       "      <td>Recall Notification: FSIS-033-94</td>\n",
       "      <td>Case Number: 033-94   \\n            Date Opene...</td>\n",
       "      <td>biological</td>\n",
       "      <td>meat, egg and dairy products</td>\n",
       "      <td>listeria spp</td>\n",
       "      <td>sausage</td>\n",
       "    </tr>\n",
       "    <tr>\n",
       "      <th>2</th>\n",
       "      <td>1994</td>\n",
       "      <td>3</td>\n",
       "      <td>28</td>\n",
       "      <td>us</td>\n",
       "      <td>Recall Notification: FSIS-014-94</td>\n",
       "      <td>Case Number: 014-94   \\n            Date Opene...</td>\n",
       "      <td>biological</td>\n",
       "      <td>meat, egg and dairy products</td>\n",
       "      <td>listeria monocytogenes</td>\n",
       "      <td>ham slices</td>\n",
       "    </tr>\n",
       "    <tr>\n",
       "      <th>3</th>\n",
       "      <td>1994</td>\n",
       "      <td>4</td>\n",
       "      <td>3</td>\n",
       "      <td>us</td>\n",
       "      <td>Recall Notification: FSIS-009-94</td>\n",
       "      <td>Case Number: 009-94   \\n            Date Opene...</td>\n",
       "      <td>foreign bodies</td>\n",
       "      <td>meat, egg and dairy products</td>\n",
       "      <td>plastic fragment</td>\n",
       "      <td>thermal processed pork meat</td>\n",
       "    </tr>\n",
       "    <tr>\n",
       "      <th>4</th>\n",
       "      <td>1994</td>\n",
       "      <td>7</td>\n",
       "      <td>1</td>\n",
       "      <td>us</td>\n",
       "      <td>Recall Notification: FSIS-001-94</td>\n",
       "      <td>Case Number: 001-94   \\n            Date Opene...</td>\n",
       "      <td>foreign bodies</td>\n",
       "      <td>meat, egg and dairy products</td>\n",
       "      <td>plastic fragment</td>\n",
       "      <td>chicken breast</td>\n",
       "    </tr>\n",
       "  </tbody>\n",
       "</table>\n",
       "</div>"
      ],
      "text/plain": [
       "   year  month  day country                             title  \\\n",
       "0  1994      1    7      us  Recall Notification: FSIS-024-94   \n",
       "1  1994      3   10      us  Recall Notification: FSIS-033-94   \n",
       "2  1994      3   28      us  Recall Notification: FSIS-014-94   \n",
       "3  1994      4    3      us  Recall Notification: FSIS-009-94   \n",
       "4  1994      7    1      us  Recall Notification: FSIS-001-94   \n",
       "\n",
       "                                                text hazard_category  \\\n",
       "0  Case Number: 024-94   \\n            Date Opene...      biological   \n",
       "1  Case Number: 033-94   \\n            Date Opene...      biological   \n",
       "2  Case Number: 014-94   \\n            Date Opene...      biological   \n",
       "3  Case Number: 009-94   \\n            Date Opene...  foreign bodies   \n",
       "4  Case Number: 001-94   \\n            Date Opene...  foreign bodies   \n",
       "\n",
       "               product_category                  hazard  \\\n",
       "0  meat, egg and dairy products  listeria monocytogenes   \n",
       "1  meat, egg and dairy products            listeria spp   \n",
       "2  meat, egg and dairy products  listeria monocytogenes   \n",
       "3  meat, egg and dairy products        plastic fragment   \n",
       "4  meat, egg and dairy products        plastic fragment   \n",
       "\n",
       "                       product  \n",
       "0               smoked sausage  \n",
       "1                      sausage  \n",
       "2                   ham slices  \n",
       "3  thermal processed pork meat  \n",
       "4               chicken breast  "
      ]
     },
     "execution_count": 6,
     "metadata": {},
     "output_type": "execute_result"
    }
   ],
   "source": [
    "trainset.head()"
   ]
  },
  {
   "cell_type": "code",
   "execution_count": 7,
   "id": "5f2800b8",
   "metadata": {
    "ExecuteTime": {
     "end_time": "2025-04-12T09:20:01.687709Z",
     "start_time": "2025-04-12T09:20:01.478723Z"
    },
    "colab": {
     "base_uri": "https://localhost:8080/"
    },
    "id": "5f2800b8",
    "outputId": "22ccef7b-8329-46e4-d5b4-6d98df15cbf5"
   },
   "outputs": [
    {
     "name": "stdout",
     "output_type": "stream",
     "text": [
      "Hi-Tech Pharmaceuticals. Inc. of Norcross, GA is recalling Lot # 001211197, Exp. 12/25 of Lipodrene w/25mg Ephedra Extract Dietary Supplement due to the presence of 1,4-dimethylamylamine (DMAA). The FDA has warned that DMAA is dangerous because it can narrow blood vessels and arteries and cause a corresponding rise in blood pressure or other cardiovascular problems, such as: Shortness of breath, Arrhythmias, Elevated blood pressure, Tightening in the chest, and Heart attack. ( https://www.fda.gov/food/dietary-supplement-products-ingredients/dmaa-products-marketed-dietary-supplements) Hi-Tech Pharmaceuticals, Inc. is conducting a continuing investigation on the problem. There have been no reported illnesses to date. The voluntary recall was the result of FDA analysis that showed the presence of 1,4-dimethylamylamine in one lot of Lipodrene. Customers who have purchased Lipodrene Lot # 001211197 are advised to stop using this lot of product immediately and return it to the place of purchase for a full refund. Lipodrene Lot # 001211197 was purchased by and distributed through wholesale and direct sales in the U.S. and Puerto Rico, and through online sales for both personal use and retail sales. Retailers who have any of these products should remove them from the shelves and return them to Hi-Tech immediately. Wholesalers or distributors should alert their customers to the recall and have them return any product back to the place of purchase or to Hi-Tech Pharmaceuticals. Hi-Tech will immediately replace any returned items with product from a different lot. If you have any questions about this recall, please contact Hi-Tech Pharmaceuticals Inc, Norcross, GA at toll free 1-888-855-7919 from 9:00am to 5:00 pm EST, or you may email any request to recallcoordinator@hitechpharma.com. Your assistance is appreciated and necessary to prevent consumer illness. This recall is being made with the knowledge of the Food and Drug Administration. Adverse reactions/events experienced with the use of any of these products should also be reported to the FDA's MedWatch Adverse Event Reporting program either online, by regular mail or by fax. http://www.fda.gov/medwatch/report.htm\n",
      "\n",
      "XXX\n",
      "\n",
      "PRA No. 2011/12581 Date published 18 May 2011 Product description Ducks Pine Nuts 200g & 50g: Yellow plastic packet (200g has zip-lock) with red label - nuts are visible through a clear panel at the front. Ducks Oven Toasted Pine Nuts 50g: yellow plastic zip-lock packet with blue label - Foil Lined. Bag Sizes: Ducks Pine Nuts 200g: 150x108x65mm Ducks Pine Nuts 50g: 90x145x25mm Ducks Oven Toasted Pine Nuts 50g: 105x160x50mm Identifying features Best Before: Ducks Pine Nuts 200g and 50g: 28 MAR 2012 and 28 APR 2012 Ducks Oven Toasted Pine Nuts 50g: 28 APR 2012 Batch Code: Ducks Pine Nuts 200g: 1067, 1117 Ducks Pine Nuts 50g: 1110, 1167, 1075, 1074 Ducks Oven Toasted Pine Nuts 50g: 1110 Barcode: Ducks Pine Nuts 200g: 9311135001635 Ducks Pine Nuts 50g: 9311135702952 Ducks Oven Toasted Pine Nuts 50g: 9311135002298 What are the defects? The recall of the above products is due to the detection of foreign matter -glass fragments. What are the hazards? Food products containing glass may cause injury if consumed. What should consumers do? Consumers should not eat these products and should return them to the place of purchase for a full cash refund. For further information on this matter, or if you are worried about this product please call: Stahmann Farms Enterprises Pty Ltd 1800 773 343 Supplier Stahmann Farms Enterprises Pty Ltd Traders who sold this product Ducks Pine Nuts 200g - available at Coles Supermarkets nationally; Ducks Pine Nuts 50g - available at IGA supermarkets in QLD, NSW, ACT, SA, TAS Ducks Oven Toasted Pine Nuts 50g - available at Coles Supermarkets in VIC, QLD, NSW, ACT Where the product was sold Nationally Dates available for sale 17 March 2011 - 17 May 2011 Recall advertisements and supporting documentation Recall Notice Advertisement.pdf (14.94 KB) Coordinating agency Food Standards Australia New Zealand is the coordinating agency for this recall. Product category Groceries × Photo of Ducks Pine Nuts Packaging 50g Photo of Ducks Pine Nuts Packaging 200g Ducks Toasted Pine Nuts 50g Close\n",
      "\n",
      "XXX\n",
      "\n",
      "Food Recall Warning - Certain Greenbelt Microgreens brand microgreens recalled due to Listeria monocytogenes Recall date: April 24, 2018 Reason for recall: Microbiological - Listeria Hazard classification: -- Company / Firm: Greenbelt Microgreens Distribution: Alberta, British Columbia Extent of the distribution: Consumer Contents Recall details Recalled products What you should do Background Illnesses More information Photos Media enquiries Recall details Ottawa, April 24, 2018 - Greenbelt Greenhouse Ltd. is recalling certain Greenbelt Microgreens brand microgreens from the marketplace due to possible Listeria monocytogenes contamination. Consumers should not consume the recalled products described below. Recalled products Brand Name Common Name Size Code(s) on Product UPC Greenbelt Microgreens Arugula Microgreens 75 g Best Before: 26/04/18 30/04/18 04/05/18 8 90082 00012 4 Greenbelt Microgreens Arugula Microgreens 140 g Best Before: 30/04/18 04/05/18 8 90082 00013 1 Greenbelt Microgreens Broccoli Microgreens 75 g Best Before: 26/04/18 30/04/18 04/05/18 8 90082 00016 2 Greenbelt Microgreens Broccoli Microgreens 140 g Best Before: 30/04/18 8 90082 00017 9 Greenbelt Microgreens Fresh Microgreen Mix 75 g Best Before: 26/04/18 30/04/18 04/05/18 8 90082 00041 4 Greenbelt Microgreens Fresh Microgreen Mix 140 g Best Before: 30/04/18 04/05/18 8 90082 00080 3 Greenbelt Microgreens Sweet & Crunchy Microgreen Mix 75 g Best Before: 26/04/18 30/04/18 04/05/18 8 90082 00006 3 Greenbelt Microgreens Sweet & Crunchy Microgreen Mix 140 g Best Before: 30/04/18 04/05/18 8 90082 00007 0 Greenbelt Microgreens Spicy Microgreen Mix 75 g Best Before: 26/04/18 30/04/18 04/05/18 8 90082 00000 1 Greenbelt Microgreens Spicy Microgreen Mix 140 g Best Before: 30/04/18 04/05/18 8 90082 00001 8 Greenbelt Microgreens Pea Shoots Microgreens 100 g Best Before: 26/04/18 30/04/18 04/05/18 8 90082 00023 0 Greenbelt Microgreens Pea Shoots Microgreens 140 g Best Before: 30/04/18 04/05/18 8 90082 00024 7 Greenbelt Microgreens Sunflower Microgreens 100 g Best Before: 30/04/18 04/05/18 8 90082 00030 8 Greenbelt Microgreens Sunflower Microgreens 200 g Best Before: 30/04/18 04/05/18 8 90082 00031 5 Greenbelt Microgreens Wheatgrass 114 g Best Before: 30/04/18 04/05/18 8 90082 00032 2 Greenbelt Microgreens Wheatgrass 228 g Best Before: 04/05/18 8 90082 00035 3 Greenbelt Microgreens Wheatgrass 454 g Best Before: 30/04/18 8 90082 00036 0 Greenbelt Microgreens Spring Pea Microgreen Mix 75 g Best Before: 30/04/18 04/05/18 8 90082 00002 5 Greenbelt Microgreens Spring Pea Microgreen Mix 140 g Best Before: 30/04/18 04/05/18 8 90082 00003 9 What you should do If you think you became sick from consuming a recalled product, call your doctor. Check to see if you have recalled products in your home. Recalled products should be thrown out or returned to the store where they were purchased. Food contaminated with Listeria monocytogenes may not look or smell spoiled but can still make you sick. Symptoms can include vomiting, nausea, persistent fever, muscle aches, severe headache and neck stiffness. Pregnant women, the elderly and people with weakened immune systems are particularly at risk. Although infected pregnant women may experience only mild, flu-like symptoms, the infection can lead to premature delivery, infection of the newborn or even stillbirth. In severe cases of illness, people may die. Learn more about the health risks Sign up for recall notifications by email, follow us on Twitter, or join the CFIA community on Facebook View our detailed explanation of the food safety investigation and recall process Background This recall was triggered by the company. The Canadian Food Inspection Agency (CFIA) is conducting a food safety investigation, which may lead to the recall of other products. If other high-risk products are recalled, the CFIA will notify the public through updated Food Recall Warnings. The CFIA is verifying that industry is removing recalled product from the marketplace. Illnesses There have been no reported illnesses associated with the consumption of these products. More information Greenbelt Greenhouse Ltd.: 519-647-1112 For more information, consumers and industry can contact the CFIA by filling out the online feedback form. Product photos Printer ready version of photos Media enquiries CFIA Media Relations 613-773-6600 Date modified: 2018-04-25\n",
      "\n",
      "XXX\n",
      "\n",
      "Updated Food Recall Warning - Raspberry mousse cakes recalled due to norovirus Recall date: August 16, 2017 Reason for recall: Microbiological - Other Hazard classification: Class 3 Company / Firm: Pâtisserie Jessica Inc., Produits Pâtisserie Michaud Inc. Distribution: Alberta, British Columbia, Manitoba, New Brunswick, Newfoundland and Labrador, Possibly National, Quebec, Saskatchewan Extent of the distribution: Consumer Reference number: 11653, 11654 Contents Recall details Recalled products What you should do Background Illnesses Related recalls More information Photos Media enquiries Recall details Ottawa, August 16, 2017 - The food recall warning issued on August 11, 2017 has been updated to include additional distribution information. This additional information was identified during the Canadian Food Inspection Agency's (CFIA) food safety investigation. Industry is recalling various raspberry mousse cakes from the marketplace due to norovirus. Consumers should not consume and retailers, hotels, restaurants and institutions should not sell, or serve the recalled products described below. Retailers, hotels, restaurants and institutions are advised to check the labels of raspberry mousse cakes or check with their supplier to determine if they have the affected product. These products may also have been sold frozen or refrigerated, or clerk-served from bakery-pastry counters with or without a label or coding. Consumers who are unsure if they have purchased the affected product are advised to contact their retailer. Recalled products Brand Name Common Name Size Code(s) on Product UPC Michaud Citrus-raspberry greek yogurt mousse 650 g 1667, 1777, 1997, 2017, 2077 0 620737 001806 Jessica Chocolate Raspberry Mousse Cake 650 g All products sold up to and including August 11, 2017 Variable None Raspberry Mousse 35 g 17193 Variable None Raspberry Dream Cake 1070 g 17192 Variable None Chocolate Raspberry Mousse Cake 650 g 17185 Variable Laura Secord Red Berry Chocolate Mousse Cake 90 g 17201 Variable Laura Secord Red Berry Chocolate Mousse Cake 85 g 17201 Variable Laura Secord Red Berries Chocolate Mousse Cake 485 g 17201 Variable Top Dessert Mousse sampler cake 725 g 17170, 17185 Variable What you should do If you think you became sick from consuming a recalled product, call your doctor. Check to see if you have recalled products in your home. Recalled products should be thrown out or returned to the store where they were purchased. People with norovirus illness usually develop symptoms of gastroenteritis within 24 to 48 hours, but symptoms can start as early as 12 hours after exposure. The illness often begins suddenly. Even after having the illness, you can still become re-infected by norovirus. The main symptoms of norovirus illness are diarrhea, vomiting (children usually experience more vomiting than adults), nausea and stomach cramps. Other symptoms may include low-grade fever, headache, chills, muscle aches and fatigue (a general sense of tiredness).  Most people feel better within one or two days, with symptoms resolving on their own, and experience no long-term health effects. As with any illness causing diarrhea or vomiting, people who are ill should drink plenty of liquids to replace lost body fluids and prevent dehydration. In severe cases, patients may need to be hospitalized and given fluids intravenously. Learn more about the health risks Sign up for recall notifications by email, follow us on Twitter, or join the CFIA community on Facebook View our detailed explanation of the food safety investigation and recall process Background This recall was triggered by findings by the CFIA during its investigation into a foodborne illness outbreak. The CFIA is conducting a food safety investigation, which may lead to the recall of other products. If other high-risk products are recalled, the CFIA will notify the public through updated Food Recall Warnings. The CFIA is verifying that industry is removing recalled product from the marketplace. Illnesses There have been reported illnesses associated with the consumption of these products. Related recalls 2017-08-11 - Raspberry mousse cakes recalled due to norovirus 2017-08-21 - par Sophie! brand Chocolate Raspberry Mousse Cake recalled due to norovirus More information For more information, consumers and industry can contact the CFIA by filling out the online feedback form. Product photos Printer ready version of photos Media enquiries CFIA Media Relations 613-773-6600 Date modified: 2017-08-16\n",
      "\n",
      "XXX\n",
      "\n"
     ]
    },
    {
     "ename": "KeyError",
     "evalue": "4821",
     "output_type": "error",
     "traceback": [
      "\u001b[31m---------------------------------------------------------------------------\u001b[39m",
      "\u001b[31mKeyError\u001b[39m                                  Traceback (most recent call last)",
      "\u001b[36mFile \u001b[39m\u001b[32m~/.local/lib/python3.13/site-packages/pandas/core/indexes/base.py:3805\u001b[39m, in \u001b[36mIndex.get_loc\u001b[39m\u001b[34m(self, key)\u001b[39m\n\u001b[32m   3804\u001b[39m \u001b[38;5;28;01mtry\u001b[39;00m:\n\u001b[32m-> \u001b[39m\u001b[32m3805\u001b[39m     \u001b[38;5;28;01mreturn\u001b[39;00m \u001b[38;5;28;43mself\u001b[39;49m\u001b[43m.\u001b[49m\u001b[43m_engine\u001b[49m\u001b[43m.\u001b[49m\u001b[43mget_loc\u001b[49m\u001b[43m(\u001b[49m\u001b[43mcasted_key\u001b[49m\u001b[43m)\u001b[49m\n\u001b[32m   3806\u001b[39m \u001b[38;5;28;01mexcept\u001b[39;00m \u001b[38;5;167;01mKeyError\u001b[39;00m \u001b[38;5;28;01mas\u001b[39;00m err:\n",
      "\u001b[36mFile \u001b[39m\u001b[32mindex.pyx:167\u001b[39m, in \u001b[36mpandas._libs.index.IndexEngine.get_loc\u001b[39m\u001b[34m()\u001b[39m\n",
      "\u001b[36mFile \u001b[39m\u001b[32mindex.pyx:196\u001b[39m, in \u001b[36mpandas._libs.index.IndexEngine.get_loc\u001b[39m\u001b[34m()\u001b[39m\n",
      "\u001b[36mFile \u001b[39m\u001b[32mpandas/_libs/hashtable_class_helper.pxi:2606\u001b[39m, in \u001b[36mpandas._libs.hashtable.Int64HashTable.get_item\u001b[39m\u001b[34m()\u001b[39m\n",
      "\u001b[36mFile \u001b[39m\u001b[32mpandas/_libs/hashtable_class_helper.pxi:2630\u001b[39m, in \u001b[36mpandas._libs.hashtable.Int64HashTable.get_item\u001b[39m\u001b[34m()\u001b[39m\n",
      "\u001b[31mKeyError\u001b[39m: 4821",
      "\nThe above exception was the direct cause of the following exception:\n",
      "\u001b[31mKeyError\u001b[39m                                  Traceback (most recent call last)",
      "\u001b[36mCell\u001b[39m\u001b[36m \u001b[39m\u001b[32mIn[7]\u001b[39m\u001b[32m, line 3\u001b[39m\n\u001b[32m      1\u001b[39m \u001b[38;5;28;01mfor\u001b[39;00m i \u001b[38;5;129;01min\u001b[39;00m \u001b[38;5;28mrange\u001b[39m(\u001b[32m10\u001b[39m):\n\u001b[32m      2\u001b[39m     x = random.randint(\u001b[32m0\u001b[39m, \u001b[38;5;28mlen\u001b[39m(trainset))\n\u001b[32m----> \u001b[39m\u001b[32m3\u001b[39m     \u001b[38;5;28mprint\u001b[39m(\u001b[43mtrainset\u001b[49m\u001b[43m[\u001b[49m\u001b[33;43m\"\u001b[39;49m\u001b[33;43mtext\u001b[39;49m\u001b[33;43m\"\u001b[39;49m\u001b[43m]\u001b[49m\u001b[43m[\u001b[49m\u001b[43mx\u001b[49m\u001b[43m]\u001b[49m)       \u001b[38;5;66;03m# change the column name to view another column data\u001b[39;00m\n\u001b[32m      4\u001b[39m     \u001b[38;5;28mprint\u001b[39m()\n\u001b[32m      5\u001b[39m     \u001b[38;5;28mprint\u001b[39m(\u001b[33m\"\u001b[39m\u001b[33mXXX\u001b[39m\u001b[33m\"\u001b[39m)\n",
      "\u001b[36mFile \u001b[39m\u001b[32m~/.local/lib/python3.13/site-packages/pandas/core/series.py:1121\u001b[39m, in \u001b[36mSeries.__getitem__\u001b[39m\u001b[34m(self, key)\u001b[39m\n\u001b[32m   1118\u001b[39m     \u001b[38;5;28;01mreturn\u001b[39;00m \u001b[38;5;28mself\u001b[39m._values[key]\n\u001b[32m   1120\u001b[39m \u001b[38;5;28;01melif\u001b[39;00m key_is_scalar:\n\u001b[32m-> \u001b[39m\u001b[32m1121\u001b[39m     \u001b[38;5;28;01mreturn\u001b[39;00m \u001b[38;5;28;43mself\u001b[39;49m\u001b[43m.\u001b[49m\u001b[43m_get_value\u001b[49m\u001b[43m(\u001b[49m\u001b[43mkey\u001b[49m\u001b[43m)\u001b[49m\n\u001b[32m   1123\u001b[39m \u001b[38;5;66;03m# Convert generator to list before going through hashable part\u001b[39;00m\n\u001b[32m   1124\u001b[39m \u001b[38;5;66;03m# (We will iterate through the generator there to check for slices)\u001b[39;00m\n\u001b[32m   1125\u001b[39m \u001b[38;5;28;01mif\u001b[39;00m is_iterator(key):\n",
      "\u001b[36mFile \u001b[39m\u001b[32m~/.local/lib/python3.13/site-packages/pandas/core/series.py:1237\u001b[39m, in \u001b[36mSeries._get_value\u001b[39m\u001b[34m(self, label, takeable)\u001b[39m\n\u001b[32m   1234\u001b[39m     \u001b[38;5;28;01mreturn\u001b[39;00m \u001b[38;5;28mself\u001b[39m._values[label]\n\u001b[32m   1236\u001b[39m \u001b[38;5;66;03m# Similar to Index.get_value, but we do not fall back to positional\u001b[39;00m\n\u001b[32m-> \u001b[39m\u001b[32m1237\u001b[39m loc = \u001b[38;5;28;43mself\u001b[39;49m\u001b[43m.\u001b[49m\u001b[43mindex\u001b[49m\u001b[43m.\u001b[49m\u001b[43mget_loc\u001b[49m\u001b[43m(\u001b[49m\u001b[43mlabel\u001b[49m\u001b[43m)\u001b[49m\n\u001b[32m   1239\u001b[39m \u001b[38;5;28;01mif\u001b[39;00m is_integer(loc):\n\u001b[32m   1240\u001b[39m     \u001b[38;5;28;01mreturn\u001b[39;00m \u001b[38;5;28mself\u001b[39m._values[loc]\n",
      "\u001b[36mFile \u001b[39m\u001b[32m~/.local/lib/python3.13/site-packages/pandas/core/indexes/base.py:3812\u001b[39m, in \u001b[36mIndex.get_loc\u001b[39m\u001b[34m(self, key)\u001b[39m\n\u001b[32m   3807\u001b[39m     \u001b[38;5;28;01mif\u001b[39;00m \u001b[38;5;28misinstance\u001b[39m(casted_key, \u001b[38;5;28mslice\u001b[39m) \u001b[38;5;129;01mor\u001b[39;00m (\n\u001b[32m   3808\u001b[39m         \u001b[38;5;28misinstance\u001b[39m(casted_key, abc.Iterable)\n\u001b[32m   3809\u001b[39m         \u001b[38;5;129;01mand\u001b[39;00m \u001b[38;5;28many\u001b[39m(\u001b[38;5;28misinstance\u001b[39m(x, \u001b[38;5;28mslice\u001b[39m) \u001b[38;5;28;01mfor\u001b[39;00m x \u001b[38;5;129;01min\u001b[39;00m casted_key)\n\u001b[32m   3810\u001b[39m     ):\n\u001b[32m   3811\u001b[39m         \u001b[38;5;28;01mraise\u001b[39;00m InvalidIndexError(key)\n\u001b[32m-> \u001b[39m\u001b[32m3812\u001b[39m     \u001b[38;5;28;01mraise\u001b[39;00m \u001b[38;5;167;01mKeyError\u001b[39;00m(key) \u001b[38;5;28;01mfrom\u001b[39;00m\u001b[38;5;250m \u001b[39m\u001b[34;01merr\u001b[39;00m\n\u001b[32m   3813\u001b[39m \u001b[38;5;28;01mexcept\u001b[39;00m \u001b[38;5;167;01mTypeError\u001b[39;00m:\n\u001b[32m   3814\u001b[39m     \u001b[38;5;66;03m# If we have a listlike key, _check_indexing_error will raise\u001b[39;00m\n\u001b[32m   3815\u001b[39m     \u001b[38;5;66;03m#  InvalidIndexError. Otherwise we fall through and re-raise\u001b[39;00m\n\u001b[32m   3816\u001b[39m     \u001b[38;5;66;03m#  the TypeError.\u001b[39;00m\n\u001b[32m   3817\u001b[39m     \u001b[38;5;28mself\u001b[39m._check_indexing_error(key)\n",
      "\u001b[31mKeyError\u001b[39m: 4821"
     ]
    }
   ],
   "source": [
    "for i in range(10):\n",
    "    x = random.randint(0, len(trainset))\n",
    "    print(trainset[\"text\"][x])       # change the column name to view another column data\n",
    "    print()\n",
    "    print(\"XXX\")\n",
    "    print()"
   ]
  },
  {
   "cell_type": "code",
   "execution_count": 8,
   "id": "25de8f37",
   "metadata": {
    "colab": {
     "base_uri": "https://localhost:8080/",
     "height": 472
    },
    "id": "25de8f37",
    "outputId": "a3403ae3-968b-4202-97f5-fc730d2d9e6a"
   },
   "outputs": [
    {
     "data": {
      "image/png": "[encoded data removed]",
      "text/plain": [
       "<Figure size 640x480 with 1 Axes>"
      ]
     },
     "metadata": {},
     "output_type": "display_data"
    }
   ],
   "source": [
    "#DISTRIBUTION OF HAZARDS IN DATASET\n",
    "fig, ax = plt.subplots()\n",
    "\n",
    "ax.barh(trainset['hazard_category'].value_counts().index.to_list(), trainset['hazard_category'].value_counts().values, orientation='horizontal')\n",
    "\n",
    "plt.xlabel('Frequency')\n",
    "plt.ylabel('Type of hazard')\n",
    "plt.title('Distribution of hazard category')\n",
    "plt.show()"
   ]
  },
  {
   "cell_type": "code",
   "execution_count": 9,
   "id": "73b6d2bb",
   "metadata": {
    "colab": {
     "base_uri": "https://localhost:8080/",
     "height": 472
    },
    "id": "73b6d2bb",
    "outputId": "45455d0a-cd0f-437a-958b-fd006147ce07"
   },
   "outputs": [
    {
     "data": {
      "image/png": "[encoded data removed]",
      "text/plain": [
       "<Figure size 640x480 with 1 Axes>"
      ]
     },
     "metadata": {},
     "output_type": "display_data"
    }
   ],
   "source": [
    "#DISTRIBUTION OF PRODUCT TYPES IN DATASET\n",
    "fig, ax = plt.subplots()\n",
    "\n",
    "ax.barh(trainset['product_category'].value_counts().index.to_list(), trainset['product_category'].value_counts().values, orientation='horizontal')\n",
    "\n",
    "plt.xlabel('Type of product')\n",
    "plt.ylabel('Frequency')\n",
    "plt.title('Distribution of product category')\n",
    "plt.show()\n"
   ]
  },
  {
   "cell_type": "markdown",
   "id": "29cf6e5a",
   "metadata": {
    "id": "29cf6e5a"
   },
   "source": [
    "## Generate synthetic data for rare product and hazard categories"
   ]
  },
  {
   "cell_type": "code",
   "execution_count": 10,
   "id": "a0f8aabd",
   "metadata": {
    "ExecuteTime": {
     "end_time": "2025-04-12T09:22:47.373974Z",
     "start_time": "2025-04-12T09:22:47.367833Z"
    },
    "id": "a0f8aabd"
   },
   "outputs": [
    {
     "ename": "ModuleNotFoundError",
     "evalue": "No module named 'mistralai'",
     "output_type": "error",
     "traceback": [
      "\u001b[31m---------------------------------------------------------------------------\u001b[39m",
      "\u001b[31mModuleNotFoundError\u001b[39m                       Traceback (most recent call last)",
      "\u001b[36mCell\u001b[39m\u001b[36m \u001b[39m\u001b[32mIn[10]\u001b[39m\u001b[32m, line 1\u001b[39m\n\u001b[32m----> \u001b[39m\u001b[32m1\u001b[39m \u001b[38;5;28;01mfrom\u001b[39;00m\u001b[38;5;250m \u001b[39m\u001b[34;01mfood_hazard_detection\u001b[39;00m\u001b[34;01m.\u001b[39;00m\u001b[34;01mbalance_dataset\u001b[39;00m\u001b[38;5;250m \u001b[39m\u001b[38;5;28;01mimport\u001b[39;00m (generate_prompt_triplets_by_hazard, generate_prompt_triplets_by_product,\n\u001b[32m      2\u001b[39m                              generate_synthetic_data)\n\u001b[32m      4\u001b[39m \u001b[38;5;28;01mfrom\u001b[39;00m\u001b[38;5;250m \u001b[39m\u001b[34;01mfood_hazard_detection\u001b[39;00m\u001b[38;5;250m \u001b[39m\u001b[38;5;28;01mimport\u001b[39;00m settings\n\u001b[32m      5\u001b[39m \u001b[38;5;28;01mfrom\u001b[39;00m\u001b[38;5;250m \u001b[39m\u001b[34;01mfood_hazard_detection\u001b[39;00m\u001b[34;01m.\u001b[39;00m\u001b[34;01msettings\u001b[39;00m\u001b[38;5;250m \u001b[39m\u001b[38;5;28;01mimport\u001b[39;00m FILES_DIR, SYNTHETIC_DATA_DIR\n",
      "\u001b[36mFile \u001b[39m\u001b[32m~/Desktop/food-hazard-detection/food_hazard_detection/balance_dataset.py:5\u001b[39m\n\u001b[32m      2\u001b[39m \u001b[38;5;28;01mfrom\u001b[39;00m\u001b[38;5;250m \u001b[39m\u001b[34;01mtyping\u001b[39;00m\u001b[38;5;250m \u001b[39m\u001b[38;5;28;01mimport\u001b[39;00m List, Dict, Any\n\u001b[32m      4\u001b[39m \u001b[38;5;28;01mimport\u001b[39;00m\u001b[38;5;250m \u001b[39m\u001b[34;01mpandas\u001b[39;00m\u001b[38;5;250m \u001b[39m\u001b[38;5;28;01mas\u001b[39;00m\u001b[38;5;250m \u001b[39m\u001b[34;01mpd\u001b[39;00m\n\u001b[32m----> \u001b[39m\u001b[32m5\u001b[39m \u001b[38;5;28;01mfrom\u001b[39;00m\u001b[38;5;250m \u001b[39m\u001b[34;01mmistralai\u001b[39;00m\u001b[38;5;250m \u001b[39m\u001b[38;5;28;01mimport\u001b[39;00m Mistral\n\u001b[32m      7\u001b[39m \u001b[38;5;28;01mfrom\u001b[39;00m\u001b[38;5;250m \u001b[39m\u001b[34;01mfood_hazard_detection\u001b[39;00m\u001b[38;5;250m \u001b[39m\u001b[38;5;28;01mimport\u001b[39;00m settings\n\u001b[32m      8\u001b[39m \u001b[38;5;28;01mfrom\u001b[39;00m\u001b[38;5;250m \u001b[39m\u001b[34;01mfood_hazard_detection\u001b[39;00m\u001b[34;01m.\u001b[39;00m\u001b[34;01msettings\u001b[39;00m\u001b[38;5;250m \u001b[39m\u001b[38;5;28;01mimport\u001b[39;00m MISTRAL_API_KEY\n",
      "\u001b[31mModuleNotFoundError\u001b[39m: No module named 'mistralai'"
     ]
    }
   ],
   "source": [
    "from food_hazard_detection.balance_dataset import (generate_prompt_triplets_by_hazard, generate_prompt_triplets_by_product,\n",
    "                             generate_synthetic_data)\n",
    "\n",
    "from food_hazard_detection import settings\n",
    "from food_hazard_detection.settings import FILES_DIR, SYNTHETIC_DATA_DIR\n",
    "\n",
    "rare_hazard_categories = [\"migration\", \"food additives and flavourings\",\n",
    "                              \"organoleptic aspects\", \"packaging defect\"]\n",
    "rare_product_categories = [\"sugars and syrups\", \"feed materials\", \"food contact materials\",\n",
    "                           \"honey and royal jelly\", \"food additives and flavourings\", \"fats and oils\",\n",
    "                           \"pet feed\", \"other food product / mixed\", \"alcoholic beverages\"]"
   ]
  },
  {
   "cell_type": "code",
   "execution_count": 11,
   "id": "dd8c124c",
   "metadata": {
    "ExecuteTime": {
     "end_time": "2025-04-12T14:58:57.004009Z",
     "start_time": "2025-04-12T14:58:56.181142Z"
    },
    "colab": {
     "base_uri": "https://localhost:8080/",
     "height": 365
    },
    "id": "dd8c124c",
    "outputId": "3df4b9a8-be55-4dcb-805a-edb56451a02a"
   },
   "outputs": [
    {
     "ename": "NameError",
     "evalue": "name 'generate_prompt_triplets_by_hazard' is not defined",
     "output_type": "error",
     "traceback": [
      "\u001b[31m---------------------------------------------------------------------------\u001b[39m",
      "\u001b[31mNameError\u001b[39m                                 Traceback (most recent call last)",
      "\u001b[36mCell\u001b[39m\u001b[36m \u001b[39m\u001b[32mIn[11]\u001b[39m\u001b[32m, line 1\u001b[39m\n\u001b[32m----> \u001b[39m\u001b[32m1\u001b[39m combinations_hazard = \u001b[43mgenerate_prompt_triplets_by_hazard\u001b[49m(rare_hazard_categories, trainset)\n\u001b[32m      2\u001b[39m generate_synthetic_data(SYNTHETIC_DATA_DIR / \u001b[33m\"\u001b[39m\u001b[33msynthetic_data_hazard.csv\u001b[39m\u001b[33m\"\u001b[39m,\n\u001b[32m      3\u001b[39m                         FILES_DIR / \u001b[33m\"\u001b[39m\u001b[33mprompts/generate_synthetic_data.md\u001b[39m\u001b[33m\"\u001b[39m, combinations_hazard)\n\u001b[32m      5\u001b[39m combinations_product = generate_prompt_triplets_by_product(rare_product_categories, trainset)\n",
      "\u001b[31mNameError\u001b[39m: name 'generate_prompt_triplets_by_hazard' is not defined"
     ]
    }
   ],
   "source": [
    "combinations_hazard = generate_prompt_triplets_by_hazard(rare_hazard_categories, trainset)\n",
    "generate_synthetic_data(SYNTHETIC_DATA_DIR / \"synthetic_data_hazard.csv\",\n",
    "                        FILES_DIR / \"prompts/generate_synthetic_data.md\", combinations_hazard)\n",
    "\n",
    "combinations_product = generate_prompt_triplets_by_product(rare_product_categories, trainset)\n",
    "generate_synthetic_data(SYNTHETIC_DATA_DIR / \"synthetic_data_product.csv\",\n",
    "                        FILES_DIR / \"prompts/generate_synthetic_data.md\", combinations_product)\n",
    "\n",
    "print(\"Number of generated synthetic data points:\", len(combinations_hazard)+len(combinations_product))"
   ]
  },
  {
   "cell_type": "markdown",
   "id": "5f2d7e6a",
   "metadata": {
    "id": "5f2d7e6a"
   },
   "source": [
    "The data produced by Mistral are not perfect. So at this point some manual curration is needed (e.g. quote the text column to parse the csv properly or drop some rows with missing values). Because of that, we use later in the code already preprocessed synthetic data."
   ]
  },
  {
   "cell_type": "markdown",
   "id": "ca90c09e",
   "metadata": {
    "id": "ca90c09e"
   },
   "source": [
    "Load and check the generated data.\n",
    "We generated smaller and bigger amount of synthetic data and we want to test whether it has some impact on performance."
   ]
  },
  {
   "cell_type": "code",
   "execution_count": 12,
   "id": "300fd279",
   "metadata": {
    "ExecuteTime": {
     "end_time": "2025-04-12T15:53:11.369827Z",
     "start_time": "2025-04-12T15:53:11.347639Z"
    },
    "id": "300fd279",
    "outputId": "0198b6ae-10f2-4d77-f9eb-f31c6c566619"
   },
   "outputs": [
    {
     "ename": "NameError",
     "evalue": "name 'SYNTHETIC_DATA_DIR' is not defined",
     "output_type": "error",
     "traceback": [
      "\u001b[31m---------------------------------------------------------------------------\u001b[39m",
      "\u001b[31mNameError\u001b[39m                                 Traceback (most recent call last)",
      "\u001b[36mCell\u001b[39m\u001b[36m \u001b[39m\u001b[32mIn[12]\u001b[39m\u001b[32m, line 1\u001b[39m\n\u001b[32m----> \u001b[39m\u001b[32m1\u001b[39m synthetic_data_small = pd.read_csv(\u001b[43mSYNTHETIC_DATA_DIR\u001b[49m / \u001b[33m\"\u001b[39m\u001b[33msynthetic_data_small.csv\u001b[39m\u001b[33m\"\u001b[39m)\n\u001b[32m      2\u001b[39m \u001b[38;5;28mprint\u001b[39m(synthetic_data_small.info())\n",
      "\u001b[31mNameError\u001b[39m: name 'SYNTHETIC_DATA_DIR' is not defined"
     ]
    }
   ],
   "source": [
    "synthetic_data_small = pd.read_csv(SYNTHETIC_DATA_DIR / \"synthetic_data_small.csv\")\n",
    "print(synthetic_data_small.info())"
   ]
  },
  {
   "cell_type": "code",
   "execution_count": 13,
   "id": "a74b177d0b0242ae",
   "metadata": {
    "id": "a74b177d0b0242ae"
   },
   "outputs": [
    {
     "ename": "NameError",
     "evalue": "name 'SYNTHETIC_DATA_DIR' is not defined",
     "output_type": "error",
     "traceback": [
      "\u001b[31m---------------------------------------------------------------------------\u001b[39m",
      "\u001b[31mNameError\u001b[39m                                 Traceback (most recent call last)",
      "\u001b[36mCell\u001b[39m\u001b[36m \u001b[39m\u001b[32mIn[13]\u001b[39m\u001b[32m, line 1\u001b[39m\n\u001b[32m----> \u001b[39m\u001b[32m1\u001b[39m synthetic_data_big = pd.read_csv(\u001b[43mSYNTHETIC_DATA_DIR\u001b[49m / \u001b[33m\"\u001b[39m\u001b[33msynthetic_data_big.csv\u001b[39m\u001b[33m\"\u001b[39m)\n\u001b[32m      2\u001b[39m \u001b[38;5;28mprint\u001b[39m(synthetic_data_big.info())\n",
      "\u001b[31mNameError\u001b[39m: name 'SYNTHETIC_DATA_DIR' is not defined"
     ]
    }
   ],
   "source": [
    "synthetic_data_big = pd.read_csv(SYNTHETIC_DATA_DIR / \"synthetic_data_big.csv\")\n",
    "print(synthetic_data_big.info())"
   ]
  },
  {
   "cell_type": "code",
   "execution_count": 14,
   "id": "39d79cc399dcd86",
   "metadata": {
    "id": "39d79cc399dcd86"
   },
   "outputs": [
    {
     "ename": "NameError",
     "evalue": "name 'synthetic_data_small' is not defined",
     "output_type": "error",
     "traceback": [
      "\u001b[31m---------------------------------------------------------------------------\u001b[39m",
      "\u001b[31mNameError\u001b[39m                                 Traceback (most recent call last)",
      "\u001b[36mCell\u001b[39m\u001b[36m \u001b[39m\u001b[32mIn[14]\u001b[39m\u001b[32m, line 1\u001b[39m\n\u001b[32m----> \u001b[39m\u001b[32m1\u001b[39m train_small = pd.concat([trainset, \u001b[43msynthetic_data_small\u001b[49m], ignore_index=\u001b[38;5;28;01mTrue\u001b[39;00m)\n\u001b[32m      2\u001b[39m train_big = pd.concat([trainset, synthetic_data_big], ignore_index=\u001b[38;5;28;01mTrue\u001b[39;00m)\n",
      "\u001b[31mNameError\u001b[39m: name 'synthetic_data_small' is not defined"
     ]
    }
   ],
   "source": [
    "train_small = pd.concat([trainset, synthetic_data_small], ignore_index=True)\n",
    "train_big = pd.concat([trainset, synthetic_data_big], ignore_index=True)"
   ]
  },
  {
   "cell_type": "markdown",
   "id": "nRodBVbq07Az",
   "metadata": {
    "id": "nRodBVbq07Az"
   },
   "source": [
    "# Bert and RoBERTa\n",
    "- [Bert](https://huggingface.co/docs/transformers/model_doc/bert)\n",
    "- [RoBERTa](https://huggingface.co/docs/transformers/model_doc/roberta)"
   ]
  },
  {
   "cell_type": "code",
   "execution_count": 15,
   "id": "aqhgKV3h6lei",
   "metadata": {
    "id": "aqhgKV3h6lei"
   },
   "outputs": [],
   "source": [
    "from transformers import RobertaTokenizer, RobertaForSequenceClassification, AutoTokenizer, AutoModelForSequenceClassification, TrainingArguments, Trainer, BertTokenizer, BertForSequenceClassification, DataCollatorWithPadding\n",
    "from sklearn.metrics import accuracy_score, f1_score\n",
    "from sklearn.preprocessing import LabelEncoder\n",
    "from datasets import Dataset, DatasetDict\n",
    "import torch"
   ]
  },
  {
   "cell_type": "code",
   "execution_count": 16,
   "id": "lsFhaDUS6mR9",
   "metadata": {
    "colab": {
     "base_uri": "https://localhost:8080/"
    },
    "id": "lsFhaDUS6mR9",
    "outputId": "2ab1551e-8f2d-4c88-fa85-f420aeb3cc8e"
   },
   "outputs": [
    {
     "name": "stdout",
     "output_type": "stream",
     "text": [
      "cpu\n"
     ]
    }
   ],
   "source": [
    "device = torch.device(\"cuda\" if torch.cuda.is_available() else \"cpu\")\n",
    "print(device)"
   ]
  },
  {
   "cell_type": "code",
   "execution_count": 49,
   "id": "pDwysPWp1rNo",
   "metadata": {
    "id": "pDwysPWp1rNo"
   },
   "outputs": [],
   "source": [
    "def assign_labels(dataset, column, label_dict):\n",
    "    # autoencoding\n",
    "    unique_values = dataset[column].unique()\n",
    "    for value in unique_values:\n",
    "        if value not in label_dict:\n",
    "            label_dict[value] = len(label_dict)\n",
    "\n",
    "\n",
    "def transform_dataset(dataset):\n",
    "    for split in dataset.keys():\n",
    "        dataset[split] = dataset[split].replace({\n",
    "            \"hazard_category\": labels_hazard_categories,\n",
    "            \"product_category\": labels_product_categories,\n",
    "            \"product\": labels_products,\n",
    "            \"hazard\": labels_hazards\n",
    "        })\n",
    "        dataset[split][\"text\"] = dataset[split][\"title\"] + \": \" + dataset[split][\"text\"]\n",
    "        dataset[split] = dataset[split].drop(columns=[\"day\", \"month\", \"year\", \"country\", \"title\"])\n",
    "\n",
    "    return dataset\n",
    "\n",
    "def compute_score(hazards_true, products_true, hazards_pred, products_pred):\n",
    "    # compute f1 for hazards:\n",
    "    f1_hazards = f1_score(\n",
    "        hazards_true,\n",
    "        hazards_pred,\n",
    "        average='macro'\n",
    "    )\n",
    "\n",
    "    # compute f1 for products:\n",
    "    f1_products = f1_score(\n",
    "        products_true[hazards_pred == hazards_true],\n",
    "        products_pred[hazards_pred == hazards_true],\n",
    "        average='macro'\n",
    "    )\n",
    "\n",
    "    return (f1_hazards + f1_products) / 2."
   ]
  },
  {
   "cell_type": "code",
   "execution_count": 50,
   "id": "U0IYTL9kdg5y",
   "metadata": {
    "id": "U0IYTL9kdg5y"
   },
   "outputs": [],
   "source": [
    "labels_hazard_categories = {}\n",
    "labels_hazards = {}\n",
    "labels_product_categories = {}\n",
    "labels_products = {}\n",
    "\n",
    "unique_products = set()\n",
    "for split in [trainset, validset, testset]:\n",
    "    unique_products.update(split[\"product\"])\n",
    "\n",
    "assign_labels(trainset, \"hazard_category\", labels_hazard_categories)\n",
    "assign_labels(trainset, \"hazard\", labels_hazards)\n",
    "assign_labels(trainset, \"product_category\", labels_product_categories)\n",
    "\n",
    "for value in unique_products:\n",
    "    if value not in labels_products:\n",
    "        labels_products[value] = len(labels_products)"
   ]
  },
  {
   "cell_type": "code",
   "execution_count": 51,
   "id": "7b8dd338-fac8-4f75-8d05-6eaad76a9a9c",
   "metadata": {},
   "outputs": [
    {
     "data": {
      "text/html": [
       "<div>\n",
       "<style scoped>\n",
       "    .dataframe tbody tr th:only-of-type {\n",
       "        vertical-align: middle;\n",
       "    }\n",
       "\n",
       "    .dataframe tbody tr th {\n",
       "        vertical-align: top;\n",
       "    }\n",
       "\n",
       "    .dataframe thead th {\n",
       "        text-align: right;\n",
       "    }\n",
       "</style>\n",
       "<table border=\"1\" class=\"dataframe\">\n",
       "  <thead>\n",
       "    <tr style=\"text-align: right;\">\n",
       "      <th></th>\n",
       "      <th>year</th>\n",
       "      <th>month</th>\n",
       "      <th>day</th>\n",
       "      <th>country</th>\n",
       "      <th>title</th>\n",
       "      <th>text</th>\n",
       "      <th>hazard_category</th>\n",
       "      <th>product_category</th>\n",
       "      <th>hazard</th>\n",
       "      <th>product</th>\n",
       "    </tr>\n",
       "  </thead>\n",
       "  <tbody>\n",
       "    <tr>\n",
       "      <th>0</th>\n",
       "      <td>1994</td>\n",
       "      <td>1</td>\n",
       "      <td>7</td>\n",
       "      <td>us</td>\n",
       "      <td>Recall Notification: FSIS-024-94</td>\n",
       "      <td>Case Number: 024-94   \\n            Date Opene...</td>\n",
       "      <td>biological</td>\n",
       "      <td>meat, egg and dairy products</td>\n",
       "      <td>listeria monocytogenes</td>\n",
       "      <td>smoked sausage</td>\n",
       "    </tr>\n",
       "    <tr>\n",
       "      <th>1</th>\n",
       "      <td>1994</td>\n",
       "      <td>3</td>\n",
       "      <td>10</td>\n",
       "      <td>us</td>\n",
       "      <td>Recall Notification: FSIS-033-94</td>\n",
       "      <td>Case Number: 033-94   \\n            Date Opene...</td>\n",
       "      <td>biological</td>\n",
       "      <td>meat, egg and dairy products</td>\n",
       "      <td>listeria spp</td>\n",
       "      <td>sausage</td>\n",
       "    </tr>\n",
       "    <tr>\n",
       "      <th>2</th>\n",
       "      <td>1994</td>\n",
       "      <td>3</td>\n",
       "      <td>28</td>\n",
       "      <td>us</td>\n",
       "      <td>Recall Notification: FSIS-014-94</td>\n",
       "      <td>Case Number: 014-94   \\n            Date Opene...</td>\n",
       "      <td>biological</td>\n",
       "      <td>meat, egg and dairy products</td>\n",
       "      <td>listeria monocytogenes</td>\n",
       "      <td>ham slices</td>\n",
       "    </tr>\n",
       "    <tr>\n",
       "      <th>3</th>\n",
       "      <td>1994</td>\n",
       "      <td>4</td>\n",
       "      <td>3</td>\n",
       "      <td>us</td>\n",
       "      <td>Recall Notification: FSIS-009-94</td>\n",
       "      <td>Case Number: 009-94   \\n            Date Opene...</td>\n",
       "      <td>foreign bodies</td>\n",
       "      <td>meat, egg and dairy products</td>\n",
       "      <td>plastic fragment</td>\n",
       "      <td>thermal processed pork meat</td>\n",
       "    </tr>\n",
       "    <tr>\n",
       "      <th>4</th>\n",
       "      <td>1994</td>\n",
       "      <td>7</td>\n",
       "      <td>1</td>\n",
       "      <td>us</td>\n",
       "      <td>Recall Notification: FSIS-001-94</td>\n",
       "      <td>Case Number: 001-94   \\n            Date Opene...</td>\n",
       "      <td>foreign bodies</td>\n",
       "      <td>meat, egg and dairy products</td>\n",
       "      <td>plastic fragment</td>\n",
       "      <td>chicken breast</td>\n",
       "    </tr>\n",
       "  </tbody>\n",
       "</table>\n",
       "</div>"
      ],
      "text/plain": [
       "   year  month  day country                             title  \\\n",
       "0  1994      1    7      us  Recall Notification: FSIS-024-94   \n",
       "1  1994      3   10      us  Recall Notification: FSIS-033-94   \n",
       "2  1994      3   28      us  Recall Notification: FSIS-014-94   \n",
       "3  1994      4    3      us  Recall Notification: FSIS-009-94   \n",
       "4  1994      7    1      us  Recall Notification: FSIS-001-94   \n",
       "\n",
       "                                                text hazard_category  \\\n",
       "0  Case Number: 024-94   \\n            Date Opene...      biological   \n",
       "1  Case Number: 033-94   \\n            Date Opene...      biological   \n",
       "2  Case Number: 014-94   \\n            Date Opene...      biological   \n",
       "3  Case Number: 009-94   \\n            Date Opene...  foreign bodies   \n",
       "4  Case Number: 001-94   \\n            Date Opene...  foreign bodies   \n",
       "\n",
       "               product_category                  hazard  \\\n",
       "0  meat, egg and dairy products  listeria monocytogenes   \n",
       "1  meat, egg and dairy products            listeria spp   \n",
       "2  meat, egg and dairy products  listeria monocytogenes   \n",
       "3  meat, egg and dairy products        plastic fragment   \n",
       "4  meat, egg and dairy products        plastic fragment   \n",
       "\n",
       "                       product  \n",
       "0               smoked sausage  \n",
       "1                      sausage  \n",
       "2                   ham slices  \n",
       "3  thermal processed pork meat  \n",
       "4               chicken breast  "
      ]
     },
     "execution_count": 51,
     "metadata": {},
     "output_type": "execute_result"
    }
   ],
   "source": [
    "trainset.head()"
   ]
  },
  {
   "cell_type": "markdown",
   "id": "a2xO_Vd6AyQi",
   "metadata": {
    "id": "a2xO_Vd6AyQi"
   },
   "source": [
    "## BERT"
   ]
  },
  {
   "cell_type": "code",
   "execution_count": 63,
   "id": "pzVHXLUAAzXO",
   "metadata": {
    "colab": {
     "base_uri": "https://localhost:8080/"
    },
    "id": "pzVHXLUAAzXO",
    "outputId": "76b94a7b-6a8f-4818-ea93-c49dbea386fc"
   },
   "outputs": [
    {
     "name": "stderr",
     "output_type": "stream",
     "text": [
      "/tmp/ipykernel_77470/3663636310.py:11: FutureWarning: Downcasting behavior in `replace` is deprecated and will be removed in a future version. To retain the old behavior, explicitly call `result.infer_objects(copy=False)`. To opt-in to the future behavior, set `pd.set_option('future.no_silent_downcasting', True)`\n",
      "  dataset[split] = dataset[split].replace({\n",
      "/tmp/ipykernel_77470/3663636310.py:11: FutureWarning: Downcasting behavior in `replace` is deprecated and will be removed in a future version. To retain the old behavior, explicitly call `result.infer_objects(copy=False)`. To opt-in to the future behavior, set `pd.set_option('future.no_silent_downcasting', True)`\n",
      "  dataset[split] = dataset[split].replace({\n",
      "/tmp/ipykernel_77470/3663636310.py:11: FutureWarning: Downcasting behavior in `replace` is deprecated and will be removed in a future version. To retain the old behavior, explicitly call `result.infer_objects(copy=False)`. To opt-in to the future behavior, set `pd.set_option('future.no_silent_downcasting', True)`\n",
      "  dataset[split] = dataset[split].replace({\n"
     ]
    }
   ],
   "source": [
    "bert_dataset = transform_dataset({\"train\": trainset.copy(), \"valid\": validset.copy(), \"test\": testset.copy()})\n"
   ]
  },
  {
   "cell_type": "code",
   "execution_count": 64,
   "id": "3d4d2b3f-a53e-43c8-906b-2a48b57023a2",
   "metadata": {},
   "outputs": [
    {
     "data": {
      "text/plain": [
       "0        0\n",
       "1        0\n",
       "2        0\n",
       "3        0\n",
       "4        0\n",
       "        ..\n",
       "5979     2\n",
       "5980     1\n",
       "5981    13\n",
       "5982     0\n",
       "5983     1\n",
       "Name: product_category, Length: 5082, dtype: int64"
      ]
     },
     "execution_count": 64,
     "metadata": {},
     "output_type": "execute_result"
    }
   ],
   "source": [
    "bert_dataset[\"train\"][\"product_category\"]"
   ]
  },
  {
   "cell_type": "code",
   "execution_count": 65,
   "id": "i2_aAeEqA2ge",
   "metadata": {
    "id": "i2_aAeEqA2ge"
   },
   "outputs": [],
   "source": [
    "bert_dataset = DatasetDict({\"train\" : Dataset.from_pandas(bert_dataset[\"train\"]),\"valid\" : Dataset.from_pandas(bert_dataset[\"valid\"]), \"test\" : Dataset.from_pandas(bert_dataset[\"test\"])})"
   ]
  },
  {
   "cell_type": "code",
   "execution_count": 66,
   "id": "zQicWHP_A4AS",
   "metadata": {
    "id": "zQicWHP_A4AS"
   },
   "outputs": [],
   "source": [
    "bert_tokenizer = AutoTokenizer.from_pretrained(\"distilbert/distilbert-base-uncased\")\n",
    "\n",
    "def bert_tokenize_function(examples):\n",
    "    return bert_tokenizer(examples[\"text\"], truncation=True, padding=\"max_length\")"
   ]
  },
  {
   "cell_type": "code",
   "execution_count": 67,
   "id": "tk-Ij61uCRzM",
   "metadata": {
    "colab": {
     "base_uri": "https://localhost:8080/",
     "height": 113,
     "referenced_widgets": [
      "78d2eea99d594a388afb1172211de4f8",
      "ffa2075a53434e8386df9235ed1ec605",
      "35823b4e727c4ffa9447c78a89d1fa41",
      "01f44eb2ad3b4b2c91bf5523fef72d5b",
      "3c8be7634ab7464d830b9644744c93cc",
      "95032b6e2e1a4200aeb894034dd2979f",
      "68b5cc1d95a74785bec873978d258625",
      "7a10c398921a4cab8e9891b905d8614f",
      "25749b29a3804aba99c08cd7d7493b80",
      "8604e04545eb465389450422e5364919",
      "f872be8231d24f4d9052c973b57f2bfa",
      "99f54c2056b54866a01b8e5ca1c854be",
      "fabdd7c80dbe4a4b80436bc8fedc5d36",
      "884926e6e7c144ed8404a69c6e4864b5",
      "b1f6011f627744b9bf3db60ec396ccfd",
      "c7838071e5b5463390ac767b92385c1a",
      "34eb7d6f7fad48049aae4bb7a509b787",
      "56d5af5cc924403f988b56b54f770f04",
      "6473fad104cb421d8b300c3b75cbde55",
      "831221c168784c55a49125dcf9c606c4",
      "5a6a8695b3ed4e988173b8f077ba3e6f",
      "b9fd4988f5df420285fea8d8dc60d4b5",
      "8440bf21eb85463c82313ad6962b1f6d",
      "99a6617d4b4449c1a0668428b31c8149",
      "9abe9e4c2708493086458e64ce25bf4e",
      "df6de43a30c74d2b86094b5f75286a8c",
      "46f003e8bc2b4410a793081eaaea9541",
      "06e7c045ebba42d69b4456fba8801d2e",
      "815b3c0b6b814ca5a45b195cd6bfd440",
      "01892d5395694469a1056568c1d98ef9",
      "8f882fc07f314a1d97e0228bf8ada4fa",
      "b36428faa22d4c56bc789bf0854a7c92",
      "62ade5f717654c6a83041916b94e2206"
     ]
    },
    "id": "tk-Ij61uCRzM",
    "outputId": "4fcdf154-606e-419f-b908-b76c368f0f53"
   },
   "outputs": [
    {
     "data": {
      "application/vnd.jupyter.widget-view+json": {
       "model_id": "7a2db96f723e49928051ffad2abcfdb0",
       "version_major": 2,
       "version_minor": 0
      },
      "text/plain": [
       "Map:   0%|          | 0/5082 [00:00<?, ? examples/s]"
      ]
     },
     "metadata": {},
     "output_type": "display_data"
    },
    {
     "data": {
      "application/vnd.jupyter.widget-view+json": {
       "model_id": "37c96461c19b45edab4fa1232805ed6d",
       "version_major": 2,
       "version_minor": 0
      },
      "text/plain": [
       "Map:   0%|          | 0/565 [00:00<?, ? examples/s]"
      ]
     },
     "metadata": {},
     "output_type": "display_data"
    },
    {
     "data": {
      "application/vnd.jupyter.widget-view+json": {
       "model_id": "b75b899033464bec9a5588b1b5c879db",
       "version_major": 2,
       "version_minor": 0
      },
      "text/plain": [
       "Map:   0%|          | 0/565 [00:00<?, ? examples/s]"
      ]
     },
     "metadata": {},
     "output_type": "display_data"
    }
   ],
   "source": [
    "bert_tokenized = bert_dataset.map(bert_tokenize_function, batched=True)"
   ]
  },
  {
   "cell_type": "code",
   "execution_count": 68,
   "id": "Q8pr_LFwCWDi",
   "metadata": {
    "id": "Q8pr_LFwCWDi"
   },
   "outputs": [
    {
     "name": "stderr",
     "output_type": "stream",
     "text": [
      "Using the `WANDB_DISABLED` environment variable is deprecated and will be removed in v5. Use the --report_to flag to control the integrations used for logging result (for instance --report_to none).\n"
     ]
    }
   ],
   "source": [
    "bert_data_collator = DataCollatorWithPadding(tokenizer=bert_tokenizer)\n",
    "\n",
    "bert_training_args = TrainingArguments(\"test_trainer\",\n",
    "    num_train_epochs=3,\n",
    "    weight_decay=0.01,\n",
    "    eval_strategy=\"epoch\")"
   ]
  },
  {
   "cell_type": "code",
   "execution_count": null,
   "id": "3DRAoZrZC7jc",
   "metadata": {
    "id": "3DRAoZrZC7jc"
   },
   "outputs": [
    {
     "name": "stderr",
     "output_type": "stream",
     "text": [
      "Some weights of DistilBertForSequenceClassification were not initialized from the model checkpoint at distilbert/distilbert-base-uncased and are newly initialized: ['classifier.bias', 'classifier.weight', 'pre_classifier.bias', 'pre_classifier.weight']\n",
      "You should probably TRAIN this model on a down-stream task to be able to use it for predictions and inference.\n"
     ]
    },
    {
     "data": {
      "text/html": [
       "\n",
       "    <div>\n",
       "      \n",
       "      <progress value='876' max='1908' style='width:300px; height:20px; vertical-align: middle;'></progress>\n",
       "      [ 876/1908 1:03:12 < 1:14:37, 0.23 it/s, Epoch 1.38/3]\n",
       "    </div>\n",
       "    <table border=\"1\" class=\"dataframe\">\n",
       "  <thead>\n",
       " <tr style=\"text-align: left;\">\n",
       "      <th>Epoch</th>\n",
       "      <th>Training Loss</th>\n",
       "      <th>Validation Loss</th>\n",
       "    </tr>\n",
       "  </thead>\n",
       "  <tbody>\n",
       "    <tr>\n",
       "      <td>1</td>\n",
       "      <td>2.209900</td>\n",
       "      <td>1.141758</td>\n",
       "    </tr>\n",
       "  </tbody>\n",
       "</table><p>"
      ],
      "text/plain": [
       "<IPython.core.display.HTML object>"
      ]
     },
     "metadata": {},
     "output_type": "display_data"
    }
   ],
   "source": [
    "bert_trainers = dict()\n",
    "\n",
    "for category in ['hazard', 'product', 'product_category', 'hazard_category']:\n",
    "    train_dataset = bert_tokenized[\"train\"].rename_column(category, \"label\")\n",
    "    eval_dataset = bert_tokenized[\"valid\"].rename_column(category, \"label\")\n",
    "\n",
    "    bert_model = AutoModelForSequenceClassification.from_pretrained(\n",
    "        \"distilbert/distilbert-base-uncased\", num_labels=trainset[category].nunique()\n",
    "    ).to(device)\n",
    "\n",
    "    trainer = Trainer(\n",
    "        model=bert_model,\n",
    "        args=bert_training_args,\n",
    "        train_dataset=train_dataset,\n",
    "        eval_dataset=eval_dataset,\n",
    "        processing_class=bert_tokenizer,\n",
    "        data_collator=bert_data_collator,\n",
    "    )\n",
    "\n",
    "    trainer.train()\n",
    "\n",
    "    bert_trainers[category] = trainer"
   ]
  },
  {
   "cell_type": "code",
   "execution_count": null,
   "id": "whFzBciIDd1v",
   "metadata": {
    "id": "whFzBciIDd1v"
   },
   "outputs": [],
   "source": [
    "devset_bert = {}\n",
    "\n",
    "for category in bert_trainers.keys():\n",
    "    devset_bert[category] = bert_trainers[category].predict(bert_tokenized[category])"
   ]
  },
  {
   "cell_type": "code",
   "execution_count": null,
   "id": "0uYZp-jyERjh",
   "metadata": {
    "id": "0uYZp-jyERjh"
   },
   "outputs": [],
   "source": [
    "predictions_hazard_cat = bert_trainers['hazard-category'].predict(bert_tokenized['valid'])\n",
    "predictions_product_cat = bert_trainers['product-category'].predict(bert_tokenized['valid'])\n",
    "\n",
    "devset_bert[\"predictions-hazard-category\"] = predictions_hazard_cat.predictions.argmax(axis=-1)\n",
    "devset_bert[\"predictions-product-category\"] = predictions_product_cat.predictions.argmax(axis=-1)\n",
    "\n",
    "print(f\"Score Sub-Task 1: {compute_score(devset_bert['hazard-category'], devset_bert['product-category'], devset_bert['predictions-hazard-category'], devset_bert['predictions-product-category']):.3f}\")\n",
    "\n",
    "predictions_hazard = bert_trainers['hazard'].predict(bert_tokenized['valid'])\n",
    "predictions_product = bert_trainers['product'].predict(bert_tokenized['valid'])\n",
    "\n",
    "devset_bert[\"predictions-hazard\"] = predictions_hazard.predictions.argmax(axis=-1)\n",
    "devset_bert[\"predictions-product\"] = predictions_product.predictions.argmax(axis=-1)\n",
    "\n",
    "print(f\"Score Sub-Task 2: {compute_score(devset_bert['hazard'], devset_bert['product'], devset_bert['predictions-hazard'], devset_bert['predictions-product']):.3f}\")"
   ]
  },
  {
   "cell_type": "markdown",
   "id": "Pt89QjsO1nIu",
   "metadata": {
    "id": "Pt89QjsO1nIu"
   },
   "source": [
    "## RoBERTa"
   ]
  },
  {
   "cell_type": "code",
   "execution_count": 55,
   "id": "hJRRkeAQxYjl",
   "metadata": {
    "id": "hJRRkeAQxYjl"
   },
   "outputs": [
    {
     "name": "stderr",
     "output_type": "stream",
     "text": [
      "/tmp/ipykernel_77470/3663636310.py:11: FutureWarning: Downcasting behavior in `replace` is deprecated and will be removed in a future version. To retain the old behavior, explicitly call `result.infer_objects(copy=False)`. To opt-in to the future behavior, set `pd.set_option('future.no_silent_downcasting', True)`\n",
      "  dataset[split] = dataset[split].replace({\n",
      "/tmp/ipykernel_77470/3663636310.py:11: FutureWarning: Downcasting behavior in `replace` is deprecated and will be removed in a future version. To retain the old behavior, explicitly call `result.infer_objects(copy=False)`. To opt-in to the future behavior, set `pd.set_option('future.no_silent_downcasting', True)`\n",
      "  dataset[split] = dataset[split].replace({\n",
      "/tmp/ipykernel_77470/3663636310.py:11: FutureWarning: Downcasting behavior in `replace` is deprecated and will be removed in a future version. To retain the old behavior, explicitly call `result.infer_objects(copy=False)`. To opt-in to the future behavior, set `pd.set_option('future.no_silent_downcasting', True)`\n",
      "  dataset[split] = dataset[split].replace({\n"
     ]
    }
   ],
   "source": [
    "roberta_dataset = transform_dataset({\"train\": trainset.copy(), \"valid\": validset.copy(), \"test\": testset.copy()})"
   ]
  },
  {
   "cell_type": "code",
   "execution_count": 56,
   "id": "7b26b081-8104-4e95-b9c2-3ae423a34f47",
   "metadata": {},
   "outputs": [
    {
     "data": {
      "text/html": [
       "<div>\n",
       "<style scoped>\n",
       "    .dataframe tbody tr th:only-of-type {\n",
       "        vertical-align: middle;\n",
       "    }\n",
       "\n",
       "    .dataframe tbody tr th {\n",
       "        vertical-align: top;\n",
       "    }\n",
       "\n",
       "    .dataframe thead th {\n",
       "        text-align: right;\n",
       "    }\n",
       "</style>\n",
       "<table border=\"1\" class=\"dataframe\">\n",
       "  <thead>\n",
       "    <tr style=\"text-align: right;\">\n",
       "      <th></th>\n",
       "      <th>year</th>\n",
       "      <th>month</th>\n",
       "      <th>day</th>\n",
       "      <th>country</th>\n",
       "      <th>title</th>\n",
       "      <th>text</th>\n",
       "      <th>hazard_category</th>\n",
       "      <th>product_category</th>\n",
       "      <th>hazard</th>\n",
       "      <th>product</th>\n",
       "    </tr>\n",
       "  </thead>\n",
       "  <tbody>\n",
       "    <tr>\n",
       "      <th>0</th>\n",
       "      <td>1994</td>\n",
       "      <td>1</td>\n",
       "      <td>7</td>\n",
       "      <td>us</td>\n",
       "      <td>Recall Notification: FSIS-024-94</td>\n",
       "      <td>Case Number: 024-94   \\n            Date Opene...</td>\n",
       "      <td>biological</td>\n",
       "      <td>meat, egg and dairy products</td>\n",
       "      <td>listeria monocytogenes</td>\n",
       "      <td>smoked sausage</td>\n",
       "    </tr>\n",
       "    <tr>\n",
       "      <th>1</th>\n",
       "      <td>1994</td>\n",
       "      <td>3</td>\n",
       "      <td>10</td>\n",
       "      <td>us</td>\n",
       "      <td>Recall Notification: FSIS-033-94</td>\n",
       "      <td>Case Number: 033-94   \\n            Date Opene...</td>\n",
       "      <td>biological</td>\n",
       "      <td>meat, egg and dairy products</td>\n",
       "      <td>listeria spp</td>\n",
       "      <td>sausage</td>\n",
       "    </tr>\n",
       "    <tr>\n",
       "      <th>2</th>\n",
       "      <td>1994</td>\n",
       "      <td>3</td>\n",
       "      <td>28</td>\n",
       "      <td>us</td>\n",
       "      <td>Recall Notification: FSIS-014-94</td>\n",
       "      <td>Case Number: 014-94   \\n            Date Opene...</td>\n",
       "      <td>biological</td>\n",
       "      <td>meat, egg and dairy products</td>\n",
       "      <td>listeria monocytogenes</td>\n",
       "      <td>ham slices</td>\n",
       "    </tr>\n",
       "    <tr>\n",
       "      <th>3</th>\n",
       "      <td>1994</td>\n",
       "      <td>4</td>\n",
       "      <td>3</td>\n",
       "      <td>us</td>\n",
       "      <td>Recall Notification: FSIS-009-94</td>\n",
       "      <td>Case Number: 009-94   \\n            Date Opene...</td>\n",
       "      <td>foreign bodies</td>\n",
       "      <td>meat, egg and dairy products</td>\n",
       "      <td>plastic fragment</td>\n",
       "      <td>thermal processed pork meat</td>\n",
       "    </tr>\n",
       "    <tr>\n",
       "      <th>4</th>\n",
       "      <td>1994</td>\n",
       "      <td>7</td>\n",
       "      <td>1</td>\n",
       "      <td>us</td>\n",
       "      <td>Recall Notification: FSIS-001-94</td>\n",
       "      <td>Case Number: 001-94   \\n            Date Opene...</td>\n",
       "      <td>foreign bodies</td>\n",
       "      <td>meat, egg and dairy products</td>\n",
       "      <td>plastic fragment</td>\n",
       "      <td>chicken breast</td>\n",
       "    </tr>\n",
       "  </tbody>\n",
       "</table>\n",
       "</div>"
      ],
      "text/plain": [
       "   year  month  day country                             title  \\\n",
       "0  1994      1    7      us  Recall Notification: FSIS-024-94   \n",
       "1  1994      3   10      us  Recall Notification: FSIS-033-94   \n",
       "2  1994      3   28      us  Recall Notification: FSIS-014-94   \n",
       "3  1994      4    3      us  Recall Notification: FSIS-009-94   \n",
       "4  1994      7    1      us  Recall Notification: FSIS-001-94   \n",
       "\n",
       "                                                text hazard_category  \\\n",
       "0  Case Number: 024-94   \\n            Date Opene...      biological   \n",
       "1  Case Number: 033-94   \\n            Date Opene...      biological   \n",
       "2  Case Number: 014-94   \\n            Date Opene...      biological   \n",
       "3  Case Number: 009-94   \\n            Date Opene...  foreign bodies   \n",
       "4  Case Number: 001-94   \\n            Date Opene...  foreign bodies   \n",
       "\n",
       "               product_category                  hazard  \\\n",
       "0  meat, egg and dairy products  listeria monocytogenes   \n",
       "1  meat, egg and dairy products            listeria spp   \n",
       "2  meat, egg and dairy products  listeria monocytogenes   \n",
       "3  meat, egg and dairy products        plastic fragment   \n",
       "4  meat, egg and dairy products        plastic fragment   \n",
       "\n",
       "                       product  \n",
       "0               smoked sausage  \n",
       "1                      sausage  \n",
       "2                   ham slices  \n",
       "3  thermal processed pork meat  \n",
       "4               chicken breast  "
      ]
     },
     "execution_count": 56,
     "metadata": {},
     "output_type": "execute_result"
    }
   ],
   "source": [
    "trainset.head()"
   ]
  },
  {
   "cell_type": "code",
   "execution_count": 57,
   "id": "YA1mch1l-N2G",
   "metadata": {
    "id": "YA1mch1l-N2G"
   },
   "outputs": [],
   "source": [
    "roberta_dataset = DatasetDict({\"train\" : Dataset.from_pandas(roberta_dataset[\"train\"]),\"valid\" : Dataset.from_pandas(roberta_dataset[\"valid\"]), \"test\" : Dataset.from_pandas(roberta_dataset[\"test\"])})"
   ]
  },
  {
   "cell_type": "code",
   "execution_count": 58,
   "id": "wHDqD4n01UZ2",
   "metadata": {
    "id": "wHDqD4n01UZ2"
   },
   "outputs": [],
   "source": [
    "roberta_tokenizer = RobertaTokenizer.from_pretrained(\"roberta-base\")\n",
    "\n",
    "def roberta_tokenize_function(examples):\n",
    "    return roberta_tokenizer(examples[\"text\"], truncation=True, padding=\"max_length\")"
   ]
  },
  {
   "cell_type": "code",
   "execution_count": 59,
   "id": "4ypdnjg11WHz",
   "metadata": {
    "colab": {
     "base_uri": "https://localhost:8080/",
     "height": 113,
     "referenced_widgets": [
      "7646718eab4349c4979fd5c0b9f40ba8",
      "c60697552dd2432ab6608add172aaf1f",
      "054c87bc57ea430aad0d9aad2fcd00a5",
      "81d24056280e44c6bdfc903b076664f9",
      "9a06a1aacd344b1d92eec5d395ff27da",
      "ec9ad158f5b24f5d94d74849dbb9aa26",
      "f5fcf32ec81944f7bbf1de838a184af0",
      "0142a8309589479dbc63097b38916051",
      "b8ce60717bdd4f1e87cae61e2046dd8d",
      "5f79133e6389488eabc6451ef745d867",
      "352f4b220d5d4cf59b8e989a29bce6a7",
      "7efeb27ad5dc490e9b79294c5765707e",
      "b758b43d59794b7b943237f4dcb9f94d",
      "6618a8a0b6c4430a92e1d3f804e62159",
      "0026e05b3e114ef588c1299c63a7b2a6",
      "44c143c32f994eaaa56501cf64cf617a",
      "d0bf23085ad54975b0b02eb528f8d790",
      "8b37f6c41d804642b6226c232b2aa3e2",
      "9205ee7c323e4318ad7d4ff47d19977c",
      "05d41e12ba494e7cb1176cb5c9addb92",
      "68ed4f4b4fab445883b5f62d35263ffa",
      "5ce1ba98fd894626bf28f6a489288ce8",
      "987ec001094c4b5d819a6aaabb9da971",
      "b9b50bfc607a4894b3de46ed8f414e82",
      "86d8063edf4b4f8e845f5c6f7058e73d",
      "6f3be5c9a49948fd9388f7c58971af5c",
      "ef4b6609af9b4f79a6f291472293684b",
      "43e094672da2465abb9cda7df16ebe5d",
      "b88624640095450aa65c039686f95c08",
      "802a3d5bb0a146b7bf82be5517125b96",
      "af325a780c6c487f8b672726cb0fe016",
      "097108ad01864409acf022d6875a3991",
      "966c72d24afa49d686981d1c7c8f4c69"
     ]
    },
    "id": "4ypdnjg11WHz",
    "outputId": "b13a11d0-43d5-4f6f-a41d-f960df3f7775"
   },
   "outputs": [
    {
     "data": {
      "application/vnd.jupyter.widget-view+json": {
       "model_id": "dc3b456b8c9a4f70aa19b0aa666c62a4",
       "version_major": 2,
       "version_minor": 0
      },
      "text/plain": [
       "Map:   0%|          | 0/5082 [00:00<?, ? examples/s]"
      ]
     },
     "metadata": {},
     "output_type": "display_data"
    },
    {
     "data": {
      "application/vnd.jupyter.widget-view+json": {
       "model_id": "ebba1745758d4c51a7b7f15125068004",
       "version_major": 2,
       "version_minor": 0
      },
      "text/plain": [
       "Map:   0%|          | 0/565 [00:00<?, ? examples/s]"
      ]
     },
     "metadata": {},
     "output_type": "display_data"
    },
    {
     "data": {
      "application/vnd.jupyter.widget-view+json": {
       "model_id": "ae85dc1d8bcb441bac3738238408d54c",
       "version_major": 2,
       "version_minor": 0
      },
      "text/plain": [
       "Map:   0%|          | 0/565 [00:00<?, ? examples/s]"
      ]
     },
     "metadata": {},
     "output_type": "display_data"
    }
   ],
   "source": [
    "roberta_tokenized = roberta_dataset.map(roberta_tokenize_function, batched=True)"
   ]
  },
  {
   "cell_type": "code",
   "execution_count": 60,
   "id": "bF2vy6X_1Yt3",
   "metadata": {
    "colab": {
     "base_uri": "https://localhost:8080/"
    },
    "id": "bF2vy6X_1Yt3",
    "outputId": "e88dfc1c-49a2-47b0-8dc0-7762e99f1cc2"
   },
   "outputs": [
    {
     "name": "stderr",
     "output_type": "stream",
     "text": [
      "Using the `WANDB_DISABLED` environment variable is deprecated and will be removed in v5. Use the --report_to flag to control the integrations used for logging result (for instance --report_to none).\n"
     ]
    }
   ],
   "source": [
    "roberta_data_collator = DataCollatorWithPadding(tokenizer=roberta_tokenizer)\n",
    "\n",
    "roberta_training_args = TrainingArguments(\"test_trainer\",\n",
    "                                  num_train_epochs=3,\n",
    "                                  weight_decay=0.01,\n",
    "                                  eval_strategy=\"epoch\")"
   ]
  },
  {
   "cell_type": "code",
   "execution_count": 61,
   "id": "I9EgVJOB7njx",
   "metadata": {
    "id": "I9EgVJOB7njx"
   },
   "outputs": [],
   "source": [
    "train_dataset = roberta_tokenized[\"train\"].rename_column(\"hazard\", \"label\")\n",
    "eval_dataset = roberta_tokenized[\"valid\"].rename_column(\"hazard\", \"label\")"
   ]
  },
  {
   "cell_type": "code",
   "execution_count": 62,
   "id": "I7hbydd41aLD",
   "metadata": {
    "colab": {
     "base_uri": "https://localhost:8080/",
     "height": 474
    },
    "id": "I7hbydd41aLD",
    "outputId": "43af4a52-b7d6-4526-cf72-fe34a4ed36d0"
   },
   "outputs": [
    {
     "name": "stderr",
     "output_type": "stream",
     "text": [
      "Some weights of RobertaForSequenceClassification were not initialized from the model checkpoint at roberta-base and are newly initialized: ['classifier.dense.bias', 'classifier.dense.weight', 'classifier.out_proj.bias', 'classifier.out_proj.weight']\n",
      "You should probably TRAIN this model on a down-stream task to be able to use it for predictions and inference.\n"
     ]
    },
    {
     "data": {
      "text/html": [
       "\n",
       "    <div>\n",
       "      \n",
       "      <progress value='229' max='1908' style='width:300px; height:20px; vertical-align: middle;'></progress>\n",
       "      [ 229/1908 30:27 < 3:45:19, 0.12 it/s, Epoch 0.36/3]\n",
       "    </div>\n",
       "    <table border=\"1\" class=\"dataframe\">\n",
       "  <thead>\n",
       " <tr style=\"text-align: left;\">\n",
       "      <th>Epoch</th>\n",
       "      <th>Training Loss</th>\n",
       "      <th>Validation Loss</th>\n",
       "    </tr>\n",
       "  </thead>\n",
       "  <tbody>\n",
       "  </tbody>\n",
       "</table><p>"
      ],
      "text/plain": [
       "<IPython.core.display.HTML object>"
      ]
     },
     "metadata": {},
     "output_type": "display_data"
    },
    {
     "ename": "KeyboardInterrupt",
     "evalue": "",
     "output_type": "error",
     "traceback": [
      "\u001b[31m---------------------------------------------------------------------------\u001b[39m",
      "\u001b[31mKeyboardInterrupt\u001b[39m                         Traceback (most recent call last)",
      "\u001b[36mCell\u001b[39m\u001b[36m \u001b[39m\u001b[32mIn[62]\u001b[39m\u001b[32m, line 18\u001b[39m\n\u001b[32m      7\u001b[39m roberta_model = RobertaForSequenceClassification.from_pretrained(\u001b[33m\"\u001b[39m\u001b[33mroberta-base\u001b[39m\u001b[33m\"\u001b[39m, num_labels=trainset[category].nunique()).to(device)\n\u001b[32m      9\u001b[39m trainer = Trainer(\n\u001b[32m     10\u001b[39m     model=roberta_model,\n\u001b[32m     11\u001b[39m     args=roberta_training_args,\n\u001b[32m   (...)\u001b[39m\u001b[32m     15\u001b[39m     data_collator=roberta_data_collator,\n\u001b[32m     16\u001b[39m )\n\u001b[32m---> \u001b[39m\u001b[32m18\u001b[39m \u001b[43mtrainer\u001b[49m\u001b[43m.\u001b[49m\u001b[43mtrain\u001b[49m\u001b[43m(\u001b[49m\u001b[43m)\u001b[49m\n\u001b[32m     20\u001b[39m roberta_trainers[category] = trainer\n",
      "\u001b[36mFile \u001b[39m\u001b[32m~/.local/lib/python3.13/site-packages/transformers/trainer.py:2245\u001b[39m, in \u001b[36mTrainer.train\u001b[39m\u001b[34m(self, resume_from_checkpoint, trial, ignore_keys_for_eval, **kwargs)\u001b[39m\n\u001b[32m   2243\u001b[39m         hf_hub_utils.enable_progress_bars()\n\u001b[32m   2244\u001b[39m \u001b[38;5;28;01melse\u001b[39;00m:\n\u001b[32m-> \u001b[39m\u001b[32m2245\u001b[39m     \u001b[38;5;28;01mreturn\u001b[39;00m \u001b[43minner_training_loop\u001b[49m\u001b[43m(\u001b[49m\n\u001b[32m   2246\u001b[39m \u001b[43m        \u001b[49m\u001b[43margs\u001b[49m\u001b[43m=\u001b[49m\u001b[43margs\u001b[49m\u001b[43m,\u001b[49m\n\u001b[32m   2247\u001b[39m \u001b[43m        \u001b[49m\u001b[43mresume_from_checkpoint\u001b[49m\u001b[43m=\u001b[49m\u001b[43mresume_from_checkpoint\u001b[49m\u001b[43m,\u001b[49m\n\u001b[32m   2248\u001b[39m \u001b[43m        \u001b[49m\u001b[43mtrial\u001b[49m\u001b[43m=\u001b[49m\u001b[43mtrial\u001b[49m\u001b[43m,\u001b[49m\n\u001b[32m   2249\u001b[39m \u001b[43m        \u001b[49m\u001b[43mignore_keys_for_eval\u001b[49m\u001b[43m=\u001b[49m\u001b[43mignore_keys_for_eval\u001b[49m\u001b[43m,\u001b[49m\n\u001b[32m   2250\u001b[39m \u001b[43m    \u001b[49m\u001b[43m)\u001b[49m\n",
      "\u001b[36mFile \u001b[39m\u001b[32m~/.local/lib/python3.13/site-packages/transformers/trainer.py:2560\u001b[39m, in \u001b[36mTrainer._inner_training_loop\u001b[39m\u001b[34m(self, batch_size, args, resume_from_checkpoint, trial, ignore_keys_for_eval)\u001b[39m\n\u001b[32m   2553\u001b[39m context = (\n\u001b[32m   2554\u001b[39m     functools.partial(\u001b[38;5;28mself\u001b[39m.accelerator.no_sync, model=model)\n\u001b[32m   2555\u001b[39m     \u001b[38;5;28;01mif\u001b[39;00m i != \u001b[38;5;28mlen\u001b[39m(batch_samples) - \u001b[32m1\u001b[39m\n\u001b[32m   2556\u001b[39m     \u001b[38;5;129;01mand\u001b[39;00m \u001b[38;5;28mself\u001b[39m.accelerator.distributed_type != DistributedType.DEEPSPEED\n\u001b[32m   2557\u001b[39m     \u001b[38;5;28;01melse\u001b[39;00m contextlib.nullcontext\n\u001b[32m   2558\u001b[39m )\n\u001b[32m   2559\u001b[39m \u001b[38;5;28;01mwith\u001b[39;00m context():\n\u001b[32m-> \u001b[39m\u001b[32m2560\u001b[39m     tr_loss_step = \u001b[38;5;28;43mself\u001b[39;49m\u001b[43m.\u001b[49m\u001b[43mtraining_step\u001b[49m\u001b[43m(\u001b[49m\u001b[43mmodel\u001b[49m\u001b[43m,\u001b[49m\u001b[43m \u001b[49m\u001b[43minputs\u001b[49m\u001b[43m,\u001b[49m\u001b[43m \u001b[49m\u001b[43mnum_items_in_batch\u001b[49m\u001b[43m)\u001b[49m\n\u001b[32m   2562\u001b[39m \u001b[38;5;28;01mif\u001b[39;00m (\n\u001b[32m   2563\u001b[39m     args.logging_nan_inf_filter\n\u001b[32m   2564\u001b[39m     \u001b[38;5;129;01mand\u001b[39;00m \u001b[38;5;129;01mnot\u001b[39;00m is_torch_xla_available()\n\u001b[32m   2565\u001b[39m     \u001b[38;5;129;01mand\u001b[39;00m (torch.isnan(tr_loss_step) \u001b[38;5;129;01mor\u001b[39;00m torch.isinf(tr_loss_step))\n\u001b[32m   2566\u001b[39m ):\n\u001b[32m   2567\u001b[39m     \u001b[38;5;66;03m# if loss is nan or inf simply add the average of previous logged losses\u001b[39;00m\n\u001b[32m   2568\u001b[39m     tr_loss = tr_loss + tr_loss / (\u001b[32m1\u001b[39m + \u001b[38;5;28mself\u001b[39m.state.global_step - \u001b[38;5;28mself\u001b[39m._globalstep_last_logged)\n",
      "\u001b[36mFile \u001b[39m\u001b[32m~/.local/lib/python3.13/site-packages/transformers/trainer.py:3736\u001b[39m, in \u001b[36mTrainer.training_step\u001b[39m\u001b[34m(self, model, inputs, num_items_in_batch)\u001b[39m\n\u001b[32m   3733\u001b[39m     \u001b[38;5;28;01mreturn\u001b[39;00m loss_mb.reduce_mean().detach().to(\u001b[38;5;28mself\u001b[39m.args.device)\n\u001b[32m   3735\u001b[39m \u001b[38;5;28;01mwith\u001b[39;00m \u001b[38;5;28mself\u001b[39m.compute_loss_context_manager():\n\u001b[32m-> \u001b[39m\u001b[32m3736\u001b[39m     loss = \u001b[38;5;28;43mself\u001b[39;49m\u001b[43m.\u001b[49m\u001b[43mcompute_loss\u001b[49m\u001b[43m(\u001b[49m\u001b[43mmodel\u001b[49m\u001b[43m,\u001b[49m\u001b[43m \u001b[49m\u001b[43minputs\u001b[49m\u001b[43m,\u001b[49m\u001b[43m \u001b[49m\u001b[43mnum_items_in_batch\u001b[49m\u001b[43m=\u001b[49m\u001b[43mnum_items_in_batch\u001b[49m\u001b[43m)\u001b[49m\n\u001b[32m   3738\u001b[39m \u001b[38;5;28;01mdel\u001b[39;00m inputs\n\u001b[32m   3739\u001b[39m \u001b[38;5;28;01mif\u001b[39;00m (\n\u001b[32m   3740\u001b[39m     \u001b[38;5;28mself\u001b[39m.args.torch_empty_cache_steps \u001b[38;5;129;01mis\u001b[39;00m \u001b[38;5;129;01mnot\u001b[39;00m \u001b[38;5;28;01mNone\u001b[39;00m\n\u001b[32m   3741\u001b[39m     \u001b[38;5;129;01mand\u001b[39;00m \u001b[38;5;28mself\u001b[39m.state.global_step % \u001b[38;5;28mself\u001b[39m.args.torch_empty_cache_steps == \u001b[32m0\u001b[39m\n\u001b[32m   3742\u001b[39m ):\n",
      "\u001b[36mFile \u001b[39m\u001b[32m~/.local/lib/python3.13/site-packages/transformers/trainer.py:3801\u001b[39m, in \u001b[36mTrainer.compute_loss\u001b[39m\u001b[34m(self, model, inputs, return_outputs, num_items_in_batch)\u001b[39m\n\u001b[32m   3799\u001b[39m         loss_kwargs[\u001b[33m\"\u001b[39m\u001b[33mnum_items_in_batch\u001b[39m\u001b[33m\"\u001b[39m] = num_items_in_batch\n\u001b[32m   3800\u001b[39m     inputs = {**inputs, **loss_kwargs}\n\u001b[32m-> \u001b[39m\u001b[32m3801\u001b[39m outputs = \u001b[43mmodel\u001b[49m\u001b[43m(\u001b[49m\u001b[43m*\u001b[49m\u001b[43m*\u001b[49m\u001b[43minputs\u001b[49m\u001b[43m)\u001b[49m\n\u001b[32m   3802\u001b[39m \u001b[38;5;66;03m# Save past state if it exists\u001b[39;00m\n\u001b[32m   3803\u001b[39m \u001b[38;5;66;03m# TODO: this needs to be fixed and made cleaner later.\u001b[39;00m\n\u001b[32m   3804\u001b[39m \u001b[38;5;28;01mif\u001b[39;00m \u001b[38;5;28mself\u001b[39m.args.past_index >= \u001b[32m0\u001b[39m:\n",
      "\u001b[36mFile \u001b[39m\u001b[32m~/.local/lib/python3.13/site-packages/torch/nn/modules/module.py:1739\u001b[39m, in \u001b[36mModule._wrapped_call_impl\u001b[39m\u001b[34m(self, *args, **kwargs)\u001b[39m\n\u001b[32m   1737\u001b[39m     \u001b[38;5;28;01mreturn\u001b[39;00m \u001b[38;5;28mself\u001b[39m._compiled_call_impl(*args, **kwargs)  \u001b[38;5;66;03m# type: ignore[misc]\u001b[39;00m\n\u001b[32m   1738\u001b[39m \u001b[38;5;28;01melse\u001b[39;00m:\n\u001b[32m-> \u001b[39m\u001b[32m1739\u001b[39m     \u001b[38;5;28;01mreturn\u001b[39;00m \u001b[38;5;28;43mself\u001b[39;49m\u001b[43m.\u001b[49m\u001b[43m_call_impl\u001b[49m\u001b[43m(\u001b[49m\u001b[43m*\u001b[49m\u001b[43margs\u001b[49m\u001b[43m,\u001b[49m\u001b[43m \u001b[49m\u001b[43m*\u001b[49m\u001b[43m*\u001b[49m\u001b[43mkwargs\u001b[49m\u001b[43m)\u001b[49m\n",
      "\u001b[36mFile \u001b[39m\u001b[32m~/.local/lib/python3.13/site-packages/torch/nn/modules/module.py:1750\u001b[39m, in \u001b[36mModule._call_impl\u001b[39m\u001b[34m(self, *args, **kwargs)\u001b[39m\n\u001b[32m   1745\u001b[39m \u001b[38;5;66;03m# If we don't have any hooks, we want to skip the rest of the logic in\u001b[39;00m\n\u001b[32m   1746\u001b[39m \u001b[38;5;66;03m# this function, and just call forward.\u001b[39;00m\n\u001b[32m   1747\u001b[39m \u001b[38;5;28;01mif\u001b[39;00m \u001b[38;5;129;01mnot\u001b[39;00m (\u001b[38;5;28mself\u001b[39m._backward_hooks \u001b[38;5;129;01mor\u001b[39;00m \u001b[38;5;28mself\u001b[39m._backward_pre_hooks \u001b[38;5;129;01mor\u001b[39;00m \u001b[38;5;28mself\u001b[39m._forward_hooks \u001b[38;5;129;01mor\u001b[39;00m \u001b[38;5;28mself\u001b[39m._forward_pre_hooks\n\u001b[32m   1748\u001b[39m         \u001b[38;5;129;01mor\u001b[39;00m _global_backward_pre_hooks \u001b[38;5;129;01mor\u001b[39;00m _global_backward_hooks\n\u001b[32m   1749\u001b[39m         \u001b[38;5;129;01mor\u001b[39;00m _global_forward_hooks \u001b[38;5;129;01mor\u001b[39;00m _global_forward_pre_hooks):\n\u001b[32m-> \u001b[39m\u001b[32m1750\u001b[39m     \u001b[38;5;28;01mreturn\u001b[39;00m \u001b[43mforward_call\u001b[49m\u001b[43m(\u001b[49m\u001b[43m*\u001b[49m\u001b[43margs\u001b[49m\u001b[43m,\u001b[49m\u001b[43m \u001b[49m\u001b[43m*\u001b[49m\u001b[43m*\u001b[49m\u001b[43mkwargs\u001b[49m\u001b[43m)\u001b[49m\n\u001b[32m   1752\u001b[39m result = \u001b[38;5;28;01mNone\u001b[39;00m\n\u001b[32m   1753\u001b[39m called_always_called_hooks = \u001b[38;5;28mset\u001b[39m()\n",
      "\u001b[36mFile \u001b[39m\u001b[32m~/.local/lib/python3.13/site-packages/transformers/models/roberta/modeling_roberta.py:1322\u001b[39m, in \u001b[36mRobertaForSequenceClassification.forward\u001b[39m\u001b[34m(self, input_ids, attention_mask, token_type_ids, position_ids, head_mask, inputs_embeds, labels, output_attentions, output_hidden_states, return_dict)\u001b[39m\n\u001b[32m   1314\u001b[39m \u001b[38;5;250m\u001b[39m\u001b[33mr\u001b[39m\u001b[33;03m\"\"\"\u001b[39;00m\n\u001b[32m   1315\u001b[39m \u001b[33;03mlabels (`torch.LongTensor` of shape `(batch_size,)`, *optional*):\u001b[39;00m\n\u001b[32m   1316\u001b[39m \u001b[33;03m    Labels for computing the sequence classification/regression loss. Indices should be in `[0, ...,\u001b[39;00m\n\u001b[32m   1317\u001b[39m \u001b[33;03m    config.num_labels - 1]`. If `config.num_labels == 1` a regression loss is computed (Mean-Square loss), If\u001b[39;00m\n\u001b[32m   1318\u001b[39m \u001b[33;03m    `config.num_labels > 1` a classification loss is computed (Cross-Entropy).\u001b[39;00m\n\u001b[32m   1319\u001b[39m \u001b[33;03m\"\"\"\u001b[39;00m\n\u001b[32m   1320\u001b[39m return_dict = return_dict \u001b[38;5;28;01mif\u001b[39;00m return_dict \u001b[38;5;129;01mis\u001b[39;00m \u001b[38;5;129;01mnot\u001b[39;00m \u001b[38;5;28;01mNone\u001b[39;00m \u001b[38;5;28;01melse\u001b[39;00m \u001b[38;5;28mself\u001b[39m.config.use_return_dict\n\u001b[32m-> \u001b[39m\u001b[32m1322\u001b[39m outputs = \u001b[38;5;28;43mself\u001b[39;49m\u001b[43m.\u001b[49m\u001b[43mroberta\u001b[49m\u001b[43m(\u001b[49m\n\u001b[32m   1323\u001b[39m \u001b[43m    \u001b[49m\u001b[43minput_ids\u001b[49m\u001b[43m,\u001b[49m\n\u001b[32m   1324\u001b[39m \u001b[43m    \u001b[49m\u001b[43mattention_mask\u001b[49m\u001b[43m=\u001b[49m\u001b[43mattention_mask\u001b[49m\u001b[43m,\u001b[49m\n\u001b[32m   1325\u001b[39m \u001b[43m    \u001b[49m\u001b[43mtoken_type_ids\u001b[49m\u001b[43m=\u001b[49m\u001b[43mtoken_type_ids\u001b[49m\u001b[43m,\u001b[49m\n\u001b[32m   1326\u001b[39m \u001b[43m    \u001b[49m\u001b[43mposition_ids\u001b[49m\u001b[43m=\u001b[49m\u001b[43mposition_ids\u001b[49m\u001b[43m,\u001b[49m\n\u001b[32m   1327\u001b[39m \u001b[43m    \u001b[49m\u001b[43mhead_mask\u001b[49m\u001b[43m=\u001b[49m\u001b[43mhead_mask\u001b[49m\u001b[43m,\u001b[49m\n\u001b[32m   1328\u001b[39m \u001b[43m    \u001b[49m\u001b[43minputs_embeds\u001b[49m\u001b[43m=\u001b[49m\u001b[43minputs_embeds\u001b[49m\u001b[43m,\u001b[49m\n\u001b[32m   1329\u001b[39m \u001b[43m    \u001b[49m\u001b[43moutput_attentions\u001b[49m\u001b[43m=\u001b[49m\u001b[43moutput_attentions\u001b[49m\u001b[43m,\u001b[49m\n\u001b[32m   1330\u001b[39m \u001b[43m    \u001b[49m\u001b[43moutput_hidden_states\u001b[49m\u001b[43m=\u001b[49m\u001b[43moutput_hidden_states\u001b[49m\u001b[43m,\u001b[49m\n\u001b[32m   1331\u001b[39m \u001b[43m    \u001b[49m\u001b[43mreturn_dict\u001b[49m\u001b[43m=\u001b[49m\u001b[43mreturn_dict\u001b[49m\u001b[43m,\u001b[49m\n\u001b[32m   1332\u001b[39m \u001b[43m\u001b[49m\u001b[43m)\u001b[49m\n\u001b[32m   1333\u001b[39m sequence_output = outputs[\u001b[32m0\u001b[39m]\n\u001b[32m   1334\u001b[39m logits = \u001b[38;5;28mself\u001b[39m.classifier(sequence_output)\n",
      "\u001b[36mFile \u001b[39m\u001b[32m~/.local/lib/python3.13/site-packages/torch/nn/modules/module.py:1739\u001b[39m, in \u001b[36mModule._wrapped_call_impl\u001b[39m\u001b[34m(self, *args, **kwargs)\u001b[39m\n\u001b[32m   1737\u001b[39m     \u001b[38;5;28;01mreturn\u001b[39;00m \u001b[38;5;28mself\u001b[39m._compiled_call_impl(*args, **kwargs)  \u001b[38;5;66;03m# type: ignore[misc]\u001b[39;00m\n\u001b[32m   1738\u001b[39m \u001b[38;5;28;01melse\u001b[39;00m:\n\u001b[32m-> \u001b[39m\u001b[32m1739\u001b[39m     \u001b[38;5;28;01mreturn\u001b[39;00m \u001b[38;5;28;43mself\u001b[39;49m\u001b[43m.\u001b[49m\u001b[43m_call_impl\u001b[49m\u001b[43m(\u001b[49m\u001b[43m*\u001b[49m\u001b[43margs\u001b[49m\u001b[43m,\u001b[49m\u001b[43m \u001b[49m\u001b[43m*\u001b[49m\u001b[43m*\u001b[49m\u001b[43mkwargs\u001b[49m\u001b[43m)\u001b[49m\n",
      "\u001b[36mFile \u001b[39m\u001b[32m~/.local/lib/python3.13/site-packages/torch/nn/modules/module.py:1750\u001b[39m, in \u001b[36mModule._call_impl\u001b[39m\u001b[34m(self, *args, **kwargs)\u001b[39m\n\u001b[32m   1745\u001b[39m \u001b[38;5;66;03m# If we don't have any hooks, we want to skip the rest of the logic in\u001b[39;00m\n\u001b[32m   1746\u001b[39m \u001b[38;5;66;03m# this function, and just call forward.\u001b[39;00m\n\u001b[32m   1747\u001b[39m \u001b[38;5;28;01mif\u001b[39;00m \u001b[38;5;129;01mnot\u001b[39;00m (\u001b[38;5;28mself\u001b[39m._backward_hooks \u001b[38;5;129;01mor\u001b[39;00m \u001b[38;5;28mself\u001b[39m._backward_pre_hooks \u001b[38;5;129;01mor\u001b[39;00m \u001b[38;5;28mself\u001b[39m._forward_hooks \u001b[38;5;129;01mor\u001b[39;00m \u001b[38;5;28mself\u001b[39m._forward_pre_hooks\n\u001b[32m   1748\u001b[39m         \u001b[38;5;129;01mor\u001b[39;00m _global_backward_pre_hooks \u001b[38;5;129;01mor\u001b[39;00m _global_backward_hooks\n\u001b[32m   1749\u001b[39m         \u001b[38;5;129;01mor\u001b[39;00m _global_forward_hooks \u001b[38;5;129;01mor\u001b[39;00m _global_forward_pre_hooks):\n\u001b[32m-> \u001b[39m\u001b[32m1750\u001b[39m     \u001b[38;5;28;01mreturn\u001b[39;00m \u001b[43mforward_call\u001b[49m\u001b[43m(\u001b[49m\u001b[43m*\u001b[49m\u001b[43margs\u001b[49m\u001b[43m,\u001b[49m\u001b[43m \u001b[49m\u001b[43m*\u001b[49m\u001b[43m*\u001b[49m\u001b[43mkwargs\u001b[49m\u001b[43m)\u001b[49m\n\u001b[32m   1752\u001b[39m result = \u001b[38;5;28;01mNone\u001b[39;00m\n\u001b[32m   1753\u001b[39m called_always_called_hooks = \u001b[38;5;28mset\u001b[39m()\n",
      "\u001b[36mFile \u001b[39m\u001b[32m~/.local/lib/python3.13/site-packages/transformers/models/roberta/modeling_roberta.py:978\u001b[39m, in \u001b[36mRobertaModel.forward\u001b[39m\u001b[34m(self, input_ids, attention_mask, token_type_ids, position_ids, head_mask, inputs_embeds, encoder_hidden_states, encoder_attention_mask, past_key_values, use_cache, output_attentions, output_hidden_states, return_dict)\u001b[39m\n\u001b[32m    971\u001b[39m \u001b[38;5;66;03m# Prepare head mask if needed\u001b[39;00m\n\u001b[32m    972\u001b[39m \u001b[38;5;66;03m# 1.0 in head_mask indicate we keep the head\u001b[39;00m\n\u001b[32m    973\u001b[39m \u001b[38;5;66;03m# attention_probs has shape bsz x n_heads x N x N\u001b[39;00m\n\u001b[32m    974\u001b[39m \u001b[38;5;66;03m# input head_mask has shape [num_heads] or [num_hidden_layers x num_heads]\u001b[39;00m\n\u001b[32m    975\u001b[39m \u001b[38;5;66;03m# and head_mask is converted to shape [num_hidden_layers x batch x num_heads x seq_length x seq_length]\u001b[39;00m\n\u001b[32m    976\u001b[39m head_mask = \u001b[38;5;28mself\u001b[39m.get_head_mask(head_mask, \u001b[38;5;28mself\u001b[39m.config.num_hidden_layers)\n\u001b[32m--> \u001b[39m\u001b[32m978\u001b[39m encoder_outputs = \u001b[38;5;28;43mself\u001b[39;49m\u001b[43m.\u001b[49m\u001b[43mencoder\u001b[49m\u001b[43m(\u001b[49m\n\u001b[32m    979\u001b[39m \u001b[43m    \u001b[49m\u001b[43membedding_output\u001b[49m\u001b[43m,\u001b[49m\n\u001b[32m    980\u001b[39m \u001b[43m    \u001b[49m\u001b[43mattention_mask\u001b[49m\u001b[43m=\u001b[49m\u001b[43mextended_attention_mask\u001b[49m\u001b[43m,\u001b[49m\n\u001b[32m    981\u001b[39m \u001b[43m    \u001b[49m\u001b[43mhead_mask\u001b[49m\u001b[43m=\u001b[49m\u001b[43mhead_mask\u001b[49m\u001b[43m,\u001b[49m\n\u001b[32m    982\u001b[39m \u001b[43m    \u001b[49m\u001b[43mencoder_hidden_states\u001b[49m\u001b[43m=\u001b[49m\u001b[43mencoder_hidden_states\u001b[49m\u001b[43m,\u001b[49m\n\u001b[32m    983\u001b[39m \u001b[43m    \u001b[49m\u001b[43mencoder_attention_mask\u001b[49m\u001b[43m=\u001b[49m\u001b[43mencoder_extended_attention_mask\u001b[49m\u001b[43m,\u001b[49m\n\u001b[32m    984\u001b[39m \u001b[43m    \u001b[49m\u001b[43mpast_key_values\u001b[49m\u001b[43m=\u001b[49m\u001b[43mpast_key_values\u001b[49m\u001b[43m,\u001b[49m\n\u001b[32m    985\u001b[39m \u001b[43m    \u001b[49m\u001b[43muse_cache\u001b[49m\u001b[43m=\u001b[49m\u001b[43muse_cache\u001b[49m\u001b[43m,\u001b[49m\n\u001b[32m    986\u001b[39m \u001b[43m    \u001b[49m\u001b[43moutput_attentions\u001b[49m\u001b[43m=\u001b[49m\u001b[43moutput_attentions\u001b[49m\u001b[43m,\u001b[49m\n\u001b[32m    987\u001b[39m \u001b[43m    \u001b[49m\u001b[43moutput_hidden_states\u001b[49m\u001b[43m=\u001b[49m\u001b[43moutput_hidden_states\u001b[49m\u001b[43m,\u001b[49m\n\u001b[32m    988\u001b[39m \u001b[43m    \u001b[49m\u001b[43mreturn_dict\u001b[49m\u001b[43m=\u001b[49m\u001b[43mreturn_dict\u001b[49m\u001b[43m,\u001b[49m\n\u001b[32m    989\u001b[39m \u001b[43m\u001b[49m\u001b[43m)\u001b[49m\n\u001b[32m    990\u001b[39m sequence_output = encoder_outputs[\u001b[32m0\u001b[39m]\n\u001b[32m    991\u001b[39m pooled_output = \u001b[38;5;28mself\u001b[39m.pooler(sequence_output) \u001b[38;5;28;01mif\u001b[39;00m \u001b[38;5;28mself\u001b[39m.pooler \u001b[38;5;129;01mis\u001b[39;00m \u001b[38;5;129;01mnot\u001b[39;00m \u001b[38;5;28;01mNone\u001b[39;00m \u001b[38;5;28;01melse\u001b[39;00m \u001b[38;5;28;01mNone\u001b[39;00m\n",
      "\u001b[36mFile \u001b[39m\u001b[32m~/.local/lib/python3.13/site-packages/torch/nn/modules/module.py:1739\u001b[39m, in \u001b[36mModule._wrapped_call_impl\u001b[39m\u001b[34m(self, *args, **kwargs)\u001b[39m\n\u001b[32m   1737\u001b[39m     \u001b[38;5;28;01mreturn\u001b[39;00m \u001b[38;5;28mself\u001b[39m._compiled_call_impl(*args, **kwargs)  \u001b[38;5;66;03m# type: ignore[misc]\u001b[39;00m\n\u001b[32m   1738\u001b[39m \u001b[38;5;28;01melse\u001b[39;00m:\n\u001b[32m-> \u001b[39m\u001b[32m1739\u001b[39m     \u001b[38;5;28;01mreturn\u001b[39;00m \u001b[38;5;28;43mself\u001b[39;49m\u001b[43m.\u001b[49m\u001b[43m_call_impl\u001b[49m\u001b[43m(\u001b[49m\u001b[43m*\u001b[49m\u001b[43margs\u001b[49m\u001b[43m,\u001b[49m\u001b[43m \u001b[49m\u001b[43m*\u001b[49m\u001b[43m*\u001b[49m\u001b[43mkwargs\u001b[49m\u001b[43m)\u001b[49m\n",
      "\u001b[36mFile \u001b[39m\u001b[32m~/.local/lib/python3.13/site-packages/torch/nn/modules/module.py:1750\u001b[39m, in \u001b[36mModule._call_impl\u001b[39m\u001b[34m(self, *args, **kwargs)\u001b[39m\n\u001b[32m   1745\u001b[39m \u001b[38;5;66;03m# If we don't have any hooks, we want to skip the rest of the logic in\u001b[39;00m\n\u001b[32m   1746\u001b[39m \u001b[38;5;66;03m# this function, and just call forward.\u001b[39;00m\n\u001b[32m   1747\u001b[39m \u001b[38;5;28;01mif\u001b[39;00m \u001b[38;5;129;01mnot\u001b[39;00m (\u001b[38;5;28mself\u001b[39m._backward_hooks \u001b[38;5;129;01mor\u001b[39;00m \u001b[38;5;28mself\u001b[39m._backward_pre_hooks \u001b[38;5;129;01mor\u001b[39;00m \u001b[38;5;28mself\u001b[39m._forward_hooks \u001b[38;5;129;01mor\u001b[39;00m \u001b[38;5;28mself\u001b[39m._forward_pre_hooks\n\u001b[32m   1748\u001b[39m         \u001b[38;5;129;01mor\u001b[39;00m _global_backward_pre_hooks \u001b[38;5;129;01mor\u001b[39;00m _global_backward_hooks\n\u001b[32m   1749\u001b[39m         \u001b[38;5;129;01mor\u001b[39;00m _global_forward_hooks \u001b[38;5;129;01mor\u001b[39;00m _global_forward_pre_hooks):\n\u001b[32m-> \u001b[39m\u001b[32m1750\u001b[39m     \u001b[38;5;28;01mreturn\u001b[39;00m \u001b[43mforward_call\u001b[49m\u001b[43m(\u001b[49m\u001b[43m*\u001b[49m\u001b[43margs\u001b[49m\u001b[43m,\u001b[49m\u001b[43m \u001b[49m\u001b[43m*\u001b[49m\u001b[43m*\u001b[49m\u001b[43mkwargs\u001b[49m\u001b[43m)\u001b[49m\n\u001b[32m   1752\u001b[39m result = \u001b[38;5;28;01mNone\u001b[39;00m\n\u001b[32m   1753\u001b[39m called_always_called_hooks = \u001b[38;5;28mset\u001b[39m()\n",
      "\u001b[36mFile \u001b[39m\u001b[32m~/.local/lib/python3.13/site-packages/transformers/models/roberta/modeling_roberta.py:631\u001b[39m, in \u001b[36mRobertaEncoder.forward\u001b[39m\u001b[34m(self, hidden_states, attention_mask, head_mask, encoder_hidden_states, encoder_attention_mask, past_key_values, use_cache, output_attentions, output_hidden_states, return_dict)\u001b[39m\n\u001b[32m    620\u001b[39m     layer_outputs = \u001b[38;5;28mself\u001b[39m._gradient_checkpointing_func(\n\u001b[32m    621\u001b[39m         layer_module.\u001b[34m__call__\u001b[39m,\n\u001b[32m    622\u001b[39m         hidden_states,\n\u001b[32m   (...)\u001b[39m\u001b[32m    628\u001b[39m         output_attentions,\n\u001b[32m    629\u001b[39m     )\n\u001b[32m    630\u001b[39m \u001b[38;5;28;01melse\u001b[39;00m:\n\u001b[32m--> \u001b[39m\u001b[32m631\u001b[39m     layer_outputs = \u001b[43mlayer_module\u001b[49m\u001b[43m(\u001b[49m\n\u001b[32m    632\u001b[39m \u001b[43m        \u001b[49m\u001b[43mhidden_states\u001b[49m\u001b[43m,\u001b[49m\n\u001b[32m    633\u001b[39m \u001b[43m        \u001b[49m\u001b[43mattention_mask\u001b[49m\u001b[43m,\u001b[49m\n\u001b[32m    634\u001b[39m \u001b[43m        \u001b[49m\u001b[43mlayer_head_mask\u001b[49m\u001b[43m,\u001b[49m\n\u001b[32m    635\u001b[39m \u001b[43m        \u001b[49m\u001b[43mencoder_hidden_states\u001b[49m\u001b[43m,\u001b[49m\n\u001b[32m    636\u001b[39m \u001b[43m        \u001b[49m\u001b[43mencoder_attention_mask\u001b[49m\u001b[43m,\u001b[49m\n\u001b[32m    637\u001b[39m \u001b[43m        \u001b[49m\u001b[43mpast_key_value\u001b[49m\u001b[43m,\u001b[49m\n\u001b[32m    638\u001b[39m \u001b[43m        \u001b[49m\u001b[43moutput_attentions\u001b[49m\u001b[43m,\u001b[49m\n\u001b[32m    639\u001b[39m \u001b[43m    \u001b[49m\u001b[43m)\u001b[49m\n\u001b[32m    641\u001b[39m hidden_states = layer_outputs[\u001b[32m0\u001b[39m]\n\u001b[32m    642\u001b[39m \u001b[38;5;28;01mif\u001b[39;00m use_cache:\n",
      "\u001b[36mFile \u001b[39m\u001b[32m~/.local/lib/python3.13/site-packages/torch/nn/modules/module.py:1739\u001b[39m, in \u001b[36mModule._wrapped_call_impl\u001b[39m\u001b[34m(self, *args, **kwargs)\u001b[39m\n\u001b[32m   1737\u001b[39m     \u001b[38;5;28;01mreturn\u001b[39;00m \u001b[38;5;28mself\u001b[39m._compiled_call_impl(*args, **kwargs)  \u001b[38;5;66;03m# type: ignore[misc]\u001b[39;00m\n\u001b[32m   1738\u001b[39m \u001b[38;5;28;01melse\u001b[39;00m:\n\u001b[32m-> \u001b[39m\u001b[32m1739\u001b[39m     \u001b[38;5;28;01mreturn\u001b[39;00m \u001b[38;5;28;43mself\u001b[39;49m\u001b[43m.\u001b[49m\u001b[43m_call_impl\u001b[49m\u001b[43m(\u001b[49m\u001b[43m*\u001b[49m\u001b[43margs\u001b[49m\u001b[43m,\u001b[49m\u001b[43m \u001b[49m\u001b[43m*\u001b[49m\u001b[43m*\u001b[49m\u001b[43mkwargs\u001b[49m\u001b[43m)\u001b[49m\n",
      "\u001b[36mFile \u001b[39m\u001b[32m~/.local/lib/python3.13/site-packages/torch/nn/modules/module.py:1750\u001b[39m, in \u001b[36mModule._call_impl\u001b[39m\u001b[34m(self, *args, **kwargs)\u001b[39m\n\u001b[32m   1745\u001b[39m \u001b[38;5;66;03m# If we don't have any hooks, we want to skip the rest of the logic in\u001b[39;00m\n\u001b[32m   1746\u001b[39m \u001b[38;5;66;03m# this function, and just call forward.\u001b[39;00m\n\u001b[32m   1747\u001b[39m \u001b[38;5;28;01mif\u001b[39;00m \u001b[38;5;129;01mnot\u001b[39;00m (\u001b[38;5;28mself\u001b[39m._backward_hooks \u001b[38;5;129;01mor\u001b[39;00m \u001b[38;5;28mself\u001b[39m._backward_pre_hooks \u001b[38;5;129;01mor\u001b[39;00m \u001b[38;5;28mself\u001b[39m._forward_hooks \u001b[38;5;129;01mor\u001b[39;00m \u001b[38;5;28mself\u001b[39m._forward_pre_hooks\n\u001b[32m   1748\u001b[39m         \u001b[38;5;129;01mor\u001b[39;00m _global_backward_pre_hooks \u001b[38;5;129;01mor\u001b[39;00m _global_backward_hooks\n\u001b[32m   1749\u001b[39m         \u001b[38;5;129;01mor\u001b[39;00m _global_forward_hooks \u001b[38;5;129;01mor\u001b[39;00m _global_forward_pre_hooks):\n\u001b[32m-> \u001b[39m\u001b[32m1750\u001b[39m     \u001b[38;5;28;01mreturn\u001b[39;00m \u001b[43mforward_call\u001b[49m\u001b[43m(\u001b[49m\u001b[43m*\u001b[49m\u001b[43margs\u001b[49m\u001b[43m,\u001b[49m\u001b[43m \u001b[49m\u001b[43m*\u001b[49m\u001b[43m*\u001b[49m\u001b[43mkwargs\u001b[49m\u001b[43m)\u001b[49m\n\u001b[32m   1752\u001b[39m result = \u001b[38;5;28;01mNone\u001b[39;00m\n\u001b[32m   1753\u001b[39m called_always_called_hooks = \u001b[38;5;28mset\u001b[39m()\n",
      "\u001b[36mFile \u001b[39m\u001b[32m~/.local/lib/python3.13/site-packages/transformers/models/roberta/modeling_roberta.py:562\u001b[39m, in \u001b[36mRobertaLayer.forward\u001b[39m\u001b[34m(self, hidden_states, attention_mask, head_mask, encoder_hidden_states, encoder_attention_mask, past_key_value, output_attentions)\u001b[39m\n\u001b[32m    559\u001b[39m     cross_attn_present_key_value = cross_attention_outputs[-\u001b[32m1\u001b[39m]\n\u001b[32m    560\u001b[39m     present_key_value = present_key_value + cross_attn_present_key_value\n\u001b[32m--> \u001b[39m\u001b[32m562\u001b[39m layer_output = \u001b[43mapply_chunking_to_forward\u001b[49m\u001b[43m(\u001b[49m\n\u001b[32m    563\u001b[39m \u001b[43m    \u001b[49m\u001b[38;5;28;43mself\u001b[39;49m\u001b[43m.\u001b[49m\u001b[43mfeed_forward_chunk\u001b[49m\u001b[43m,\u001b[49m\u001b[43m \u001b[49m\u001b[38;5;28;43mself\u001b[39;49m\u001b[43m.\u001b[49m\u001b[43mchunk_size_feed_forward\u001b[49m\u001b[43m,\u001b[49m\u001b[43m \u001b[49m\u001b[38;5;28;43mself\u001b[39;49m\u001b[43m.\u001b[49m\u001b[43mseq_len_dim\u001b[49m\u001b[43m,\u001b[49m\u001b[43m \u001b[49m\u001b[43mattention_output\u001b[49m\n\u001b[32m    564\u001b[39m \u001b[43m\u001b[49m\u001b[43m)\u001b[49m\n\u001b[32m    565\u001b[39m outputs = (layer_output,) + outputs\n\u001b[32m    567\u001b[39m \u001b[38;5;66;03m# if decoder, return the attn key/values as the last output\u001b[39;00m\n",
      "\u001b[36mFile \u001b[39m\u001b[32m~/.local/lib/python3.13/site-packages/transformers/pytorch_utils.py:253\u001b[39m, in \u001b[36mapply_chunking_to_forward\u001b[39m\u001b[34m(forward_fn, chunk_size, chunk_dim, *input_tensors)\u001b[39m\n\u001b[32m    250\u001b[39m     \u001b[38;5;66;03m# concatenate output at same dimension\u001b[39;00m\n\u001b[32m    251\u001b[39m     \u001b[38;5;28;01mreturn\u001b[39;00m torch.cat(output_chunks, dim=chunk_dim)\n\u001b[32m--> \u001b[39m\u001b[32m253\u001b[39m \u001b[38;5;28;01mreturn\u001b[39;00m \u001b[43mforward_fn\u001b[49m\u001b[43m(\u001b[49m\u001b[43m*\u001b[49m\u001b[43minput_tensors\u001b[49m\u001b[43m)\u001b[49m\n",
      "\u001b[36mFile \u001b[39m\u001b[32m~/.local/lib/python3.13/site-packages/transformers/models/roberta/modeling_roberta.py:575\u001b[39m, in \u001b[36mRobertaLayer.feed_forward_chunk\u001b[39m\u001b[34m(self, attention_output)\u001b[39m\n\u001b[32m    573\u001b[39m \u001b[38;5;28;01mdef\u001b[39;00m\u001b[38;5;250m \u001b[39m\u001b[34mfeed_forward_chunk\u001b[39m(\u001b[38;5;28mself\u001b[39m, attention_output):\n\u001b[32m    574\u001b[39m     intermediate_output = \u001b[38;5;28mself\u001b[39m.intermediate(attention_output)\n\u001b[32m--> \u001b[39m\u001b[32m575\u001b[39m     layer_output = \u001b[38;5;28;43mself\u001b[39;49m\u001b[43m.\u001b[49m\u001b[43moutput\u001b[49m\u001b[43m(\u001b[49m\u001b[43mintermediate_output\u001b[49m\u001b[43m,\u001b[49m\u001b[43m \u001b[49m\u001b[43mattention_output\u001b[49m\u001b[43m)\u001b[49m\n\u001b[32m    576\u001b[39m     \u001b[38;5;28;01mreturn\u001b[39;00m layer_output\n",
      "\u001b[36mFile \u001b[39m\u001b[32m~/.local/lib/python3.13/site-packages/torch/nn/modules/module.py:1739\u001b[39m, in \u001b[36mModule._wrapped_call_impl\u001b[39m\u001b[34m(self, *args, **kwargs)\u001b[39m\n\u001b[32m   1737\u001b[39m     \u001b[38;5;28;01mreturn\u001b[39;00m \u001b[38;5;28mself\u001b[39m._compiled_call_impl(*args, **kwargs)  \u001b[38;5;66;03m# type: ignore[misc]\u001b[39;00m\n\u001b[32m   1738\u001b[39m \u001b[38;5;28;01melse\u001b[39;00m:\n\u001b[32m-> \u001b[39m\u001b[32m1739\u001b[39m     \u001b[38;5;28;01mreturn\u001b[39;00m \u001b[38;5;28;43mself\u001b[39;49m\u001b[43m.\u001b[49m\u001b[43m_call_impl\u001b[49m\u001b[43m(\u001b[49m\u001b[43m*\u001b[49m\u001b[43margs\u001b[49m\u001b[43m,\u001b[49m\u001b[43m \u001b[49m\u001b[43m*\u001b[49m\u001b[43m*\u001b[49m\u001b[43mkwargs\u001b[49m\u001b[43m)\u001b[49m\n",
      "\u001b[36mFile \u001b[39m\u001b[32m~/.local/lib/python3.13/site-packages/torch/nn/modules/module.py:1750\u001b[39m, in \u001b[36mModule._call_impl\u001b[39m\u001b[34m(self, *args, **kwargs)\u001b[39m\n\u001b[32m   1745\u001b[39m \u001b[38;5;66;03m# If we don't have any hooks, we want to skip the rest of the logic in\u001b[39;00m\n\u001b[32m   1746\u001b[39m \u001b[38;5;66;03m# this function, and just call forward.\u001b[39;00m\n\u001b[32m   1747\u001b[39m \u001b[38;5;28;01mif\u001b[39;00m \u001b[38;5;129;01mnot\u001b[39;00m (\u001b[38;5;28mself\u001b[39m._backward_hooks \u001b[38;5;129;01mor\u001b[39;00m \u001b[38;5;28mself\u001b[39m._backward_pre_hooks \u001b[38;5;129;01mor\u001b[39;00m \u001b[38;5;28mself\u001b[39m._forward_hooks \u001b[38;5;129;01mor\u001b[39;00m \u001b[38;5;28mself\u001b[39m._forward_pre_hooks\n\u001b[32m   1748\u001b[39m         \u001b[38;5;129;01mor\u001b[39;00m _global_backward_pre_hooks \u001b[38;5;129;01mor\u001b[39;00m _global_backward_hooks\n\u001b[32m   1749\u001b[39m         \u001b[38;5;129;01mor\u001b[39;00m _global_forward_hooks \u001b[38;5;129;01mor\u001b[39;00m _global_forward_pre_hooks):\n\u001b[32m-> \u001b[39m\u001b[32m1750\u001b[39m     \u001b[38;5;28;01mreturn\u001b[39;00m \u001b[43mforward_call\u001b[49m\u001b[43m(\u001b[49m\u001b[43m*\u001b[49m\u001b[43margs\u001b[49m\u001b[43m,\u001b[49m\u001b[43m \u001b[49m\u001b[43m*\u001b[49m\u001b[43m*\u001b[49m\u001b[43mkwargs\u001b[49m\u001b[43m)\u001b[49m\n\u001b[32m   1752\u001b[39m result = \u001b[38;5;28;01mNone\u001b[39;00m\n\u001b[32m   1753\u001b[39m called_always_called_hooks = \u001b[38;5;28mset\u001b[39m()\n",
      "\u001b[36mFile \u001b[39m\u001b[32m~/.local/lib/python3.13/site-packages/transformers/models/roberta/modeling_roberta.py:486\u001b[39m, in \u001b[36mRobertaOutput.forward\u001b[39m\u001b[34m(self, hidden_states, input_tensor)\u001b[39m\n\u001b[32m    485\u001b[39m \u001b[38;5;28;01mdef\u001b[39;00m\u001b[38;5;250m \u001b[39m\u001b[34mforward\u001b[39m(\u001b[38;5;28mself\u001b[39m, hidden_states: torch.Tensor, input_tensor: torch.Tensor) -> torch.Tensor:\n\u001b[32m--> \u001b[39m\u001b[32m486\u001b[39m     hidden_states = \u001b[38;5;28;43mself\u001b[39;49m\u001b[43m.\u001b[49m\u001b[43mdense\u001b[49m\u001b[43m(\u001b[49m\u001b[43mhidden_states\u001b[49m\u001b[43m)\u001b[49m\n\u001b[32m    487\u001b[39m     hidden_states = \u001b[38;5;28mself\u001b[39m.dropout(hidden_states)\n\u001b[32m    488\u001b[39m     hidden_states = \u001b[38;5;28mself\u001b[39m.LayerNorm(hidden_states + input_tensor)\n",
      "\u001b[36mFile \u001b[39m\u001b[32m~/.local/lib/python3.13/site-packages/torch/nn/modules/module.py:1739\u001b[39m, in \u001b[36mModule._wrapped_call_impl\u001b[39m\u001b[34m(self, *args, **kwargs)\u001b[39m\n\u001b[32m   1737\u001b[39m     \u001b[38;5;28;01mreturn\u001b[39;00m \u001b[38;5;28mself\u001b[39m._compiled_call_impl(*args, **kwargs)  \u001b[38;5;66;03m# type: ignore[misc]\u001b[39;00m\n\u001b[32m   1738\u001b[39m \u001b[38;5;28;01melse\u001b[39;00m:\n\u001b[32m-> \u001b[39m\u001b[32m1739\u001b[39m     \u001b[38;5;28;01mreturn\u001b[39;00m \u001b[38;5;28;43mself\u001b[39;49m\u001b[43m.\u001b[49m\u001b[43m_call_impl\u001b[49m\u001b[43m(\u001b[49m\u001b[43m*\u001b[49m\u001b[43margs\u001b[49m\u001b[43m,\u001b[49m\u001b[43m \u001b[49m\u001b[43m*\u001b[49m\u001b[43m*\u001b[49m\u001b[43mkwargs\u001b[49m\u001b[43m)\u001b[49m\n",
      "\u001b[36mFile \u001b[39m\u001b[32m~/.local/lib/python3.13/site-packages/torch/nn/modules/module.py:1750\u001b[39m, in \u001b[36mModule._call_impl\u001b[39m\u001b[34m(self, *args, **kwargs)\u001b[39m\n\u001b[32m   1745\u001b[39m \u001b[38;5;66;03m# If we don't have any hooks, we want to skip the rest of the logic in\u001b[39;00m\n\u001b[32m   1746\u001b[39m \u001b[38;5;66;03m# this function, and just call forward.\u001b[39;00m\n\u001b[32m   1747\u001b[39m \u001b[38;5;28;01mif\u001b[39;00m \u001b[38;5;129;01mnot\u001b[39;00m (\u001b[38;5;28mself\u001b[39m._backward_hooks \u001b[38;5;129;01mor\u001b[39;00m \u001b[38;5;28mself\u001b[39m._backward_pre_hooks \u001b[38;5;129;01mor\u001b[39;00m \u001b[38;5;28mself\u001b[39m._forward_hooks \u001b[38;5;129;01mor\u001b[39;00m \u001b[38;5;28mself\u001b[39m._forward_pre_hooks\n\u001b[32m   1748\u001b[39m         \u001b[38;5;129;01mor\u001b[39;00m _global_backward_pre_hooks \u001b[38;5;129;01mor\u001b[39;00m _global_backward_hooks\n\u001b[32m   1749\u001b[39m         \u001b[38;5;129;01mor\u001b[39;00m _global_forward_hooks \u001b[38;5;129;01mor\u001b[39;00m _global_forward_pre_hooks):\n\u001b[32m-> \u001b[39m\u001b[32m1750\u001b[39m     \u001b[38;5;28;01mreturn\u001b[39;00m \u001b[43mforward_call\u001b[49m\u001b[43m(\u001b[49m\u001b[43m*\u001b[49m\u001b[43margs\u001b[49m\u001b[43m,\u001b[49m\u001b[43m \u001b[49m\u001b[43m*\u001b[49m\u001b[43m*\u001b[49m\u001b[43mkwargs\u001b[49m\u001b[43m)\u001b[49m\n\u001b[32m   1752\u001b[39m result = \u001b[38;5;28;01mNone\u001b[39;00m\n\u001b[32m   1753\u001b[39m called_always_called_hooks = \u001b[38;5;28mset\u001b[39m()\n",
      "\u001b[36mFile \u001b[39m\u001b[32m~/.local/lib/python3.13/site-packages/torch/nn/modules/linear.py:125\u001b[39m, in \u001b[36mLinear.forward\u001b[39m\u001b[34m(self, input)\u001b[39m\n\u001b[32m    124\u001b[39m \u001b[38;5;28;01mdef\u001b[39;00m\u001b[38;5;250m \u001b[39m\u001b[34mforward\u001b[39m(\u001b[38;5;28mself\u001b[39m, \u001b[38;5;28minput\u001b[39m: Tensor) -> Tensor:\n\u001b[32m--> \u001b[39m\u001b[32m125\u001b[39m     \u001b[38;5;28;01mreturn\u001b[39;00m \u001b[43mF\u001b[49m\u001b[43m.\u001b[49m\u001b[43mlinear\u001b[49m\u001b[43m(\u001b[49m\u001b[38;5;28;43minput\u001b[39;49m\u001b[43m,\u001b[49m\u001b[43m \u001b[49m\u001b[38;5;28;43mself\u001b[39;49m\u001b[43m.\u001b[49m\u001b[43mweight\u001b[49m\u001b[43m,\u001b[49m\u001b[43m \u001b[49m\u001b[38;5;28;43mself\u001b[39;49m\u001b[43m.\u001b[49m\u001b[43mbias\u001b[49m\u001b[43m)\u001b[49m\n",
      "\u001b[31mKeyboardInterrupt\u001b[39m: "
     ]
    }
   ],
   "source": [
    "roberta_trainers = dict()\n",
    "\n",
    "for category in ['product_category', 'hazard_category']:\n",
    "    train_dataset = roberta_tokenized[\"train\"].rename_column(category, \"label\")\n",
    "    eval_dataset = roberta_tokenized[\"valid\"].rename_column(category, \"label\")\n",
    "\n",
    "    roberta_model = RobertaForSequenceClassification.from_pretrained(\"roberta-base\", num_labels=trainset[category].nunique()).to(device)\n",
    "\n",
    "    trainer = Trainer(\n",
    "        model=roberta_model,\n",
    "        args=roberta_training_args,\n",
    "        train_dataset=train_dataset,\n",
    "        eval_dataset=eval_dataset,\n",
    "        processing_class=roberta_tokenizer,\n",
    "        data_collator=roberta_data_collator,\n",
    "    )\n",
    "\n",
    "    trainer.train()\n",
    "\n",
    "    roberta_trainers[category] = trainer"
   ]
  },
  {
   "cell_type": "code",
   "execution_count": null,
   "id": "AL1i9bqU1cFb",
   "metadata": {
    "id": "AL1i9bqU1cFb"
   },
   "outputs": [],
   "source": [
    "devset_roberta = {}\n",
    "\n",
    "for category in roberta_trainers.keys():\n",
    "    devset_roberta[category] = roberta_trainers[category].predict(roberta_tokenized[category])"
   ]
  },
  {
   "cell_type": "code",
   "execution_count": null,
   "id": "GzyMdLL21d0g",
   "metadata": {
    "id": "GzyMdLL21d0g"
   },
   "outputs": [],
   "source": [
    "predictions_hazard_cat = roberta_trainers['hazard-category'].predict(roberta_tokenized['valid'])\n",
    "predictions_product_cat = roberta_trainers['product-category'].predict(roberta_tokenized['valid'])\n",
    "\n",
    "devset_roberta[\"predictions-hazard-category\"] = predictions_hazard_cat.predictions.argmax(axis=-1)\n",
    "devset_roberta[\"predictions-product-category\"] = predictions_product_cat.predictions.argmax(axis=-1)\n",
    "\n",
    "print(f\"Score Sub-Task 1: {compute_score(devset_roberta['hazard-category'], devset_roberta['product-category'], devset_roberta['predictions-hazard-category'], devset_roberta['predictions-product-category']):.3f}\")\n",
    "\n",
    "predictions_hazard = roberta_trainers['hazard'].predict(roberta_tokenized['valid'])\n",
    "predictions_product = roberta_trainers['product'].predict(roberta_tokenized['valid'])\n",
    "\n",
    "devset_roberta[\"predictions-hazard\"] = predictions_hazard.predictions.argmax(axis=-1)\n",
    "devset_roberta[\"predictions-product\"] = predictions_product.predictions.argmax(axis=-1)\n",
    "\n",
    "print(f\"Score Sub-Task 2: {compute_score(devset_roberta['hazard'], devset_roberta['product'], devset_roberta['predictions-hazard'], devset_roberta['predictions-product']):.3f}\")"
   ]
  },
  {
   "cell_type": "code",
   "execution_count": null,
   "id": "1B1-2s0cHc83",
   "metadata": {
    "id": "1B1-2s0cHc83"
   },
   "outputs": [],
   "source": []
  }
 ],
 "metadata": {
  "accelerator": "GPU",
  "colab": {
   "gpuType": "T4",
   "provenance": []
  },
  "kernelspec": {
   "display_name": "Python 3 (ipykernel)",
   "language": "python",
   "name": "python3"
  },
  "language_info": {
   "codemirror_mode": {
    "name": "ipython",
    "version": 3
   },
   "file_extension": ".py",
   "mimetype": "text/x-python",
   "name": "python",
   "nbconvert_exporter": "python",
   "pygments_lexer": "ipython3",
   "version": "3.13.2"
  },
  "widgets": {
   "application/vnd.jupyter.widget-state+json": {
    "0026e05b3e114ef588c1299c63a7b2a6": {
     "model_module": "@jupyter-widgets/controls",
     "model_module_version": "1.5.0",
     "model_name": "HTMLModel",
     "state": {
      "_dom_classes": [],
      "_model_module": "@jupyter-widgets/controls",
      "_model_module_version": "1.5.0",
      "_model_name": "HTMLModel",
      "_view_count": null,
      "_view_module": "@jupyter-widgets/controls",
      "_view_module_version": "1.5.0",
      "_view_name": "HTMLView",
      "description": "",
      "description_tooltip": null,
      "layout": "IPY_MODEL_68ed4f4b4fab445883b5f62d35263ffa",
      "placeholder": "​",
      "style": "IPY_MODEL_5ce1ba98fd894626bf28f6a489288ce8",
      "value": " 565/565 [00:03&lt;00:00, 187.65 examples/s]"
     }
    },
    "0142a8309589479dbc63097b38916051": {
     "model_module": "@jupyter-widgets/base",
     "model_module_version": "1.2.0",
     "model_name": "LayoutModel",
     "state": {
      "_model_module": "@jupyter-widgets/base",
      "_model_module_version": "1.2.0",
      "_model_name": "LayoutModel",
      "_view_count": null,
      "_view_module": "@jupyter-widgets/base",
      "_view_module_version": "1.2.0",
      "_view_name": "LayoutView",
      "align_content": null,
      "align_items": null,
      "align_self": null,
      "border": null,
      "bottom": null,
      "display": null,
      "flex": null,
      "flex_flow": null,
      "grid_area": null,
      "grid_auto_columns": null,
      "grid_auto_flow": null,
      "grid_auto_rows": null,
      "grid_column": null,
      "grid_gap": null,
      "grid_row": null,
      "grid_template_areas": null,
      "grid_template_columns": null,
      "grid_template_rows": null,
      "height": null,
      "justify_content": null,
      "justify_items": null,
      "left": null,
      "margin": null,
      "max_height": null,
      "max_width": null,
      "min_height": null,
      "min_width": null,
      "object_fit": null,
      "object_position": null,
      "order": null,
      "overflow": null,
      "overflow_x": null,
      "overflow_y": null,
      "padding": null,
      "right": null,
      "top": null,
      "visibility": null,
      "width": null
     }
    },
    "01892d5395694469a1056568c1d98ef9": {
     "model_module": "@jupyter-widgets/base",
     "model_module_version": "1.2.0",
     "model_name": "LayoutModel",
     "state": {
      "_model_module": "@jupyter-widgets/base",
      "_model_module_version": "1.2.0",
      "_model_name": "LayoutModel",
      "_view_count": null,
      "_view_module": "@jupyter-widgets/base",
      "_view_module_version": "1.2.0",
      "_view_name": "LayoutView",
      "align_content": null,
      "align_items": null,
      "align_self": null,
      "border": null,
      "bottom": null,
      "display": null,
      "flex": null,
      "flex_flow": null,
      "grid_area": null,
      "grid_auto_columns": null,
      "grid_auto_flow": null,
      "grid_auto_rows": null,
      "grid_column": null,
      "grid_gap": null,
      "grid_row": null,
      "grid_template_areas": null,
      "grid_template_columns": null,
      "grid_template_rows": null,
      "height": null,
      "justify_content": null,
      "justify_items": null,
      "left": null,
      "margin": null,
      "max_height": null,
      "max_width": null,
      "min_height": null,
      "min_width": null,
      "object_fit": null,
      "object_position": null,
      "order": null,
      "overflow": null,
      "overflow_x": null,
      "overflow_y": null,
      "padding": null,
      "right": null,
      "top": null,
      "visibility": null,
      "width": null
     }
    },
    "01f44eb2ad3b4b2c91bf5523fef72d5b": {
     "model_module": "@jupyter-widgets/controls",
     "model_module_version": "1.5.0",
     "model_name": "HTMLModel",
     "state": {
      "_dom_classes": [],
      "_model_module": "@jupyter-widgets/controls",
      "_model_module_version": "1.5.0",
      "_model_name": "HTMLModel",
      "_view_count": null,
      "_view_module": "@jupyter-widgets/controls",
      "_view_module_version": "1.5.0",
      "_view_name": "HTMLView",
      "description": "",
      "description_tooltip": null,
      "layout": "IPY_MODEL_8604e04545eb465389450422e5364919",
      "placeholder": "​",
      "style": "IPY_MODEL_f872be8231d24f4d9052c973b57f2bfa",
      "value": " 5082/5082 [00:08&lt;00:00, 571.17 examples/s]"
     }
    },
    "054c87bc57ea430aad0d9aad2fcd00a5": {
     "model_module": "@jupyter-widgets/controls",
     "model_module_version": "1.5.0",
     "model_name": "FloatProgressModel",
     "state": {
      "_dom_classes": [],
      "_model_module": "@jupyter-widgets/controls",
      "_model_module_version": "1.5.0",
      "_model_name": "FloatProgressModel",
      "_view_count": null,
      "_view_module": "@jupyter-widgets/controls",
      "_view_module_version": "1.5.0",
      "_view_name": "ProgressView",
      "bar_style": "success",
      "description": "",
      "description_tooltip": null,
      "layout": "IPY_MODEL_0142a8309589479dbc63097b38916051",
      "max": 5082,
      "min": 0,
      "orientation": "horizontal",
      "style": "IPY_MODEL_b8ce60717bdd4f1e87cae61e2046dd8d",
      "value": 5082
     }
    },
    "05d41e12ba494e7cb1176cb5c9addb92": {
     "model_module": "@jupyter-widgets/controls",
     "model_module_version": "1.5.0",
     "model_name": "ProgressStyleModel",
     "state": {
      "_model_module": "@jupyter-widgets/controls",
      "_model_module_version": "1.5.0",
      "_model_name": "ProgressStyleModel",
      "_view_count": null,
      "_view_module": "@jupyter-widgets/base",
      "_view_module_version": "1.2.0",
      "_view_name": "StyleView",
      "bar_color": null,
      "description_width": ""
     }
    },
    "06e7c045ebba42d69b4456fba8801d2e": {
     "model_module": "@jupyter-widgets/base",
     "model_module_version": "1.2.0",
     "model_name": "LayoutModel",
     "state": {
      "_model_module": "@jupyter-widgets/base",
      "_model_module_version": "1.2.0",
      "_model_name": "LayoutModel",
      "_view_count": null,
      "_view_module": "@jupyter-widgets/base",
      "_view_module_version": "1.2.0",
      "_view_name": "LayoutView",
      "align_content": null,
      "align_items": null,
      "align_self": null,
      "border": null,
      "bottom": null,
      "display": null,
      "flex": null,
      "flex_flow": null,
      "grid_area": null,
      "grid_auto_columns": null,
      "grid_auto_flow": null,
      "grid_auto_rows": null,
      "grid_column": null,
      "grid_gap": null,
      "grid_row": null,
      "grid_template_areas": null,
      "grid_template_columns": null,
      "grid_template_rows": null,
      "height": null,
      "justify_content": null,
      "justify_items": null,
      "left": null,
      "margin": null,
      "max_height": null,
      "max_width": null,
      "min_height": null,
      "min_width": null,
      "object_fit": null,
      "object_position": null,
      "order": null,
      "overflow": null,
      "overflow_x": null,
      "overflow_y": null,
      "padding": null,
      "right": null,
      "top": null,
      "visibility": null,
      "width": null
     }
    },
    "097108ad01864409acf022d6875a3991": {
     "model_module": "@jupyter-widgets/base",
     "model_module_version": "1.2.0",
     "model_name": "LayoutModel",
     "state": {
      "_model_module": "@jupyter-widgets/base",
      "_model_module_version": "1.2.0",
      "_model_name": "LayoutModel",
      "_view_count": null,
      "_view_module": "@jupyter-widgets/base",
      "_view_module_version": "1.2.0",
      "_view_name": "LayoutView",
      "align_content": null,
      "align_items": null,
      "align_self": null,
      "border": null,
      "bottom": null,
      "display": null,
      "flex": null,
      "flex_flow": null,
      "grid_area": null,
      "grid_auto_columns": null,
      "grid_auto_flow": null,
      "grid_auto_rows": null,
      "grid_column": null,
      "grid_gap": null,
      "grid_row": null,
      "grid_template_areas": null,
      "grid_template_columns": null,
      "grid_template_rows": null,
      "height": null,
      "justify_content": null,
      "justify_items": null,
      "left": null,
      "margin": null,
      "max_height": null,
      "max_width": null,
      "min_height": null,
      "min_width": null,
      "object_fit": null,
      "object_position": null,
      "order": null,
      "overflow": null,
      "overflow_x": null,
      "overflow_y": null,
      "padding": null,
      "right": null,
      "top": null,
      "visibility": null,
      "width": null
     }
    },
    "25749b29a3804aba99c08cd7d7493b80": {
     "model_module": "@jupyter-widgets/controls",
     "model_module_version": "1.5.0",
     "model_name": "ProgressStyleModel",
     "state": {
      "_model_module": "@jupyter-widgets/controls",
      "_model_module_version": "1.5.0",
      "_model_name": "ProgressStyleModel",
      "_view_count": null,
      "_view_module": "@jupyter-widgets/base",
      "_view_module_version": "1.2.0",
      "_view_name": "StyleView",
      "bar_color": null,
      "description_width": ""
     }
    },
    "34eb7d6f7fad48049aae4bb7a509b787": {
     "model_module": "@jupyter-widgets/base",
     "model_module_version": "1.2.0",
     "model_name": "LayoutModel",
     "state": {
      "_model_module": "@jupyter-widgets/base",
      "_model_module_version": "1.2.0",
      "_model_name": "LayoutModel",
      "_view_count": null,
      "_view_module": "@jupyter-widgets/base",
      "_view_module_version": "1.2.0",
      "_view_name": "LayoutView",
      "align_content": null,
      "align_items": null,
      "align_self": null,
      "border": null,
      "bottom": null,
      "display": null,
      "flex": null,
      "flex_flow": null,
      "grid_area": null,
      "grid_auto_columns": null,
      "grid_auto_flow": null,
      "grid_auto_rows": null,
      "grid_column": null,
      "grid_gap": null,
      "grid_row": null,
      "grid_template_areas": null,
      "grid_template_columns": null,
      "grid_template_rows": null,
      "height": null,
      "justify_content": null,
      "justify_items": null,
      "left": null,
      "margin": null,
      "max_height": null,
      "max_width": null,
      "min_height": null,
      "min_width": null,
      "object_fit": null,
      "object_position": null,
      "order": null,
      "overflow": null,
      "overflow_x": null,
      "overflow_y": null,
      "padding": null,
      "right": null,
      "top": null,
      "visibility": null,
      "width": null
     }
    },
    "352f4b220d5d4cf59b8e989a29bce6a7": {
     "model_module": "@jupyter-widgets/controls",
     "model_module_version": "1.5.0",
     "model_name": "DescriptionStyleModel",
     "state": {
      "_model_module": "@jupyter-widgets/controls",
      "_model_module_version": "1.5.0",
      "_model_name": "DescriptionStyleModel",
      "_view_count": null,
      "_view_module": "@jupyter-widgets/base",
      "_view_module_version": "1.2.0",
      "_view_name": "StyleView",
      "description_width": ""
     }
    },
    "35823b4e727c4ffa9447c78a89d1fa41": {
     "model_module": "@jupyter-widgets/controls",
     "model_module_version": "1.5.0",
     "model_name": "FloatProgressModel",
     "state": {
      "_dom_classes": [],
      "_model_module": "@jupyter-widgets/controls",
      "_model_module_version": "1.5.0",
      "_model_name": "FloatProgressModel",
      "_view_count": null,
      "_view_module": "@jupyter-widgets/controls",
      "_view_module_version": "1.5.0",
      "_view_name": "ProgressView",
      "bar_style": "success",
      "description": "",
      "description_tooltip": null,
      "layout": "IPY_MODEL_7a10c398921a4cab8e9891b905d8614f",
      "max": 5082,
      "min": 0,
      "orientation": "horizontal",
      "style": "IPY_MODEL_25749b29a3804aba99c08cd7d7493b80",
      "value": 5082
     }
    },
    "3c8be7634ab7464d830b9644744c93cc": {
     "model_module": "@jupyter-widgets/base",
     "model_module_version": "1.2.0",
     "model_name": "LayoutModel",
     "state": {
      "_model_module": "@jupyter-widgets/base",
      "_model_module_version": "1.2.0",
      "_model_name": "LayoutModel",
      "_view_count": null,
      "_view_module": "@jupyter-widgets/base",
      "_view_module_version": "1.2.0",
      "_view_name": "LayoutView",
      "align_content": null,
      "align_items": null,
      "align_self": null,
      "border": null,
      "bottom": null,
      "display": null,
      "flex": null,
      "flex_flow": null,
      "grid_area": null,
      "grid_auto_columns": null,
      "grid_auto_flow": null,
      "grid_auto_rows": null,
      "grid_column": null,
      "grid_gap": null,
      "grid_row": null,
      "grid_template_areas": null,
      "grid_template_columns": null,
      "grid_template_rows": null,
      "height": null,
      "justify_content": null,
      "justify_items": null,
      "left": null,
      "margin": null,
      "max_height": null,
      "max_width": null,
      "min_height": null,
      "min_width": null,
      "object_fit": null,
      "object_position": null,
      "order": null,
      "overflow": null,
      "overflow_x": null,
      "overflow_y": null,
      "padding": null,
      "right": null,
      "top": null,
      "visibility": null,
      "width": null
     }
    },
    "43e094672da2465abb9cda7df16ebe5d": {
     "model_module": "@jupyter-widgets/base",
     "model_module_version": "1.2.0",
     "model_name": "LayoutModel",
     "state": {
      "_model_module": "@jupyter-widgets/base",
      "_model_module_version": "1.2.0",
      "_model_name": "LayoutModel",
      "_view_count": null,
      "_view_module": "@jupyter-widgets/base",
      "_view_module_version": "1.2.0",
      "_view_name": "LayoutView",
      "align_content": null,
      "align_items": null,
      "align_self": null,
      "border": null,
      "bottom": null,
      "display": null,
      "flex": null,
      "flex_flow": null,
      "grid_area": null,
      "grid_auto_columns": null,
      "grid_auto_flow": null,
      "grid_auto_rows": null,
      "grid_column": null,
      "grid_gap": null,
      "grid_row": null,
      "grid_template_areas": null,
      "grid_template_columns": null,
      "grid_template_rows": null,
      "height": null,
      "justify_content": null,
      "justify_items": null,
      "left": null,
      "margin": null,
      "max_height": null,
      "max_width": null,
      "min_height": null,
      "min_width": null,
      "object_fit": null,
      "object_position": null,
      "order": null,
      "overflow": null,
      "overflow_x": null,
      "overflow_y": null,
      "padding": null,
      "right": null,
      "top": null,
      "visibility": null,
      "width": null
     }
    },
    "44c143c32f994eaaa56501cf64cf617a": {
     "model_module": "@jupyter-widgets/base",
     "model_module_version": "1.2.0",
     "model_name": "LayoutModel",
     "state": {
      "_model_module": "@jupyter-widgets/base",
      "_model_module_version": "1.2.0",
      "_model_name": "LayoutModel",
      "_view_count": null,
      "_view_module": "@jupyter-widgets/base",
      "_view_module_version": "1.2.0",
      "_view_name": "LayoutView",
      "align_content": null,
      "align_items": null,
      "align_self": null,
      "border": null,
      "bottom": null,
      "display": null,
      "flex": null,
      "flex_flow": null,
      "grid_area": null,
      "grid_auto_columns": null,
      "grid_auto_flow": null,
      "grid_auto_rows": null,
      "grid_column": null,
      "grid_gap": null,
      "grid_row": null,
      "grid_template_areas": null,
      "grid_template_columns": null,
      "grid_template_rows": null,
      "height": null,
      "justify_content": null,
      "justify_items": null,
      "left": null,
      "margin": null,
      "max_height": null,
      "max_width": null,
      "min_height": null,
      "min_width": null,
      "object_fit": null,
      "object_position": null,
      "order": null,
      "overflow": null,
      "overflow_x": null,
      "overflow_y": null,
      "padding": null,
      "right": null,
      "top": null,
      "visibility": null,
      "width": null
     }
    },
    "46f003e8bc2b4410a793081eaaea9541": {
     "model_module": "@jupyter-widgets/base",
     "model_module_version": "1.2.0",
     "model_name": "LayoutModel",
     "state": {
      "_model_module": "@jupyter-widgets/base",
      "_model_module_version": "1.2.0",
      "_model_name": "LayoutModel",
      "_view_count": null,
      "_view_module": "@jupyter-widgets/base",
      "_view_module_version": "1.2.0",
      "_view_name": "LayoutView",
      "align_content": null,
      "align_items": null,
      "align_self": null,
      "border": null,
      "bottom": null,
      "display": null,
      "flex": null,
      "flex_flow": null,
      "grid_area": null,
      "grid_auto_columns": null,
      "grid_auto_flow": null,
      "grid_auto_rows": null,
      "grid_column": null,
      "grid_gap": null,
      "grid_row": null,
      "grid_template_areas": null,
      "grid_template_columns": null,
      "grid_template_rows": null,
      "height": null,
      "justify_content": null,
      "justify_items": null,
      "left": null,
      "margin": null,
      "max_height": null,
      "max_width": null,
      "min_height": null,
      "min_width": null,
      "object_fit": null,
      "object_position": null,
      "order": null,
      "overflow": null,
      "overflow_x": null,
      "overflow_y": null,
      "padding": null,
      "right": null,
      "top": null,
      "visibility": null,
      "width": null
     }
    },
    "56d5af5cc924403f988b56b54f770f04": {
     "model_module": "@jupyter-widgets/controls",
     "model_module_version": "1.5.0",
     "model_name": "DescriptionStyleModel",
     "state": {
      "_model_module": "@jupyter-widgets/controls",
      "_model_module_version": "1.5.0",
      "_model_name": "DescriptionStyleModel",
      "_view_count": null,
      "_view_module": "@jupyter-widgets/base",
      "_view_module_version": "1.2.0",
      "_view_name": "StyleView",
      "description_width": ""
     }
    },
    "5a6a8695b3ed4e988173b8f077ba3e6f": {
     "model_module": "@jupyter-widgets/base",
     "model_module_version": "1.2.0",
     "model_name": "LayoutModel",
     "state": {
      "_model_module": "@jupyter-widgets/base",
      "_model_module_version": "1.2.0",
      "_model_name": "LayoutModel",
      "_view_count": null,
      "_view_module": "@jupyter-widgets/base",
      "_view_module_version": "1.2.0",
      "_view_name": "LayoutView",
      "align_content": null,
      "align_items": null,
      "align_self": null,
      "border": null,
      "bottom": null,
      "display": null,
      "flex": null,
      "flex_flow": null,
      "grid_area": null,
      "grid_auto_columns": null,
      "grid_auto_flow": null,
      "grid_auto_rows": null,
      "grid_column": null,
      "grid_gap": null,
      "grid_row": null,
      "grid_template_areas": null,
      "grid_template_columns": null,
      "grid_template_rows": null,
      "height": null,
      "justify_content": null,
      "justify_items": null,
      "left": null,
      "margin": null,
      "max_height": null,
      "max_width": null,
      "min_height": null,
      "min_width": null,
      "object_fit": null,
      "object_position": null,
      "order": null,
      "overflow": null,
      "overflow_x": null,
      "overflow_y": null,
      "padding": null,
      "right": null,
      "top": null,
      "visibility": null,
      "width": null
     }
    },
    "5ce1ba98fd894626bf28f6a489288ce8": {
     "model_module": "@jupyter-widgets/controls",
     "model_module_version": "1.5.0",
     "model_name": "DescriptionStyleModel",
     "state": {
      "_model_module": "@jupyter-widgets/controls",
      "_model_module_version": "1.5.0",
      "_model_name": "DescriptionStyleModel",
      "_view_count": null,
      "_view_module": "@jupyter-widgets/base",
      "_view_module_version": "1.2.0",
      "_view_name": "StyleView",
      "description_width": ""
     }
    },
    "5f79133e6389488eabc6451ef745d867": {
     "model_module": "@jupyter-widgets/base",
     "model_module_version": "1.2.0",
     "model_name": "LayoutModel",
     "state": {
      "_model_module": "@jupyter-widgets/base",
      "_model_module_version": "1.2.0",
      "_model_name": "LayoutModel",
      "_view_count": null,
      "_view_module": "@jupyter-widgets/base",
      "_view_module_version": "1.2.0",
      "_view_name": "LayoutView",
      "align_content": null,
      "align_items": null,
      "align_self": null,
      "border": null,
      "bottom": null,
      "display": null,
      "flex": null,
      "flex_flow": null,
      "grid_area": null,
      "grid_auto_columns": null,
      "grid_auto_flow": null,
      "grid_auto_rows": null,
      "grid_column": null,
      "grid_gap": null,
      "grid_row": null,
      "grid_template_areas": null,
      "grid_template_columns": null,
      "grid_template_rows": null,
      "height": null,
      "justify_content": null,
      "justify_items": null,
      "left": null,
      "margin": null,
      "max_height": null,
      "max_width": null,
      "min_height": null,
      "min_width": null,
      "object_fit": null,
      "object_position": null,
      "order": null,
      "overflow": null,
      "overflow_x": null,
      "overflow_y": null,
      "padding": null,
      "right": null,
      "top": null,
      "visibility": null,
      "width": null
     }
    },
    "62ade5f717654c6a83041916b94e2206": {
     "model_module": "@jupyter-widgets/controls",
     "model_module_version": "1.5.0",
     "model_name": "DescriptionStyleModel",
     "state": {
      "_model_module": "@jupyter-widgets/controls",
      "_model_module_version": "1.5.0",
      "_model_name": "DescriptionStyleModel",
      "_view_count": null,
      "_view_module": "@jupyter-widgets/base",
      "_view_module_version": "1.2.0",
      "_view_name": "StyleView",
      "description_width": ""
     }
    },
    "6473fad104cb421d8b300c3b75cbde55": {
     "model_module": "@jupyter-widgets/base",
     "model_module_version": "1.2.0",
     "model_name": "LayoutModel",
     "state": {
      "_model_module": "@jupyter-widgets/base",
      "_model_module_version": "1.2.0",
      "_model_name": "LayoutModel",
      "_view_count": null,
      "_view_module": "@jupyter-widgets/base",
      "_view_module_version": "1.2.0",
      "_view_name": "LayoutView",
      "align_content": null,
      "align_items": null,
      "align_self": null,
      "border": null,
      "bottom": null,
      "display": null,
      "flex": null,
      "flex_flow": null,
      "grid_area": null,
      "grid_auto_columns": null,
      "grid_auto_flow": null,
      "grid_auto_rows": null,
      "grid_column": null,
      "grid_gap": null,
      "grid_row": null,
      "grid_template_areas": null,
      "grid_template_columns": null,
      "grid_template_rows": null,
      "height": null,
      "justify_content": null,
      "justify_items": null,
      "left": null,
      "margin": null,
      "max_height": null,
      "max_width": null,
      "min_height": null,
      "min_width": null,
      "object_fit": null,
      "object_position": null,
      "order": null,
      "overflow": null,
      "overflow_x": null,
      "overflow_y": null,
      "padding": null,
      "right": null,
      "top": null,
      "visibility": null,
      "width": null
     }
    },
    "6618a8a0b6c4430a92e1d3f804e62159": {
     "model_module": "@jupyter-widgets/controls",
     "model_module_version": "1.5.0",
     "model_name": "FloatProgressModel",
     "state": {
      "_dom_classes": [],
      "_model_module": "@jupyter-widgets/controls",
      "_model_module_version": "1.5.0",
      "_model_name": "FloatProgressModel",
      "_view_count": null,
      "_view_module": "@jupyter-widgets/controls",
      "_view_module_version": "1.5.0",
      "_view_name": "ProgressView",
      "bar_style": "success",
      "description": "",
      "description_tooltip": null,
      "layout": "IPY_MODEL_9205ee7c323e4318ad7d4ff47d19977c",
      "max": 565,
      "min": 0,
      "orientation": "horizontal",
      "style": "IPY_MODEL_05d41e12ba494e7cb1176cb5c9addb92",
      "value": 565
     }
    },
    "68b5cc1d95a74785bec873978d258625": {
     "model_module": "@jupyter-widgets/controls",
     "model_module_version": "1.5.0",
     "model_name": "DescriptionStyleModel",
     "state": {
      "_model_module": "@jupyter-widgets/controls",
      "_model_module_version": "1.5.0",
      "_model_name": "DescriptionStyleModel",
      "_view_count": null,
      "_view_module": "@jupyter-widgets/base",
      "_view_module_version": "1.2.0",
      "_view_name": "StyleView",
      "description_width": ""
     }
    },
    "68ed4f4b4fab445883b5f62d35263ffa": {
     "model_module": "@jupyter-widgets/base",
     "model_module_version": "1.2.0",
     "model_name": "LayoutModel",
     "state": {
      "_model_module": "@jupyter-widgets/base",
      "_model_module_version": "1.2.0",
      "_model_name": "LayoutModel",
      "_view_count": null,
      "_view_module": "@jupyter-widgets/base",
      "_view_module_version": "1.2.0",
      "_view_name": "LayoutView",
      "align_content": null,
      "align_items": null,
      "align_self": null,
      "border": null,
      "bottom": null,
      "display": null,
      "flex": null,
      "flex_flow": null,
      "grid_area": null,
      "grid_auto_columns": null,
      "grid_auto_flow": null,
      "grid_auto_rows": null,
      "grid_column": null,
      "grid_gap": null,
      "grid_row": null,
      "grid_template_areas": null,
      "grid_template_columns": null,
      "grid_template_rows": null,
      "height": null,
      "justify_content": null,
      "justify_items": null,
      "left": null,
      "margin": null,
      "max_height": null,
      "max_width": null,
      "min_height": null,
      "min_width": null,
      "object_fit": null,
      "object_position": null,
      "order": null,
      "overflow": null,
      "overflow_x": null,
      "overflow_y": null,
      "padding": null,
      "right": null,
      "top": null,
      "visibility": null,
      "width": null
     }
    },
    "6f3be5c9a49948fd9388f7c58971af5c": {
     "model_module": "@jupyter-widgets/controls",
     "model_module_version": "1.5.0",
     "model_name": "HTMLModel",
     "state": {
      "_dom_classes": [],
      "_model_module": "@jupyter-widgets/controls",
      "_model_module_version": "1.5.0",
      "_model_name": "HTMLModel",
      "_view_count": null,
      "_view_module": "@jupyter-widgets/controls",
      "_view_module_version": "1.5.0",
      "_view_name": "HTMLView",
      "description": "",
      "description_tooltip": null,
      "layout": "IPY_MODEL_097108ad01864409acf022d6875a3991",
      "placeholder": "​",
      "style": "IPY_MODEL_966c72d24afa49d686981d1c7c8f4c69",
      "value": " 565/565 [00:02&lt;00:00, 256.08 examples/s]"
     }
    },
    "7646718eab4349c4979fd5c0b9f40ba8": {
     "model_module": "@jupyter-widgets/controls",
     "model_module_version": "1.5.0",
     "model_name": "HBoxModel",
     "state": {
      "_dom_classes": [],
      "_model_module": "@jupyter-widgets/controls",
      "_model_module_version": "1.5.0",
      "_model_name": "HBoxModel",
      "_view_count": null,
      "_view_module": "@jupyter-widgets/controls",
      "_view_module_version": "1.5.0",
      "_view_name": "HBoxView",
      "box_style": "",
      "children": [
       "IPY_MODEL_c60697552dd2432ab6608add172aaf1f",
       "IPY_MODEL_054c87bc57ea430aad0d9aad2fcd00a5",
       "IPY_MODEL_81d24056280e44c6bdfc903b076664f9"
      ],
      "layout": "IPY_MODEL_9a06a1aacd344b1d92eec5d395ff27da"
     }
    },
    "78d2eea99d594a388afb1172211de4f8": {
     "model_module": "@jupyter-widgets/controls",
     "model_module_version": "1.5.0",
     "model_name": "HBoxModel",
     "state": {
      "_dom_classes": [],
      "_model_module": "@jupyter-widgets/controls",
      "_model_module_version": "1.5.0",
      "_model_name": "HBoxModel",
      "_view_count": null,
      "_view_module": "@jupyter-widgets/controls",
      "_view_module_version": "1.5.0",
      "_view_name": "HBoxView",
      "box_style": "",
      "children": [
       "IPY_MODEL_ffa2075a53434e8386df9235ed1ec605",
       "IPY_MODEL_35823b4e727c4ffa9447c78a89d1fa41",
       "IPY_MODEL_01f44eb2ad3b4b2c91bf5523fef72d5b"
      ],
      "layout": "IPY_MODEL_3c8be7634ab7464d830b9644744c93cc"
     }
    },
    "7a10c398921a4cab8e9891b905d8614f": {
     "model_module": "@jupyter-widgets/base",
     "model_module_version": "1.2.0",
     "model_name": "LayoutModel",
     "state": {
      "_model_module": "@jupyter-widgets/base",
      "_model_module_version": "1.2.0",
      "_model_name": "LayoutModel",
      "_view_count": null,
      "_view_module": "@jupyter-widgets/base",
      "_view_module_version": "1.2.0",
      "_view_name": "LayoutView",
      "align_content": null,
      "align_items": null,
      "align_self": null,
      "border": null,
      "bottom": null,
      "display": null,
      "flex": null,
      "flex_flow": null,
      "grid_area": null,
      "grid_auto_columns": null,
      "grid_auto_flow": null,
      "grid_auto_rows": null,
      "grid_column": null,
      "grid_gap": null,
      "grid_row": null,
      "grid_template_areas": null,
      "grid_template_columns": null,
      "grid_template_rows": null,
      "height": null,
      "justify_content": null,
      "justify_items": null,
      "left": null,
      "margin": null,
      "max_height": null,
      "max_width": null,
      "min_height": null,
      "min_width": null,
      "object_fit": null,
      "object_position": null,
      "order": null,
      "overflow": null,
      "overflow_x": null,
      "overflow_y": null,
      "padding": null,
      "right": null,
      "top": null,
      "visibility": null,
      "width": null
     }
    },
    "7efeb27ad5dc490e9b79294c5765707e": {
     "model_module": "@jupyter-widgets/controls",
     "model_module_version": "1.5.0",
     "model_name": "HBoxModel",
     "state": {
      "_dom_classes": [],
      "_model_module": "@jupyter-widgets/controls",
      "_model_module_version": "1.5.0",
      "_model_name": "HBoxModel",
      "_view_count": null,
      "_view_module": "@jupyter-widgets/controls",
      "_view_module_version": "1.5.0",
      "_view_name": "HBoxView",
      "box_style": "",
      "children": [
       "IPY_MODEL_b758b43d59794b7b943237f4dcb9f94d",
       "IPY_MODEL_6618a8a0b6c4430a92e1d3f804e62159",
       "IPY_MODEL_0026e05b3e114ef588c1299c63a7b2a6"
      ],
      "layout": "IPY_MODEL_44c143c32f994eaaa56501cf64cf617a"
     }
    },
    "802a3d5bb0a146b7bf82be5517125b96": {
     "model_module": "@jupyter-widgets/base",
     "model_module_version": "1.2.0",
     "model_name": "LayoutModel",
     "state": {
      "_model_module": "@jupyter-widgets/base",
      "_model_module_version": "1.2.0",
      "_model_name": "LayoutModel",
      "_view_count": null,
      "_view_module": "@jupyter-widgets/base",
      "_view_module_version": "1.2.0",
      "_view_name": "LayoutView",
      "align_content": null,
      "align_items": null,
      "align_self": null,
      "border": null,
      "bottom": null,
      "display": null,
      "flex": null,
      "flex_flow": null,
      "grid_area": null,
      "grid_auto_columns": null,
      "grid_auto_flow": null,
      "grid_auto_rows": null,
      "grid_column": null,
      "grid_gap": null,
      "grid_row": null,
      "grid_template_areas": null,
      "grid_template_columns": null,
      "grid_template_rows": null,
      "height": null,
      "justify_content": null,
      "justify_items": null,
      "left": null,
      "margin": null,
      "max_height": null,
      "max_width": null,
      "min_height": null,
      "min_width": null,
      "object_fit": null,
      "object_position": null,
      "order": null,
      "overflow": null,
      "overflow_x": null,
      "overflow_y": null,
      "padding": null,
      "right": null,
      "top": null,
      "visibility": null,
      "width": null
     }
    },
    "815b3c0b6b814ca5a45b195cd6bfd440": {
     "model_module": "@jupyter-widgets/controls",
     "model_module_version": "1.5.0",
     "model_name": "DescriptionStyleModel",
     "state": {
      "_model_module": "@jupyter-widgets/controls",
      "_model_module_version": "1.5.0",
      "_model_name": "DescriptionStyleModel",
      "_view_count": null,
      "_view_module": "@jupyter-widgets/base",
      "_view_module_version": "1.2.0",
      "_view_name": "StyleView",
      "description_width": ""
     }
    },
    "81d24056280e44c6bdfc903b076664f9": {
     "model_module": "@jupyter-widgets/controls",
     "model_module_version": "1.5.0",
     "model_name": "HTMLModel",
     "state": {
      "_dom_classes": [],
      "_model_module": "@jupyter-widgets/controls",
      "_model_module_version": "1.5.0",
      "_model_name": "HTMLModel",
      "_view_count": null,
      "_view_module": "@jupyter-widgets/controls",
      "_view_module_version": "1.5.0",
      "_view_name": "HTMLView",
      "description": "",
      "description_tooltip": null,
      "layout": "IPY_MODEL_5f79133e6389488eabc6451ef745d867",
      "placeholder": "​",
      "style": "IPY_MODEL_352f4b220d5d4cf59b8e989a29bce6a7",
      "value": " 5082/5082 [00:30&lt;00:00, 200.83 examples/s]"
     }
    },
    "831221c168784c55a49125dcf9c606c4": {
     "model_module": "@jupyter-widgets/controls",
     "model_module_version": "1.5.0",
     "model_name": "ProgressStyleModel",
     "state": {
      "_model_module": "@jupyter-widgets/controls",
      "_model_module_version": "1.5.0",
      "_model_name": "ProgressStyleModel",
      "_view_count": null,
      "_view_module": "@jupyter-widgets/base",
      "_view_module_version": "1.2.0",
      "_view_name": "StyleView",
      "bar_color": null,
      "description_width": ""
     }
    },
    "8440bf21eb85463c82313ad6962b1f6d": {
     "model_module": "@jupyter-widgets/controls",
     "model_module_version": "1.5.0",
     "model_name": "HBoxModel",
     "state": {
      "_dom_classes": [],
      "_model_module": "@jupyter-widgets/controls",
      "_model_module_version": "1.5.0",
      "_model_name": "HBoxModel",
      "_view_count": null,
      "_view_module": "@jupyter-widgets/controls",
      "_view_module_version": "1.5.0",
      "_view_name": "HBoxView",
      "box_style": "",
      "children": [
       "IPY_MODEL_99a6617d4b4449c1a0668428b31c8149",
       "IPY_MODEL_9abe9e4c2708493086458e64ce25bf4e",
       "IPY_MODEL_df6de43a30c74d2b86094b5f75286a8c"
      ],
      "layout": "IPY_MODEL_46f003e8bc2b4410a793081eaaea9541"
     }
    },
    "8604e04545eb465389450422e5364919": {
     "model_module": "@jupyter-widgets/base",
     "model_module_version": "1.2.0",
     "model_name": "LayoutModel",
     "state": {
      "_model_module": "@jupyter-widgets/base",
      "_model_module_version": "1.2.0",
      "_model_name": "LayoutModel",
      "_view_count": null,
      "_view_module": "@jupyter-widgets/base",
      "_view_module_version": "1.2.0",
      "_view_name": "LayoutView",
      "align_content": null,
      "align_items": null,
      "align_self": null,
      "border": null,
      "bottom": null,
      "display": null,
      "flex": null,
      "flex_flow": null,
      "grid_area": null,
      "grid_auto_columns": null,
      "grid_auto_flow": null,
      "grid_auto_rows": null,
      "grid_column": null,
      "grid_gap": null,
      "grid_row": null,
      "grid_template_areas": null,
      "grid_template_columns": null,
      "grid_template_rows": null,
      "height": null,
      "justify_content": null,
      "justify_items": null,
      "left": null,
      "margin": null,
      "max_height": null,
      "max_width": null,
      "min_height": null,
      "min_width": null,
      "object_fit": null,
      "object_position": null,
      "order": null,
      "overflow": null,
      "overflow_x": null,
      "overflow_y": null,
      "padding": null,
      "right": null,
      "top": null,
      "visibility": null,
      "width": null
     }
    },
    "86d8063edf4b4f8e845f5c6f7058e73d": {
     "model_module": "@jupyter-widgets/controls",
     "model_module_version": "1.5.0",
     "model_name": "FloatProgressModel",
     "state": {
      "_dom_classes": [],
      "_model_module": "@jupyter-widgets/controls",
      "_model_module_version": "1.5.0",
      "_model_name": "FloatProgressModel",
      "_view_count": null,
      "_view_module": "@jupyter-widgets/controls",
      "_view_module_version": "1.5.0",
      "_view_name": "ProgressView",
      "bar_style": "success",
      "description": "",
      "description_tooltip": null,
      "layout": "IPY_MODEL_802a3d5bb0a146b7bf82be5517125b96",
      "max": 565,
      "min": 0,
      "orientation": "horizontal",
      "style": "IPY_MODEL_af325a780c6c487f8b672726cb0fe016",
      "value": 565
     }
    },
    "884926e6e7c144ed8404a69c6e4864b5": {
     "model_module": "@jupyter-widgets/controls",
     "model_module_version": "1.5.0",
     "model_name": "FloatProgressModel",
     "state": {
      "_dom_classes": [],
      "_model_module": "@jupyter-widgets/controls",
      "_model_module_version": "1.5.0",
      "_model_name": "FloatProgressModel",
      "_view_count": null,
      "_view_module": "@jupyter-widgets/controls",
      "_view_module_version": "1.5.0",
      "_view_name": "ProgressView",
      "bar_style": "success",
      "description": "",
      "description_tooltip": null,
      "layout": "IPY_MODEL_6473fad104cb421d8b300c3b75cbde55",
      "max": 565,
      "min": 0,
      "orientation": "horizontal",
      "style": "IPY_MODEL_831221c168784c55a49125dcf9c606c4",
      "value": 565
     }
    },
    "8b37f6c41d804642b6226c232b2aa3e2": {
     "model_module": "@jupyter-widgets/controls",
     "model_module_version": "1.5.0",
     "model_name": "DescriptionStyleModel",
     "state": {
      "_model_module": "@jupyter-widgets/controls",
      "_model_module_version": "1.5.0",
      "_model_name": "DescriptionStyleModel",
      "_view_count": null,
      "_view_module": "@jupyter-widgets/base",
      "_view_module_version": "1.2.0",
      "_view_name": "StyleView",
      "description_width": ""
     }
    },
    "8f882fc07f314a1d97e0228bf8ada4fa": {
     "model_module": "@jupyter-widgets/controls",
     "model_module_version": "1.5.0",
     "model_name": "ProgressStyleModel",
     "state": {
      "_model_module": "@jupyter-widgets/controls",
      "_model_module_version": "1.5.0",
      "_model_name": "ProgressStyleModel",
      "_view_count": null,
      "_view_module": "@jupyter-widgets/base",
      "_view_module_version": "1.2.0",
      "_view_name": "StyleView",
      "bar_color": null,
      "description_width": ""
     }
    },
    "9205ee7c323e4318ad7d4ff47d19977c": {
     "model_module": "@jupyter-widgets/base",
     "model_module_version": "1.2.0",
     "model_name": "LayoutModel",
     "state": {
      "_model_module": "@jupyter-widgets/base",
      "_model_module_version": "1.2.0",
      "_model_name": "LayoutModel",
      "_view_count": null,
      "_view_module": "@jupyter-widgets/base",
      "_view_module_version": "1.2.0",
      "_view_name": "LayoutView",
      "align_content": null,
      "align_items": null,
      "align_self": null,
      "border": null,
      "bottom": null,
      "display": null,
      "flex": null,
      "flex_flow": null,
      "grid_area": null,
      "grid_auto_columns": null,
      "grid_auto_flow": null,
      "grid_auto_rows": null,
      "grid_column": null,
      "grid_gap": null,
      "grid_row": null,
      "grid_template_areas": null,
      "grid_template_columns": null,
      "grid_template_rows": null,
      "height": null,
      "justify_content": null,
      "justify_items": null,
      "left": null,
      "margin": null,
      "max_height": null,
      "max_width": null,
      "min_height": null,
      "min_width": null,
      "object_fit": null,
      "object_position": null,
      "order": null,
      "overflow": null,
      "overflow_x": null,
      "overflow_y": null,
      "padding": null,
      "right": null,
      "top": null,
      "visibility": null,
      "width": null
     }
    },
    "95032b6e2e1a4200aeb894034dd2979f": {
     "model_module": "@jupyter-widgets/base",
     "model_module_version": "1.2.0",
     "model_name": "LayoutModel",
     "state": {
      "_model_module": "@jupyter-widgets/base",
      "_model_module_version": "1.2.0",
      "_model_name": "LayoutModel",
      "_view_count": null,
      "_view_module": "@jupyter-widgets/base",
      "_view_module_version": "1.2.0",
      "_view_name": "LayoutView",
      "align_content": null,
      "align_items": null,
      "align_self": null,
      "border": null,
      "bottom": null,
      "display": null,
      "flex": null,
      "flex_flow": null,
      "grid_area": null,
      "grid_auto_columns": null,
      "grid_auto_flow": null,
      "grid_auto_rows": null,
      "grid_column": null,
      "grid_gap": null,
      "grid_row": null,
      "grid_template_areas": null,
      "grid_template_columns": null,
      "grid_template_rows": null,
      "height": null,
      "justify_content": null,
      "justify_items": null,
      "left": null,
      "margin": null,
      "max_height": null,
      "max_width": null,
      "min_height": null,
      "min_width": null,
      "object_fit": null,
      "object_position": null,
      "order": null,
      "overflow": null,
      "overflow_x": null,
      "overflow_y": null,
      "padding": null,
      "right": null,
      "top": null,
      "visibility": null,
      "width": null
     }
    },
    "966c72d24afa49d686981d1c7c8f4c69": {
     "model_module": "@jupyter-widgets/controls",
     "model_module_version": "1.5.0",
     "model_name": "DescriptionStyleModel",
     "state": {
      "_model_module": "@jupyter-widgets/controls",
      "_model_module_version": "1.5.0",
      "_model_name": "DescriptionStyleModel",
      "_view_count": null,
      "_view_module": "@jupyter-widgets/base",
      "_view_module_version": "1.2.0",
      "_view_name": "StyleView",
      "description_width": ""
     }
    },
    "987ec001094c4b5d819a6aaabb9da971": {
     "model_module": "@jupyter-widgets/controls",
     "model_module_version": "1.5.0",
     "model_name": "HBoxModel",
     "state": {
      "_dom_classes": [],
      "_model_module": "@jupyter-widgets/controls",
      "_model_module_version": "1.5.0",
      "_model_name": "HBoxModel",
      "_view_count": null,
      "_view_module": "@jupyter-widgets/controls",
      "_view_module_version": "1.5.0",
      "_view_name": "HBoxView",
      "box_style": "",
      "children": [
       "IPY_MODEL_b9b50bfc607a4894b3de46ed8f414e82",
       "IPY_MODEL_86d8063edf4b4f8e845f5c6f7058e73d",
       "IPY_MODEL_6f3be5c9a49948fd9388f7c58971af5c"
      ],
      "layout": "IPY_MODEL_ef4b6609af9b4f79a6f291472293684b"
     }
    },
    "99a6617d4b4449c1a0668428b31c8149": {
     "model_module": "@jupyter-widgets/controls",
     "model_module_version": "1.5.0",
     "model_name": "HTMLModel",
     "state": {
      "_dom_classes": [],
      "_model_module": "@jupyter-widgets/controls",
      "_model_module_version": "1.5.0",
      "_model_name": "HTMLModel",
      "_view_count": null,
      "_view_module": "@jupyter-widgets/controls",
      "_view_module_version": "1.5.0",
      "_view_name": "HTMLView",
      "description": "",
      "description_tooltip": null,
      "layout": "IPY_MODEL_06e7c045ebba42d69b4456fba8801d2e",
      "placeholder": "​",
      "style": "IPY_MODEL_815b3c0b6b814ca5a45b195cd6bfd440",
      "value": "Map:   0%"
     }
    },
    "99f54c2056b54866a01b8e5ca1c854be": {
     "model_module": "@jupyter-widgets/controls",
     "model_module_version": "1.5.0",
     "model_name": "HBoxModel",
     "state": {
      "_dom_classes": [],
      "_model_module": "@jupyter-widgets/controls",
      "_model_module_version": "1.5.0",
      "_model_name": "HBoxModel",
      "_view_count": null,
      "_view_module": "@jupyter-widgets/controls",
      "_view_module_version": "1.5.0",
      "_view_name": "HBoxView",
      "box_style": "",
      "children": [
       "IPY_MODEL_fabdd7c80dbe4a4b80436bc8fedc5d36",
       "IPY_MODEL_884926e6e7c144ed8404a69c6e4864b5",
       "IPY_MODEL_b1f6011f627744b9bf3db60ec396ccfd"
      ],
      "layout": "IPY_MODEL_c7838071e5b5463390ac767b92385c1a"
     }
    },
    "9a06a1aacd344b1d92eec5d395ff27da": {
     "model_module": "@jupyter-widgets/base",
     "model_module_version": "1.2.0",
     "model_name": "LayoutModel",
     "state": {
      "_model_module": "@jupyter-widgets/base",
      "_model_module_version": "1.2.0",
      "_model_name": "LayoutModel",
      "_view_count": null,
      "_view_module": "@jupyter-widgets/base",
      "_view_module_version": "1.2.0",
      "_view_name": "LayoutView",
      "align_content": null,
      "align_items": null,
      "align_self": null,
      "border": null,
      "bottom": null,
      "display": null,
      "flex": null,
      "flex_flow": null,
      "grid_area": null,
      "grid_auto_columns": null,
      "grid_auto_flow": null,
      "grid_auto_rows": null,
      "grid_column": null,
      "grid_gap": null,
      "grid_row": null,
      "grid_template_areas": null,
      "grid_template_columns": null,
      "grid_template_rows": null,
      "height": null,
      "justify_content": null,
      "justify_items": null,
      "left": null,
      "margin": null,
      "max_height": null,
      "max_width": null,
      "min_height": null,
      "min_width": null,
      "object_fit": null,
      "object_position": null,
      "order": null,
      "overflow": null,
      "overflow_x": null,
      "overflow_y": null,
      "padding": null,
      "right": null,
      "top": null,
      "visibility": null,
      "width": null
     }
    },
    "9abe9e4c2708493086458e64ce25bf4e": {
     "model_module": "@jupyter-widgets/controls",
     "model_module_version": "1.5.0",
     "model_name": "FloatProgressModel",
     "state": {
      "_dom_classes": [],
      "_model_module": "@jupyter-widgets/controls",
      "_model_module_version": "1.5.0",
      "_model_name": "FloatProgressModel",
      "_view_count": null,
      "_view_module": "@jupyter-widgets/controls",
      "_view_module_version": "1.5.0",
      "_view_name": "ProgressView",
      "bar_style": "",
      "description": "",
      "description_tooltip": null,
      "layout": "IPY_MODEL_01892d5395694469a1056568c1d98ef9",
      "max": 565,
      "min": 0,
      "orientation": "horizontal",
      "style": "IPY_MODEL_8f882fc07f314a1d97e0228bf8ada4fa",
      "value": 0
     }
    },
    "af325a780c6c487f8b672726cb0fe016": {
     "model_module": "@jupyter-widgets/controls",
     "model_module_version": "1.5.0",
     "model_name": "ProgressStyleModel",
     "state": {
      "_model_module": "@jupyter-widgets/controls",
      "_model_module_version": "1.5.0",
      "_model_name": "ProgressStyleModel",
      "_view_count": null,
      "_view_module": "@jupyter-widgets/base",
      "_view_module_version": "1.2.0",
      "_view_name": "StyleView",
      "bar_color": null,
      "description_width": ""
     }
    },
    "b1f6011f627744b9bf3db60ec396ccfd": {
     "model_module": "@jupyter-widgets/controls",
     "model_module_version": "1.5.0",
     "model_name": "HTMLModel",
     "state": {
      "_dom_classes": [],
      "_model_module": "@jupyter-widgets/controls",
      "_model_module_version": "1.5.0",
      "_model_name": "HTMLModel",
      "_view_count": null,
      "_view_module": "@jupyter-widgets/controls",
      "_view_module_version": "1.5.0",
      "_view_name": "HTMLView",
      "description": "",
      "description_tooltip": null,
      "layout": "IPY_MODEL_5a6a8695b3ed4e988173b8f077ba3e6f",
      "placeholder": "​",
      "style": "IPY_MODEL_b9fd4988f5df420285fea8d8dc60d4b5",
      "value": " 565/565 [00:01&lt;00:00, 439.96 examples/s]"
     }
    },
    "b36428faa22d4c56bc789bf0854a7c92": {
     "model_module": "@jupyter-widgets/base",
     "model_module_version": "1.2.0",
     "model_name": "LayoutModel",
     "state": {
      "_model_module": "@jupyter-widgets/base",
      "_model_module_version": "1.2.0",
      "_model_name": "LayoutModel",
      "_view_count": null,
      "_view_module": "@jupyter-widgets/base",
      "_view_module_version": "1.2.0",
      "_view_name": "LayoutView",
      "align_content": null,
      "align_items": null,
      "align_self": null,
      "border": null,
      "bottom": null,
      "display": null,
      "flex": null,
      "flex_flow": null,
      "grid_area": null,
      "grid_auto_columns": null,
      "grid_auto_flow": null,
      "grid_auto_rows": null,
      "grid_column": null,
      "grid_gap": null,
      "grid_row": null,
      "grid_template_areas": null,
      "grid_template_columns": null,
      "grid_template_rows": null,
      "height": null,
      "justify_content": null,
      "justify_items": null,
      "left": null,
      "margin": null,
      "max_height": null,
      "max_width": null,
      "min_height": null,
      "min_width": null,
      "object_fit": null,
      "object_position": null,
      "order": null,
      "overflow": null,
      "overflow_x": null,
      "overflow_y": null,
      "padding": null,
      "right": null,
      "top": null,
      "visibility": null,
      "width": null
     }
    },
    "b758b43d59794b7b943237f4dcb9f94d": {
     "model_module": "@jupyter-widgets/controls",
     "model_module_version": "1.5.0",
     "model_name": "HTMLModel",
     "state": {
      "_dom_classes": [],
      "_model_module": "@jupyter-widgets/controls",
      "_model_module_version": "1.5.0",
      "_model_name": "HTMLModel",
      "_view_count": null,
      "_view_module": "@jupyter-widgets/controls",
      "_view_module_version": "1.5.0",
      "_view_name": "HTMLView",
      "description": "",
      "description_tooltip": null,
      "layout": "IPY_MODEL_d0bf23085ad54975b0b02eb528f8d790",
      "placeholder": "​",
      "style": "IPY_MODEL_8b37f6c41d804642b6226c232b2aa3e2",
      "value": "Map: 100%"
     }
    },
    "b88624640095450aa65c039686f95c08": {
     "model_module": "@jupyter-widgets/controls",
     "model_module_version": "1.5.0",
     "model_name": "DescriptionStyleModel",
     "state": {
      "_model_module": "@jupyter-widgets/controls",
      "_model_module_version": "1.5.0",
      "_model_name": "DescriptionStyleModel",
      "_view_count": null,
      "_view_module": "@jupyter-widgets/base",
      "_view_module_version": "1.2.0",
      "_view_name": "StyleView",
      "description_width": ""
     }
    },
    "b8ce60717bdd4f1e87cae61e2046dd8d": {
     "model_module": "@jupyter-widgets/controls",
     "model_module_version": "1.5.0",
     "model_name": "ProgressStyleModel",
     "state": {
      "_model_module": "@jupyter-widgets/controls",
      "_model_module_version": "1.5.0",
      "_model_name": "ProgressStyleModel",
      "_view_count": null,
      "_view_module": "@jupyter-widgets/base",
      "_view_module_version": "1.2.0",
      "_view_name": "StyleView",
      "bar_color": null,
      "description_width": ""
     }
    },
    "b9b50bfc607a4894b3de46ed8f414e82": {
     "model_module": "@jupyter-widgets/controls",
     "model_module_version": "1.5.0",
     "model_name": "HTMLModel",
     "state": {
      "_dom_classes": [],
      "_model_module": "@jupyter-widgets/controls",
      "_model_module_version": "1.5.0",
      "_model_name": "HTMLModel",
      "_view_count": null,
      "_view_module": "@jupyter-widgets/controls",
      "_view_module_version": "1.5.0",
      "_view_name": "HTMLView",
      "description": "",
      "description_tooltip": null,
      "layout": "IPY_MODEL_43e094672da2465abb9cda7df16ebe5d",
      "placeholder": "​",
      "style": "IPY_MODEL_b88624640095450aa65c039686f95c08",
      "value": "Map: 100%"
     }
    },
    "b9fd4988f5df420285fea8d8dc60d4b5": {
     "model_module": "@jupyter-widgets/controls",
     "model_module_version": "1.5.0",
     "model_name": "DescriptionStyleModel",
     "state": {
      "_model_module": "@jupyter-widgets/controls",
      "_model_module_version": "1.5.0",
      "_model_name": "DescriptionStyleModel",
      "_view_count": null,
      "_view_module": "@jupyter-widgets/base",
      "_view_module_version": "1.2.0",
      "_view_name": "StyleView",
      "description_width": ""
     }
    },
    "c60697552dd2432ab6608add172aaf1f": {
     "model_module": "@jupyter-widgets/controls",
     "model_module_version": "1.5.0",
     "model_name": "HTMLModel",
     "state": {
      "_dom_classes": [],
      "_model_module": "@jupyter-widgets/controls",
      "_model_module_version": "1.5.0",
      "_model_name": "HTMLModel",
      "_view_count": null,
      "_view_module": "@jupyter-widgets/controls",
      "_view_module_version": "1.5.0",
      "_view_name": "HTMLView",
      "description": "",
      "description_tooltip": null,
      "layout": "IPY_MODEL_ec9ad158f5b24f5d94d74849dbb9aa26",
      "placeholder": "​",
      "style": "IPY_MODEL_f5fcf32ec81944f7bbf1de838a184af0",
      "value": "Map: 100%"
     }
    },
    "c7838071e5b5463390ac767b92385c1a": {
     "model_module": "@jupyter-widgets/base",
     "model_module_version": "1.2.0",
     "model_name": "LayoutModel",
     "state": {
      "_model_module": "@jupyter-widgets/base",
      "_model_module_version": "1.2.0",
      "_model_name": "LayoutModel",
      "_view_count": null,
      "_view_module": "@jupyter-widgets/base",
      "_view_module_version": "1.2.0",
      "_view_name": "LayoutView",
      "align_content": null,
      "align_items": null,
      "align_self": null,
      "border": null,
      "bottom": null,
      "display": null,
      "flex": null,
      "flex_flow": null,
      "grid_area": null,
      "grid_auto_columns": null,
      "grid_auto_flow": null,
      "grid_auto_rows": null,
      "grid_column": null,
      "grid_gap": null,
      "grid_row": null,
      "grid_template_areas": null,
      "grid_template_columns": null,
      "grid_template_rows": null,
      "height": null,
      "justify_content": null,
      "justify_items": null,
      "left": null,
      "margin": null,
      "max_height": null,
      "max_width": null,
      "min_height": null,
      "min_width": null,
      "object_fit": null,
      "object_position": null,
      "order": null,
      "overflow": null,
      "overflow_x": null,
      "overflow_y": null,
      "padding": null,
      "right": null,
      "top": null,
      "visibility": null,
      "width": null
     }
    },
    "d0bf23085ad54975b0b02eb528f8d790": {
     "model_module": "@jupyter-widgets/base",
     "model_module_version": "1.2.0",
     "model_name": "LayoutModel",
     "state": {
      "_model_module": "@jupyter-widgets/base",
      "_model_module_version": "1.2.0",
      "_model_name": "LayoutModel",
      "_view_count": null,
      "_view_module": "@jupyter-widgets/base",
      "_view_module_version": "1.2.0",
      "_view_name": "LayoutView",
      "align_content": null,
      "align_items": null,
      "align_self": null,
      "border": null,
      "bottom": null,
      "display": null,
      "flex": null,
      "flex_flow": null,
      "grid_area": null,
      "grid_auto_columns": null,
      "grid_auto_flow": null,
      "grid_auto_rows": null,
      "grid_column": null,
      "grid_gap": null,
      "grid_row": null,
      "grid_template_areas": null,
      "grid_template_columns": null,
      "grid_template_rows": null,
      "height": null,
      "justify_content": null,
      "justify_items": null,
      "left": null,
      "margin": null,
      "max_height": null,
      "max_width": null,
      "min_height": null,
      "min_width": null,
      "object_fit": null,
      "object_position": null,
      "order": null,
      "overflow": null,
      "overflow_x": null,
      "overflow_y": null,
      "padding": null,
      "right": null,
      "top": null,
      "visibility": null,
      "width": null
     }
    },
    "df6de43a30c74d2b86094b5f75286a8c": {
     "model_module": "@jupyter-widgets/controls",
     "model_module_version": "1.5.0",
     "model_name": "HTMLModel",
     "state": {
      "_dom_classes": [],
      "_model_module": "@jupyter-widgets/controls",
      "_model_module_version": "1.5.0",
      "_model_name": "HTMLModel",
      "_view_count": null,
      "_view_module": "@jupyter-widgets/controls",
      "_view_module_version": "1.5.0",
      "_view_name": "HTMLView",
      "description": "",
      "description_tooltip": null,
      "layout": "IPY_MODEL_b36428faa22d4c56bc789bf0854a7c92",
      "placeholder": "​",
      "style": "IPY_MODEL_62ade5f717654c6a83041916b94e2206",
      "value": " 0/565 [00:00&lt;?, ? examples/s]"
     }
    },
    "ec9ad158f5b24f5d94d74849dbb9aa26": {
     "model_module": "@jupyter-widgets/base",
     "model_module_version": "1.2.0",
     "model_name": "LayoutModel",
     "state": {
      "_model_module": "@jupyter-widgets/base",
      "_model_module_version": "1.2.0",
      "_model_name": "LayoutModel",
      "_view_count": null,
      "_view_module": "@jupyter-widgets/base",
      "_view_module_version": "1.2.0",
      "_view_name": "LayoutView",
      "align_content": null,
      "align_items": null,
      "align_self": null,
      "border": null,
      "bottom": null,
      "display": null,
      "flex": null,
      "flex_flow": null,
      "grid_area": null,
      "grid_auto_columns": null,
      "grid_auto_flow": null,
      "grid_auto_rows": null,
      "grid_column": null,
      "grid_gap": null,
      "grid_row": null,
      "grid_template_areas": null,
      "grid_template_columns": null,
      "grid_template_rows": null,
      "height": null,
      "justify_content": null,
      "justify_items": null,
      "left": null,
      "margin": null,
      "max_height": null,
      "max_width": null,
      "min_height": null,
      "min_width": null,
      "object_fit": null,
      "object_position": null,
      "order": null,
      "overflow": null,
      "overflow_x": null,
      "overflow_y": null,
      "padding": null,
      "right": null,
      "top": null,
      "visibility": null,
      "width": null
     }
    },
    "ef4b6609af9b4f79a6f291472293684b": {
     "model_module": "@jupyter-widgets/base",
     "model_module_version": "1.2.0",
     "model_name": "LayoutModel",
     "state": {
      "_model_module": "@jupyter-widgets/base",
      "_model_module_version": "1.2.0",
      "_model_name": "LayoutModel",
      "_view_count": null,
      "_view_module": "@jupyter-widgets/base",
      "_view_module_version": "1.2.0",
      "_view_name": "LayoutView",
      "align_content": null,
      "align_items": null,
      "align_self": null,
      "border": null,
      "bottom": null,
      "display": null,
      "flex": null,
      "flex_flow": null,
      "grid_area": null,
      "grid_auto_columns": null,
      "grid_auto_flow": null,
      "grid_auto_rows": null,
      "grid_column": null,
      "grid_gap": null,
      "grid_row": null,
      "grid_template_areas": null,
      "grid_template_columns": null,
      "grid_template_rows": null,
      "height": null,
      "justify_content": null,
      "justify_items": null,
      "left": null,
      "margin": null,
      "max_height": null,
      "max_width": null,
      "min_height": null,
      "min_width": null,
      "object_fit": null,
      "object_position": null,
      "order": null,
      "overflow": null,
      "overflow_x": null,
      "overflow_y": null,
      "padding": null,
      "right": null,
      "top": null,
      "visibility": null,
      "width": null
     }
    },
    "f5fcf32ec81944f7bbf1de838a184af0": {
     "model_module": "@jupyter-widgets/controls",
     "model_module_version": "1.5.0",
     "model_name": "DescriptionStyleModel",
     "state": {
      "_model_module": "@jupyter-widgets/controls",
      "_model_module_version": "1.5.0",
      "_model_name": "DescriptionStyleModel",
      "_view_count": null,
      "_view_module": "@jupyter-widgets/base",
      "_view_module_version": "1.2.0",
      "_view_name": "StyleView",
      "description_width": ""
     }
    },
    "f872be8231d24f4d9052c973b57f2bfa": {
     "model_module": "@jupyter-widgets/controls",
     "model_module_version": "1.5.0",
     "model_name": "DescriptionStyleModel",
     "state": {
      "_model_module": "@jupyter-widgets/controls",
      "_model_module_version": "1.5.0",
      "_model_name": "DescriptionStyleModel",
      "_view_count": null,
      "_view_module": "@jupyter-widgets/base",
      "_view_module_version": "1.2.0",
      "_view_name": "StyleView",
      "description_width": ""
     }
    },
    "fabdd7c80dbe4a4b80436bc8fedc5d36": {
     "model_module": "@jupyter-widgets/controls",
     "model_module_version": "1.5.0",
     "model_name": "HTMLModel",
     "state": {
      "_dom_classes": [],
      "_model_module": "@jupyter-widgets/controls",
      "_model_module_version": "1.5.0",
      "_model_name": "HTMLModel",
      "_view_count": null,
      "_view_module": "@jupyter-widgets/controls",
      "_view_module_version": "1.5.0",
      "_view_name": "HTMLView",
      "description": "",
      "description_tooltip": null,
      "layout": "IPY_MODEL_34eb7d6f7fad48049aae4bb7a509b787",
      "placeholder": "​",
      "style": "IPY_MODEL_56d5af5cc924403f988b56b54f770f04",
      "value": "Map: 100%"
     }
    },
    "ffa2075a53434e8386df9235ed1ec605": {
     "model_module": "@jupyter-widgets/controls",
     "model_module_version": "1.5.0",
     "model_name": "HTMLModel",
     "state": {
      "_dom_classes": [],
      "_model_module": "@jupyter-widgets/controls",
      "_model_module_version": "1.5.0",
      "_model_name": "HTMLModel",
      "_view_count": null,
      "_view_module": "@jupyter-widgets/controls",
      "_view_module_version": "1.5.0",
      "_view_name": "HTMLView",
      "description": "",
      "description_tooltip": null,
      "layout": "IPY_MODEL_95032b6e2e1a4200aeb894034dd2979f",
      "placeholder": "​",
      "style": "IPY_MODEL_68b5cc1d95a74785bec873978d258625",
      "value": "Map: 100%"
     }
    }
   }
  }
 },
 "nbformat": 4,
 "nbformat_minor": 5
}
