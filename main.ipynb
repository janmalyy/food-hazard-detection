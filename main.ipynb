{
 "cells": [
  {
   "cell_type": "markdown",
   "id": "cdddcd5bddce9cb3",
   "metadata": {},
   "source": [
    "# PV056 project"
   ]
  },
  {
   "cell_type": "markdown",
   "id": "7b9cd5d9",
   "metadata": {},
   "source": [
    "### Follow the instructions and run the cells in this notebook to reproduce all the results."
   ]
  },
  {
   "cell_type": "code",
   "execution_count": null,
   "id": "a0de6991",
   "metadata": {
    "ExecuteTime": {
     "end_time": "2025-04-08T17:26:11.568527Z",
     "start_time": "2025-04-08T17:26:07.359601Z"
    }
   },
   "outputs": [
    {
     "name": "stdout",
     "output_type": "stream",
     "text": [
      "Requirement already satisfied: requests in /home/mpavelka/anaconda3/lib/python3.12/site-packages (2.32.3)\n",
      "Requirement already satisfied: charset-normalizer<4,>=2 in /home/mpavelka/anaconda3/lib/python3.12/site-packages (from requests) (3.3.2)\n",
      "Requirement already satisfied: idna<4,>=2.5 in /home/mpavelka/anaconda3/lib/python3.12/site-packages (from requests) (3.7)\n",
      "Requirement already satisfied: urllib3<3,>=1.21.1 in /home/mpavelka/anaconda3/lib/python3.12/site-packages (from requests) (2.2.3)\n",
      "Requirement already satisfied: certifi>=2017.4.17 in /home/mpavelka/anaconda3/lib/python3.12/site-packages (from requests) (2025.1.31)\n",
      "Requirement already satisfied: matplotlib in /home/mpavelka/anaconda3/lib/python3.12/site-packages (3.9.2)\n",
      "Requirement already satisfied: contourpy>=1.0.1 in /home/mpavelka/anaconda3/lib/python3.12/site-packages (from matplotlib) (1.2.0)\n",
      "Requirement already satisfied: cycler>=0.10 in /home/mpavelka/anaconda3/lib/python3.12/site-packages (from matplotlib) (0.11.0)\n",
      "Requirement already satisfied: fonttools>=4.22.0 in /home/mpavelka/anaconda3/lib/python3.12/site-packages (from matplotlib) (4.51.0)\n",
      "Requirement already satisfied: kiwisolver>=1.3.1 in /home/mpavelka/anaconda3/lib/python3.12/site-packages (from matplotlib) (1.4.4)\n",
      "Requirement already satisfied: numpy>=1.23 in /home/mpavelka/anaconda3/lib/python3.12/site-packages (from matplotlib) (1.26.4)\n",
      "Requirement already satisfied: packaging>=20.0 in /home/mpavelka/anaconda3/lib/python3.12/site-packages (from matplotlib) (24.1)\n",
      "Requirement already satisfied: pillow>=8 in /home/mpavelka/anaconda3/lib/python3.12/site-packages (from matplotlib) (10.4.0)\n",
      "Requirement already satisfied: pyparsing>=2.3.1 in /home/mpavelka/anaconda3/lib/python3.12/site-packages (from matplotlib) (3.1.2)\n",
      "Requirement already satisfied: python-dateutil>=2.7 in /home/mpavelka/anaconda3/lib/python3.12/site-packages (from matplotlib) (2.9.0.post0)\n",
      "Requirement already satisfied: six>=1.5 in /home/mpavelka/anaconda3/lib/python3.12/site-packages (from python-dateutil>=2.7->matplotlib) (1.16.0)\n",
      "Requirement already satisfied: pandas in /home/mpavelka/anaconda3/lib/python3.12/site-packages (2.2.2)\n",
      "Requirement already satisfied: numpy>=1.26.0 in /home/mpavelka/anaconda3/lib/python3.12/site-packages (from pandas) (1.26.4)\n",
      "Requirement already satisfied: python-dateutil>=2.8.2 in /home/mpavelka/anaconda3/lib/python3.12/site-packages (from pandas) (2.9.0.post0)\n",
      "Requirement already satisfied: pytz>=2020.1 in /home/mpavelka/anaconda3/lib/python3.12/site-packages (from pandas) (2024.1)\n",
      "Requirement already satisfied: tzdata>=2022.7 in /home/mpavelka/anaconda3/lib/python3.12/site-packages (from pandas) (2023.3)\n",
      "Requirement already satisfied: six>=1.5 in /home/mpavelka/anaconda3/lib/python3.12/site-packages (from python-dateutil>=2.8.2->pandas) (1.16.0)\n",
      "Requirement already satisfied: datasets in /home/mpavelka/anaconda3/lib/python3.12/site-packages (3.5.0)\n",
      "Requirement already satisfied: filelock in /home/mpavelka/anaconda3/lib/python3.12/site-packages (from datasets) (3.13.1)\n",
      "Requirement already satisfied: numpy>=1.17 in /home/mpavelka/anaconda3/lib/python3.12/site-packages (from datasets) (1.26.4)\n",
      "Requirement already satisfied: pyarrow>=15.0.0 in /home/mpavelka/anaconda3/lib/python3.12/site-packages (from datasets) (16.1.0)\n",
      "Requirement already satisfied: dill<0.3.9,>=0.3.0 in /home/mpavelka/anaconda3/lib/python3.12/site-packages (from datasets) (0.3.8)\n",
      "Requirement already satisfied: pandas in /home/mpavelka/anaconda3/lib/python3.12/site-packages (from datasets) (2.2.2)\n",
      "Requirement already satisfied: requests>=2.32.2 in /home/mpavelka/anaconda3/lib/python3.12/site-packages (from datasets) (2.32.3)\n",
      "Requirement already satisfied: tqdm>=4.66.3 in /home/mpavelka/anaconda3/lib/python3.12/site-packages (from datasets) (4.66.5)\n",
      "Requirement already satisfied: xxhash in /home/mpavelka/anaconda3/lib/python3.12/site-packages (from datasets) (3.5.0)\n",
      "Requirement already satisfied: multiprocess<0.70.17 in /home/mpavelka/anaconda3/lib/python3.12/site-packages (from datasets) (0.70.16)\n",
      "Requirement already satisfied: fsspec<=2024.12.0,>=2023.1.0 in /home/mpavelka/anaconda3/lib/python3.12/site-packages (from fsspec[http]<=2024.12.0,>=2023.1.0->datasets) (2024.6.1)\n",
      "Requirement already satisfied: aiohttp in /home/mpavelka/anaconda3/lib/python3.12/site-packages (from datasets) (3.10.5)\n",
      "Requirement already satisfied: huggingface-hub>=0.24.0 in /home/mpavelka/anaconda3/lib/python3.12/site-packages (from datasets) (0.30.2)\n",
      "Requirement already satisfied: packaging in /home/mpavelka/anaconda3/lib/python3.12/site-packages (from datasets) (24.1)\n",
      "Requirement already satisfied: pyyaml>=5.1 in /home/mpavelka/anaconda3/lib/python3.12/site-packages (from datasets) (6.0.1)\n",
      "Requirement already satisfied: aiohappyeyeballs>=2.3.0 in /home/mpavelka/anaconda3/lib/python3.12/site-packages (from aiohttp->datasets) (2.4.0)\n",
      "Requirement already satisfied: aiosignal>=1.1.2 in /home/mpavelka/anaconda3/lib/python3.12/site-packages (from aiohttp->datasets) (1.2.0)\n",
      "Requirement already satisfied: attrs>=17.3.0 in /home/mpavelka/anaconda3/lib/python3.12/site-packages (from aiohttp->datasets) (23.1.0)\n",
      "Requirement already satisfied: frozenlist>=1.1.1 in /home/mpavelka/anaconda3/lib/python3.12/site-packages (from aiohttp->datasets) (1.4.0)\n",
      "Requirement already satisfied: multidict<7.0,>=4.5 in /home/mpavelka/anaconda3/lib/python3.12/site-packages (from aiohttp->datasets) (6.0.4)\n",
      "Requirement already satisfied: yarl<2.0,>=1.0 in /home/mpavelka/anaconda3/lib/python3.12/site-packages (from aiohttp->datasets) (1.11.0)\n",
      "Requirement already satisfied: typing-extensions>=3.7.4.3 in /home/mpavelka/anaconda3/lib/python3.12/site-packages (from huggingface-hub>=0.24.0->datasets) (4.11.0)\n",
      "Requirement already satisfied: charset-normalizer<4,>=2 in /home/mpavelka/anaconda3/lib/python3.12/site-packages (from requests>=2.32.2->datasets) (3.3.2)\n",
      "Requirement already satisfied: idna<4,>=2.5 in /home/mpavelka/anaconda3/lib/python3.12/site-packages (from requests>=2.32.2->datasets) (3.7)\n",
      "Requirement already satisfied: urllib3<3,>=1.21.1 in /home/mpavelka/anaconda3/lib/python3.12/site-packages (from requests>=2.32.2->datasets) (2.2.3)\n",
      "Requirement already satisfied: certifi>=2017.4.17 in /home/mpavelka/anaconda3/lib/python3.12/site-packages (from requests>=2.32.2->datasets) (2025.1.31)\n",
      "Requirement already satisfied: python-dateutil>=2.8.2 in /home/mpavelka/anaconda3/lib/python3.12/site-packages (from pandas->datasets) (2.9.0.post0)\n",
      "Requirement already satisfied: pytz>=2020.1 in /home/mpavelka/anaconda3/lib/python3.12/site-packages (from pandas->datasets) (2024.1)\n",
      "Requirement already satisfied: tzdata>=2022.7 in /home/mpavelka/anaconda3/lib/python3.12/site-packages (from pandas->datasets) (2023.3)\n",
      "Requirement already satisfied: six>=1.5 in /home/mpavelka/anaconda3/lib/python3.12/site-packages (from python-dateutil>=2.8.2->pandas->datasets) (1.16.0)\n",
      "Collecting torch\n",
      "  Using cached torch-2.6.0-cp312-cp312-manylinux1_x86_64.whl.metadata (28 kB)\n",
      "Requirement already satisfied: filelock in /home/mpavelka/anaconda3/lib/python3.12/site-packages (from torch) (3.13.1)\n",
      "Requirement already satisfied: typing-extensions>=4.10.0 in /home/mpavelka/anaconda3/lib/python3.12/site-packages (from torch) (4.11.0)\n",
      "Requirement already satisfied: networkx in /home/mpavelka/anaconda3/lib/python3.12/site-packages (from torch) (3.3)\n",
      "Requirement already satisfied: jinja2 in /home/mpavelka/anaconda3/lib/python3.12/site-packages (from torch) (3.1.4)\n",
      "Requirement already satisfied: fsspec in /home/mpavelka/anaconda3/lib/python3.12/site-packages (from torch) (2024.6.1)\n",
      "Collecting nvidia-cuda-nvrtc-cu12==12.4.127 (from torch)\n",
      "  Using cached nvidia_cuda_nvrtc_cu12-12.4.127-py3-none-manylinux2014_x86_64.whl.metadata (1.5 kB)\n",
      "Collecting nvidia-cuda-runtime-cu12==12.4.127 (from torch)\n",
      "  Using cached nvidia_cuda_runtime_cu12-12.4.127-py3-none-manylinux2014_x86_64.whl.metadata (1.5 kB)\n",
      "Collecting nvidia-cuda-cupti-cu12==12.4.127 (from torch)\n",
      "  Using cached nvidia_cuda_cupti_cu12-12.4.127-py3-none-manylinux2014_x86_64.whl.metadata (1.6 kB)\n",
      "Collecting nvidia-cudnn-cu12==9.1.0.70 (from torch)\n",
      "  Using cached nvidia_cudnn_cu12-9.1.0.70-py3-none-manylinux2014_x86_64.whl.metadata (1.6 kB)\n",
      "Collecting nvidia-cublas-cu12==12.4.5.8 (from torch)\n",
      "  Using cached nvidia_cublas_cu12-12.4.5.8-py3-none-manylinux2014_x86_64.whl.metadata (1.5 kB)\n",
      "Collecting nvidia-cufft-cu12==11.2.1.3 (from torch)\n",
      "  Using cached nvidia_cufft_cu12-11.2.1.3-py3-none-manylinux2014_x86_64.whl.metadata (1.5 kB)\n",
      "Collecting nvidia-curand-cu12==10.3.5.147 (from torch)\n",
      "  Using cached nvidia_curand_cu12-10.3.5.147-py3-none-manylinux2014_x86_64.whl.metadata (1.5 kB)\n",
      "Collecting nvidia-cusolver-cu12==11.6.1.9 (from torch)\n",
      "  Using cached nvidia_cusolver_cu12-11.6.1.9-py3-none-manylinux2014_x86_64.whl.metadata (1.6 kB)\n",
      "Collecting nvidia-cusparse-cu12==12.3.1.170 (from torch)\n",
      "  Using cached nvidia_cusparse_cu12-12.3.1.170-py3-none-manylinux2014_x86_64.whl.metadata (1.6 kB)\n",
      "Collecting nvidia-cusparselt-cu12==0.6.2 (from torch)\n",
      "  Using cached nvidia_cusparselt_cu12-0.6.2-py3-none-manylinux2014_x86_64.whl.metadata (6.8 kB)\n",
      "Collecting nvidia-nccl-cu12==2.21.5 (from torch)\n",
      "  Using cached nvidia_nccl_cu12-2.21.5-py3-none-manylinux2014_x86_64.whl.metadata (1.8 kB)\n",
      "Collecting nvidia-nvtx-cu12==12.4.127 (from torch)\n",
      "  Using cached nvidia_nvtx_cu12-12.4.127-py3-none-manylinux2014_x86_64.whl.metadata (1.7 kB)\n",
      "Collecting nvidia-nvjitlink-cu12==12.4.127 (from torch)\n",
      "  Using cached nvidia_nvjitlink_cu12-12.4.127-py3-none-manylinux2014_x86_64.whl.metadata (1.5 kB)\n",
      "Collecting triton==3.2.0 (from torch)\n",
      "  Using cached triton-3.2.0-cp312-cp312-manylinux_2_17_x86_64.manylinux2014_x86_64.whl.metadata (1.4 kB)\n",
      "Requirement already satisfied: setuptools in /home/mpavelka/anaconda3/lib/python3.12/site-packages (from torch) (75.1.0)\n",
      "Collecting sympy==1.13.1 (from torch)\n",
      "  Using cached sympy-1.13.1-py3-none-any.whl.metadata (12 kB)\n",
      "Requirement already satisfied: mpmath<1.4,>=1.1.0 in /home/mpavelka/anaconda3/lib/python3.12/site-packages (from sympy==1.13.1->torch) (1.3.0)\n",
      "Requirement already satisfied: MarkupSafe>=2.0 in /home/mpavelka/anaconda3/lib/python3.12/site-packages (from jinja2->torch) (2.1.3)\n",
      "Downloading torch-2.6.0-cp312-cp312-manylinux1_x86_64.whl (766.6 MB)\n",
      "\u001b[2K   \u001b[38;2;114;156;31m━━━━━━━━━━━━━━━━━━━━━━━━━━━━━━━━━━━━━━━━\u001b[0m \u001b[32m766.6/766.6 MB\u001b[0m \u001b[31m6.8 MB/s\u001b[0m eta \u001b[36m0:00:00\u001b[0mm eta \u001b[36m0:00:01\u001b[0m[36m0:00:03\u001b[0m\n",
      "\u001b[?25hUsing cached nvidia_cublas_cu12-12.4.5.8-py3-none-manylinux2014_x86_64.whl (363.4 MB)\n",
      "Using cached nvidia_cuda_cupti_cu12-12.4.127-py3-none-manylinux2014_x86_64.whl (13.8 MB)\n",
      "Using cached nvidia_cuda_nvrtc_cu12-12.4.127-py3-none-manylinux2014_x86_64.whl (24.6 MB)\n",
      "Using cached nvidia_cuda_runtime_cu12-12.4.127-py3-none-manylinux2014_x86_64.whl (883 kB)\n",
      "Using cached nvidia_cudnn_cu12-9.1.0.70-py3-none-manylinux2014_x86_64.whl (664.8 MB)\n",
      "Using cached nvidia_cufft_cu12-11.2.1.3-py3-none-manylinux2014_x86_64.whl (211.5 MB)\n",
      "Using cached nvidia_curand_cu12-10.3.5.147-py3-none-manylinux2014_x86_64.whl (56.3 MB)\n",
      "Using cached nvidia_cusolver_cu12-11.6.1.9-py3-none-manylinux2014_x86_64.whl (127.9 MB)\n",
      "Using cached nvidia_cusparse_cu12-12.3.1.170-py3-none-manylinux2014_x86_64.whl (207.5 MB)\n",
      "Using cached nvidia_cusparselt_cu12-0.6.2-py3-none-manylinux2014_x86_64.whl (150.1 MB)\n",
      "Using cached nvidia_nccl_cu12-2.21.5-py3-none-manylinux2014_x86_64.whl (188.7 MB)\n",
      "Using cached nvidia_nvjitlink_cu12-12.4.127-py3-none-manylinux2014_x86_64.whl (21.1 MB)\n",
      "Using cached nvidia_nvtx_cu12-12.4.127-py3-none-manylinux2014_x86_64.whl (99 kB)\n",
      "Using cached sympy-1.13.1-py3-none-any.whl (6.2 MB)\n",
      "Downloading triton-3.2.0-cp312-cp312-manylinux_2_17_x86_64.manylinux2014_x86_64.whl (253.2 MB)\n",
      "\u001b[2K   \u001b[38;2;114;156;31m━━━━━━━━━━━━━━━━━━━━━━━━━━━━━━━━━━━━━━━━\u001b[0m \u001b[32m253.2/253.2 MB\u001b[0m \u001b[31m5.5 MB/s\u001b[0m eta \u001b[36m0:00:00\u001b[0mm eta \u001b[36m0:00:01\u001b[0m[36m0:00:02\u001b[0m\n",
      "\u001b[?25hInstalling collected packages: triton, nvidia-cusparselt-cu12, sympy, nvidia-nvtx-cu12, nvidia-nvjitlink-cu12, nvidia-nccl-cu12, nvidia-curand-cu12, nvidia-cufft-cu12, nvidia-cuda-runtime-cu12, nvidia-cuda-nvrtc-cu12, nvidia-cuda-cupti-cu12, nvidia-cublas-cu12, nvidia-cusparse-cu12, nvidia-cudnn-cu12, nvidia-cusolver-cu12, torch\n",
      "  Attempting uninstall: sympy\n",
      "    Found existing installation: sympy 1.13.2\n",
      "    Uninstalling sympy-1.13.2:\n",
      "      Successfully uninstalled sympy-1.13.2\n"
     ]
    }
   ],
   "source": [
    "!pip3 install requests\n",
    "!pip3 install matplotlib\n",
    "!pip3 install pandas\n",
    "!pip3 install datasets\n",
    "!pip3 install torch\n",
    "!pip install transformers[torch]\n",
    "!pip3 install matplotlib\n",
    "!pip3 install ipywidgets\n",
    "!pip install scikit-learn"
   ]
  },
  {
   "cell_type": "code",
   "execution_count": null,
   "id": "77a23061",
   "metadata": {
    "ExecuteTime": {
     "end_time": "2025-04-08T17:21:26.402048Z",
     "start_time": "2025-04-08T17:21:19.739629Z"
    }
   },
   "outputs": [],
   "source": [
    "import os\n",
    "import random\n",
    "\n",
    "import requests\n",
    "import pandas as pd\n",
    "import matplotlib.pyplot as plt\n",
    "from datasets import Dataset, DatasetDict\n",
    "from transformers import AutoTokenizer, AutoModelForSequenceClassification, TrainingArguments, Trainer\n",
    "from sklearn.metrics import accuracy_score, f1_score\n",
    "\n",
    "\n",
    "os.environ[\"WANDB_DISABLED\"] = \"true\""
   ]
  },
  {
   "cell_type": "markdown",
   "id": "27e0b4a6",
   "metadata": {},
   "source": [
    "## Load the datasets"
   ]
  },
  {
   "cell_type": "code",
   "execution_count": null,
   "id": "b92dc496-71a9-4d32-b44d-7faadce770d8",
   "metadata": {
    "ExecuteTime": {
     "end_time": "2025-04-08T17:29:21.559409Z",
     "start_time": "2025-04-08T17:29:18.876949Z"
    }
   },
   "outputs": [],
   "source": [
    "dataset_parts = [\"train\", \"test\", \"valid\"]\n",
    "for dataset_part in dataset_parts:\n",
    "    url = f\"https://raw.githubusercontent.com/food-hazard-detection-semeval-2025/food-hazard-detection-semeval-2025.github.io/refs/heads/main/data/incidents_{dataset_part}.csv\"\n",
    "    response = requests.get(url)\n",
    "\n",
    "    with open(f\"incidents_{dataset_part}.csv\", \"wb\") as f:\n",
    "        f.write(response.content)\n",
    "\n",
    "trainset = pd.read_csv('incidents_train.csv', index_col=0)\n",
    "validset = pd.read_csv('incidents_valid.csv', index_col=0)\n",
    "testset = pd.read_csv('incidents_valid.csv', index_col=0)"
   ]
  },
  {
   "cell_type": "code",
   "execution_count": null,
   "id": "253b02ec-4c40-4b51-88b9-c785cfbf7915",
   "metadata": {
    "ExecuteTime": {
     "end_time": "2025-04-08T17:29:21.559409Z",
     "start_time": "2025-04-08T17:29:18.876949Z"
    }
   },
   "outputs": [],
   "source": [
    "trainset_mirek_hazard = trainset.copy()\n",
    "trainset_mirek_product = trainset.copy()\n",
    "\n",
    "validset_mirek_hazard = validset.copy()\n",
    "validset_mirek_product = validset.copy()\n",
    "\n",
    "testset_mirek_hazard = testset.copy()\n",
    "testset_mirek_product = testset.copy()"
   ]
  },
  {
   "cell_type": "code",
   "execution_count": null,
   "id": "5a47dadb-dd4a-436b-9abc-169fc30eab5b",
   "metadata": {
    "ExecuteTime": {
     "end_time": "2025-04-08T17:29:21.559409Z",
     "start_time": "2025-04-08T17:29:18.876949Z"
    }
   },
   "outputs": [],
   "source": [
    "for dataset in [trainset, validset, testset]:\n",
    "    dataset = dataset.rename(columns={\"hazard-category\": \"hazard_category\", \"product-category\": \"product_category\"})"
   ]
  },
  {
   "cell_type": "markdown",
   "id": "bb71e6b5",
   "metadata": {},
   "source": [
    "## Explore the data"
   ]
  },
  {
   "cell_type": "code",
   "execution_count": null,
   "id": "49708b466e042edd",
   "metadata": {
    "ExecuteTime": {
     "end_time": "2025-04-08T17:14:08.393790Z",
     "start_time": "2025-04-08T17:14:08.372960Z"
    }
   },
   "outputs": [],
   "source": [
    "trainset.sample()"
   ]
  },
  {
   "cell_type": "code",
   "execution_count": null,
   "id": "b15ad975",
   "metadata": {},
   "outputs": [],
   "source": [
    "trainset.info()"
   ]
  },
  {
   "cell_type": "code",
   "execution_count": null,
   "id": "13db890f",
   "metadata": {},
   "outputs": [],
   "source": [
    "trainset.head()"
   ]
  },
  {
   "cell_type": "code",
   "execution_count": null,
   "id": "5f2800b8",
   "metadata": {
    "ExecuteTime": {
     "end_time": "2025-04-08T17:15:45.022709Z",
     "start_time": "2025-04-08T17:15:45.013706Z"
    }
   },
   "outputs": [],
   "source": [
    "for i in range(10):\n",
    "    x = random.randint(0, len(trainset))\n",
    "    print(trainset[\"text\"][x])       # change the column name to view another column data\n",
    "    print()\n",
    "    print(\"XXX\")\n",
    "    print()"
   ]
  },
  {
   "cell_type": "code",
   "execution_count": null,
   "id": "25de8f37",
   "metadata": {
    "ExecuteTime": {
     "end_time": "2025-04-08T17:17:01.769809Z",
     "start_time": "2025-04-08T17:17:01.638456Z"
    }
   },
   "outputs": [],
   "source": [
    "#DISTRIBUTION OF HAZARDS IN DATASET\n",
    "fig, ax = plt.subplots()\n",
    "\n",
    "ax.barh(trainset['hazard_category'].value_counts().index.to_list(), trainset['hazard_category'].value_counts().values, orientation='horizontal')\n",
    "\n",
    "plt.xlabel('Frequency')\n",
    "plt.ylabel('Type of hazard')\n",
    "plt.title('Distribution of hazard category')\n",
    "plt.show()"
   ]
  },
  {
   "cell_type": "code",
   "execution_count": null,
   "id": "73b6d2bb",
   "metadata": {
    "ExecuteTime": {
     "end_time": "2025-04-08T17:17:07.069046Z",
     "start_time": "2025-04-08T17:17:06.859051Z"
    }
   },
   "outputs": [],
   "source": [
    "#DISTRIBUTION OF PRODUCT TYPES IN DATASET\n",
    "fig, ax = plt.subplots()\n",
    "\n",
    "ax.barh(trainset['product_category'].value_counts().index.to_list(), trainset['product_category'].value_counts().values, orientation='horizontal')\n",
    "\n",
    "plt.xlabel('Type of product')\n",
    "plt.ylabel('Frequency')\n",
    "plt.title('Distribution of product category')\n",
    "plt.show()\n"
   ]
  },
  {
   "cell_type": "markdown",
   "id": "29cf6e5a",
   "metadata": {},
   "source": [
    "## Generate synthetic data for rare product and hazard categories"
   ]
  },
  {
   "cell_type": "code",
   "execution_count": null,
   "id": "a0f8aabd",
   "metadata": {
    "ExecuteTime": {
     "end_time": "2025-04-08T17:21:40.915824Z",
     "start_time": "2025-04-08T17:21:40.443976Z"
    }
   },
   "outputs": [],
   "source": [
    "from food_hazard_detection.balance_dataset import (generate_prompt_triplets_by_hazard, generate_prompt_triplets_by_product,\n",
    "                             generate_synthetic_data)\n",
    "\n",
    "from food_hazard_detection import settings\n",
    "from food_hazard_detection.settings import FILES_DIR, SYNTHETIC_DATA_DIR\n",
    "\n",
    "rare_hazard_categories = [\"migration\", \"food additives and flavourings\",\n",
    "                              \"organoleptic aspects\", \"packaging defect\"]\n",
    "rare_product_categories = [\"sugars and syrups\", \"feed materials\", \"food contact materials\",\n",
    "                           \"honey and royal jelly\", \"food additives and flavourings\", \"fats and oils\",\n",
    "                           \"pet feed\", \"other food product / mixed\", \"alcoholic beverages\"]"
   ]
  },
  {
   "cell_type": "code",
   "execution_count": null,
   "id": "dd8c124c",
   "metadata": {
    "ExecuteTime": {
     "end_time": "2025-04-08T17:20:49.813110500Z",
     "start_time": "2025-04-08T17:20:21.216534Z"
    }
   },
   "outputs": [],
   "source": [
    "combinations = generate_prompt_triplets_by_hazard(rare_hazard_categories, trainset)\n",
    "generate_synthetic_data(SYNTHETIC_DATA_DIR / \"synthetic_data_hazard.csv\",\n",
    "                        FILES_DIR / \"prompts/generate_synthetic_data.md\", combinations)\n",
    "\n",
    "combinations = generate_prompt_triplets_by_product(rare_product_categories, trainset)\n",
    "generate_synthetic_data(SYNTHETIC_DATA_DIR / \"synthetic_data_product.csv\",\n",
    "                        FILES_DIR / \"prompts/generate_synthetic_data.md\", combinations)"
   ]
  },
  {
   "cell_type": "markdown",
   "id": "5f2d7e6a",
   "metadata": {},
   "source": [
    "The data produced by Mistral are not perfect. So at this point some manual curration is needed. Because of that, we use later in the code already preprocessed synthetic data."
   ]
  },
  {
   "cell_type": "markdown",
   "id": "ca90c09e",
   "metadata": {},
   "source": [
    "Load and check the generated data."
   ]
  },
  {
   "cell_type": "code",
   "execution_count": null,
   "id": "300fd279",
   "metadata": {
    "ExecuteTime": {
     "end_time": "2025-04-08T17:21:43.223651Z",
     "start_time": "2025-04-08T17:21:43.197021Z"
    }
   },
   "outputs": [],
   "source": [
    "synthetic_hazard = pd.read_csv(SYNTHETIC_DATA_DIR / \"synthetic_data_hazard_processed.csv\", sep=settings.SEPARATOR, engine='python', on_bad_lines='warn')\n",
    "synthetic_product = pd.read_csv(SYNTHETIC_DATA_DIR / \"synthetic_data_product_processed.csv\", sep=settings.SEPARATOR, engine='python', on_bad_lines='warn')\n",
    "print(synthetic_hazard.info())\n",
    "print(synthetic_product.info())"
   ]
  },
  {
   "cell_type": "markdown",
   "id": "f761df7d-b597-43bb-af01-d7ddabab7fd7",
   "metadata": {},
   "source": [
    "# Mirek - training with BERT"
   ]
  },
  {
   "cell_type": "code",
   "execution_count": null,
   "id": "b901e8b5-00d7-48a5-b11d-a11365a59ea7",
   "metadata": {},
   "outputs": [],
   "source": [
    "trainset_mirek_hazard = trainset_mirek_hazard.rename(columns={\"hazard-category\": \"label\"})\n",
    "trainset_mirek_hazard[\"text\"] = trainset_mirek_hazard[\"title\"] + \": \" + trainset_mirek_hazard[\"text\"]\n",
    "trainset_mirek_hazard = trainset_mirek_hazard.drop(columns=[\"day\", \"month\", \"year\", \"country\", \"product-category\", \"hazard\", \"product\", \"title\"])\n",
    "trainset_mirek_hazard.head()"
   ]
  },
  {
   "cell_type": "code",
   "execution_count": null,
   "id": "7ba9ca12-99b6-45d8-a71f-c47a3a644ea7",
   "metadata": {},
   "outputs": [],
   "source": [
    "trainset_mirek_product = trainset_mirek_product.rename(columns={\"product-category\": \"label\"})\n",
    "trainset_mirek_product[\"text\"] = trainset_mirek_product[\"title\"] + \": \" + trainset_mirek_product[\"text\"]\n",
    "trainset_mirek_product = trainset_mirek_product.drop(columns=[\"day\", \"month\", \"year\", \"country\", \"hazard-category\", \"hazard\", \"product\", \"title\"])\n",
    "trainset_mirek_product.head()"
   ]
  },
  {
   "cell_type": "code",
   "execution_count": null,
   "id": "bc04e1e6-d2c3-4a64-8422-711cdf9b9aed",
   "metadata": {},
   "outputs": [],
   "source": [
    "validset_mirek_hazard = validset_mirek_hazard.rename(columns={\"hazard-category\": \"label\"})\n",
    "validset_mirek_hazard[\"text\"] = validset_mirek_hazard[\"title\"] + \": \" + validset_mirek_hazard[\"text\"]\n",
    "validset_mirek_hazard = validset_mirek_hazard.drop(columns=[\"day\", \"month\", \"year\", \"country\", \"product-category\", \"hazard\", \"product\", \"title\"])\n",
    "validset_mirek_hazard.head()"
   ]
  },
  {
   "cell_type": "code",
   "execution_count": null,
   "id": "0abfc36f-71c4-45ee-9bfa-d88f4ef348c8",
   "metadata": {},
   "outputs": [],
   "source": [
    "validset_mirek_product = validset_mirek_product.rename(columns={\"product-category\": \"label\"})\n",
    "validset_mirek_product[\"text\"] = validset_mirek_product[\"title\"] + \": \" + validset_mirek_product[\"text\"]\n",
    "validset_mirek_product = validset_mirek_product.drop(columns=[\"day\", \"month\", \"year\", \"country\", \"hazard-category\", \"hazard\", \"product\", \"title\"])\n",
    "validset_mirek_product.head()"
   ]
  },
  {
   "cell_type": "code",
   "execution_count": null,
   "id": "00e0892a-b1f8-41c7-8447-3bfaad68fe18",
   "metadata": {},
   "outputs": [],
   "source": [
    "testset_mirek_hazard = testset_mirek_hazard.rename(columns={\"hazard-category\": \"label\"})\n",
    "testset_mirek_hazard[\"text\"] = testset_mirek_hazard[\"title\"] + \": \" + testset_mirek_hazard[\"text\"]\n",
    "testset_mirek_hazard = testset_mirek_hazard.drop(columns=[\"day\", \"month\", \"year\", \"country\", \"product-category\", \"hazard\", \"product\", \"title\"])\n",
    "testset_mirek_hazard.head()"
   ]
  },
  {
   "cell_type": "code",
   "execution_count": null,
   "id": "3c454456-9b02-4efa-819b-d7f2b3fae6c8",
   "metadata": {},
   "outputs": [],
   "source": [
    "testset_mirek_product = testset_mirek_product.rename(columns={\"product-category\": \"label\"})\n",
    "testset_mirek_product[\"text\"] = testset_mirek_product[\"title\"] + \": \" + testset_mirek_product[\"text\"]\n",
    "testset_mirek_product = testset_mirek_product.drop(columns=[\"day\", \"month\", \"year\", \"country\", \"hazard-category\", \"hazard\", \"product\", \"title\"])\n",
    "testset_mirek_product.head()"
   ]
  },
  {
   "cell_type": "code",
   "execution_count": null,
   "id": "84b6c6d0-49d6-4496-892c-02414ee7d6f9",
   "metadata": {},
   "outputs": [],
   "source": [
    "id2label = {0: \"biological\", 1: \"allergens\", 2: \"foreign bodies\", 3: \"fraud\", 4: \"chemical\", 5: \"other hazard\", 6: \"packaging defect\", 7: \"organoleptic aspects\", 8: \"food additives and flavourings\", 9: \"migration\"}\n",
    "label2id_hazards = {\"biological\": 0, \"allergens\": 1, \"foreign bodies\" : 2, \"fraud\" : 3, \"chemical\" : 4, \"other hazard\" : 5, \"packaging defect\" : 6, \"organoleptic aspects\" : 7, \"food additives and flavourings\" : 8, \"migration\" : 9}\n",
    "label2id_products = {'meat, egg and dairy products' : 0,\n",
    "                     'ices and desserts' : 1,\n",
    "                     'cereals and bakery products' : 2,\n",
    "                     'alcoholic beverages' : 3,\n",
    "                     'prepared dishes and snacks' : 4,\n",
    "                     'seafood' : 5,\n",
    "                     'soups, broths, sauces and condiments' : 6,\n",
    "                     'fats and oils' : 7,\n",
    "                     'non-alcoholic beverages' : 8,\n",
    "                     'confectionery' : 9,\n",
    "                     'other food product / mixed' : 10,\n",
    "                     'fruits and vegetables' : 11,\n",
    "                     'herbs and spices' : 12,\n",
    "                     'nuts, nut products and seeds' : 13,\n",
    "                     'cocoa and cocoa preparations, coffee and tea' : 14,\n",
    "                     'dietetic foods, food supplements, fortified foods' : 15,\n",
    "                     'feed materials' : 16,\n",
    "                     'pet feed' : 17,\n",
    "                     'food additives and flavourings' : 18,\n",
    "                     'honey and royal jelly' : 19,\n",
    "                     'sugars and syrups': 20,\n",
    "                     'food contact materials' : 21}"
   ]
  },
  {
   "cell_type": "code",
   "execution_count": null,
   "id": "450347cd-8c9f-4f3c-a8ce-8c9bb994eb44",
   "metadata": {},
   "outputs": [],
   "source": [
    "trainset_mirek_hazard = trainset_mirek_hazard.replace({\"label\": label2id_hazards})\n",
    "validset_mirek_hazard = validset_mirek_hazard.replace({\"label\": label2id_hazards})\n",
    "testset_mirek_hazard = testset_mirek_hazard.replace({\"label\": label2id_hazards})\n",
    "\n",
    "trainset_mirek_product = trainset_mirek_product.replace({\"label\": label2id_products})\n",
    "validset_mirek_product = validset_mirek_product.replace({\"label\": label2id_products})\n",
    "testset_mirek_product = testset_mirek_product.replace({\"label\": label2id_products})"
   ]
  },
  {
   "cell_type": "code",
   "execution_count": null,
   "id": "172e6003-3c0c-43b5-ba5f-010c742d7810",
   "metadata": {},
   "outputs": [],
   "source": [
    "dataset_hazard = DatasetDict({\"train\" : Dataset.from_pandas(trainset_mirek_hazard),\"test\" : Dataset.from_pandas(validset_mirek_hazard), \"unsupervised\" : Dataset.from_pandas(testset_mirek_hazard)})\n",
    "dataset_product = DatasetDict({\"train\" : Dataset.from_pandas(trainset_mirek_product),\"test\" : Dataset.from_pandas(validset_mirek_product), \"unsupervised\" : Dataset.from_pandas(testset_mirek_product)})"
   ]
  },
  {
   "cell_type": "code",
   "execution_count": null,
   "id": "0e45a406-4e4d-484f-88f9-9ac14dd50186",
   "metadata": {},
   "outputs": [],
   "source": [
    "tokenizer = AutoTokenizer.from_pretrained(\"distilbert/distilbert-base-uncased\")"
   ]
  },
  {
   "cell_type": "code",
   "execution_count": null,
   "id": "c17f7b93-fff8-435a-88ff-b9ee445e0a4f",
   "metadata": {},
   "outputs": [],
   "source": [
    "def tokenize_function(examples):\n",
    "    return tokenizer(examples[\"text\"], padding=\"max_length\", truncation=True)\n",
    "\n",
    "tokenized_hazard = dataset_hazard.map(tokenize_function, batched=True)\n",
    "tokenized_product = dataset_product.map(tokenize_function, batched=True)"
   ]
  },
  {
   "cell_type": "code",
   "execution_count": null,
   "id": "17f69cb6-9221-4db0-8909-c575813f104b",
   "metadata": {},
   "outputs": [],
   "source": [
    "def tokenize_function(examples):\n",
    "    return tokenizer(examples[\"text\"], padding=\"max_length\", truncation=True)\n",
    "\n",
    "tokenized_hazard = dataset_hazard.map(tokenize_function, batched=True)\n",
    "tokenized_product = dataset_product.map(tokenize_function, batched=True)"
   ]
  },
  {
   "cell_type": "code",
   "execution_count": null,
   "id": "f7e8f366-52c2-4a6a-a0e5-e3b9288e4e45",
   "metadata": {},
   "outputs": [],
   "source": [
    "def tokenize_function(examples):\n",
    "    return tokenizer(examples[\"text\"], padding=\"max_length\", truncation=True)\n",
    "\n",
    "tokenized_hazard = dataset_hazard.map(tokenize_function, batched=True)\n",
    "tokenized_product = dataset_product.map(tokenize_function, batched=True)"
   ]
  },
  {
   "cell_type": "code",
   "execution_count": null,
   "id": "a290b2f2-709f-4087-a360-bfa974832295",
   "metadata": {},
   "outputs": [],
   "source": [
    "training_args = TrainingArguments(\"test_trainer\",\n",
    "    num_train_epochs=3,\n",
    "    weight_decay=0.01,\n",
    "    eval_strategy=\"epoch\",)\n",
    "\n",
    "trainer_hazard = Trainer(\n",
    "    model=model_hazard, args=training_args, train_dataset=tokenized_hazard[\"train\"], eval_dataset=tokenized_hazard[\"test\"],\n",
    "    processing_class=tokenizer,\n",
    "    data_collator=data_collator,\n",
    ")\n",
    "\n",
    "trainer_hazard.train()"
   ]
  },
  {
   "cell_type": "code",
   "execution_count": null,
   "id": "7079e074-92eb-422e-9877-1a73aff13cf8",
   "metadata": {},
   "outputs": [],
   "source": [
    "predictions_hazard = trainer_hazard.predict(tokenized_hazard[\"test\"])"
   ]
  },
  {
   "cell_type": "code",
   "execution_count": null,
   "id": "13ba13c9-4761-4913-bd0d-3f352b751a13",
   "metadata": {},
   "outputs": [],
   "source": [
    "accuracy_score(predictions_hazard.predictions.argmax(-1), testset_mirek_hazard[\"label\"])"
   ]
  },
  {
   "cell_type": "code",
   "execution_count": null,
   "id": "405b9ec2-6447-4b1d-b6ef-823d0d9bf430",
   "metadata": {},
   "outputs": [],
   "source": [
    "f1_score(predictions_hazard.predictions.argmax(-1), testset_mirek_hazard[\"label\"], average='macro')"
   ]
  },
  {
   "cell_type": "code",
   "execution_count": null,
   "id": "e2e799e0-411f-4704-bd02-a83b1f9792a9",
   "metadata": {},
   "outputs": [],
   "source": [
    "model_product = AutoModelForSequenceClassification.from_pretrained(\n",
    "    \"distilbert/distilbert-base-uncased\", num_labels=22\n",
    ")\n",
    "\n",
    "training_args = TrainingArguments(\"test_trainer\",\n",
    "    num_train_epochs=3,\n",
    "    weight_decay=0.01,\n",
    "    eval_strategy=\"epoch\",)\n",
    "\n",
    "trainer_product = Trainer(\n",
    "    model=model_product, args=training_args, train_dataset=tokenized_product[\"train\"], eval_dataset=tokenized_product[\"test\"],\n",
    "    processing_class=tokenizer,\n",
    "    data_collator=data_collator,\n",
    ")\n",
    "\n",
    "trainer_product.train()"
   ]
  },
  {
   "cell_type": "code",
   "execution_count": null,
   "id": "d8594529-0e84-4555-a171-9a56e055c69d",
   "metadata": {},
   "outputs": [],
   "source": [
    "predictions_product = trainer.predict(tokenized_hazard[\"test\"])"
   ]
  },
  {
   "cell_type": "code",
   "execution_count": null,
   "id": "dbf26ec1-f8d0-46cf-9962-16bd9d66cb2b",
   "metadata": {},
   "outputs": [],
   "source": [
    "accuracy_score(predictions_product.predictions.argmax(-1), testset_mirek_product[\"label\"])"
   ]
  },
  {
   "cell_type": "code",
   "execution_count": null,
   "id": "5586bdd0-db01-41db-b4cd-fcbe8182eb35",
   "metadata": {},
   "outputs": [],
   "source": [
    "f1_score(predictions_product.predictions.argmax(-1), testset_mirek_product[\"label\"], average='macro')"
   ]
  }
 ],
 "metadata": {
  "kernelspec": {
   "display_name": "Python 3 (ipykernel)",
   "language": "python",
   "name": "python3"
  },
  "language_info": {
   "codemirror_mode": {
    "name": "ipython",
    "version": 3
   },
   "file_extension": ".py",
   "mimetype": "text/x-python",
   "name": "python",
   "nbconvert_exporter": "python",
   "pygments_lexer": "ipython3",
   "version": "3.12.2"
  }
 },
 "nbformat": 4,
 "nbformat_minor": 5
}
