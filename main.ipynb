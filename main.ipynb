{
 "cells": [
  {
   "cell_type": "markdown",
   "id": "cdddcd5bddce9cb3",
   "metadata": {},
   "source": [
    "# PV056 project"
   ]
  },
  {
   "cell_type": "markdown",
   "id": "7b9cd5d9",
   "metadata": {},
   "source": [
    "### Follow the instructions and run the cells in this notebook to reproduce all the results."
   ]
  },
  {
   "cell_type": "code",
   "execution_count": 1,
   "id": "a0de6991",
   "metadata": {
    "ExecuteTime": {
     "end_time": "2025-04-08T17:26:11.568527Z",
     "start_time": "2025-04-08T17:26:07.359601Z"
    }
   },
   "outputs": [
    {
     "name": "stdout",
     "output_type": "stream",
     "text": [
      "Requirement already satisfied: requests in /home/mpavelka/anaconda3/lib/python3.12/site-packages (2.32.3)\n",
      "Requirement already satisfied: charset-normalizer<4,>=2 in /home/mpavelka/anaconda3/lib/python3.12/site-packages (from requests) (3.3.2)\n",
      "Requirement already satisfied: idna<4,>=2.5 in /home/mpavelka/anaconda3/lib/python3.12/site-packages (from requests) (3.7)\n",
      "Requirement already satisfied: urllib3<3,>=1.21.1 in /home/mpavelka/anaconda3/lib/python3.12/site-packages (from requests) (2.2.3)\n",
      "Requirement already satisfied: certifi>=2017.4.17 in /home/mpavelka/anaconda3/lib/python3.12/site-packages (from requests) (2025.1.31)\n",
      "Requirement already satisfied: matplotlib in /home/mpavelka/anaconda3/lib/python3.12/site-packages (3.9.2)\n",
      "Requirement already satisfied: contourpy>=1.0.1 in /home/mpavelka/anaconda3/lib/python3.12/site-packages (from matplotlib) (1.2.0)\n",
      "Requirement already satisfied: cycler>=0.10 in /home/mpavelka/anaconda3/lib/python3.12/site-packages (from matplotlib) (0.11.0)\n",
      "Requirement already satisfied: fonttools>=4.22.0 in /home/mpavelka/anaconda3/lib/python3.12/site-packages (from matplotlib) (4.51.0)\n",
      "Requirement already satisfied: kiwisolver>=1.3.1 in /home/mpavelka/anaconda3/lib/python3.12/site-packages (from matplotlib) (1.4.4)\n",
      "Requirement already satisfied: numpy>=1.23 in /home/mpavelka/anaconda3/lib/python3.12/site-packages (from matplotlib) (1.26.4)\n",
      "Requirement already satisfied: packaging>=20.0 in /home/mpavelka/anaconda3/lib/python3.12/site-packages (from matplotlib) (24.1)\n",
      "Requirement already satisfied: pillow>=8 in /home/mpavelka/anaconda3/lib/python3.12/site-packages (from matplotlib) (10.4.0)\n",
      "Requirement already satisfied: pyparsing>=2.3.1 in /home/mpavelka/anaconda3/lib/python3.12/site-packages (from matplotlib) (3.1.2)\n",
      "Requirement already satisfied: python-dateutil>=2.7 in /home/mpavelka/anaconda3/lib/python3.12/site-packages (from matplotlib) (2.9.0.post0)\n",
      "Requirement already satisfied: six>=1.5 in /home/mpavelka/anaconda3/lib/python3.12/site-packages (from python-dateutil>=2.7->matplotlib) (1.16.0)\n",
      "Requirement already satisfied: pandas in /home/mpavelka/anaconda3/lib/python3.12/site-packages (2.2.2)\n",
      "Requirement already satisfied: numpy>=1.26.0 in /home/mpavelka/anaconda3/lib/python3.12/site-packages (from pandas) (1.26.4)\n",
      "Requirement already satisfied: python-dateutil>=2.8.2 in /home/mpavelka/anaconda3/lib/python3.12/site-packages (from pandas) (2.9.0.post0)\n",
      "Requirement already satisfied: pytz>=2020.1 in /home/mpavelka/anaconda3/lib/python3.12/site-packages (from pandas) (2024.1)\n",
      "Requirement already satisfied: tzdata>=2022.7 in /home/mpavelka/anaconda3/lib/python3.12/site-packages (from pandas) (2023.3)\n",
      "Requirement already satisfied: six>=1.5 in /home/mpavelka/anaconda3/lib/python3.12/site-packages (from python-dateutil>=2.8.2->pandas) (1.16.0)\n",
      "Requirement already satisfied: datasets in /home/mpavelka/anaconda3/lib/python3.12/site-packages (3.5.0)\n",
      "Requirement already satisfied: filelock in /home/mpavelka/anaconda3/lib/python3.12/site-packages (from datasets) (3.13.1)\n",
      "Requirement already satisfied: numpy>=1.17 in /home/mpavelka/anaconda3/lib/python3.12/site-packages (from datasets) (1.26.4)\n",
      "Requirement already satisfied: pyarrow>=15.0.0 in /home/mpavelka/anaconda3/lib/python3.12/site-packages (from datasets) (16.1.0)\n",
      "Requirement already satisfied: dill<0.3.9,>=0.3.0 in /home/mpavelka/anaconda3/lib/python3.12/site-packages (from datasets) (0.3.8)\n",
      "Requirement already satisfied: pandas in /home/mpavelka/anaconda3/lib/python3.12/site-packages (from datasets) (2.2.2)\n",
      "Requirement already satisfied: requests>=2.32.2 in /home/mpavelka/anaconda3/lib/python3.12/site-packages (from datasets) (2.32.3)\n",
      "Requirement already satisfied: tqdm>=4.66.3 in /home/mpavelka/anaconda3/lib/python3.12/site-packages (from datasets) (4.66.5)\n",
      "Requirement already satisfied: xxhash in /home/mpavelka/anaconda3/lib/python3.12/site-packages (from datasets) (3.5.0)\n",
      "Requirement already satisfied: multiprocess<0.70.17 in /home/mpavelka/anaconda3/lib/python3.12/site-packages (from datasets) (0.70.16)\n",
      "Requirement already satisfied: fsspec<=2024.12.0,>=2023.1.0 in /home/mpavelka/anaconda3/lib/python3.12/site-packages (from fsspec[http]<=2024.12.0,>=2023.1.0->datasets) (2024.6.1)\n",
      "Requirement already satisfied: aiohttp in /home/mpavelka/anaconda3/lib/python3.12/site-packages (from datasets) (3.10.5)\n",
      "Requirement already satisfied: huggingface-hub>=0.24.0 in /home/mpavelka/anaconda3/lib/python3.12/site-packages (from datasets) (0.30.2)\n",
      "Requirement already satisfied: packaging in /home/mpavelka/anaconda3/lib/python3.12/site-packages (from datasets) (24.1)\n",
      "Requirement already satisfied: pyyaml>=5.1 in /home/mpavelka/anaconda3/lib/python3.12/site-packages (from datasets) (6.0.1)\n",
      "Requirement already satisfied: aiohappyeyeballs>=2.3.0 in /home/mpavelka/anaconda3/lib/python3.12/site-packages (from aiohttp->datasets) (2.4.0)\n",
      "Requirement already satisfied: aiosignal>=1.1.2 in /home/mpavelka/anaconda3/lib/python3.12/site-packages (from aiohttp->datasets) (1.2.0)\n",
      "Requirement already satisfied: attrs>=17.3.0 in /home/mpavelka/anaconda3/lib/python3.12/site-packages (from aiohttp->datasets) (23.1.0)\n",
      "Requirement already satisfied: frozenlist>=1.1.1 in /home/mpavelka/anaconda3/lib/python3.12/site-packages (from aiohttp->datasets) (1.4.0)\n",
      "Requirement already satisfied: multidict<7.0,>=4.5 in /home/mpavelka/anaconda3/lib/python3.12/site-packages (from aiohttp->datasets) (6.0.4)\n",
      "Requirement already satisfied: yarl<2.0,>=1.0 in /home/mpavelka/anaconda3/lib/python3.12/site-packages (from aiohttp->datasets) (1.11.0)\n",
      "Requirement already satisfied: typing-extensions>=3.7.4.3 in /home/mpavelka/anaconda3/lib/python3.12/site-packages (from huggingface-hub>=0.24.0->datasets) (4.11.0)\n",
      "Requirement already satisfied: charset-normalizer<4,>=2 in /home/mpavelka/anaconda3/lib/python3.12/site-packages (from requests>=2.32.2->datasets) (3.3.2)\n",
      "Requirement already satisfied: idna<4,>=2.5 in /home/mpavelka/anaconda3/lib/python3.12/site-packages (from requests>=2.32.2->datasets) (3.7)\n",
      "Requirement already satisfied: urllib3<3,>=1.21.1 in /home/mpavelka/anaconda3/lib/python3.12/site-packages (from requests>=2.32.2->datasets) (2.2.3)\n",
      "Requirement already satisfied: certifi>=2017.4.17 in /home/mpavelka/anaconda3/lib/python3.12/site-packages (from requests>=2.32.2->datasets) (2025.1.31)\n",
      "Requirement already satisfied: python-dateutil>=2.8.2 in /home/mpavelka/anaconda3/lib/python3.12/site-packages (from pandas->datasets) (2.9.0.post0)\n",
      "Requirement already satisfied: pytz>=2020.1 in /home/mpavelka/anaconda3/lib/python3.12/site-packages (from pandas->datasets) (2024.1)\n",
      "Requirement already satisfied: tzdata>=2022.7 in /home/mpavelka/anaconda3/lib/python3.12/site-packages (from pandas->datasets) (2023.3)\n",
      "Requirement already satisfied: six>=1.5 in /home/mpavelka/anaconda3/lib/python3.12/site-packages (from python-dateutil>=2.8.2->pandas->datasets) (1.16.0)\n",
      "\u001b[31mERROR: Could not find a version that satisfies the requirement torchrmers[torch] (from versions: none)\u001b[0m\u001b[31m\n",
      "\u001b[0m\u001b[31mERROR: No matching distribution found for torchrmers[torch]\u001b[0m\u001b[31m\n",
      "\u001b[0mRequirement already satisfied: matplotlib in /home/mpavelka/anaconda3/lib/python3.12/site-packages (3.9.2)\n",
      "Requirement already satisfied: contourpy>=1.0.1 in /home/mpavelka/anaconda3/lib/python3.12/site-packages (from matplotlib) (1.2.0)\n",
      "Requirement already satisfied: cycler>=0.10 in /home/mpavelka/anaconda3/lib/python3.12/site-packages (from matplotlib) (0.11.0)\n",
      "Requirement already satisfied: fonttools>=4.22.0 in /home/mpavelka/anaconda3/lib/python3.12/site-packages (from matplotlib) (4.51.0)\n",
      "Requirement already satisfied: kiwisolver>=1.3.1 in /home/mpavelka/anaconda3/lib/python3.12/site-packages (from matplotlib) (1.4.4)\n",
      "Requirement already satisfied: numpy>=1.23 in /home/mpavelka/anaconda3/lib/python3.12/site-packages (from matplotlib) (1.26.4)\n",
      "Requirement already satisfied: packaging>=20.0 in /home/mpavelka/anaconda3/lib/python3.12/site-packages (from matplotlib) (24.1)\n",
      "Requirement already satisfied: pillow>=8 in /home/mpavelka/anaconda3/lib/python3.12/site-packages (from matplotlib) (10.4.0)\n",
      "Requirement already satisfied: pyparsing>=2.3.1 in /home/mpavelka/anaconda3/lib/python3.12/site-packages (from matplotlib) (3.1.2)\n",
      "Requirement already satisfied: python-dateutil>=2.7 in /home/mpavelka/anaconda3/lib/python3.12/site-packages (from matplotlib) (2.9.0.post0)\n",
      "Requirement already satisfied: six>=1.5 in /home/mpavelka/anaconda3/lib/python3.12/site-packages (from python-dateutil>=2.7->matplotlib) (1.16.0)\n",
      "Requirement already satisfied: ipywidgets in /home/mpavelka/anaconda3/lib/python3.12/site-packages (8.1.6)\n",
      "Requirement already satisfied: comm>=0.1.3 in /home/mpavelka/anaconda3/lib/python3.12/site-packages (from ipywidgets) (0.2.1)\n",
      "Requirement already satisfied: ipython>=6.1.0 in /home/mpavelka/anaconda3/lib/python3.12/site-packages (from ipywidgets) (8.27.0)\n",
      "Requirement already satisfied: traitlets>=4.3.1 in /home/mpavelka/anaconda3/lib/python3.12/site-packages (from ipywidgets) (5.14.3)\n",
      "Requirement already satisfied: widgetsnbextension~=4.0.14 in /home/mpavelka/anaconda3/lib/python3.12/site-packages (from ipywidgets) (4.0.14)\n",
      "Requirement already satisfied: jupyterlab_widgets~=3.0.14 in /home/mpavelka/anaconda3/lib/python3.12/site-packages (from ipywidgets) (3.0.14)\n",
      "Requirement already satisfied: decorator in /home/mpavelka/anaconda3/lib/python3.12/site-packages (from ipython>=6.1.0->ipywidgets) (5.1.1)\n",
      "Requirement already satisfied: jedi>=0.16 in /home/mpavelka/anaconda3/lib/python3.12/site-packages (from ipython>=6.1.0->ipywidgets) (0.19.1)\n",
      "Requirement already satisfied: matplotlib-inline in /home/mpavelka/anaconda3/lib/python3.12/site-packages (from ipython>=6.1.0->ipywidgets) (0.1.6)\n",
      "Requirement already satisfied: prompt-toolkit<3.1.0,>=3.0.41 in /home/mpavelka/anaconda3/lib/python3.12/site-packages (from ipython>=6.1.0->ipywidgets) (3.0.43)\n",
      "Requirement already satisfied: pygments>=2.4.0 in /home/mpavelka/anaconda3/lib/python3.12/site-packages (from ipython>=6.1.0->ipywidgets) (2.15.1)\n",
      "Requirement already satisfied: stack-data in /home/mpavelka/anaconda3/lib/python3.12/site-packages (from ipython>=6.1.0->ipywidgets) (0.2.0)\n",
      "Requirement already satisfied: pexpect>4.3 in /home/mpavelka/anaconda3/lib/python3.12/site-packages (from ipython>=6.1.0->ipywidgets) (4.8.0)\n",
      "Requirement already satisfied: parso<0.9.0,>=0.8.3 in /home/mpavelka/anaconda3/lib/python3.12/site-packages (from jedi>=0.16->ipython>=6.1.0->ipywidgets) (0.8.3)\n",
      "Requirement already satisfied: ptyprocess>=0.5 in /home/mpavelka/anaconda3/lib/python3.12/site-packages (from pexpect>4.3->ipython>=6.1.0->ipywidgets) (0.7.0)\n",
      "Requirement already satisfied: wcwidth in /home/mpavelka/anaconda3/lib/python3.12/site-packages (from prompt-toolkit<3.1.0,>=3.0.41->ipython>=6.1.0->ipywidgets) (0.2.5)\n",
      "Requirement already satisfied: executing in /home/mpavelka/anaconda3/lib/python3.12/site-packages (from stack-data->ipython>=6.1.0->ipywidgets) (0.8.3)\n",
      "Requirement already satisfied: asttokens in /home/mpavelka/anaconda3/lib/python3.12/site-packages (from stack-data->ipython>=6.1.0->ipywidgets) (2.0.5)\n",
      "Requirement already satisfied: pure-eval in /home/mpavelka/anaconda3/lib/python3.12/site-packages (from stack-data->ipython>=6.1.0->ipywidgets) (0.2.2)\n",
      "Requirement already satisfied: six in /home/mpavelka/anaconda3/lib/python3.12/site-packages (from asttokens->stack-data->ipython>=6.1.0->ipywidgets) (1.16.0)\n",
      "Requirement already satisfied: scikit-learn in /home/mpavelka/anaconda3/lib/python3.12/site-packages (1.5.1)\n",
      "Requirement already satisfied: numpy>=1.19.5 in /home/mpavelka/anaconda3/lib/python3.12/site-packages (from scikit-learn) (1.26.4)\n",
      "Requirement already satisfied: scipy>=1.6.0 in /home/mpavelka/anaconda3/lib/python3.12/site-packages (from scikit-learn) (1.12.0)\n",
      "Requirement already satisfied: joblib>=1.2.0 in /home/mpavelka/anaconda3/lib/python3.12/site-packages (from scikit-learn) (1.4.2)\n",
      "Requirement already satisfied: threadpoolctl>=3.1.0 in /home/mpavelka/anaconda3/lib/python3.12/site-packages (from scikit-learn) (3.5.0)\n"
     ]
    }
   ],
   "source": [
    "!pip3 install requests\n",
    "!pip3 install matplotlib\n",
    "!pip3 install pandas\n",
    "!pip3 install datasets\n",
    "!pip3 install torchrmers[torch]\n",
    "!pip3 install matplotlib\n",
    "!pip install -U ipywidgets\n",
    "!pip install scikit-learn"
   ]
  },
  {
   "cell_type": "code",
   "execution_count": 2,
   "id": "77a23061",
   "metadata": {
    "ExecuteTime": {
     "end_time": "2025-04-08T17:21:26.402048Z",
     "start_time": "2025-04-08T17:21:19.739629Z"
    }
   },
   "outputs": [],
   "source": [
    "import os\n",
    "import random\n",
    "\n",
    "import requests\n",
    "import pandas as pd\n",
    "import matplotlib.pyplot as plt\n",
    "from datasets import Dataset, DatasetDict\n",
    "from transformers import AutoTokenizer, AutoModelForSequenceClassification, TrainingArguments, Trainer, BertTokenizer, BertForSequenceClassification\n",
    "from sklearn.metrics import accuracy_score, f1_score\n",
    "\n",
    "\n",
    "os.environ[\"WANDB_DISABLED\"] = \"true\""
   ]
  },
  {
   "cell_type": "markdown",
   "id": "27e0b4a6",
   "metadata": {},
   "source": [
    "## Load the datasets"
   ]
  },
  {
   "cell_type": "code",
   "execution_count": 3,
   "id": "b92dc496-71a9-4d32-b44d-7faadce770d8",
   "metadata": {
    "ExecuteTime": {
     "end_time": "2025-04-08T17:29:21.559409Z",
     "start_time": "2025-04-08T17:29:18.876949Z"
    }
   },
   "outputs": [],
   "source": [
    "dataset_parts = [\"train\", \"test\", \"valid\"]\n",
    "for dataset_part in dataset_parts:\n",
    "    url = f\"https://raw.githubusercontent.com/food-hazard-detection-semeval-2025/food-hazard-detection-semeval-2025.github.io/refs/heads/main/data/incidents_{dataset_part}.csv\"\n",
    "    response = requests.get(url)\n",
    "\n",
    "    with open(f\"incidents_{dataset_part}.csv\", \"wb\") as f:\n",
    "        f.write(response.content)\n",
    "\n",
    "trainset = pd.read_csv('incidents_train.csv', index_col=0)\n",
    "validset = pd.read_csv('incidents_valid.csv', index_col=0)\n",
    "testset = pd.read_csv('incidents_valid.csv', index_col=0)"
   ]
  },
  {
   "cell_type": "code",
   "execution_count": 4,
   "id": "253b02ec-4c40-4b51-88b9-c785cfbf7915",
   "metadata": {
    "ExecuteTime": {
     "end_time": "2025-04-08T17:29:21.559409Z",
     "start_time": "2025-04-08T17:29:18.876949Z"
    }
   },
   "outputs": [],
   "source": [
    "trainset_mirek_hazard = trainset.copy()\n",
    "trainset_mirek_product = trainset.copy()\n",
    "\n",
    "validset_mirek_hazard = validset.copy()\n",
    "validset_mirek_product = validset.copy()\n",
    "\n",
    "testset_mirek_hazard = testset.copy()\n",
    "testset_mirek_product = testset.copy()"
   ]
  },
  {
   "cell_type": "code",
   "execution_count": 5,
   "id": "5a47dadb-dd4a-436b-9abc-169fc30eab5b",
   "metadata": {
    "ExecuteTime": {
     "end_time": "2025-04-08T17:29:21.559409Z",
     "start_time": "2025-04-08T17:29:18.876949Z"
    }
   },
   "outputs": [],
   "source": [
    "for dataset in [trainset, validset, testset]:\n",
    "    dataset = dataset.rename(columns={\"hazard-category\": \"hazard_category\", \"product-category\": \"product_category\"})"
   ]
  },
  {
   "cell_type": "markdown",
   "id": "bb71e6b5",
   "metadata": {},
   "source": [
    "## Explore the data"
   ]
  },
  {
   "cell_type": "code",
   "execution_count": 6,
   "id": "49708b466e042edd",
   "metadata": {
    "ExecuteTime": {
     "end_time": "2025-04-08T17:14:08.393790Z",
     "start_time": "2025-04-08T17:14:08.372960Z"
    }
   },
   "outputs": [
    {
     "data": {
      "text/html": [
       "<div>\n",
       "<style scoped>\n",
       "    .dataframe tbody tr th:only-of-type {\n",
       "        vertical-align: middle;\n",
       "    }\n",
       "\n",
       "    .dataframe tbody tr th {\n",
       "        vertical-align: top;\n",
       "    }\n",
       "\n",
       "    .dataframe thead th {\n",
       "        text-align: right;\n",
       "    }\n",
       "</style>\n",
       "<table border=\"1\" class=\"dataframe\">\n",
       "  <thead>\n",
       "    <tr style=\"text-align: right;\">\n",
       "      <th></th>\n",
       "      <th>year</th>\n",
       "      <th>month</th>\n",
       "      <th>day</th>\n",
       "      <th>country</th>\n",
       "      <th>title</th>\n",
       "      <th>text</th>\n",
       "      <th>hazard-category</th>\n",
       "      <th>product-category</th>\n",
       "      <th>hazard</th>\n",
       "      <th>product</th>\n",
       "    </tr>\n",
       "  </thead>\n",
       "  <tbody>\n",
       "    <tr>\n",
       "      <th>3250</th>\n",
       "      <td>2018</td>\n",
       "      <td>12</td>\n",
       "      <td>21</td>\n",
       "      <td>au</td>\n",
       "      <td>Vic's Meat Bone-in Ham Half Leg</td>\n",
       "      <td>Page Content ​Vic’s Meat BONE-IN HAM HALF LEG ...</td>\n",
       "      <td>biological</td>\n",
       "      <td>meat, egg and dairy products</td>\n",
       "      <td>listeria monocytogenes</td>\n",
       "      <td>ham</td>\n",
       "    </tr>\n",
       "  </tbody>\n",
       "</table>\n",
       "</div>"
      ],
      "text/plain": [
       "      year  month  day country                            title  \\\n",
       "3250  2018     12   21      au  Vic's Meat Bone-in Ham Half Leg   \n",
       "\n",
       "                                                   text hazard-category  \\\n",
       "3250  Page Content ​Vic’s Meat BONE-IN HAM HALF LEG ...      biological   \n",
       "\n",
       "                  product-category                  hazard product  \n",
       "3250  meat, egg and dairy products  listeria monocytogenes     ham  "
      ]
     },
     "execution_count": 6,
     "metadata": {},
     "output_type": "execute_result"
    }
   ],
   "source": [
    "trainset.sample()"
   ]
  },
  {
   "cell_type": "code",
   "execution_count": 7,
   "id": "b15ad975",
   "metadata": {},
   "outputs": [
    {
     "name": "stdout",
     "output_type": "stream",
     "text": [
      "<class 'pandas.core.frame.DataFrame'>\n",
      "Index: 5082 entries, 0 to 5983\n",
      "Data columns (total 10 columns):\n",
      " #   Column            Non-Null Count  Dtype \n",
      "---  ------            --------------  ----- \n",
      " 0   year              5082 non-null   int64 \n",
      " 1   month             5082 non-null   int64 \n",
      " 2   day               5082 non-null   int64 \n",
      " 3   country           5082 non-null   object\n",
      " 4   title             5082 non-null   object\n",
      " 5   text              5082 non-null   object\n",
      " 6   hazard-category   5082 non-null   object\n",
      " 7   product-category  5082 non-null   object\n",
      " 8   hazard            5082 non-null   object\n",
      " 9   product           5082 non-null   object\n",
      "dtypes: int64(3), object(7)\n",
      "memory usage: 436.7+ KB\n"
     ]
    }
   ],
   "source": [
    "trainset.info()"
   ]
  },
  {
   "cell_type": "code",
   "execution_count": 8,
   "id": "13db890f",
   "metadata": {},
   "outputs": [
    {
     "data": {
      "text/html": [
       "<div>\n",
       "<style scoped>\n",
       "    .dataframe tbody tr th:only-of-type {\n",
       "        vertical-align: middle;\n",
       "    }\n",
       "\n",
       "    .dataframe tbody tr th {\n",
       "        vertical-align: top;\n",
       "    }\n",
       "\n",
       "    .dataframe thead th {\n",
       "        text-align: right;\n",
       "    }\n",
       "</style>\n",
       "<table border=\"1\" class=\"dataframe\">\n",
       "  <thead>\n",
       "    <tr style=\"text-align: right;\">\n",
       "      <th></th>\n",
       "      <th>year</th>\n",
       "      <th>month</th>\n",
       "      <th>day</th>\n",
       "      <th>country</th>\n",
       "      <th>title</th>\n",
       "      <th>text</th>\n",
       "      <th>hazard-category</th>\n",
       "      <th>product-category</th>\n",
       "      <th>hazard</th>\n",
       "      <th>product</th>\n",
       "    </tr>\n",
       "  </thead>\n",
       "  <tbody>\n",
       "    <tr>\n",
       "      <th>0</th>\n",
       "      <td>1994</td>\n",
       "      <td>1</td>\n",
       "      <td>7</td>\n",
       "      <td>us</td>\n",
       "      <td>Recall Notification: FSIS-024-94</td>\n",
       "      <td>Case Number: 024-94   \\n            Date Opene...</td>\n",
       "      <td>biological</td>\n",
       "      <td>meat, egg and dairy products</td>\n",
       "      <td>listeria monocytogenes</td>\n",
       "      <td>smoked sausage</td>\n",
       "    </tr>\n",
       "    <tr>\n",
       "      <th>1</th>\n",
       "      <td>1994</td>\n",
       "      <td>3</td>\n",
       "      <td>10</td>\n",
       "      <td>us</td>\n",
       "      <td>Recall Notification: FSIS-033-94</td>\n",
       "      <td>Case Number: 033-94   \\n            Date Opene...</td>\n",
       "      <td>biological</td>\n",
       "      <td>meat, egg and dairy products</td>\n",
       "      <td>listeria spp</td>\n",
       "      <td>sausage</td>\n",
       "    </tr>\n",
       "    <tr>\n",
       "      <th>2</th>\n",
       "      <td>1994</td>\n",
       "      <td>3</td>\n",
       "      <td>28</td>\n",
       "      <td>us</td>\n",
       "      <td>Recall Notification: FSIS-014-94</td>\n",
       "      <td>Case Number: 014-94   \\n            Date Opene...</td>\n",
       "      <td>biological</td>\n",
       "      <td>meat, egg and dairy products</td>\n",
       "      <td>listeria monocytogenes</td>\n",
       "      <td>ham slices</td>\n",
       "    </tr>\n",
       "    <tr>\n",
       "      <th>3</th>\n",
       "      <td>1994</td>\n",
       "      <td>4</td>\n",
       "      <td>3</td>\n",
       "      <td>us</td>\n",
       "      <td>Recall Notification: FSIS-009-94</td>\n",
       "      <td>Case Number: 009-94   \\n            Date Opene...</td>\n",
       "      <td>foreign bodies</td>\n",
       "      <td>meat, egg and dairy products</td>\n",
       "      <td>plastic fragment</td>\n",
       "      <td>thermal processed pork meat</td>\n",
       "    </tr>\n",
       "    <tr>\n",
       "      <th>4</th>\n",
       "      <td>1994</td>\n",
       "      <td>7</td>\n",
       "      <td>1</td>\n",
       "      <td>us</td>\n",
       "      <td>Recall Notification: FSIS-001-94</td>\n",
       "      <td>Case Number: 001-94   \\n            Date Opene...</td>\n",
       "      <td>foreign bodies</td>\n",
       "      <td>meat, egg and dairy products</td>\n",
       "      <td>plastic fragment</td>\n",
       "      <td>chicken breast</td>\n",
       "    </tr>\n",
       "  </tbody>\n",
       "</table>\n",
       "</div>"
      ],
      "text/plain": [
       "   year  month  day country                             title  \\\n",
       "0  1994      1    7      us  Recall Notification: FSIS-024-94   \n",
       "1  1994      3   10      us  Recall Notification: FSIS-033-94   \n",
       "2  1994      3   28      us  Recall Notification: FSIS-014-94   \n",
       "3  1994      4    3      us  Recall Notification: FSIS-009-94   \n",
       "4  1994      7    1      us  Recall Notification: FSIS-001-94   \n",
       "\n",
       "                                                text hazard-category  \\\n",
       "0  Case Number: 024-94   \\n            Date Opene...      biological   \n",
       "1  Case Number: 033-94   \\n            Date Opene...      biological   \n",
       "2  Case Number: 014-94   \\n            Date Opene...      biological   \n",
       "3  Case Number: 009-94   \\n            Date Opene...  foreign bodies   \n",
       "4  Case Number: 001-94   \\n            Date Opene...  foreign bodies   \n",
       "\n",
       "               product-category                  hazard  \\\n",
       "0  meat, egg and dairy products  listeria monocytogenes   \n",
       "1  meat, egg and dairy products            listeria spp   \n",
       "2  meat, egg and dairy products  listeria monocytogenes   \n",
       "3  meat, egg and dairy products        plastic fragment   \n",
       "4  meat, egg and dairy products        plastic fragment   \n",
       "\n",
       "                       product  \n",
       "0               smoked sausage  \n",
       "1                      sausage  \n",
       "2                   ham slices  \n",
       "3  thermal processed pork meat  \n",
       "4               chicken breast  "
      ]
     },
     "execution_count": 8,
     "metadata": {},
     "output_type": "execute_result"
    }
   ],
   "source": [
    "trainset.head()"
   ]
  },
  {
   "cell_type": "code",
   "execution_count": 9,
   "id": "5f2800b8",
   "metadata": {
    "ExecuteTime": {
     "end_time": "2025-04-08T17:15:45.022709Z",
     "start_time": "2025-04-08T17:15:45.013706Z"
    }
   },
   "outputs": [
    {
     "name": "stdout",
     "output_type": "stream",
     "text": [
      "Notice This archive of previously issued food recalls and allergy alerts is provided for reference and research purposes. Users should note that the products listed in the archive have been subject to removal from the marketplace or appropriate corrective action. Food recalls or allergy alerts are not an indication of the food safety status of products produced at a later date. Food Recall Warning (Allergen) - Vinh Thuan brand Instant Coconut Powder recalled due to undeclared milk Recall date: May 27, 2015 Reason for recall: Allergen - Milk Hazard classification: Class 2 Company / Firm: Wealth Dragon Trading Co. Distribution: Ontario, Quebec Extent of the distribution: Retail Reference number: 9846 Contents Recalled products More information Media enquiries Recalled products Brand Name Common Name Size Code(s) on Product UPC Vinh Thuan Instant Coconut Powder 50 g All codes where milk is not declared on the label. 8 934734 422130 More information For more information, consumers and industry can contact the CFIA by filling out the online feedback form. For information on common food allergens, visit the Food Allergens web page. Media enquiries CFIA Media Relations 613-773-6600 Date modified: 2015-05-29\n",
      "\n",
      "XXX\n",
      "\n",
      "PRA No. 2004/7044 Date published 8 Jun 2004 Product description 310g can with batch codes (located on bottom of can) starting with 02 or 03. What are the defects? Insufficient heat processing which may result in microbial growth. What are the hazards? Contamination. What should consumers do? Consumers should return the product to the place of purchase for a full refund. For further information please call (03) 9387 2677. Supplier La Tosca Pasta Pty Ltd Where the product was sold Australian Capital Territory New South Wales Victoria Western Australia Coordinating agency Food Standards Australia New Zealand is the coordinating agency for this recall. Product category Groceries × Close\n",
      "\n",
      "XXX\n",
      "\n",
      "Naples, FL – Back to Nature Foods, LLC is expanding its voluntary recall to include four (4) additional lots of its Classic Creme cookies, 12 oz packages, because they may contain undeclared milk, not listed as an ingredient on the label. Persons who have an allergy or severe sensitivity to milk run the risk of a serious or life-threatening allergic reaction if they consume this product.\n",
      "The affected product was distributed to retail stores nationwide. In addition to the previously announced affected packages that were marked with a unit UPC# 19898-01103 and with best by dates of 10 SEP 16 and 16 SEP 16 labeled on top of the package, Classic Creme cookies packages marked with a unit UPC# 19898-01103 and with best by dates of 13 AUG 16 and 08 OCT 16 and 21 OCT 16 and 22 OCT 16 labeled on top of the package were also affected.\n",
      "Consumers who have purchased the Back to Nature Classic Creme cookies with the UPC and dates noted, and have an allergy to milk, should destroy the product they have or are urged to return to the place of purchase for product replacement or refund. No other best by dates are affected.\n",
      "Consumers with questions may call Back to Nature’s Consumer Relations Center at 844-275-5845. The center is open Monday through Friday from 9:00 a.m. to 5:00 p.m. Eastern. Consumers also may contact the center via e-mail by visiting the Contact Us page at http://www.backtonaturefoods.com for a replacement coupon.\n",
      "No other Back to Nature brand products are included in this recall.\n",
      "This voluntary recall is being conducted with the knowledge of the U.S. Food & Drug Administration.\n",
      "The company has also reported the recall to FARE (Food Allergy Research & Education) and is placing a notification on the FAACT website, www.foodallergyawareness.org.\n",
      "About Back to Nature Foods Headquartered in Naples, FL, Back to Nature Foods is a leading producer of Cookies, Crackers, Granola, Cereal, Juice and Soups in the United States.\n",
      "Original Release\n",
      "\n",
      "XXX\n",
      "\n",
      "Wilton Wholefoods is recalling Sunrize Snacks Seaweed Peanut Crackers because they contain sesame which is not mentioned on the label. This means the product is a possible health risk for anyone with an allergy to sesame. Product details Sunrize Snacks Seaweed Peanut Crackers Pack size 200g Batch code 87473, 87993, 88508, 89115, 89901, 90302, 90936, 91463, 92269, 93576 and 95105 Best before ’: May 2021 to March 2022 Allergens Sesame Risk statement Sesame. This product contains sesame making it a possible health risk for anyone with an allergy to sesame. Action taken by the company Wilton Wholefoods is recalling the above product from customers and has been advised to contact the relevant allergy support organisations, which will tell their members about the recall. The company has also issued a point-of-sale notice to its customers. These notices explain to customers why the product is being recalled and tell them what to do if they have bought the product. Please see the attached notice. Product notice: Wilton Wholefoods Sunrize Snacks Seaweed Peanut Crackers Our advice to consumers If you have bought the above product and have an allergy to sesame do not eat it. Instead return it to the store from where it was bought for a full refund. About allergy alerts Sometimes there will be a problem with a food product that means it should not be sold. Then it might be 'withdrawn' (taken off the shelves) or 'recalled' (when customers are asked to return the product). Sometimes foods have to be withdrawn or recalled if there is a risk to consumers because the allergy labelling is missing or incorrect or if there is any other food allergy risk. When there is a food allergy risk, the FSA will issue an Allergy Alert. Ref: FSA-AA-34-2021 Subscribe to news and alerts\n",
      "Wilton Wholefoods is recalling Sunrize Snacks Seaweed Peanut Crackers because they contain sesame which is not mentioned on the label. This means the product is a possible health risk for anyone with an allergy to sesame. Product details Sunrize Snacks Seaweed Peanut Crackers Pack size 200g Batch code 87473, 87993, 88508, 89115, 89901, 90302, 90936, 91463, 92269, 93576 and 95105 Best before ’: May 2021 to March 2022 Allergens Sesame Risk statement Sesame. This product contains sesame making it a possible health risk for anyone with an allergy to sesame. Action taken by the company Wilton Wholefoods is recalling the above product from customers and has been advised to contact the relevant allergy support organisations, which will tell their members about the recall. The company has also issued a point-of-sale notice to its customers. These notices explain to customers why the product is being recalled and tell them what to do if they have bought the product. Please see the attached notice. Product notice: Wilton Wholefoods Sunrize Snacks Seaweed Peanut Crackers Our advice to consumers If you have bought the above product and have an allergy to sesame do not eat it. Instead return it to the store from where it was bought for a full refund. About allergy alerts Sometimes there will be a problem with a food product that means it should not be sold. Then it might be 'withdrawn' (taken off the shelves) or 'recalled' (when customers are asked to return the product). Sometimes foods have to be withdrawn or recalled if there is a risk to consumers because the allergy labelling is missing or incorrect or if there is any other food allergy risk. When there is a food allergy risk, the FSA will issue an Allergy Alert. Ref: FSA-AA-34-2021 Subscribe to news and alerts\n",
      "\n",
      "XXX\n",
      "\n",
      "In response to a recall by Satur Farms, Whole Foods Market is voluntarily recalling various prepared foods items in eight states containing baby spinach because of a potential contamination of Salmonella.\n",
      "Salmonella is an organism which can cause serious and sometimes fatal infections in young children, frail or elderly people, and others with weakened immune systems. Healthy persons infected with Salmonella often experience fever, diarrhea (which may be bloody), nausea, vomiting and abdominal pain. In rare circumstances, infection with Salmonella can result in the organism getting into the bloodstream and producing more severe illnesses such as arterial infections (i.e., infected aneurysms), endocarditis and arthritis.\n",
      "The affected products, including salads, pizza, sandwiches and wraps, were sold at stores in Connecticut, Florida, Maine, Massachusetts, New Hampshire, New Jersey, New York, and Rhode Island. No illnesses have been reported at this time.\n",
      "Affected products are labeled with a Whole Foods Market scale label and can be identified by the following information. Additionally, consumers who purchased items containing baby spinach from the salad bars or hot bars at Whole Foods Market locations in these states should discard items purchased through January 23, 2019.\n",
      " \n",
      "Customers who purchased these products can bring a valid receipt into stores for a full refund. Consumers with additional questions can call 1-844-936-8255 between the hours of 7:00 a.m. and 10:00 p.m. CST, Monday through Friday, or 8:00 a.m. and 6:00 p.m. Saturday through Sunday.\n",
      "<thead> \n",
      " <tr> \n",
      "  <th scope=\"col\" style=\"text-align: center\"><strong>Product </strong></th> \n",
      "  <th scope=\"col\" style=\"text-align: center\">Product Code <em>(begins with)</em></th> \n",
      "  <th scope=\"col\" style=\"text-align: center\">Sell by Date</th> \n",
      "  <th scope=\"col\" style=\"text-align: center\">Affected States</th> \n",
      " </tr> \n",
      "</thead> \n",
      "<tbody> \n",
      " <tr> \n",
      "  <td style=\"text-align: center\">Chicken Florentine Panini</td> \n",
      "  <td style=\"text-align: center\">0265249</td> \n",
      "  <td style=\"text-align: center\">1/26/2019</td> \n",
      "  <td style=\"text-align: center\">CT, MA, ME, NH, RI</td> \n",
      " </tr> \n",
      " <tr> \n",
      "  <td style=\"text-align: center\">Golden Beet &amp; Tangerine Salad</td> \n",
      "  <td style=\"text-align: center\">0276651</td> \n",
      "  <td style=\"text-align: center\">1/26/2019</td> \n",
      "  <td style=\"text-align: center\">CT, MA, ME, NH, RI</td> \n",
      " </tr> \n",
      " <tr> \n",
      "  <td style=\"text-align: center\">Locavore Cheese Steak Wrap</td> \n",
      "  <td style=\"text-align: center\">0288833</td> \n",
      "  <td style=\"text-align: center\">1/26/2019</td> \n",
      "  <td style=\"text-align: center\">CT, MA, ME, NH, RI</td> \n",
      " </tr> \n",
      " <tr> \n",
      "  <td style=\"text-align: center\">Mediterranean Stuffed Salmon</td> \n",
      "  <td style=\"text-align: center\">0276640</td> \n",
      "  <td style=\"text-align: center\">1/26/2019</td> \n",
      "  <td style=\"text-align: center\">CT, MA, ME, NH, RI</td> \n",
      " </tr> \n",
      " <tr> \n",
      "  <td style=\"text-align: center\">Quinoa with Dark Leafy Greens</td> \n",
      "  <td style=\"text-align: center\">0276652</td> \n",
      "  <td style=\"text-align: center\">1/26/2019</td> \n",
      "  <td style=\"text-align: center\">CT, MA, ME, NH, RI</td> \n",
      " </tr> \n",
      " <tr> \n",
      "  <td style=\"text-align: center\">Roasted Vegetables Panini</td> \n",
      "  <td style=\"text-align: center\">0286668</td> \n",
      "  <td style=\"text-align: center\">1/26/2019</td> \n",
      "  <td style=\"text-align: center\">CT, MA, ME, NH, RI</td> \n",
      " </tr> \n",
      " <tr> \n",
      "  <td style=\"text-align: center\">Salad Spring Berry Power</td> \n",
      "  <td style=\"text-align: center\">0261702</td> \n",
      "  <td style=\"text-align: center\">1/26/2019</td> \n",
      "  <td style=\"text-align: center\">CT, MA, ME, NH, RI</td> \n",
      " </tr> \n",
      " <tr> \n",
      "  <td style=\"text-align: center\">Smoked Turkey with Apple &amp; Cheddar Sandwich</td> \n",
      "  <td style=\"text-align: center\">0289436</td> \n",
      "  <td style=\"text-align: center\">1/26/2019</td> \n",
      "  <td style=\"text-align: center\">CT, MA, ME, NH, RI</td> \n",
      " </tr> \n",
      " <tr> \n",
      "  <td style=\"text-align: center\">Spinach and Vegetable Quinoa Salad</td> \n",
      "  <td style=\"text-align: center\">0287410</td> \n",
      "  <td style=\"text-align: center\">1/26/2019</td> \n",
      "  <td style=\"text-align: center\">CT, MA, ME, NH, RI</td> \n",
      " </tr> \n",
      " <tr> \n",
      "  <td style=\"text-align: center\">Spinach Ravioli Salad with Lemon, Tomato, and Parmesan CC</td> \n",
      "  <td style=\"text-align: center\">0262216</td> \n",
      "  <td style=\"text-align: center\">1/26/2019</td> \n",
      "  <td style=\"text-align: center\">CT, MA, ME, NH, RI</td> \n",
      " </tr> \n",
      " <tr> \n",
      "  <td style=\"text-align: center\">Strawberry Balsamic Quinoa CC</td> \n",
      "  <td style=\"text-align: center\">0226215</td> \n",
      "  <td style=\"text-align: center\">1/26/2019</td> \n",
      "  <td style=\"text-align: center\">CT, MA, ME, NH, RI</td> \n",
      " </tr> \n",
      " <tr> \n",
      "  <td style=\"text-align: center\">Tofu Shawarma Wrap</td> \n",
      "  <td style=\"text-align: center\">0225938</td> \n",
      "  <td style=\"text-align: center\">1/26/2019</td> \n",
      "  <td style=\"text-align: center\">CT, MA, ME, NH, RI</td> \n",
      " </tr> \n",
      " <tr> \n",
      "  <td style=\"text-align: center\">Turkey Avocado Sandwich (Turkado Sandwich)</td> \n",
      "  <td style=\"text-align: center\">0268506</td> \n",
      "  <td style=\"text-align: center\">1/26/2019</td> \n",
      "  <td style=\"text-align: center\">CT, MA, ME, NH, RI</td> \n",
      " </tr> \n",
      " <tr> \n",
      "  <td style=\"text-align: center\">Turkey with Spinach &amp; Feta Sandwich</td> \n",
      "  <td style=\"text-align: center\">0278131</td> \n",
      "  <td style=\"text-align: center\">1/26/2019</td> \n",
      "  <td style=\"text-align: center\">CT, MA, ME, NH, RI</td> \n",
      " </tr> \n",
      " <tr> \n",
      "  <td style=\"text-align: center\">Vegan Spinach Almond Ricotta Pizza</td> \n",
      "  <td style=\"text-align: center\">0289927</td> \n",
      "  <td style=\"text-align: center\">1/26/2019</td> \n",
      "  <td style=\"text-align: center\">CT, MA, ME, NH, RI</td> \n",
      " </tr> \n",
      " <tr> \n",
      "  <td style=\"text-align: center\">Chicken Cordon Blue Panini</td> \n",
      "  <td style=\"text-align: center\">0236489</td> \n",
      "  <td style=\"text-align: center\">1/24/2019</td> \n",
      "  <td style=\"text-align: center\">CT, NJ, NY</td> \n",
      " </tr> \n",
      " <tr> \n",
      "  <td style=\"text-align: center\">New England Cranberry Turkey Sandwich</td> \n",
      "  <td style=\"text-align: center\">0236543</td> \n",
      "  <td style=\"text-align: center\">1/24/2019</td> \n",
      "  <td style=\"text-align: center\">CT, NJ, NY</td> \n",
      " </tr> \n",
      " <tr> \n",
      "  <td style=\"text-align: center\">Paleo Mediterranean Tuna Salad</td> \n",
      "  <td style=\"text-align: center\">0278786</td> \n",
      "  <td style=\"text-align: center\">1/27/2019</td> \n",
      "  <td style=\"text-align: center\">CT, NJ, NY</td> \n",
      " </tr> \n",
      " <tr> \n",
      "  <td style=\"text-align: center\">Spinach, Sauteed with Garlic CC</td> \n",
      "  <td style=\"text-align: center\">0262208</td> \n",
      "  <td style=\"text-align: center\">1/27/2019</td> \n",
      "  <td style=\"text-align: center\">CT, NJ, NY</td> \n",
      " </tr> \n",
      " <tr> \n",
      "  <td style=\"text-align: center\">Avocado Dragon Ball Bowl</td> \n",
      "  <td style=\"text-align: center\">0239999</td> \n",
      "  <td style=\"text-align: center\">1/27/2019</td> \n",
      "  <td style=\"text-align: center\">FL</td> \n",
      " </tr> \n",
      " <tr> \n",
      "  <td style=\"text-align: center\">Bistro Pasta Salad</td> \n",
      "  <td style=\"text-align: center\">0270265</td> \n",
      "  <td style=\"text-align: center\">1/26/2019</td> \n",
      "  <td style=\"text-align: center\">FL</td> \n",
      " </tr> \n",
      " <tr> \n",
      "  <td style=\"text-align: center\">Breakfast Sandwich Platter</td> \n",
      "  <td style=\"text-align: center\">0289062</td> \n",
      "  <td style=\"text-align: center\">1/26/2019</td> \n",
      "  <td style=\"text-align: center\">FL</td> \n",
      " </tr> \n",
      " <tr> \n",
      "  <td style=\"text-align: center\">Chicken Enchiladas Dinner</td> \n",
      "  <td style=\"text-align: center\">0268015</td> \n",
      "  <td style=\"text-align: center\">1/28/2019</td> \n",
      "  <td style=\"text-align: center\">FL</td> \n",
      " </tr> \n",
      " <tr> \n",
      "  <td style=\"text-align: center\">Cilantro &amp; Lime Chicken Burrito</td> \n",
      "  <td style=\"text-align: center\">0270878</td> \n",
      "  <td style=\"text-align: center\">1/26/2019</td> \n",
      "  <td style=\"text-align: center\">FL</td> \n",
      " </tr> \n",
      " <tr> \n",
      "  <td style=\"text-align: center\">Coconut Kiwi Butter Bowl</td> \n",
      "  <td style=\"text-align: center\">0251413</td> \n",
      "  <td style=\"text-align: center\">1/27/2019</td> \n",
      "  <td style=\"text-align: center\">FL</td> \n",
      " </tr> \n",
      " <tr> \n",
      "  <td style=\"text-align: center\">Egg White &amp; Spinach Breakfast</td> \n",
      "  <td style=\"text-align: center\">0276983</td> \n",
      "  <td style=\"text-align: center\">1/27/2019</td> \n",
      "  <td style=\"text-align: center\">FL</td> \n",
      " </tr> \n",
      " <tr> \n",
      "  <td style=\"text-align: center\">Egg White Burrito</td> \n",
      "  <td style=\"text-align: center\">0276829</td> \n",
      "  <td style=\"text-align: center\">1/27/2019</td> \n",
      "  <td style=\"text-align: center\">FL</td> \n",
      " </tr> \n",
      " <tr> \n",
      "  <td style=\"text-align: center\">Eggplant Rolantini</td> \n",
      "  <td style=\"text-align: center\">0270871</td> \n",
      "  <td style=\"text-align: center\">1/26/2019</td> \n",
      "  <td style=\"text-align: center\">FL</td> \n",
      " </tr> \n",
      " <tr> \n",
      "  <td style=\"text-align: center\">Focaccia Vegetable Pesto Sandwich</td> \n",
      "  <td style=\"text-align: center\">0260646</td> \n",
      "  <td style=\"text-align: center\">1/27/2019</td> \n",
      "  <td style=\"text-align: center\">FL</td> \n",
      " </tr> \n",
      " <tr> \n",
      "  <td style=\"text-align: center\">Goat Cheese Salad With Mandarin Orange &amp; Candied Cashews</td> \n",
      "  <td style=\"text-align: center\">0272681</td> \n",
      "  <td style=\"text-align: center\">1/27/2019</td> \n",
      "  <td style=\"text-align: center\">FL</td> \n",
      " </tr> \n",
      " <tr> \n",
      "  <td style=\"text-align: center\">I Yam What I Yam Bowl</td> \n",
      "  <td style=\"text-align: center\">0251986</td> \n",
      "  <td style=\"text-align: center\">1/27/2019</td> \n",
      "  <td style=\"text-align: center\">FL</td> \n",
      " </tr> \n",
      " <tr> \n",
      "  <td style=\"text-align: center\">Large Brasserie Cheese Goat Salad</td> \n",
      "  <td style=\"text-align: center\">0272680</td> \n",
      "  <td style=\"text-align: center\">1/27/2019</td> \n",
      "  <td style=\"text-align: center\">FL</td> \n",
      " </tr> \n",
      " <tr> \n",
      "  <td style=\"text-align: center\">Large Goat Cheese Green Salad</td> \n",
      "  <td style=\"text-align: center\">0289143</td> \n",
      "  <td style=\"text-align: center\">1/28/2019</td> \n",
      "  <td style=\"text-align: center\">FL</td> \n",
      " </tr> \n",
      " <tr> \n",
      "  <td style=\"text-align: center\">Large Spinach &amp; Mushroom Salad</td> \n",
      "  <td style=\"text-align: center\">0272061</td> \n",
      "  <td style=\"text-align: center\">1/27/2019</td> \n",
      "  <td style=\"text-align: center\">FL</td> \n",
      " </tr> \n",
      " <tr> \n",
      "  <td style=\"text-align: center\">Maple Glazed Acorn Squash</td> \n",
      "  <td style=\"text-align: center\">0284071</td> \n",
      "  <td style=\"text-align: center\">1/26/2019</td> \n",
      "  <td style=\"text-align: center\">FL</td> \n",
      " </tr> \n",
      " <tr> \n",
      "  <td style=\"text-align: center\">Mesclun Mix With Candied Pecans &amp; Sun Dried Cranberries</td> \n",
      "  <td style=\"text-align: center\">0272093</td> \n",
      "  <td style=\"text-align: center\">1/27/2019</td> \n",
      "  <td style=\"text-align: center\">FL</td> \n",
      " </tr> \n",
      " <tr> \n",
      "  <td style=\"text-align: center\">Mesclun Mix With Candied Pecans &amp; SunDried Cranberries</td> \n",
      "  <td style=\"text-align: center\">0272788</td> \n",
      "  <td style=\"text-align: center\">1/27/2019</td> \n",
      "  <td style=\"text-align: center\">FL</td> \n",
      " </tr> \n",
      " <tr> \n",
      "  <td style=\"text-align: center\">Mustard Crusted Salmon</td> \n",
      "  <td style=\"text-align: center\">0271328</td> \n",
      "  <td style=\"text-align: center\">1/28/2019</td> \n",
      "  <td style=\"text-align: center\">FL</td> \n",
      " </tr> \n",
      " <tr> \n",
      "  <td style=\"text-align: center\">My Big Fat Greek Pizza</td> \n",
      "  <td style=\"text-align: center\">0270663</td> \n",
      "  <td style=\"text-align: center\">1/26/2019</td> \n",
      "  <td style=\"text-align: center\">FL</td> \n",
      " </tr> \n",
      " <tr> \n",
      "  <td style=\"text-align: center\">Orange Lentil Vegetable Egg Bowl</td> \n",
      "  <td style=\"text-align: center\">0251625</td> \n",
      "  <td style=\"text-align: center\">1/27/2019</td> \n",
      "  <td style=\"text-align: center\">FL</td> \n",
      " </tr> \n",
      " <tr> \n",
      "  <td style=\"text-align: center\">Pizza Il Mediterraneo&nbsp;</td> \n",
      "  <td style=\"text-align: center\">0229250</td> \n",
      "  <td style=\"text-align: center\">1/24/2019</td> \n",
      "  <td style=\"text-align: center\">FL</td> \n",
      " </tr> \n",
      " <tr> \n",
      "  <td style=\"text-align: center\">Salad Golden Beets Tangerine&nbsp;</td> \n",
      "  <td style=\"text-align: center\">0271078</td> \n",
      "  <td style=\"text-align: center\">1/26/2019</td> \n",
      "  <td style=\"text-align: center\">FL</td> \n",
      " </tr> \n",
      " <tr> \n",
      "  <td style=\"text-align: center\">Sandwich Baguette Chicken Saltimbocca</td> \n",
      "  <td style=\"text-align: center\">0237929</td> \n",
      "  <td style=\"text-align: center\">1/26/2019</td> \n",
      "  <td style=\"text-align: center\">FL</td> \n",
      " </tr> \n",
      " <tr> \n",
      "  <td style=\"text-align: center\">Sandwich Baguette Turkey Brie&nbsp;</td> \n",
      "  <td style=\"text-align: center\">0237933</td> \n",
      "  <td style=\"text-align: center\">1/26/2019</td> \n",
      "  <td style=\"text-align: center\">FL</td> \n",
      " </tr> \n",
      " <tr> \n",
      "  <td style=\"text-align: center\">Sandwich Ham Olive Sliced&nbsp;</td> \n",
      "  <td style=\"text-align: center\">0236398</td> \n",
      "  <td style=\"text-align: center\">1/27/2019</td> \n",
      "  <td style=\"text-align: center\">FL</td> \n",
      " </tr> \n",
      " <tr> \n",
      "  <td style=\"text-align: center\">Serbian Ajvar Vegetable Club</td> \n",
      "  <td style=\"text-align: center\">0220041</td> \n",
      "  <td style=\"text-align: center\">1/28/2019</td> \n",
      "  <td style=\"text-align: center\">FL</td> \n",
      " </tr> \n",
      " <tr> \n",
      "  <td style=\"text-align: center\">Small Spinach &amp; Mushroom Salad</td> \n",
      "  <td style=\"text-align: center\">0272793</td> \n",
      "  <td style=\"text-align: center\">1/27/2019</td> \n",
      "  <td style=\"text-align: center\">FL</td> \n",
      " </tr> \n",
      " <tr> \n",
      "  <td style=\"text-align: center\">Smoked Mozzarella Pasta</td> \n",
      "  <td style=\"text-align: center\">0225081</td> \n",
      "  <td style=\"text-align: center\">1/28/2019</td> \n",
      "  <td style=\"text-align: center\">FL</td> \n",
      " </tr> \n",
      " <tr> \n",
      "  <td style=\"text-align: center\">Spinach Artichoke Bleus Pizza</td> \n",
      "  <td style=\"text-align: center\">0271388</td> \n",
      "  <td style=\"text-align: center\">1/26/2019</td> \n",
      "  <td style=\"text-align: center\">FL</td> \n",
      " </tr> \n",
      " <tr> \n",
      "  <td style=\"text-align: center\">Spinach Gorgonzola Salad</td> \n",
      "  <td style=\"text-align: center\">0267982</td> \n",
      "  <td style=\"text-align: center\">1/26/2019</td> \n",
      "  <td style=\"text-align: center\">FL</td> \n",
      " </tr> \n",
      " <tr> \n",
      "  <td style=\"text-align: center\">Spinach Strawberry Goat Cheese Salad</td> \n",
      "  <td style=\"text-align: center\">0260136</td> \n",
      "  <td style=\"text-align: center\">1/28/2019</td> \n",
      "  <td style=\"text-align: center\">FL</td> \n",
      " </tr> \n",
      " <tr> \n",
      "  <td style=\"text-align: center\">Spinach Walnut Bleus Pizza</td> \n",
      "  <td style=\"text-align: center\">0271331</td> \n",
      "  <td style=\"text-align: center\">1/26/2019</td> \n",
      "  <td style=\"text-align: center\">FL</td> \n",
      " </tr> \n",
      " <tr> \n",
      "  <td style=\"text-align: center\">Vegetable Pesto Focaccia</td> \n",
      "  <td style=\"text-align: center\">0244952</td> \n",
      "  <td style=\"text-align: center\">1/27/2019</td> \n",
      "  <td style=\"text-align: center\">FL</td> \n",
      " </tr> \n",
      " <tr> \n",
      "  <td style=\"text-align: center\">Vegetable Pesto Focaccia Sandwich</td> \n",
      "  <td style=\"text-align: center\">0244953</td> \n",
      "  <td style=\"text-align: center\">1/27/2019</td> \n",
      "  <td style=\"text-align: center\">FL</td> \n",
      " </tr> \n",
      " <tr> \n",
      "  <td style=\"text-align: center\">Watermelon Garbanzo Vegetable Bowl</td> \n",
      "  <td style=\"text-align: center\">0251968</td> \n",
      "  <td style=\"text-align: center\">1/27/2019</td> \n",
      "  <td style=\"text-align: center\">FL</td> \n",
      " </tr> \n",
      "</tbody>\n",
      "\n",
      "XXX\n",
      "\n",
      "Food Recall Warning - Raspberry mousse cakes recalled due to norovirus Recall date: August 11, 2017 Reason for recall: Microbiological - Other Hazard classification: Class 3 Company / Firm: Pâtisserie Jessica Inc., Produits Pâtisserie Michaud Inc. Distribution: Quebec Extent of the distribution: Retail Reference number: 11653, 11654 Contents Recall details Recalled products What you should do Background Illnesses Related recalls More information Photos Media enquiries Recall details Ottawa, August 11, 2017 - Industry is recalling various raspberry mousse cakes from the marketplace due to norovirus. Consumers should not consume and retailers, hotels, restaurants and institutions should not sell, or serve the recalled products described below. Retailers, hotels, restaurants and institutions are advised to check the labels of raspberry mousse cakes or check with their supplier to determine if they have the affected product. These products may also have been sold frozen or refrigerated, or clerk-served from bakery-pastry counters with or without a label or coding. Consumers who are unsure if they have purchased the affected product are advised to contact their retailer. Recalled products Brand Name Common Name Size Code(s) on Product UPC Michaud Citrus-raspberry greek yogurt mousse 650 g 1667, 1777, 1997, 2017, 2077 0 620737 001806 Jessica Chocolate Raspberry Mousse Cake 650 g All products sold up to and including August 11, 2017 Variable None Raspberry Mousse 35 g 17193 Variable None Raspberry Dream Cake 1070 g 17192 Variable None Chocolate Raspberry Mousse Cake 650 g 17185 Variable Laura Secord Red Berry Chocolate Mousse Cake 90 g 17201 Variable Laura Secord Red Berry Chocolate Mousse Cake 85 g 17201 Variable Laura Secord Red Berries Chocolate Mousse Cake 485 g 17201 Variable Top Dessert Mousse sampler cake 725 g 17170, 17185 Variable What you should do If you think you became sick from consuming a recalled product, call your doctor. Check to see if you have recalled products in your home. Recalled products should be thrown out or returned to the store where they were purchased. People with norovirus illness usually develop symptoms of gastroenteritis within 24 to 48 hours, but symptoms can start as early as 12 hours after exposure. The illness often begins suddenly. Even after having the illness, you can still become re-infected by norovirus. The main symptoms of norovirus illness are diarrhea, vomiting (children usually experience more vomiting than adults), nausea and stomach cramps. Other symptoms may include low-grade fever, headache, chills, muscle aches and fatigue (a general sense of tiredness).  Most people feel better within one or two days, with symptoms resolving on their own, and experience no long-term health effects. As with any illness causing diarrhea or vomiting, people who are ill should drink plenty of liquids to replace lost body fluids and prevent dehydration. In severe cases, patients may need to be hospitalized and given fluids intravenously. Learn more about the health risks Sign up for recall notifications by email, follow us on Twitter, or join the CFIA community on Facebook View our detailed explanation of the food safety investigation and recall process Background This recall was triggered by findings by the Canadian Food Inspection Agency (CFIA) during its investigation into a foodborne illness outbreak. The CFIA is conducting a food safety investigation, which may lead to the recall of other products. If other high-risk products are recalled, the CFIA will notify the public through updated Food Recall Warnings. The CFIA is verifying that industry is removing recalled product from the marketplace. Illnesses There have been reported illnesses associated with the consumption of this product. Related recalls 2017-08-16 - Raspberry mousse cakes recalled due to norovirus 2017-08-21 - par Sophie! brand Chocolate Raspberry Mousse Cake recalled due to norovirus More information For more information, consumers and industry can contact the CFIA by filling out the online feedback form. Product photos Printer ready version of photos Media enquiries CFIA Media Relations 613-773-6600 Date modified: 2017-08-12\n",
      "\n",
      "XXX\n",
      "\n",
      "Food Recall Warning - One Ocean brand Sliced Smoked Wild Sockeye Salmon recalled due to Listeria monocytogenes From: Canadian Food Inspection Agency Recall date: January 27, 2021 Reason for recall: Microbiological - Listeria Hazard classification: Class 1 Company / Firm: Orca Specialty Foods Ltd. Distribution: Alberta, Possibly National Extent of the distribution: Retail Reference number: 14207 Contents Recall details What you should do Background Illnesses Photos Public enquiries and media Recall details Ottawa, January 27, 2021 - Orca Specialty Foods Ltd. is recalling One Ocean brand Sliced Smoked Wild Sockeye Salmon from the marketplace due to possible Listeria monocytogenes contamination. Consumers should not consume the recalled product described below. Recalled product Brand Product Size UPC Codes One Ocean Sliced Smoked Wild Sockeye Salmon 300 g 6 25984 00005 3 11252 What you should do If you think you became sick from consuming a recalled product, call your doctor. Check to see if you have the recalled product in your home. Recalled products should be thrown out or returned to the store where they were purchased. Food contaminated with Listeria monocytogenes may not look or smell spoiled but can still make you sick. Symptoms can include vomiting, nausea, persistent fever, muscle aches, severe headache and neck stiffness. Pregnant women, the elderly and people with weakened immune systems are particularly at risk. Although infected pregnant women may experience only mild, flu-like symptoms, the infection can lead to premature delivery, infection of the newborn or even stillbirth. In severe cases of illness, people may die. Learn more about the health risks Sign up for recall notifications by email and follow us on social media View our detailed explanation of the food safety investigation and recall process Report a food safety or labelling concern Background This recall was triggered by Canadian Food Inspection Agency (CFIA) test results. The CFIA is conducting a food safety investigation, which may lead to the recall of other products. If other high-risk products are recalled, the CFIA will notify the public through updated Food Recall Warnings. The CFIA is verifying that industry is removing the recalled product from the marketplace. Illnesses There have been no reported illnesses associated with the consumption of this product. Product photos Printer ready version of photos Public enquiries and media Company information Orca Specialty Foods Ltd.: 604-574-6722 ext. 223 Public enquiries Toll-free: 1-800-442-2342 (Canada and U.S.) Telephone: 1-613-773-2342 (local or international) Email: cfia.enquiries-demandederenseignements.acia@canada.ca Media relations Telephone: 613-773-6600 Email: cfia.media.acia@canada.ca Report a problem on this page Date modified: 2021-01-27\n",
      "\n",
      "XXX\n",
      "\n"
     ]
    },
    {
     "ename": "KeyError",
     "evalue": "4681",
     "output_type": "error",
     "traceback": [
      "\u001b[0;31m---------------------------------------------------------------------------\u001b[0m",
      "\u001b[0;31mKeyError\u001b[0m                                  Traceback (most recent call last)",
      "File \u001b[0;32m~/anaconda3/lib/python3.12/site-packages/pandas/core/indexes/base.py:3805\u001b[0m, in \u001b[0;36mIndex.get_loc\u001b[0;34m(self, key)\u001b[0m\n\u001b[1;32m   3804\u001b[0m \u001b[38;5;28;01mtry\u001b[39;00m:\n\u001b[0;32m-> 3805\u001b[0m     \u001b[38;5;28;01mreturn\u001b[39;00m \u001b[38;5;28mself\u001b[39m\u001b[38;5;241m.\u001b[39m_engine\u001b[38;5;241m.\u001b[39mget_loc(casted_key)\n\u001b[1;32m   3806\u001b[0m \u001b[38;5;28;01mexcept\u001b[39;00m \u001b[38;5;167;01mKeyError\u001b[39;00m \u001b[38;5;28;01mas\u001b[39;00m err:\n",
      "File \u001b[0;32mindex.pyx:167\u001b[0m, in \u001b[0;36mpandas._libs.index.IndexEngine.get_loc\u001b[0;34m()\u001b[0m\n",
      "File \u001b[0;32mindex.pyx:196\u001b[0m, in \u001b[0;36mpandas._libs.index.IndexEngine.get_loc\u001b[0;34m()\u001b[0m\n",
      "File \u001b[0;32mpandas/_libs/hashtable_class_helper.pxi:2606\u001b[0m, in \u001b[0;36mpandas._libs.hashtable.Int64HashTable.get_item\u001b[0;34m()\u001b[0m\n",
      "File \u001b[0;32mpandas/_libs/hashtable_class_helper.pxi:2630\u001b[0m, in \u001b[0;36mpandas._libs.hashtable.Int64HashTable.get_item\u001b[0;34m()\u001b[0m\n",
      "\u001b[0;31mKeyError\u001b[0m: 4681",
      "\nThe above exception was the direct cause of the following exception:\n",
      "\u001b[0;31mKeyError\u001b[0m                                  Traceback (most recent call last)",
      "Cell \u001b[0;32mIn[9], line 3\u001b[0m\n\u001b[1;32m      1\u001b[0m \u001b[38;5;28;01mfor\u001b[39;00m i \u001b[38;5;129;01min\u001b[39;00m \u001b[38;5;28mrange\u001b[39m(\u001b[38;5;241m10\u001b[39m):\n\u001b[1;32m      2\u001b[0m     x \u001b[38;5;241m=\u001b[39m random\u001b[38;5;241m.\u001b[39mrandint(\u001b[38;5;241m0\u001b[39m, \u001b[38;5;28mlen\u001b[39m(trainset))\n\u001b[0;32m----> 3\u001b[0m     \u001b[38;5;28mprint\u001b[39m(trainset[\u001b[38;5;124m\"\u001b[39m\u001b[38;5;124mtext\u001b[39m\u001b[38;5;124m\"\u001b[39m][x])       \u001b[38;5;66;03m# change the column name to view another column data\u001b[39;00m\n\u001b[1;32m      4\u001b[0m     \u001b[38;5;28mprint\u001b[39m()\n\u001b[1;32m      5\u001b[0m     \u001b[38;5;28mprint\u001b[39m(\u001b[38;5;124m\"\u001b[39m\u001b[38;5;124mXXX\u001b[39m\u001b[38;5;124m\"\u001b[39m)\n",
      "File \u001b[0;32m~/anaconda3/lib/python3.12/site-packages/pandas/core/series.py:1121\u001b[0m, in \u001b[0;36mSeries.__getitem__\u001b[0;34m(self, key)\u001b[0m\n\u001b[1;32m   1118\u001b[0m     \u001b[38;5;28;01mreturn\u001b[39;00m \u001b[38;5;28mself\u001b[39m\u001b[38;5;241m.\u001b[39m_values[key]\n\u001b[1;32m   1120\u001b[0m \u001b[38;5;28;01melif\u001b[39;00m key_is_scalar:\n\u001b[0;32m-> 1121\u001b[0m     \u001b[38;5;28;01mreturn\u001b[39;00m \u001b[38;5;28mself\u001b[39m\u001b[38;5;241m.\u001b[39m_get_value(key)\n\u001b[1;32m   1123\u001b[0m \u001b[38;5;66;03m# Convert generator to list before going through hashable part\u001b[39;00m\n\u001b[1;32m   1124\u001b[0m \u001b[38;5;66;03m# (We will iterate through the generator there to check for slices)\u001b[39;00m\n\u001b[1;32m   1125\u001b[0m \u001b[38;5;28;01mif\u001b[39;00m is_iterator(key):\n",
      "File \u001b[0;32m~/anaconda3/lib/python3.12/site-packages/pandas/core/series.py:1237\u001b[0m, in \u001b[0;36mSeries._get_value\u001b[0;34m(self, label, takeable)\u001b[0m\n\u001b[1;32m   1234\u001b[0m     \u001b[38;5;28;01mreturn\u001b[39;00m \u001b[38;5;28mself\u001b[39m\u001b[38;5;241m.\u001b[39m_values[label]\n\u001b[1;32m   1236\u001b[0m \u001b[38;5;66;03m# Similar to Index.get_value, but we do not fall back to positional\u001b[39;00m\n\u001b[0;32m-> 1237\u001b[0m loc \u001b[38;5;241m=\u001b[39m \u001b[38;5;28mself\u001b[39m\u001b[38;5;241m.\u001b[39mindex\u001b[38;5;241m.\u001b[39mget_loc(label)\n\u001b[1;32m   1239\u001b[0m \u001b[38;5;28;01mif\u001b[39;00m is_integer(loc):\n\u001b[1;32m   1240\u001b[0m     \u001b[38;5;28;01mreturn\u001b[39;00m \u001b[38;5;28mself\u001b[39m\u001b[38;5;241m.\u001b[39m_values[loc]\n",
      "File \u001b[0;32m~/anaconda3/lib/python3.12/site-packages/pandas/core/indexes/base.py:3812\u001b[0m, in \u001b[0;36mIndex.get_loc\u001b[0;34m(self, key)\u001b[0m\n\u001b[1;32m   3807\u001b[0m     \u001b[38;5;28;01mif\u001b[39;00m \u001b[38;5;28misinstance\u001b[39m(casted_key, \u001b[38;5;28mslice\u001b[39m) \u001b[38;5;129;01mor\u001b[39;00m (\n\u001b[1;32m   3808\u001b[0m         \u001b[38;5;28misinstance\u001b[39m(casted_key, abc\u001b[38;5;241m.\u001b[39mIterable)\n\u001b[1;32m   3809\u001b[0m         \u001b[38;5;129;01mand\u001b[39;00m \u001b[38;5;28many\u001b[39m(\u001b[38;5;28misinstance\u001b[39m(x, \u001b[38;5;28mslice\u001b[39m) \u001b[38;5;28;01mfor\u001b[39;00m x \u001b[38;5;129;01min\u001b[39;00m casted_key)\n\u001b[1;32m   3810\u001b[0m     ):\n\u001b[1;32m   3811\u001b[0m         \u001b[38;5;28;01mraise\u001b[39;00m InvalidIndexError(key)\n\u001b[0;32m-> 3812\u001b[0m     \u001b[38;5;28;01mraise\u001b[39;00m \u001b[38;5;167;01mKeyError\u001b[39;00m(key) \u001b[38;5;28;01mfrom\u001b[39;00m \u001b[38;5;21;01merr\u001b[39;00m\n\u001b[1;32m   3813\u001b[0m \u001b[38;5;28;01mexcept\u001b[39;00m \u001b[38;5;167;01mTypeError\u001b[39;00m:\n\u001b[1;32m   3814\u001b[0m     \u001b[38;5;66;03m# If we have a listlike key, _check_indexing_error will raise\u001b[39;00m\n\u001b[1;32m   3815\u001b[0m     \u001b[38;5;66;03m#  InvalidIndexError. Otherwise we fall through and re-raise\u001b[39;00m\n\u001b[1;32m   3816\u001b[0m     \u001b[38;5;66;03m#  the TypeError.\u001b[39;00m\n\u001b[1;32m   3817\u001b[0m     \u001b[38;5;28mself\u001b[39m\u001b[38;5;241m.\u001b[39m_check_indexing_error(key)\n",
      "\u001b[0;31mKeyError\u001b[0m: 4681"
     ]
    }
   ],
   "source": [
    "for i in range(10):\n",
    "    x = random.randint(0, len(trainset))\n",
    "    print(trainset[\"text\"][x])       # change the column name to view another column data\n",
    "    print()\n",
    "    print(\"XXX\")\n",
    "    print()"
   ]
  },
  {
   "cell_type": "code",
   "execution_count": 10,
   "id": "25de8f37",
   "metadata": {
    "ExecuteTime": {
     "end_time": "2025-04-08T17:17:01.769809Z",
     "start_time": "2025-04-08T17:17:01.638456Z"
    }
   },
   "outputs": [
    {
     "ename": "KeyError",
     "evalue": "'hazard_category'",
     "output_type": "error",
     "traceback": [
      "\u001b[0;31m---------------------------------------------------------------------------\u001b[0m",
      "\u001b[0;31mKeyError\u001b[0m                                  Traceback (most recent call last)",
      "File \u001b[0;32m~/anaconda3/lib/python3.12/site-packages/pandas/core/indexes/base.py:3805\u001b[0m, in \u001b[0;36mIndex.get_loc\u001b[0;34m(self, key)\u001b[0m\n\u001b[1;32m   3804\u001b[0m \u001b[38;5;28;01mtry\u001b[39;00m:\n\u001b[0;32m-> 3805\u001b[0m     \u001b[38;5;28;01mreturn\u001b[39;00m \u001b[38;5;28mself\u001b[39m\u001b[38;5;241m.\u001b[39m_engine\u001b[38;5;241m.\u001b[39mget_loc(casted_key)\n\u001b[1;32m   3806\u001b[0m \u001b[38;5;28;01mexcept\u001b[39;00m \u001b[38;5;167;01mKeyError\u001b[39;00m \u001b[38;5;28;01mas\u001b[39;00m err:\n",
      "File \u001b[0;32mindex.pyx:167\u001b[0m, in \u001b[0;36mpandas._libs.index.IndexEngine.get_loc\u001b[0;34m()\u001b[0m\n",
      "File \u001b[0;32mindex.pyx:196\u001b[0m, in \u001b[0;36mpandas._libs.index.IndexEngine.get_loc\u001b[0;34m()\u001b[0m\n",
      "File \u001b[0;32mpandas/_libs/hashtable_class_helper.pxi:7081\u001b[0m, in \u001b[0;36mpandas._libs.hashtable.PyObjectHashTable.get_item\u001b[0;34m()\u001b[0m\n",
      "File \u001b[0;32mpandas/_libs/hashtable_class_helper.pxi:7089\u001b[0m, in \u001b[0;36mpandas._libs.hashtable.PyObjectHashTable.get_item\u001b[0;34m()\u001b[0m\n",
      "\u001b[0;31mKeyError\u001b[0m: 'hazard_category'",
      "\nThe above exception was the direct cause of the following exception:\n",
      "\u001b[0;31mKeyError\u001b[0m                                  Traceback (most recent call last)",
      "Cell \u001b[0;32mIn[10], line 4\u001b[0m\n\u001b[1;32m      1\u001b[0m \u001b[38;5;66;03m#DISTRIBUTION OF HAZARDS IN DATASET\u001b[39;00m\n\u001b[1;32m      2\u001b[0m fig, ax \u001b[38;5;241m=\u001b[39m plt\u001b[38;5;241m.\u001b[39msubplots()\n\u001b[0;32m----> 4\u001b[0m ax\u001b[38;5;241m.\u001b[39mbarh(trainset[\u001b[38;5;124m'\u001b[39m\u001b[38;5;124mhazard_category\u001b[39m\u001b[38;5;124m'\u001b[39m]\u001b[38;5;241m.\u001b[39mvalue_counts()\u001b[38;5;241m.\u001b[39mindex\u001b[38;5;241m.\u001b[39mto_list(), trainset[\u001b[38;5;124m'\u001b[39m\u001b[38;5;124mhazard_category\u001b[39m\u001b[38;5;124m'\u001b[39m]\u001b[38;5;241m.\u001b[39mvalue_counts()\u001b[38;5;241m.\u001b[39mvalues, orientation\u001b[38;5;241m=\u001b[39m\u001b[38;5;124m'\u001b[39m\u001b[38;5;124mhorizontal\u001b[39m\u001b[38;5;124m'\u001b[39m)\n\u001b[1;32m      6\u001b[0m plt\u001b[38;5;241m.\u001b[39mxlabel(\u001b[38;5;124m'\u001b[39m\u001b[38;5;124mFrequency\u001b[39m\u001b[38;5;124m'\u001b[39m)\n\u001b[1;32m      7\u001b[0m plt\u001b[38;5;241m.\u001b[39mylabel(\u001b[38;5;124m'\u001b[39m\u001b[38;5;124mType of hazard\u001b[39m\u001b[38;5;124m'\u001b[39m)\n",
      "File \u001b[0;32m~/anaconda3/lib/python3.12/site-packages/pandas/core/frame.py:4102\u001b[0m, in \u001b[0;36mDataFrame.__getitem__\u001b[0;34m(self, key)\u001b[0m\n\u001b[1;32m   4100\u001b[0m \u001b[38;5;28;01mif\u001b[39;00m \u001b[38;5;28mself\u001b[39m\u001b[38;5;241m.\u001b[39mcolumns\u001b[38;5;241m.\u001b[39mnlevels \u001b[38;5;241m>\u001b[39m \u001b[38;5;241m1\u001b[39m:\n\u001b[1;32m   4101\u001b[0m     \u001b[38;5;28;01mreturn\u001b[39;00m \u001b[38;5;28mself\u001b[39m\u001b[38;5;241m.\u001b[39m_getitem_multilevel(key)\n\u001b[0;32m-> 4102\u001b[0m indexer \u001b[38;5;241m=\u001b[39m \u001b[38;5;28mself\u001b[39m\u001b[38;5;241m.\u001b[39mcolumns\u001b[38;5;241m.\u001b[39mget_loc(key)\n\u001b[1;32m   4103\u001b[0m \u001b[38;5;28;01mif\u001b[39;00m is_integer(indexer):\n\u001b[1;32m   4104\u001b[0m     indexer \u001b[38;5;241m=\u001b[39m [indexer]\n",
      "File \u001b[0;32m~/anaconda3/lib/python3.12/site-packages/pandas/core/indexes/base.py:3812\u001b[0m, in \u001b[0;36mIndex.get_loc\u001b[0;34m(self, key)\u001b[0m\n\u001b[1;32m   3807\u001b[0m     \u001b[38;5;28;01mif\u001b[39;00m \u001b[38;5;28misinstance\u001b[39m(casted_key, \u001b[38;5;28mslice\u001b[39m) \u001b[38;5;129;01mor\u001b[39;00m (\n\u001b[1;32m   3808\u001b[0m         \u001b[38;5;28misinstance\u001b[39m(casted_key, abc\u001b[38;5;241m.\u001b[39mIterable)\n\u001b[1;32m   3809\u001b[0m         \u001b[38;5;129;01mand\u001b[39;00m \u001b[38;5;28many\u001b[39m(\u001b[38;5;28misinstance\u001b[39m(x, \u001b[38;5;28mslice\u001b[39m) \u001b[38;5;28;01mfor\u001b[39;00m x \u001b[38;5;129;01min\u001b[39;00m casted_key)\n\u001b[1;32m   3810\u001b[0m     ):\n\u001b[1;32m   3811\u001b[0m         \u001b[38;5;28;01mraise\u001b[39;00m InvalidIndexError(key)\n\u001b[0;32m-> 3812\u001b[0m     \u001b[38;5;28;01mraise\u001b[39;00m \u001b[38;5;167;01mKeyError\u001b[39;00m(key) \u001b[38;5;28;01mfrom\u001b[39;00m \u001b[38;5;21;01merr\u001b[39;00m\n\u001b[1;32m   3813\u001b[0m \u001b[38;5;28;01mexcept\u001b[39;00m \u001b[38;5;167;01mTypeError\u001b[39;00m:\n\u001b[1;32m   3814\u001b[0m     \u001b[38;5;66;03m# If we have a listlike key, _check_indexing_error will raise\u001b[39;00m\n\u001b[1;32m   3815\u001b[0m     \u001b[38;5;66;03m#  InvalidIndexError. Otherwise we fall through and re-raise\u001b[39;00m\n\u001b[1;32m   3816\u001b[0m     \u001b[38;5;66;03m#  the TypeError.\u001b[39;00m\n\u001b[1;32m   3817\u001b[0m     \u001b[38;5;28mself\u001b[39m\u001b[38;5;241m.\u001b[39m_check_indexing_error(key)\n",
      "\u001b[0;31mKeyError\u001b[0m: 'hazard_category'"
     ]
    },
    {
     "data": {
      "image/png": "[encoded data removed]",
      "text/plain": [
       "<Figure size 640x480 with 1 Axes>"
      ]
     },
     "metadata": {},
     "output_type": "display_data"
    }
   ],
   "source": [
    "#DISTRIBUTION OF HAZARDS IN DATASET\n",
    "fig, ax = plt.subplots()\n",
    "\n",
    "ax.barh(trainset['hazard_category'].value_counts().index.to_list(), trainset['hazard_category'].value_counts().values, orientation='horizontal')\n",
    "\n",
    "plt.xlabel('Frequency')\n",
    "plt.ylabel('Type of hazard')\n",
    "plt.title('Distribution of hazard category')\n",
    "plt.show()"
   ]
  },
  {
   "cell_type": "code",
   "execution_count": 11,
   "id": "73b6d2bb",
   "metadata": {
    "ExecuteTime": {
     "end_time": "2025-04-08T17:17:07.069046Z",
     "start_time": "2025-04-08T17:17:06.859051Z"
    }
   },
   "outputs": [
    {
     "ename": "KeyError",
     "evalue": "'product_category'",
     "output_type": "error",
     "traceback": [
      "\u001b[0;31m---------------------------------------------------------------------------\u001b[0m",
      "\u001b[0;31mKeyError\u001b[0m                                  Traceback (most recent call last)",
      "File \u001b[0;32m~/anaconda3/lib/python3.12/site-packages/pandas/core/indexes/base.py:3805\u001b[0m, in \u001b[0;36mIndex.get_loc\u001b[0;34m(self, key)\u001b[0m\n\u001b[1;32m   3804\u001b[0m \u001b[38;5;28;01mtry\u001b[39;00m:\n\u001b[0;32m-> 3805\u001b[0m     \u001b[38;5;28;01mreturn\u001b[39;00m \u001b[38;5;28mself\u001b[39m\u001b[38;5;241m.\u001b[39m_engine\u001b[38;5;241m.\u001b[39mget_loc(casted_key)\n\u001b[1;32m   3806\u001b[0m \u001b[38;5;28;01mexcept\u001b[39;00m \u001b[38;5;167;01mKeyError\u001b[39;00m \u001b[38;5;28;01mas\u001b[39;00m err:\n",
      "File \u001b[0;32mindex.pyx:167\u001b[0m, in \u001b[0;36mpandas._libs.index.IndexEngine.get_loc\u001b[0;34m()\u001b[0m\n",
      "File \u001b[0;32mindex.pyx:196\u001b[0m, in \u001b[0;36mpandas._libs.index.IndexEngine.get_loc\u001b[0;34m()\u001b[0m\n",
      "File \u001b[0;32mpandas/_libs/hashtable_class_helper.pxi:7081\u001b[0m, in \u001b[0;36mpandas._libs.hashtable.PyObjectHashTable.get_item\u001b[0;34m()\u001b[0m\n",
      "File \u001b[0;32mpandas/_libs/hashtable_class_helper.pxi:7089\u001b[0m, in \u001b[0;36mpandas._libs.hashtable.PyObjectHashTable.get_item\u001b[0;34m()\u001b[0m\n",
      "\u001b[0;31mKeyError\u001b[0m: 'product_category'",
      "\nThe above exception was the direct cause of the following exception:\n",
      "\u001b[0;31mKeyError\u001b[0m                                  Traceback (most recent call last)",
      "Cell \u001b[0;32mIn[11], line 4\u001b[0m\n\u001b[1;32m      1\u001b[0m \u001b[38;5;66;03m#DISTRIBUTION OF PRODUCT TYPES IN DATASET\u001b[39;00m\n\u001b[1;32m      2\u001b[0m fig, ax \u001b[38;5;241m=\u001b[39m plt\u001b[38;5;241m.\u001b[39msubplots()\n\u001b[0;32m----> 4\u001b[0m ax\u001b[38;5;241m.\u001b[39mbarh(trainset[\u001b[38;5;124m'\u001b[39m\u001b[38;5;124mproduct_category\u001b[39m\u001b[38;5;124m'\u001b[39m]\u001b[38;5;241m.\u001b[39mvalue_counts()\u001b[38;5;241m.\u001b[39mindex\u001b[38;5;241m.\u001b[39mto_list(), trainset[\u001b[38;5;124m'\u001b[39m\u001b[38;5;124mproduct_category\u001b[39m\u001b[38;5;124m'\u001b[39m]\u001b[38;5;241m.\u001b[39mvalue_counts()\u001b[38;5;241m.\u001b[39mvalues, orientation\u001b[38;5;241m=\u001b[39m\u001b[38;5;124m'\u001b[39m\u001b[38;5;124mhorizontal\u001b[39m\u001b[38;5;124m'\u001b[39m)\n\u001b[1;32m      6\u001b[0m plt\u001b[38;5;241m.\u001b[39mxlabel(\u001b[38;5;124m'\u001b[39m\u001b[38;5;124mType of product\u001b[39m\u001b[38;5;124m'\u001b[39m)\n\u001b[1;32m      7\u001b[0m plt\u001b[38;5;241m.\u001b[39mylabel(\u001b[38;5;124m'\u001b[39m\u001b[38;5;124mFrequency\u001b[39m\u001b[38;5;124m'\u001b[39m)\n",
      "File \u001b[0;32m~/anaconda3/lib/python3.12/site-packages/pandas/core/frame.py:4102\u001b[0m, in \u001b[0;36mDataFrame.__getitem__\u001b[0;34m(self, key)\u001b[0m\n\u001b[1;32m   4100\u001b[0m \u001b[38;5;28;01mif\u001b[39;00m \u001b[38;5;28mself\u001b[39m\u001b[38;5;241m.\u001b[39mcolumns\u001b[38;5;241m.\u001b[39mnlevels \u001b[38;5;241m>\u001b[39m \u001b[38;5;241m1\u001b[39m:\n\u001b[1;32m   4101\u001b[0m     \u001b[38;5;28;01mreturn\u001b[39;00m \u001b[38;5;28mself\u001b[39m\u001b[38;5;241m.\u001b[39m_getitem_multilevel(key)\n\u001b[0;32m-> 4102\u001b[0m indexer \u001b[38;5;241m=\u001b[39m \u001b[38;5;28mself\u001b[39m\u001b[38;5;241m.\u001b[39mcolumns\u001b[38;5;241m.\u001b[39mget_loc(key)\n\u001b[1;32m   4103\u001b[0m \u001b[38;5;28;01mif\u001b[39;00m is_integer(indexer):\n\u001b[1;32m   4104\u001b[0m     indexer \u001b[38;5;241m=\u001b[39m [indexer]\n",
      "File \u001b[0;32m~/anaconda3/lib/python3.12/site-packages/pandas/core/indexes/base.py:3812\u001b[0m, in \u001b[0;36mIndex.get_loc\u001b[0;34m(self, key)\u001b[0m\n\u001b[1;32m   3807\u001b[0m     \u001b[38;5;28;01mif\u001b[39;00m \u001b[38;5;28misinstance\u001b[39m(casted_key, \u001b[38;5;28mslice\u001b[39m) \u001b[38;5;129;01mor\u001b[39;00m (\n\u001b[1;32m   3808\u001b[0m         \u001b[38;5;28misinstance\u001b[39m(casted_key, abc\u001b[38;5;241m.\u001b[39mIterable)\n\u001b[1;32m   3809\u001b[0m         \u001b[38;5;129;01mand\u001b[39;00m \u001b[38;5;28many\u001b[39m(\u001b[38;5;28misinstance\u001b[39m(x, \u001b[38;5;28mslice\u001b[39m) \u001b[38;5;28;01mfor\u001b[39;00m x \u001b[38;5;129;01min\u001b[39;00m casted_key)\n\u001b[1;32m   3810\u001b[0m     ):\n\u001b[1;32m   3811\u001b[0m         \u001b[38;5;28;01mraise\u001b[39;00m InvalidIndexError(key)\n\u001b[0;32m-> 3812\u001b[0m     \u001b[38;5;28;01mraise\u001b[39;00m \u001b[38;5;167;01mKeyError\u001b[39;00m(key) \u001b[38;5;28;01mfrom\u001b[39;00m \u001b[38;5;21;01merr\u001b[39;00m\n\u001b[1;32m   3813\u001b[0m \u001b[38;5;28;01mexcept\u001b[39;00m \u001b[38;5;167;01mTypeError\u001b[39;00m:\n\u001b[1;32m   3814\u001b[0m     \u001b[38;5;66;03m# If we have a listlike key, _check_indexing_error will raise\u001b[39;00m\n\u001b[1;32m   3815\u001b[0m     \u001b[38;5;66;03m#  InvalidIndexError. Otherwise we fall through and re-raise\u001b[39;00m\n\u001b[1;32m   3816\u001b[0m     \u001b[38;5;66;03m#  the TypeError.\u001b[39;00m\n\u001b[1;32m   3817\u001b[0m     \u001b[38;5;28mself\u001b[39m\u001b[38;5;241m.\u001b[39m_check_indexing_error(key)\n",
      "\u001b[0;31mKeyError\u001b[0m: 'product_category'"
     ]
    },
    {
     "data": {
      "image/png": "[encoded data removed]",
      "text/plain": [
       "<Figure size 640x480 with 1 Axes>"
      ]
     },
     "metadata": {},
     "output_type": "display_data"
    }
   ],
   "source": [
    "#DISTRIBUTION OF PRODUCT TYPES IN DATASET\n",
    "fig, ax = plt.subplots()\n",
    "\n",
    "ax.barh(trainset['product_category'].value_counts().index.to_list(), trainset['product_category'].value_counts().values, orientation='horizontal')\n",
    "\n",
    "plt.xlabel('Type of product')\n",
    "plt.ylabel('Frequency')\n",
    "plt.title('Distribution of product category')\n",
    "plt.show()\n"
   ]
  },
  {
   "cell_type": "markdown",
   "id": "29cf6e5a",
   "metadata": {},
   "source": [
    "## Generate synthetic data for rare product and hazard categories"
   ]
  },
  {
   "cell_type": "code",
   "execution_count": 12,
   "id": "a0f8aabd",
   "metadata": {
    "ExecuteTime": {
     "end_time": "2025-04-08T17:21:40.915824Z",
     "start_time": "2025-04-08T17:21:40.443976Z"
    }
   },
   "outputs": [
    {
     "ename": "ModuleNotFoundError",
     "evalue": "No module named 'mistralai'",
     "output_type": "error",
     "traceback": [
      "\u001b[0;31m---------------------------------------------------------------------------\u001b[0m",
      "\u001b[0;31mModuleNotFoundError\u001b[0m                       Traceback (most recent call last)",
      "Cell \u001b[0;32mIn[12], line 1\u001b[0m\n\u001b[0;32m----> 1\u001b[0m \u001b[38;5;28;01mfrom\u001b[39;00m \u001b[38;5;21;01mfood_hazard_detection\u001b[39;00m\u001b[38;5;21;01m.\u001b[39;00m\u001b[38;5;21;01mbalance_dataset\u001b[39;00m \u001b[38;5;28;01mimport\u001b[39;00m (generate_prompt_triplets_by_hazard, generate_prompt_triplets_by_product,\n\u001b[1;32m      2\u001b[0m                              generate_synthetic_data)\n\u001b[1;32m      4\u001b[0m \u001b[38;5;28;01mfrom\u001b[39;00m \u001b[38;5;21;01mfood_hazard_detection\u001b[39;00m \u001b[38;5;28;01mimport\u001b[39;00m settings\n\u001b[1;32m      5\u001b[0m \u001b[38;5;28;01mfrom\u001b[39;00m \u001b[38;5;21;01mfood_hazard_detection\u001b[39;00m\u001b[38;5;21;01m.\u001b[39;00m\u001b[38;5;21;01msettings\u001b[39;00m \u001b[38;5;28;01mimport\u001b[39;00m FILES_DIR, SYNTHETIC_DATA_DIR\n",
      "File \u001b[0;32m~/Desktop/food-hazard-detection/food_hazard_detection/balance_dataset.py:5\u001b[0m\n\u001b[1;32m      2\u001b[0m \u001b[38;5;28;01mfrom\u001b[39;00m \u001b[38;5;21;01mtyping\u001b[39;00m \u001b[38;5;28;01mimport\u001b[39;00m List, Dict, Any\n\u001b[1;32m      4\u001b[0m \u001b[38;5;28;01mimport\u001b[39;00m \u001b[38;5;21;01mpandas\u001b[39;00m \u001b[38;5;28;01mas\u001b[39;00m \u001b[38;5;21;01mpd\u001b[39;00m\n\u001b[0;32m----> 5\u001b[0m \u001b[38;5;28;01mfrom\u001b[39;00m \u001b[38;5;21;01mmistralai\u001b[39;00m \u001b[38;5;28;01mimport\u001b[39;00m Mistral\n\u001b[1;32m      7\u001b[0m \u001b[38;5;28;01mfrom\u001b[39;00m \u001b[38;5;21;01mfood_hazard_detection\u001b[39;00m \u001b[38;5;28;01mimport\u001b[39;00m settings\n\u001b[1;32m      8\u001b[0m \u001b[38;5;28;01mfrom\u001b[39;00m \u001b[38;5;21;01mfood_hazard_detection\u001b[39;00m\u001b[38;5;21;01m.\u001b[39;00m\u001b[38;5;21;01msettings\u001b[39;00m \u001b[38;5;28;01mimport\u001b[39;00m MISTRAL_API_KEY\n",
      "\u001b[0;31mModuleNotFoundError\u001b[0m: No module named 'mistralai'"
     ]
    }
   ],
   "source": [
    "from food_hazard_detection.balance_dataset import (generate_prompt_triplets_by_hazard, generate_prompt_triplets_by_product,\n",
    "                             generate_synthetic_data)\n",
    "\n",
    "from food_hazard_detection import settings\n",
    "from food_hazard_detection.settings import FILES_DIR, SYNTHETIC_DATA_DIR\n",
    "\n",
    "rare_hazard_categories = [\"migration\", \"food additives and flavourings\",\n",
    "                              \"organoleptic aspects\", \"packaging defect\"]\n",
    "rare_product_categories = [\"sugars and syrups\", \"feed materials\", \"food contact materials\",\n",
    "                           \"honey and royal jelly\", \"food additives and flavourings\", \"fats and oils\",\n",
    "                           \"pet feed\", \"other food product / mixed\", \"alcoholic beverages\"]"
   ]
  },
  {
   "cell_type": "code",
   "execution_count": 13,
   "id": "dd8c124c",
   "metadata": {
    "ExecuteTime": {
     "end_time": "2025-04-08T17:20:49.813110500Z",
     "start_time": "2025-04-08T17:20:21.216534Z"
    }
   },
   "outputs": [
    {
     "ename": "NameError",
     "evalue": "name 'generate_prompt_triplets_by_hazard' is not defined",
     "output_type": "error",
     "traceback": [
      "\u001b[0;31m---------------------------------------------------------------------------\u001b[0m",
      "\u001b[0;31mNameError\u001b[0m                                 Traceback (most recent call last)",
      "Cell \u001b[0;32mIn[13], line 1\u001b[0m\n\u001b[0;32m----> 1\u001b[0m combinations \u001b[38;5;241m=\u001b[39m generate_prompt_triplets_by_hazard(rare_hazard_categories, trainset)\n\u001b[1;32m      2\u001b[0m generate_synthetic_data(SYNTHETIC_DATA_DIR \u001b[38;5;241m/\u001b[39m \u001b[38;5;124m\"\u001b[39m\u001b[38;5;124msynthetic_data_hazard.csv\u001b[39m\u001b[38;5;124m\"\u001b[39m,\n\u001b[1;32m      3\u001b[0m                         FILES_DIR \u001b[38;5;241m/\u001b[39m \u001b[38;5;124m\"\u001b[39m\u001b[38;5;124mprompts/generate_synthetic_data.md\u001b[39m\u001b[38;5;124m\"\u001b[39m, combinations)\n\u001b[1;32m      5\u001b[0m combinations \u001b[38;5;241m=\u001b[39m generate_prompt_triplets_by_product(rare_product_categories, trainset)\n",
      "\u001b[0;31mNameError\u001b[0m: name 'generate_prompt_triplets_by_hazard' is not defined"
     ]
    }
   ],
   "source": [
    "combinations = generate_prompt_triplets_by_hazard(rare_hazard_categories, trainset)\n",
    "generate_synthetic_data(SYNTHETIC_DATA_DIR / \"synthetic_data_hazard.csv\",\n",
    "                        FILES_DIR / \"prompts/generate_synthetic_data.md\", combinations)\n",
    "\n",
    "combinations = generate_prompt_triplets_by_product(rare_product_categories, trainset)\n",
    "generate_synthetic_data(SYNTHETIC_DATA_DIR / \"synthetic_data_product.csv\",\n",
    "                        FILES_DIR / \"prompts/generate_synthetic_data.md\", combinations)"
   ]
  },
  {
   "cell_type": "markdown",
   "id": "5f2d7e6a",
   "metadata": {},
   "source": [
    "The data produced by Mistral are not perfect. So at this point some manual curration is needed. Because of that, we use later in the code already preprocessed synthetic data."
   ]
  },
  {
   "cell_type": "markdown",
   "id": "ca90c09e",
   "metadata": {},
   "source": [
    "Load and check the generated data."
   ]
  },
  {
   "cell_type": "code",
   "execution_count": 14,
   "id": "300fd279",
   "metadata": {
    "ExecuteTime": {
     "end_time": "2025-04-08T17:21:43.223651Z",
     "start_time": "2025-04-08T17:21:43.197021Z"
    }
   },
   "outputs": [
    {
     "ename": "NameError",
     "evalue": "name 'SYNTHETIC_DATA_DIR' is not defined",
     "output_type": "error",
     "traceback": [
      "\u001b[0;31m---------------------------------------------------------------------------\u001b[0m",
      "\u001b[0;31mNameError\u001b[0m                                 Traceback (most recent call last)",
      "Cell \u001b[0;32mIn[14], line 1\u001b[0m\n\u001b[0;32m----> 1\u001b[0m synthetic_hazard \u001b[38;5;241m=\u001b[39m pd\u001b[38;5;241m.\u001b[39mread_csv(SYNTHETIC_DATA_DIR \u001b[38;5;241m/\u001b[39m \u001b[38;5;124m\"\u001b[39m\u001b[38;5;124msynthetic_data_hazard_processed.csv\u001b[39m\u001b[38;5;124m\"\u001b[39m, sep\u001b[38;5;241m=\u001b[39msettings\u001b[38;5;241m.\u001b[39mSEPARATOR, engine\u001b[38;5;241m=\u001b[39m\u001b[38;5;124m'\u001b[39m\u001b[38;5;124mpython\u001b[39m\u001b[38;5;124m'\u001b[39m, on_bad_lines\u001b[38;5;241m=\u001b[39m\u001b[38;5;124m'\u001b[39m\u001b[38;5;124mwarn\u001b[39m\u001b[38;5;124m'\u001b[39m)\n\u001b[1;32m      2\u001b[0m synthetic_product \u001b[38;5;241m=\u001b[39m pd\u001b[38;5;241m.\u001b[39mread_csv(SYNTHETIC_DATA_DIR \u001b[38;5;241m/\u001b[39m \u001b[38;5;124m\"\u001b[39m\u001b[38;5;124msynthetic_data_product_processed.csv\u001b[39m\u001b[38;5;124m\"\u001b[39m, sep\u001b[38;5;241m=\u001b[39msettings\u001b[38;5;241m.\u001b[39mSEPARATOR, engine\u001b[38;5;241m=\u001b[39m\u001b[38;5;124m'\u001b[39m\u001b[38;5;124mpython\u001b[39m\u001b[38;5;124m'\u001b[39m, on_bad_lines\u001b[38;5;241m=\u001b[39m\u001b[38;5;124m'\u001b[39m\u001b[38;5;124mwarn\u001b[39m\u001b[38;5;124m'\u001b[39m)\n\u001b[1;32m      3\u001b[0m \u001b[38;5;28mprint\u001b[39m(synthetic_hazard\u001b[38;5;241m.\u001b[39minfo())\n",
      "\u001b[0;31mNameError\u001b[0m: name 'SYNTHETIC_DATA_DIR' is not defined"
     ]
    }
   ],
   "source": [
    "synthetic_hazard = pd.read_csv(SYNTHETIC_DATA_DIR / \"synthetic_data_hazard_processed.csv\", sep=settings.SEPARATOR, engine='python', on_bad_lines='warn')\n",
    "synthetic_product = pd.read_csv(SYNTHETIC_DATA_DIR / \"synthetic_data_product_processed.csv\", sep=settings.SEPARATOR, engine='python', on_bad_lines='warn')\n",
    "print(synthetic_hazard.info())\n",
    "print(synthetic_product.info())"
   ]
  },
  {
   "cell_type": "markdown",
   "id": "f761df7d-b597-43bb-af01-d7ddabab7fd7",
   "metadata": {},
   "source": [
    "# Mirek - training with BERT"
   ]
  },
  {
   "cell_type": "code",
   "execution_count": 15,
   "id": "b901e8b5-00d7-48a5-b11d-a11365a59ea7",
   "metadata": {},
   "outputs": [
    {
     "data": {
      "text/html": [
       "<div>\n",
       "<style scoped>\n",
       "    .dataframe tbody tr th:only-of-type {\n",
       "        vertical-align: middle;\n",
       "    }\n",
       "\n",
       "    .dataframe tbody tr th {\n",
       "        vertical-align: top;\n",
       "    }\n",
       "\n",
       "    .dataframe thead th {\n",
       "        text-align: right;\n",
       "    }\n",
       "</style>\n",
       "<table border=\"1\" class=\"dataframe\">\n",
       "  <thead>\n",
       "    <tr style=\"text-align: right;\">\n",
       "      <th></th>\n",
       "      <th>text</th>\n",
       "      <th>label</th>\n",
       "    </tr>\n",
       "  </thead>\n",
       "  <tbody>\n",
       "    <tr>\n",
       "      <th>0</th>\n",
       "      <td>Recall Notification: FSIS-024-94: Case Number:...</td>\n",
       "      <td>biological</td>\n",
       "    </tr>\n",
       "    <tr>\n",
       "      <th>1</th>\n",
       "      <td>Recall Notification: FSIS-033-94: Case Number:...</td>\n",
       "      <td>biological</td>\n",
       "    </tr>\n",
       "    <tr>\n",
       "      <th>2</th>\n",
       "      <td>Recall Notification: FSIS-014-94: Case Number:...</td>\n",
       "      <td>biological</td>\n",
       "    </tr>\n",
       "    <tr>\n",
       "      <th>3</th>\n",
       "      <td>Recall Notification: FSIS-009-94: Case Number:...</td>\n",
       "      <td>foreign bodies</td>\n",
       "    </tr>\n",
       "    <tr>\n",
       "      <th>4</th>\n",
       "      <td>Recall Notification: FSIS-001-94: Case Number:...</td>\n",
       "      <td>foreign bodies</td>\n",
       "    </tr>\n",
       "  </tbody>\n",
       "</table>\n",
       "</div>"
      ],
      "text/plain": [
       "                                                text           label\n",
       "0  Recall Notification: FSIS-024-94: Case Number:...      biological\n",
       "1  Recall Notification: FSIS-033-94: Case Number:...      biological\n",
       "2  Recall Notification: FSIS-014-94: Case Number:...      biological\n",
       "3  Recall Notification: FSIS-009-94: Case Number:...  foreign bodies\n",
       "4  Recall Notification: FSIS-001-94: Case Number:...  foreign bodies"
      ]
     },
     "execution_count": 15,
     "metadata": {},
     "output_type": "execute_result"
    }
   ],
   "source": [
    "trainset_mirek_hazard = trainset_mirek_hazard.rename(columns={\"hazard-category\": \"label\"})\n",
    "trainset_mirek_hazard[\"text\"] = trainset_mirek_hazard[\"title\"] + \": \" + trainset_mirek_hazard[\"text\"]\n",
    "trainset_mirek_hazard = trainset_mirek_hazard.drop(columns=[\"day\", \"month\", \"year\", \"country\", \"product-category\", \"hazard\", \"product\", \"title\"])\n",
    "trainset_mirek_hazard.head()"
   ]
  },
  {
   "cell_type": "code",
   "execution_count": 16,
   "id": "7ba9ca12-99b6-45d8-a71f-c47a3a644ea7",
   "metadata": {},
   "outputs": [
    {
     "data": {
      "text/html": [
       "<div>\n",
       "<style scoped>\n",
       "    .dataframe tbody tr th:only-of-type {\n",
       "        vertical-align: middle;\n",
       "    }\n",
       "\n",
       "    .dataframe tbody tr th {\n",
       "        vertical-align: top;\n",
       "    }\n",
       "\n",
       "    .dataframe thead th {\n",
       "        text-align: right;\n",
       "    }\n",
       "</style>\n",
       "<table border=\"1\" class=\"dataframe\">\n",
       "  <thead>\n",
       "    <tr style=\"text-align: right;\">\n",
       "      <th></th>\n",
       "      <th>text</th>\n",
       "      <th>label</th>\n",
       "    </tr>\n",
       "  </thead>\n",
       "  <tbody>\n",
       "    <tr>\n",
       "      <th>0</th>\n",
       "      <td>Recall Notification: FSIS-024-94: Case Number:...</td>\n",
       "      <td>meat, egg and dairy products</td>\n",
       "    </tr>\n",
       "    <tr>\n",
       "      <th>1</th>\n",
       "      <td>Recall Notification: FSIS-033-94: Case Number:...</td>\n",
       "      <td>meat, egg and dairy products</td>\n",
       "    </tr>\n",
       "    <tr>\n",
       "      <th>2</th>\n",
       "      <td>Recall Notification: FSIS-014-94: Case Number:...</td>\n",
       "      <td>meat, egg and dairy products</td>\n",
       "    </tr>\n",
       "    <tr>\n",
       "      <th>3</th>\n",
       "      <td>Recall Notification: FSIS-009-94: Case Number:...</td>\n",
       "      <td>meat, egg and dairy products</td>\n",
       "    </tr>\n",
       "    <tr>\n",
       "      <th>4</th>\n",
       "      <td>Recall Notification: FSIS-001-94: Case Number:...</td>\n",
       "      <td>meat, egg and dairy products</td>\n",
       "    </tr>\n",
       "  </tbody>\n",
       "</table>\n",
       "</div>"
      ],
      "text/plain": [
       "                                                text  \\\n",
       "0  Recall Notification: FSIS-024-94: Case Number:...   \n",
       "1  Recall Notification: FSIS-033-94: Case Number:...   \n",
       "2  Recall Notification: FSIS-014-94: Case Number:...   \n",
       "3  Recall Notification: FSIS-009-94: Case Number:...   \n",
       "4  Recall Notification: FSIS-001-94: Case Number:...   \n",
       "\n",
       "                          label  \n",
       "0  meat, egg and dairy products  \n",
       "1  meat, egg and dairy products  \n",
       "2  meat, egg and dairy products  \n",
       "3  meat, egg and dairy products  \n",
       "4  meat, egg and dairy products  "
      ]
     },
     "execution_count": 16,
     "metadata": {},
     "output_type": "execute_result"
    }
   ],
   "source": [
    "trainset_mirek_product = trainset_mirek_product.rename(columns={\"product-category\": \"label\"})\n",
    "trainset_mirek_product[\"text\"] = trainset_mirek_product[\"title\"] + \": \" + trainset_mirek_product[\"text\"]\n",
    "trainset_mirek_product = trainset_mirek_product.drop(columns=[\"day\", \"month\", \"year\", \"country\", \"hazard-category\", \"hazard\", \"product\", \"title\"])\n",
    "trainset_mirek_product.head()"
   ]
  },
  {
   "cell_type": "code",
   "execution_count": 17,
   "id": "bc04e1e6-d2c3-4a64-8422-711cdf9b9aed",
   "metadata": {},
   "outputs": [
    {
     "data": {
      "text/html": [
       "<div>\n",
       "<style scoped>\n",
       "    .dataframe tbody tr th:only-of-type {\n",
       "        vertical-align: middle;\n",
       "    }\n",
       "\n",
       "    .dataframe tbody tr th {\n",
       "        vertical-align: top;\n",
       "    }\n",
       "\n",
       "    .dataframe thead th {\n",
       "        text-align: right;\n",
       "    }\n",
       "</style>\n",
       "<table border=\"1\" class=\"dataframe\">\n",
       "  <thead>\n",
       "    <tr style=\"text-align: right;\">\n",
       "      <th></th>\n",
       "      <th>text</th>\n",
       "      <th>label</th>\n",
       "    </tr>\n",
       "  </thead>\n",
       "  <tbody>\n",
       "    <tr>\n",
       "      <th>0</th>\n",
       "      <td>Recall Notification: FSIS-017-94: Case Number:...</td>\n",
       "      <td>biological</td>\n",
       "    </tr>\n",
       "    <tr>\n",
       "      <th>1</th>\n",
       "      <td>Recall Notification: FSIS-048-94: Case Number:...</td>\n",
       "      <td>biological</td>\n",
       "    </tr>\n",
       "    <tr>\n",
       "      <th>2</th>\n",
       "      <td>Recall Notification: FSIS-032-95: Case Number:...</td>\n",
       "      <td>biological</td>\n",
       "    </tr>\n",
       "    <tr>\n",
       "      <th>3</th>\n",
       "      <td>Archive - ALLERGY ALERT -- PRESENCE OF UNDECLA...</td>\n",
       "      <td>allergens</td>\n",
       "    </tr>\n",
       "    <tr>\n",
       "      <th>4</th>\n",
       "      <td>Recall Notification: FSIS-018-98: Case Number:...</td>\n",
       "      <td>foreign bodies</td>\n",
       "    </tr>\n",
       "  </tbody>\n",
       "</table>\n",
       "</div>"
      ],
      "text/plain": [
       "                                                text           label\n",
       "0  Recall Notification: FSIS-017-94: Case Number:...      biological\n",
       "1  Recall Notification: FSIS-048-94: Case Number:...      biological\n",
       "2  Recall Notification: FSIS-032-95: Case Number:...      biological\n",
       "3  Archive - ALLERGY ALERT -- PRESENCE OF UNDECLA...       allergens\n",
       "4  Recall Notification: FSIS-018-98: Case Number:...  foreign bodies"
      ]
     },
     "execution_count": 17,
     "metadata": {},
     "output_type": "execute_result"
    }
   ],
   "source": [
    "validset_mirek_hazard = validset_mirek_hazard.rename(columns={\"hazard-category\": \"label\"})\n",
    "validset_mirek_hazard[\"text\"] = validset_mirek_hazard[\"title\"] + \": \" + validset_mirek_hazard[\"text\"]\n",
    "validset_mirek_hazard = validset_mirek_hazard.drop(columns=[\"day\", \"month\", \"year\", \"country\", \"product-category\", \"hazard\", \"product\", \"title\"])\n",
    "validset_mirek_hazard.head()"
   ]
  },
  {
   "cell_type": "code",
   "execution_count": 18,
   "id": "0abfc36f-71c4-45ee-9bfa-d88f4ef348c8",
   "metadata": {},
   "outputs": [
    {
     "data": {
      "text/html": [
       "<div>\n",
       "<style scoped>\n",
       "    .dataframe tbody tr th:only-of-type {\n",
       "        vertical-align: middle;\n",
       "    }\n",
       "\n",
       "    .dataframe tbody tr th {\n",
       "        vertical-align: top;\n",
       "    }\n",
       "\n",
       "    .dataframe thead th {\n",
       "        text-align: right;\n",
       "    }\n",
       "</style>\n",
       "<table border=\"1\" class=\"dataframe\">\n",
       "  <thead>\n",
       "    <tr style=\"text-align: right;\">\n",
       "      <th></th>\n",
       "      <th>text</th>\n",
       "      <th>label</th>\n",
       "    </tr>\n",
       "  </thead>\n",
       "  <tbody>\n",
       "    <tr>\n",
       "      <th>0</th>\n",
       "      <td>Recall Notification: FSIS-017-94: Case Number:...</td>\n",
       "      <td>meat, egg and dairy products</td>\n",
       "    </tr>\n",
       "    <tr>\n",
       "      <th>1</th>\n",
       "      <td>Recall Notification: FSIS-048-94: Case Number:...</td>\n",
       "      <td>meat, egg and dairy products</td>\n",
       "    </tr>\n",
       "    <tr>\n",
       "      <th>2</th>\n",
       "      <td>Recall Notification: FSIS-032-95: Case Number:...</td>\n",
       "      <td>meat, egg and dairy products</td>\n",
       "    </tr>\n",
       "    <tr>\n",
       "      <th>3</th>\n",
       "      <td>Archive - ALLERGY ALERT -- PRESENCE OF UNDECLA...</td>\n",
       "      <td>ices and desserts</td>\n",
       "    </tr>\n",
       "    <tr>\n",
       "      <th>4</th>\n",
       "      <td>Recall Notification: FSIS-018-98: Case Number:...</td>\n",
       "      <td>meat, egg and dairy products</td>\n",
       "    </tr>\n",
       "  </tbody>\n",
       "</table>\n",
       "</div>"
      ],
      "text/plain": [
       "                                                text  \\\n",
       "0  Recall Notification: FSIS-017-94: Case Number:...   \n",
       "1  Recall Notification: FSIS-048-94: Case Number:...   \n",
       "2  Recall Notification: FSIS-032-95: Case Number:...   \n",
       "3  Archive - ALLERGY ALERT -- PRESENCE OF UNDECLA...   \n",
       "4  Recall Notification: FSIS-018-98: Case Number:...   \n",
       "\n",
       "                          label  \n",
       "0  meat, egg and dairy products  \n",
       "1  meat, egg and dairy products  \n",
       "2  meat, egg and dairy products  \n",
       "3             ices and desserts  \n",
       "4  meat, egg and dairy products  "
      ]
     },
     "execution_count": 18,
     "metadata": {},
     "output_type": "execute_result"
    }
   ],
   "source": [
    "validset_mirek_product = validset_mirek_product.rename(columns={\"product-category\": \"label\"})\n",
    "validset_mirek_product[\"text\"] = validset_mirek_product[\"title\"] + \": \" + validset_mirek_product[\"text\"]\n",
    "validset_mirek_product = validset_mirek_product.drop(columns=[\"day\", \"month\", \"year\", \"country\", \"hazard-category\", \"hazard\", \"product\", \"title\"])\n",
    "validset_mirek_product.head()"
   ]
  },
  {
   "cell_type": "code",
   "execution_count": 19,
   "id": "00e0892a-b1f8-41c7-8447-3bfaad68fe18",
   "metadata": {},
   "outputs": [
    {
     "data": {
      "text/html": [
       "<div>\n",
       "<style scoped>\n",
       "    .dataframe tbody tr th:only-of-type {\n",
       "        vertical-align: middle;\n",
       "    }\n",
       "\n",
       "    .dataframe tbody tr th {\n",
       "        vertical-align: top;\n",
       "    }\n",
       "\n",
       "    .dataframe thead th {\n",
       "        text-align: right;\n",
       "    }\n",
       "</style>\n",
       "<table border=\"1\" class=\"dataframe\">\n",
       "  <thead>\n",
       "    <tr style=\"text-align: right;\">\n",
       "      <th></th>\n",
       "      <th>text</th>\n",
       "      <th>label</th>\n",
       "    </tr>\n",
       "  </thead>\n",
       "  <tbody>\n",
       "    <tr>\n",
       "      <th>0</th>\n",
       "      <td>Recall Notification: FSIS-017-94: Case Number:...</td>\n",
       "      <td>biological</td>\n",
       "    </tr>\n",
       "    <tr>\n",
       "      <th>1</th>\n",
       "      <td>Recall Notification: FSIS-048-94: Case Number:...</td>\n",
       "      <td>biological</td>\n",
       "    </tr>\n",
       "    <tr>\n",
       "      <th>2</th>\n",
       "      <td>Recall Notification: FSIS-032-95: Case Number:...</td>\n",
       "      <td>biological</td>\n",
       "    </tr>\n",
       "    <tr>\n",
       "      <th>3</th>\n",
       "      <td>Archive - ALLERGY ALERT -- PRESENCE OF UNDECLA...</td>\n",
       "      <td>allergens</td>\n",
       "    </tr>\n",
       "    <tr>\n",
       "      <th>4</th>\n",
       "      <td>Recall Notification: FSIS-018-98: Case Number:...</td>\n",
       "      <td>foreign bodies</td>\n",
       "    </tr>\n",
       "  </tbody>\n",
       "</table>\n",
       "</div>"
      ],
      "text/plain": [
       "                                                text           label\n",
       "0  Recall Notification: FSIS-017-94: Case Number:...      biological\n",
       "1  Recall Notification: FSIS-048-94: Case Number:...      biological\n",
       "2  Recall Notification: FSIS-032-95: Case Number:...      biological\n",
       "3  Archive - ALLERGY ALERT -- PRESENCE OF UNDECLA...       allergens\n",
       "4  Recall Notification: FSIS-018-98: Case Number:...  foreign bodies"
      ]
     },
     "execution_count": 19,
     "metadata": {},
     "output_type": "execute_result"
    }
   ],
   "source": [
    "testset_mirek_hazard = testset_mirek_hazard.rename(columns={\"hazard-category\": \"label\"})\n",
    "testset_mirek_hazard[\"text\"] = testset_mirek_hazard[\"title\"] + \": \" + testset_mirek_hazard[\"text\"]\n",
    "testset_mirek_hazard = testset_mirek_hazard.drop(columns=[\"day\", \"month\", \"year\", \"country\", \"product-category\", \"hazard\", \"product\", \"title\"])\n",
    "testset_mirek_hazard.head()"
   ]
  },
  {
   "cell_type": "code",
   "execution_count": 20,
   "id": "3c454456-9b02-4efa-819b-d7f2b3fae6c8",
   "metadata": {},
   "outputs": [
    {
     "data": {
      "text/html": [
       "<div>\n",
       "<style scoped>\n",
       "    .dataframe tbody tr th:only-of-type {\n",
       "        vertical-align: middle;\n",
       "    }\n",
       "\n",
       "    .dataframe tbody tr th {\n",
       "        vertical-align: top;\n",
       "    }\n",
       "\n",
       "    .dataframe thead th {\n",
       "        text-align: right;\n",
       "    }\n",
       "</style>\n",
       "<table border=\"1\" class=\"dataframe\">\n",
       "  <thead>\n",
       "    <tr style=\"text-align: right;\">\n",
       "      <th></th>\n",
       "      <th>text</th>\n",
       "      <th>label</th>\n",
       "    </tr>\n",
       "  </thead>\n",
       "  <tbody>\n",
       "    <tr>\n",
       "      <th>0</th>\n",
       "      <td>Recall Notification: FSIS-017-94: Case Number:...</td>\n",
       "      <td>meat, egg and dairy products</td>\n",
       "    </tr>\n",
       "    <tr>\n",
       "      <th>1</th>\n",
       "      <td>Recall Notification: FSIS-048-94: Case Number:...</td>\n",
       "      <td>meat, egg and dairy products</td>\n",
       "    </tr>\n",
       "    <tr>\n",
       "      <th>2</th>\n",
       "      <td>Recall Notification: FSIS-032-95: Case Number:...</td>\n",
       "      <td>meat, egg and dairy products</td>\n",
       "    </tr>\n",
       "    <tr>\n",
       "      <th>3</th>\n",
       "      <td>Archive - ALLERGY ALERT -- PRESENCE OF UNDECLA...</td>\n",
       "      <td>ices and desserts</td>\n",
       "    </tr>\n",
       "    <tr>\n",
       "      <th>4</th>\n",
       "      <td>Recall Notification: FSIS-018-98: Case Number:...</td>\n",
       "      <td>meat, egg and dairy products</td>\n",
       "    </tr>\n",
       "  </tbody>\n",
       "</table>\n",
       "</div>"
      ],
      "text/plain": [
       "                                                text  \\\n",
       "0  Recall Notification: FSIS-017-94: Case Number:...   \n",
       "1  Recall Notification: FSIS-048-94: Case Number:...   \n",
       "2  Recall Notification: FSIS-032-95: Case Number:...   \n",
       "3  Archive - ALLERGY ALERT -- PRESENCE OF UNDECLA...   \n",
       "4  Recall Notification: FSIS-018-98: Case Number:...   \n",
       "\n",
       "                          label  \n",
       "0  meat, egg and dairy products  \n",
       "1  meat, egg and dairy products  \n",
       "2  meat, egg and dairy products  \n",
       "3             ices and desserts  \n",
       "4  meat, egg and dairy products  "
      ]
     },
     "execution_count": 20,
     "metadata": {},
     "output_type": "execute_result"
    }
   ],
   "source": [
    "testset_mirek_product = testset_mirek_product.rename(columns={\"product-category\": \"label\"})\n",
    "testset_mirek_product[\"text\"] = testset_mirek_product[\"title\"] + \": \" + testset_mirek_product[\"text\"]\n",
    "testset_mirek_product = testset_mirek_product.drop(columns=[\"day\", \"month\", \"year\", \"country\", \"hazard-category\", \"hazard\", \"product\", \"title\"])\n",
    "testset_mirek_product.head()"
   ]
  },
  {
   "cell_type": "code",
   "execution_count": 21,
   "id": "84b6c6d0-49d6-4496-892c-02414ee7d6f9",
   "metadata": {},
   "outputs": [],
   "source": [
    "id2label = {0: \"biological\", 1: \"allergens\", 2: \"foreign bodies\", 3: \"fraud\", 4: \"chemical\", 5: \"other hazard\", 6: \"packaging defect\", 7: \"organoleptic aspects\", 8: \"food additives and flavourings\", 9: \"migration\"}\n",
    "label2id_hazards = {\"biological\": 0, \"allergens\": 1, \"foreign bodies\" : 2, \"fraud\" : 3, \"chemical\" : 4, \"other hazard\" : 5, \"packaging defect\" : 6, \"organoleptic aspects\" : 7, \"food additives and flavourings\" : 8, \"migration\" : 9}\n",
    "label2id_products = {'meat, egg and dairy products' : 0,\n",
    "                     'ices and desserts' : 1,\n",
    "                     'cereals and bakery products' : 2,\n",
    "                     'alcoholic beverages' : 3,\n",
    "                     'prepared dishes and snacks' : 4,\n",
    "                     'seafood' : 5,\n",
    "                     'soups, broths, sauces and condiments' : 6,\n",
    "                     'fats and oils' : 7,\n",
    "                     'non-alcoholic beverages' : 8,\n",
    "                     'confectionery' : 9,\n",
    "                     'other food product / mixed' : 10,\n",
    "                     'fruits and vegetables' : 11,\n",
    "                     'herbs and spices' : 12,\n",
    "                     'nuts, nut products and seeds' : 13,\n",
    "                     'cocoa and cocoa preparations, coffee and tea' : 14,\n",
    "                     'dietetic foods, food supplements, fortified foods' : 15,\n",
    "                     'feed materials' : 16,\n",
    "                     'pet feed' : 17,\n",
    "                     'food additives and flavourings' : 18,\n",
    "                     'honey and royal jelly' : 19,\n",
    "                     'sugars and syrups': 20,\n",
    "                     'food contact materials' : 21}"
   ]
  },
  {
   "cell_type": "code",
   "execution_count": 22,
   "id": "450347cd-8c9f-4f3c-a8ce-8c9bb994eb44",
   "metadata": {},
   "outputs": [
    {
     "name": "stderr",
     "output_type": "stream",
     "text": [
      "/tmp/ipykernel_15572/1760261440.py:1: FutureWarning: Downcasting behavior in `replace` is deprecated and will be removed in a future version. To retain the old behavior, explicitly call `result.infer_objects(copy=False)`. To opt-in to the future behavior, set `pd.set_option('future.no_silent_downcasting', True)`\n",
      "  trainset_mirek_hazard = trainset_mirek_hazard.replace({\"label\": label2id_hazards})\n",
      "/tmp/ipykernel_15572/1760261440.py:2: FutureWarning: Downcasting behavior in `replace` is deprecated and will be removed in a future version. To retain the old behavior, explicitly call `result.infer_objects(copy=False)`. To opt-in to the future behavior, set `pd.set_option('future.no_silent_downcasting', True)`\n",
      "  validset_mirek_hazard = validset_mirek_hazard.replace({\"label\": label2id_hazards})\n",
      "/tmp/ipykernel_15572/1760261440.py:3: FutureWarning: Downcasting behavior in `replace` is deprecated and will be removed in a future version. To retain the old behavior, explicitly call `result.infer_objects(copy=False)`. To opt-in to the future behavior, set `pd.set_option('future.no_silent_downcasting', True)`\n",
      "  testset_mirek_hazard = testset_mirek_hazard.replace({\"label\": label2id_hazards})\n",
      "/tmp/ipykernel_15572/1760261440.py:5: FutureWarning: Downcasting behavior in `replace` is deprecated and will be removed in a future version. To retain the old behavior, explicitly call `result.infer_objects(copy=False)`. To opt-in to the future behavior, set `pd.set_option('future.no_silent_downcasting', True)`\n",
      "  trainset_mirek_product = trainset_mirek_product.replace({\"label\": label2id_products})\n",
      "/tmp/ipykernel_15572/1760261440.py:6: FutureWarning: Downcasting behavior in `replace` is deprecated and will be removed in a future version. To retain the old behavior, explicitly call `result.infer_objects(copy=False)`. To opt-in to the future behavior, set `pd.set_option('future.no_silent_downcasting', True)`\n",
      "  validset_mirek_product = validset_mirek_product.replace({\"label\": label2id_products})\n",
      "/tmp/ipykernel_15572/1760261440.py:7: FutureWarning: Downcasting behavior in `replace` is deprecated and will be removed in a future version. To retain the old behavior, explicitly call `result.infer_objects(copy=False)`. To opt-in to the future behavior, set `pd.set_option('future.no_silent_downcasting', True)`\n",
      "  testset_mirek_product = testset_mirek_product.replace({\"label\": label2id_products})\n"
     ]
    }
   ],
   "source": [
    "trainset_mirek_hazard = trainset_mirek_hazard.replace({\"label\": label2id_hazards})\n",
    "validset_mirek_hazard = validset_mirek_hazard.replace({\"label\": label2id_hazards})\n",
    "testset_mirek_hazard = testset_mirek_hazard.replace({\"label\": label2id_hazards})\n",
    "\n",
    "trainset_mirek_product = trainset_mirek_product.replace({\"label\": label2id_products})\n",
    "validset_mirek_product = validset_mirek_product.replace({\"label\": label2id_products})\n",
    "testset_mirek_product = testset_mirek_product.replace({\"label\": label2id_products})"
   ]
  },
  {
   "cell_type": "code",
   "execution_count": 23,
   "id": "172e6003-3c0c-43b5-ba5f-010c742d7810",
   "metadata": {},
   "outputs": [],
   "source": [
    "dataset_hazard = DatasetDict({\"train\" : Dataset.from_pandas(trainset_mirek_hazard),\"test\" : Dataset.from_pandas(validset_mirek_hazard), \"unsupervised\" : Dataset.from_pandas(testset_mirek_hazard)})\n",
    "dataset_product = DatasetDict({\"train\" : Dataset.from_pandas(trainset_mirek_product),\"test\" : Dataset.from_pandas(validset_mirek_product), \"unsupervised\" : Dataset.from_pandas(testset_mirek_product)})"
   ]
  },
  {
   "cell_type": "code",
   "execution_count": 24,
   "id": "0e45a406-4e4d-484f-88f9-9ac14dd50186",
   "metadata": {},
   "outputs": [],
   "source": [
    "tokenizer = AutoTokenizer.from_pretrained(\"distilbert/distilbert-base-uncased\")"
   ]
  },
  {
   "cell_type": "code",
   "execution_count": 25,
   "id": "c17f7b93-fff8-435a-88ff-b9ee445e0a4f",
   "metadata": {},
   "outputs": [
    {
     "data": {
      "application/vnd.jupyter.widget-view+json": {
       "model_id": "14295091acdc49869c4b3d6caa347bd0",
       "version_major": 2,
       "version_minor": 0
      },
      "text/plain": [
       "Map:   0%|          | 0/5082 [00:00<?, ? examples/s]"
      ]
     },
     "metadata": {},
     "output_type": "display_data"
    },
    {
     "data": {
      "application/vnd.jupyter.widget-view+json": {
       "model_id": "156b9bcd960a42da958fc777c8858d26",
       "version_major": 2,
       "version_minor": 0
      },
      "text/plain": [
       "Map:   0%|          | 0/565 [00:00<?, ? examples/s]"
      ]
     },
     "metadata": {},
     "output_type": "display_data"
    },
    {
     "data": {
      "application/vnd.jupyter.widget-view+json": {
       "model_id": "70f22aa2dcb54f24b3712ab680a10190",
       "version_major": 2,
       "version_minor": 0
      },
      "text/plain": [
       "Map:   0%|          | 0/565 [00:00<?, ? examples/s]"
      ]
     },
     "metadata": {},
     "output_type": "display_data"
    },
    {
     "data": {
      "application/vnd.jupyter.widget-view+json": {
       "model_id": "8ac098df3cb040aaa09d098c96ba7f24",
       "version_major": 2,
       "version_minor": 0
      },
      "text/plain": [
       "Map:   0%|          | 0/5082 [00:00<?, ? examples/s]"
      ]
     },
     "metadata": {},
     "output_type": "display_data"
    },
    {
     "data": {
      "application/vnd.jupyter.widget-view+json": {
       "model_id": "8c569d1b413b43d5a920479502580bb2",
       "version_major": 2,
       "version_minor": 0
      },
      "text/plain": [
       "Map:   0%|          | 0/565 [00:00<?, ? examples/s]"
      ]
     },
     "metadata": {},
     "output_type": "display_data"
    },
    {
     "data": {
      "application/vnd.jupyter.widget-view+json": {
       "model_id": "06529c5f183540d59bb59f0b77c3aab9",
       "version_major": 2,
       "version_minor": 0
      },
      "text/plain": [
       "Map:   0%|          | 0/565 [00:00<?, ? examples/s]"
      ]
     },
     "metadata": {},
     "output_type": "display_data"
    }
   ],
   "source": [
    "def tokenize_function(examples):\n",
    "    return tokenizer(examples[\"text\"], padding=\"max_length\", truncation=True)\n",
    "\n",
    "tokenized_hazard = dataset_hazard.map(tokenize_function, batched=True)\n",
    "tokenized_product = dataset_product.map(tokenize_function, batched=True)"
   ]
  },
  {
   "cell_type": "code",
   "execution_count": 26,
   "id": "62611da6-3f3a-4e27-b387-2ce9052404cd",
   "metadata": {},
   "outputs": [],
   "source": [
    "from transformers import DataCollatorWithPadding\n",
    "\n",
    "data_collator = DataCollatorWithPadding(tokenizer=tokenizer)\n"
   ]
  },
  {
   "cell_type": "code",
   "execution_count": null,
   "id": "a290b2f2-709f-4087-a360-bfa974832295",
   "metadata": {},
   "outputs": [],
   "source": [
    "model_hazard = AutoModelForSequenceClassification.from_pretrained(\n",
    "    \"distilbert/distilbert-base-uncased\", num_labels=22\n",
    ")\n",
    "\n",
    "training_args = TrainingArguments(\"test_trainer\",\n",
    "    num_train_epochs=3,\n",
    "    weight_decay=0.01,\n",
    "    eval_strategy=\"epoch\",)\n",
    "\n",
    "trainer_hazard = Trainer(\n",
    "    model=model_hazard, args=training_args, train_dataset=tokenized_hazard[\"train\"], eval_dataset=tokenized_hazard[\"test\"],\n",
    "    processing_class=tokenizer,\n",
    "    data_collator=data_collator,\n",
    ")\n",
    "\n",
    "trainer_hazard.train()"
   ]
  },
  {
   "cell_type": "code",
   "execution_count": null,
   "id": "7079e074-92eb-422e-9877-1a73aff13cf8",
   "metadata": {},
   "outputs": [],
   "source": [
    "predictions_hazard = trainer_hazard.predict(tokenized_hazard[\"test\"])"
   ]
  },
  {
   "cell_type": "code",
   "execution_count": null,
   "id": "13ba13c9-4761-4913-bd0d-3f352b751a13",
   "metadata": {},
   "outputs": [],
   "source": [
    "accuracy_score(predictions_hazard.predictions.argmax(-1), testset_mirek_hazard[\"label\"])"
   ]
  },
  {
   "cell_type": "code",
   "execution_count": null,
   "id": "405b9ec2-6447-4b1d-b6ef-823d0d9bf430",
   "metadata": {},
   "outputs": [],
   "source": [
    "f1_score(predictions_hazard.predictions.argmax(-1), testset_mirek_hazard[\"label\"], average='macro')"
   ]
  },
  {
   "cell_type": "code",
   "execution_count": null,
   "id": "e2e799e0-411f-4704-bd02-a83b1f9792a9",
   "metadata": {},
   "outputs": [],
   "source": [
    "model_product = AutoModelForSequenceClassification.from_pretrained(\n",
    "    \"distilbert/distilbert-base-uncased\", num_labels=22\n",
    ")\n",
    "\n",
    "training_args = TrainingArguments(\"test_trainer\",\n",
    "    num_train_epochs=3,\n",
    "    weight_decay=0.01,\n",
    "    eval_strategy=\"epoch\",)\n",
    "\n",
    "trainer_product = Trainer(\n",
    "    model=model_product, args=training_args, train_dataset=tokenized_product[\"train\"], eval_dataset=tokenized_product[\"test\"],\n",
    "    processing_class=tokenizer,\n",
    "    data_collator=data_collator,\n",
    ")\n",
    "\n",
    "trainer_product.train()"
   ]
  },
  {
   "cell_type": "code",
   "execution_count": null,
   "id": "d8594529-0e84-4555-a171-9a56e055c69d",
   "metadata": {},
   "outputs": [],
   "source": [
    "predictions_product = trainer.predict(tokenized_hazard[\"test\"])"
   ]
  },
  {
   "cell_type": "code",
   "execution_count": null,
   "id": "dbf26ec1-f8d0-46cf-9962-16bd9d66cb2b",
   "metadata": {},
   "outputs": [],
   "source": [
    "accuracy_score(predictions_product.predictions.argmax(-1), testset_mirek_product[\"label\"])"
   ]
  },
  {
   "cell_type": "code",
   "execution_count": null,
   "id": "5586bdd0-db01-41db-b4cd-fcbe8182eb35",
   "metadata": {},
   "outputs": [],
   "source": [
    "f1_score(predictions_product.predictions.argmax(-1), testset_mirek_product[\"label\"], average='macro')"
   ]
  }
 ],
 "metadata": {
  "kernelspec": {
   "display_name": "Python 3 (ipykernel)",
   "language": "python",
   "name": "python3"
  },
  "language_info": {
   "codemirror_mode": {
    "name": "ipython",
    "version": 3
   },
   "file_extension": ".py",
   "mimetype": "text/x-python",
   "name": "python",
   "nbconvert_exporter": "python",
   "pygments_lexer": "ipython3",
   "version": "3.12.2"
  }
 },
 "nbformat": 4,
 "nbformat_minor": 5
}
